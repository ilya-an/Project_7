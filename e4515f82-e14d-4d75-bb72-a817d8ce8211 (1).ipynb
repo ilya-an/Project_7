{
 "cells": [
  {
   "cell_type": "markdown",
   "metadata": {},
   "source": [
    "# Описание проекта E-com.\n",
    "# Шаг 1. Изучим данные.\n",
    "# Шаг 2. Подготовка данных.\n",
    "- Приведем к нижнему регистру названия продуктов;\n",
    "- Обработаем пропуски, если есть;\n",
    "- Удалим дубликаты, если есть, проверим их наличие без указания даты и времени;\n",
    "- Проверим датасет на аномалии(выбросы);\n",
    "- Приведем дату к нормальному виду. Найдем максимальную и минимальную дату;\n",
    "- Сколько всего заказов, продуктов и клиентов в датасете;\n",
    "- Определить выручку и средний чек.\n",
    "# Шаг 3. Исследовательский анализ данных.\n",
    "- Разделим продукты по категориям, определить доли каждой категории;\n",
    "- Исследуем сезонность по месяцам, сравнить выручки и изменения категорий за одинаковые периоды;\n",
    "- Исследуем продажи в рамках дня/недели;\n",
    "- Посмотрим как менялись продажи в каждой категории, построим распределение по месяцам, какие категории лидируют по продажам, растут или падают;\n",
    "# Шаг 4. Сегментируем покупателей по профилю потребления.\n",
    "Проведем RFM-анализ. Сегментируем клиентов по :\n",
    "- Времени, которое прошло с покупки (recency). Для разных продуктов давность оценивается по-своему.\n",
    "- Частотности заказов (frequency): с какой периодичностью клиент возвращается к повторным/новым покупкам.\n",
    "- Сумме, которую клиент тратит на продукты компании (monetary).\n",
    "- Определим лояльных клиентов.\n",
    "# Шаг 5. Проверим гипотезы\n",
    "-Рассмотрим минимум 2 гипотезы. Необходимо пояснить: Как сформулировали нулевую и альтернативную гипотезы; Какой критерий применили для проверки гипотез и почему.\n",
    "# Шаг 6. Общий вывод."
   ]
  },
  {
   "cell_type": "code",
   "execution_count": 1,
   "metadata": {},
   "outputs": [],
   "source": [
    "import pandas as pd\n",
    "import matplotlib.pyplot as plt\n",
    "import plotly.express as px\n",
    "import numpy as np\n",
    "import scipy.stats as st\n",
    "from datetime import datetime"
   ]
  },
  {
   "cell_type": "markdown",
   "metadata": {},
   "source": [
    "# Шаг 1. Изучение данных."
   ]
  },
  {
   "cell_type": "code",
   "execution_count": 2,
   "metadata": {},
   "outputs": [],
   "source": [
    "data = pd.read_csv('/datasets/ecom_dataset_upd.csv', sep=',')"
   ]
  },
  {
   "cell_type": "code",
   "execution_count": 3,
   "metadata": {},
   "outputs": [
    {
     "name": "stdout",
     "output_type": "stream",
     "text": [
      "<class 'pandas.core.frame.DataFrame'>\n",
      "RangeIndex: 7474 entries, 0 to 7473\n",
      "Data columns (total 6 columns):\n",
      " #   Column       Non-Null Count  Dtype  \n",
      "---  ------       --------------  -----  \n",
      " 0   date         7474 non-null   int64  \n",
      " 1   customer_id  7474 non-null   object \n",
      " 2   order_id     7474 non-null   int64  \n",
      " 3   product      7474 non-null   object \n",
      " 4   quantity     7474 non-null   int64  \n",
      " 5   price        7474 non-null   float64\n",
      "dtypes: float64(1), int64(3), object(2)\n",
      "memory usage: 350.5+ KB\n"
     ]
    }
   ],
   "source": [
    "data.info()"
   ]
  },
  {
   "cell_type": "code",
   "execution_count": 4,
   "metadata": {
    "scrolled": true
   },
   "outputs": [
    {
     "data": {
      "text/html": [
       "<div>\n",
       "<style scoped>\n",
       "    .dataframe tbody tr th:only-of-type {\n",
       "        vertical-align: middle;\n",
       "    }\n",
       "\n",
       "    .dataframe tbody tr th {\n",
       "        vertical-align: top;\n",
       "    }\n",
       "\n",
       "    .dataframe thead th {\n",
       "        text-align: right;\n",
       "    }\n",
       "</style>\n",
       "<table border=\"1\" class=\"dataframe\">\n",
       "  <thead>\n",
       "    <tr style=\"text-align: right;\">\n",
       "      <th></th>\n",
       "      <th>date</th>\n",
       "      <th>customer_id</th>\n",
       "      <th>order_id</th>\n",
       "      <th>product</th>\n",
       "      <th>quantity</th>\n",
       "      <th>price</th>\n",
       "    </tr>\n",
       "  </thead>\n",
       "  <tbody>\n",
       "    <tr>\n",
       "      <th>0</th>\n",
       "      <td>2018100100</td>\n",
       "      <td>ee47d746-6d2f-4d3c-9622-c31412542920</td>\n",
       "      <td>68477</td>\n",
       "      <td>Комнатное растение в горшке Алое Вера, d12, h30</td>\n",
       "      <td>1</td>\n",
       "      <td>142.0</td>\n",
       "    </tr>\n",
       "    <tr>\n",
       "      <th>1</th>\n",
       "      <td>2018100100</td>\n",
       "      <td>ee47d746-6d2f-4d3c-9622-c31412542920</td>\n",
       "      <td>68477</td>\n",
       "      <td>Комнатное растение в горшке Кофе Арабика, d12,...</td>\n",
       "      <td>1</td>\n",
       "      <td>194.0</td>\n",
       "    </tr>\n",
       "    <tr>\n",
       "      <th>2</th>\n",
       "      <td>2018100100</td>\n",
       "      <td>ee47d746-6d2f-4d3c-9622-c31412542920</td>\n",
       "      <td>68477</td>\n",
       "      <td>Радермахера d-12 см h-20 см</td>\n",
       "      <td>1</td>\n",
       "      <td>112.0</td>\n",
       "    </tr>\n",
       "    <tr>\n",
       "      <th>3</th>\n",
       "      <td>2018100100</td>\n",
       "      <td>ee47d746-6d2f-4d3c-9622-c31412542920</td>\n",
       "      <td>68477</td>\n",
       "      <td>Хризолидокарпус Лутесценс d-9 см</td>\n",
       "      <td>1</td>\n",
       "      <td>179.0</td>\n",
       "    </tr>\n",
       "    <tr>\n",
       "      <th>4</th>\n",
       "      <td>2018100100</td>\n",
       "      <td>ee47d746-6d2f-4d3c-9622-c31412542920</td>\n",
       "      <td>68477</td>\n",
       "      <td>Циперус Зумула d-12 см h-25 см</td>\n",
       "      <td>1</td>\n",
       "      <td>112.0</td>\n",
       "    </tr>\n",
       "  </tbody>\n",
       "</table>\n",
       "</div>"
      ],
      "text/plain": [
       "         date                           customer_id  order_id  \\\n",
       "0  2018100100  ee47d746-6d2f-4d3c-9622-c31412542920     68477   \n",
       "1  2018100100  ee47d746-6d2f-4d3c-9622-c31412542920     68477   \n",
       "2  2018100100  ee47d746-6d2f-4d3c-9622-c31412542920     68477   \n",
       "3  2018100100  ee47d746-6d2f-4d3c-9622-c31412542920     68477   \n",
       "4  2018100100  ee47d746-6d2f-4d3c-9622-c31412542920     68477   \n",
       "\n",
       "                                             product  quantity  price  \n",
       "0    Комнатное растение в горшке Алое Вера, d12, h30         1  142.0  \n",
       "1  Комнатное растение в горшке Кофе Арабика, d12,...         1  194.0  \n",
       "2                        Радермахера d-12 см h-20 см         1  112.0  \n",
       "3                   Хризолидокарпус Лутесценс d-9 см         1  179.0  \n",
       "4                     Циперус Зумула d-12 см h-25 см         1  112.0  "
      ]
     },
     "execution_count": 4,
     "metadata": {},
     "output_type": "execute_result"
    }
   ],
   "source": [
    "data.head(5)"
   ]
  },
  {
   "cell_type": "markdown",
   "metadata": {},
   "source": [
    "# Шаг 2. Подготовка данных"
   ]
  },
  {
   "cell_type": "code",
   "execution_count": 5,
   "metadata": {},
   "outputs": [
    {
     "data": {
      "text/html": [
       "<div>\n",
       "<style scoped>\n",
       "    .dataframe tbody tr th:only-of-type {\n",
       "        vertical-align: middle;\n",
       "    }\n",
       "\n",
       "    .dataframe tbody tr th {\n",
       "        vertical-align: top;\n",
       "    }\n",
       "\n",
       "    .dataframe thead th {\n",
       "        text-align: right;\n",
       "    }\n",
       "</style>\n",
       "<table border=\"1\" class=\"dataframe\">\n",
       "  <thead>\n",
       "    <tr style=\"text-align: right;\">\n",
       "      <th></th>\n",
       "      <th>date</th>\n",
       "      <th>customer_id</th>\n",
       "      <th>order_id</th>\n",
       "      <th>product</th>\n",
       "      <th>quantity</th>\n",
       "      <th>price</th>\n",
       "    </tr>\n",
       "  </thead>\n",
       "  <tbody>\n",
       "    <tr>\n",
       "      <th>0</th>\n",
       "      <td>2018-10-01</td>\n",
       "      <td>ee47d746-6d2f-4d3c-9622-c31412542920</td>\n",
       "      <td>68477</td>\n",
       "      <td>Комнатное растение в горшке Алое Вера, d12, h30</td>\n",
       "      <td>1</td>\n",
       "      <td>142.0</td>\n",
       "    </tr>\n",
       "    <tr>\n",
       "      <th>1</th>\n",
       "      <td>2018-10-01</td>\n",
       "      <td>ee47d746-6d2f-4d3c-9622-c31412542920</td>\n",
       "      <td>68477</td>\n",
       "      <td>Комнатное растение в горшке Кофе Арабика, d12,...</td>\n",
       "      <td>1</td>\n",
       "      <td>194.0</td>\n",
       "    </tr>\n",
       "    <tr>\n",
       "      <th>2</th>\n",
       "      <td>2018-10-01</td>\n",
       "      <td>ee47d746-6d2f-4d3c-9622-c31412542920</td>\n",
       "      <td>68477</td>\n",
       "      <td>Радермахера d-12 см h-20 см</td>\n",
       "      <td>1</td>\n",
       "      <td>112.0</td>\n",
       "    </tr>\n",
       "    <tr>\n",
       "      <th>3</th>\n",
       "      <td>2018-10-01</td>\n",
       "      <td>ee47d746-6d2f-4d3c-9622-c31412542920</td>\n",
       "      <td>68477</td>\n",
       "      <td>Хризолидокарпус Лутесценс d-9 см</td>\n",
       "      <td>1</td>\n",
       "      <td>179.0</td>\n",
       "    </tr>\n",
       "    <tr>\n",
       "      <th>4</th>\n",
       "      <td>2018-10-01</td>\n",
       "      <td>ee47d746-6d2f-4d3c-9622-c31412542920</td>\n",
       "      <td>68477</td>\n",
       "      <td>Циперус Зумула d-12 см h-25 см</td>\n",
       "      <td>1</td>\n",
       "      <td>112.0</td>\n",
       "    </tr>\n",
       "  </tbody>\n",
       "</table>\n",
       "</div>"
      ],
      "text/plain": [
       "        date                           customer_id  order_id  \\\n",
       "0 2018-10-01  ee47d746-6d2f-4d3c-9622-c31412542920     68477   \n",
       "1 2018-10-01  ee47d746-6d2f-4d3c-9622-c31412542920     68477   \n",
       "2 2018-10-01  ee47d746-6d2f-4d3c-9622-c31412542920     68477   \n",
       "3 2018-10-01  ee47d746-6d2f-4d3c-9622-c31412542920     68477   \n",
       "4 2018-10-01  ee47d746-6d2f-4d3c-9622-c31412542920     68477   \n",
       "\n",
       "                                             product  quantity  price  \n",
       "0    Комнатное растение в горшке Алое Вера, d12, h30         1  142.0  \n",
       "1  Комнатное растение в горшке Кофе Арабика, d12,...         1  194.0  \n",
       "2                        Радермахера d-12 см h-20 см         1  112.0  \n",
       "3                   Хризолидокарпус Лутесценс d-9 см         1  179.0  \n",
       "4                     Циперус Зумула d-12 см h-25 см         1  112.0  "
      ]
     },
     "metadata": {},
     "output_type": "display_data"
    }
   ],
   "source": [
    "data['date'] = pd.to_datetime(data['date'], format='%Y%m%d%H')\n",
    "display(data.head(5)) # преобразовал формат секунды в привычный формат дата и время"
   ]
  },
  {
   "cell_type": "code",
   "execution_count": 6,
   "metadata": {
    "scrolled": true
   },
   "outputs": [
    {
     "data": {
      "text/html": [
       "<div>\n",
       "<style scoped>\n",
       "    .dataframe tbody tr th:only-of-type {\n",
       "        vertical-align: middle;\n",
       "    }\n",
       "\n",
       "    .dataframe tbody tr th {\n",
       "        vertical-align: top;\n",
       "    }\n",
       "\n",
       "    .dataframe thead th {\n",
       "        text-align: right;\n",
       "    }\n",
       "</style>\n",
       "<table border=\"1\" class=\"dataframe\">\n",
       "  <thead>\n",
       "    <tr style=\"text-align: right;\">\n",
       "      <th></th>\n",
       "      <th>date</th>\n",
       "      <th>customer_id</th>\n",
       "      <th>order_id</th>\n",
       "      <th>product</th>\n",
       "      <th>quantity</th>\n",
       "      <th>price</th>\n",
       "      <th>time</th>\n",
       "    </tr>\n",
       "  </thead>\n",
       "  <tbody>\n",
       "    <tr>\n",
       "      <th>882</th>\n",
       "      <td>2018-11-20 17:00:00</td>\n",
       "      <td>d0bd3cb4-d63b-4f71-9a56-8ffaa6e5f090</td>\n",
       "      <td>69065</td>\n",
       "      <td>Герань домашняя (пеларгония зональная) цветуща...</td>\n",
       "      <td>1</td>\n",
       "      <td>149.0</td>\n",
       "      <td>17:00:00</td>\n",
       "    </tr>\n",
       "    <tr>\n",
       "      <th>2925</th>\n",
       "      <td>2019-04-16 22:00:00</td>\n",
       "      <td>d4f984b6-ea59-4618-a26f-79a053e483c7</td>\n",
       "      <td>14653</td>\n",
       "      <td>Цинния Оранжевый король 0,5 г 4660010770520</td>\n",
       "      <td>1</td>\n",
       "      <td>10.0</td>\n",
       "      <td>22:00:00</td>\n",
       "    </tr>\n",
       "    <tr>\n",
       "      <th>4986</th>\n",
       "      <td>2019-06-10 08:00:00</td>\n",
       "      <td>1d6c8c1f-a799-4418-9af2-1ded47d7a85c</td>\n",
       "      <td>14833</td>\n",
       "      <td>Рассада Огурец Кристина ячейки по 6 шт Е6</td>\n",
       "      <td>1</td>\n",
       "      <td>120.0</td>\n",
       "      <td>08:00:00</td>\n",
       "    </tr>\n",
       "    <tr>\n",
       "      <th>4770</th>\n",
       "      <td>2019-06-07 10:00:00</td>\n",
       "      <td>1d6c8c1f-a799-4418-9af2-1ded47d7a85c</td>\n",
       "      <td>14833</td>\n",
       "      <td>Рассада Огурца сорт Каролина кассета 6 шт E6</td>\n",
       "      <td>1</td>\n",
       "      <td>120.0</td>\n",
       "      <td>10:00:00</td>\n",
       "    </tr>\n",
       "    <tr>\n",
       "      <th>3917</th>\n",
       "      <td>2019-05-19 12:00:00</td>\n",
       "      <td>6148c5ec-4d6c-4977-91bd-19722d913447</td>\n",
       "      <td>14793</td>\n",
       "      <td>томата (помидор) Полосатый шоколад №65 сорт ин...</td>\n",
       "      <td>4</td>\n",
       "      <td>38.0</td>\n",
       "      <td>12:00:00</td>\n",
       "    </tr>\n",
       "  </tbody>\n",
       "</table>\n",
       "</div>"
      ],
      "text/plain": [
       "                    date                           customer_id  order_id  \\\n",
       "882  2018-11-20 17:00:00  d0bd3cb4-d63b-4f71-9a56-8ffaa6e5f090     69065   \n",
       "2925 2019-04-16 22:00:00  d4f984b6-ea59-4618-a26f-79a053e483c7     14653   \n",
       "4986 2019-06-10 08:00:00  1d6c8c1f-a799-4418-9af2-1ded47d7a85c     14833   \n",
       "4770 2019-06-07 10:00:00  1d6c8c1f-a799-4418-9af2-1ded47d7a85c     14833   \n",
       "3917 2019-05-19 12:00:00  6148c5ec-4d6c-4977-91bd-19722d913447     14793   \n",
       "\n",
       "                                                product  quantity  price  \\\n",
       "882   Герань домашняя (пеларгония зональная) цветуща...         1  149.0   \n",
       "2925        Цинния Оранжевый король 0,5 г 4660010770520         1   10.0   \n",
       "4986          Рассада Огурец Кристина ячейки по 6 шт Е6         1  120.0   \n",
       "4770       Рассада Огурца сорт Каролина кассета 6 шт E6         1  120.0   \n",
       "3917  томата (помидор) Полосатый шоколад №65 сорт ин...         4   38.0   \n",
       "\n",
       "          time  \n",
       "882   17:00:00  \n",
       "2925  22:00:00  \n",
       "4986  08:00:00  \n",
       "4770  10:00:00  \n",
       "3917  12:00:00  "
      ]
     },
     "metadata": {},
     "output_type": "display_data"
    }
   ],
   "source": [
    "data['time'] = data['date'].dt.time\n",
    "display(data.sample(5))"
   ]
  },
  {
   "cell_type": "code",
   "execution_count": 7,
   "metadata": {},
   "outputs": [
    {
     "data": {
      "text/html": [
       "<div>\n",
       "<style scoped>\n",
       "    .dataframe tbody tr th:only-of-type {\n",
       "        vertical-align: middle;\n",
       "    }\n",
       "\n",
       "    .dataframe tbody tr th {\n",
       "        vertical-align: top;\n",
       "    }\n",
       "\n",
       "    .dataframe thead th {\n",
       "        text-align: right;\n",
       "    }\n",
       "</style>\n",
       "<table border=\"1\" class=\"dataframe\">\n",
       "  <thead>\n",
       "    <tr style=\"text-align: right;\">\n",
       "      <th></th>\n",
       "      <th>date</th>\n",
       "      <th>customer_id</th>\n",
       "      <th>order_id</th>\n",
       "      <th>product</th>\n",
       "      <th>quantity</th>\n",
       "      <th>price</th>\n",
       "      <th>time</th>\n",
       "    </tr>\n",
       "  </thead>\n",
       "  <tbody>\n",
       "    <tr>\n",
       "      <th>0</th>\n",
       "      <td>2018-10-01</td>\n",
       "      <td>ee47d746-6d2f-4d3c-9622-c31412542920</td>\n",
       "      <td>68477</td>\n",
       "      <td>комнатное растение в горшке алое вера, d12, h30</td>\n",
       "      <td>1</td>\n",
       "      <td>142.0</td>\n",
       "      <td>00:00:00</td>\n",
       "    </tr>\n",
       "    <tr>\n",
       "      <th>1</th>\n",
       "      <td>2018-10-01</td>\n",
       "      <td>ee47d746-6d2f-4d3c-9622-c31412542920</td>\n",
       "      <td>68477</td>\n",
       "      <td>комнатное растение в горшке кофе арабика, d12,...</td>\n",
       "      <td>1</td>\n",
       "      <td>194.0</td>\n",
       "      <td>00:00:00</td>\n",
       "    </tr>\n",
       "    <tr>\n",
       "      <th>2</th>\n",
       "      <td>2018-10-01</td>\n",
       "      <td>ee47d746-6d2f-4d3c-9622-c31412542920</td>\n",
       "      <td>68477</td>\n",
       "      <td>радермахера d-12 см h-20 см</td>\n",
       "      <td>1</td>\n",
       "      <td>112.0</td>\n",
       "      <td>00:00:00</td>\n",
       "    </tr>\n",
       "    <tr>\n",
       "      <th>3</th>\n",
       "      <td>2018-10-01</td>\n",
       "      <td>ee47d746-6d2f-4d3c-9622-c31412542920</td>\n",
       "      <td>68477</td>\n",
       "      <td>хризолидокарпус лутесценс d-9 см</td>\n",
       "      <td>1</td>\n",
       "      <td>179.0</td>\n",
       "      <td>00:00:00</td>\n",
       "    </tr>\n",
       "    <tr>\n",
       "      <th>4</th>\n",
       "      <td>2018-10-01</td>\n",
       "      <td>ee47d746-6d2f-4d3c-9622-c31412542920</td>\n",
       "      <td>68477</td>\n",
       "      <td>циперус зумула d-12 см h-25 см</td>\n",
       "      <td>1</td>\n",
       "      <td>112.0</td>\n",
       "      <td>00:00:00</td>\n",
       "    </tr>\n",
       "  </tbody>\n",
       "</table>\n",
       "</div>"
      ],
      "text/plain": [
       "        date                           customer_id  order_id  \\\n",
       "0 2018-10-01  ee47d746-6d2f-4d3c-9622-c31412542920     68477   \n",
       "1 2018-10-01  ee47d746-6d2f-4d3c-9622-c31412542920     68477   \n",
       "2 2018-10-01  ee47d746-6d2f-4d3c-9622-c31412542920     68477   \n",
       "3 2018-10-01  ee47d746-6d2f-4d3c-9622-c31412542920     68477   \n",
       "4 2018-10-01  ee47d746-6d2f-4d3c-9622-c31412542920     68477   \n",
       "\n",
       "                                             product  quantity  price  \\\n",
       "0    комнатное растение в горшке алое вера, d12, h30         1  142.0   \n",
       "1  комнатное растение в горшке кофе арабика, d12,...         1  194.0   \n",
       "2                        радермахера d-12 см h-20 см         1  112.0   \n",
       "3                   хризолидокарпус лутесценс d-9 см         1  179.0   \n",
       "4                     циперус зумула d-12 см h-25 см         1  112.0   \n",
       "\n",
       "       time  \n",
       "0  00:00:00  \n",
       "1  00:00:00  \n",
       "2  00:00:00  \n",
       "3  00:00:00  \n",
       "4  00:00:00  "
      ]
     },
     "execution_count": 7,
     "metadata": {},
     "output_type": "execute_result"
    }
   ],
   "source": [
    "data['product'] = data['product'].str.lower()\n",
    "data.head(5) #привел к нижнему регистру названия продуктов"
   ]
  },
  {
   "cell_type": "code",
   "execution_count": 8,
   "metadata": {
    "scrolled": true
   },
   "outputs": [
    {
     "data": {
      "text/html": [
       "<div>\n",
       "<style scoped>\n",
       "    .dataframe tbody tr th:only-of-type {\n",
       "        vertical-align: middle;\n",
       "    }\n",
       "\n",
       "    .dataframe tbody tr th {\n",
       "        vertical-align: top;\n",
       "    }\n",
       "\n",
       "    .dataframe thead th {\n",
       "        text-align: right;\n",
       "    }\n",
       "</style>\n",
       "<table border=\"1\" class=\"dataframe\">\n",
       "  <thead>\n",
       "    <tr style=\"text-align: right;\">\n",
       "      <th></th>\n",
       "      <th>date</th>\n",
       "      <th>customer_id</th>\n",
       "      <th>order_id</th>\n",
       "      <th>product</th>\n",
       "      <th>quantity</th>\n",
       "      <th>price</th>\n",
       "      <th>time</th>\n",
       "      <th>days</th>\n",
       "    </tr>\n",
       "  </thead>\n",
       "  <tbody>\n",
       "    <tr>\n",
       "      <th>6321</th>\n",
       "      <td>2019-09-13 09:00:00</td>\n",
       "      <td>98e17cac-7f0b-4413-8004-d6ca648024af</td>\n",
       "      <td>72615</td>\n",
       "      <td>штора для ванной комнаты 240х200 verga белая т...</td>\n",
       "      <td>1</td>\n",
       "      <td>750.0</td>\n",
       "      <td>09:00:00</td>\n",
       "      <td>4</td>\n",
       "    </tr>\n",
       "    <tr>\n",
       "      <th>5886</th>\n",
       "      <td>2019-07-17 17:00:00</td>\n",
       "      <td>d7d0a3e8-70fd-4360-9c25-fc212108cac6</td>\n",
       "      <td>72021</td>\n",
       "      <td>таз пластмассовый 18,0 л пищевой (иж), 1404047</td>\n",
       "      <td>1</td>\n",
       "      <td>194.0</td>\n",
       "      <td>17:00:00</td>\n",
       "      <td>2</td>\n",
       "    </tr>\n",
       "    <tr>\n",
       "      <th>1730</th>\n",
       "      <td>2019-02-07 13:00:00</td>\n",
       "      <td>c971fb21-d54c-4134-938f-16b62ee86d3b</td>\n",
       "      <td>70140</td>\n",
       "      <td>контейнер для мусора доминик curver 25 л сереб...</td>\n",
       "      <td>10</td>\n",
       "      <td>748.0</td>\n",
       "      <td>13:00:00</td>\n",
       "      <td>3</td>\n",
       "    </tr>\n",
       "    <tr>\n",
       "      <th>283</th>\n",
       "      <td>2018-10-17 13:00:00</td>\n",
       "      <td>da3ab9e4-6ffa-42f8-abd1-33a1e448a555</td>\n",
       "      <td>68670</td>\n",
       "      <td>герань домашняя (пеларгония зональная) цветуща...</td>\n",
       "      <td>1</td>\n",
       "      <td>149.0</td>\n",
       "      <td>13:00:00</td>\n",
       "      <td>2</td>\n",
       "    </tr>\n",
       "    <tr>\n",
       "      <th>2134</th>\n",
       "      <td>2019-03-03 16:00:00</td>\n",
       "      <td>38b161da-8b0d-4053-9fb2-9b87fc961dd6</td>\n",
       "      <td>14557</td>\n",
       "      <td>пеларгония зональная диам. 12 см темнорозовая ...</td>\n",
       "      <td>1</td>\n",
       "      <td>150.0</td>\n",
       "      <td>16:00:00</td>\n",
       "      <td>6</td>\n",
       "    </tr>\n",
       "  </tbody>\n",
       "</table>\n",
       "</div>"
      ],
      "text/plain": [
       "                    date                           customer_id  order_id  \\\n",
       "6321 2019-09-13 09:00:00  98e17cac-7f0b-4413-8004-d6ca648024af     72615   \n",
       "5886 2019-07-17 17:00:00  d7d0a3e8-70fd-4360-9c25-fc212108cac6     72021   \n",
       "1730 2019-02-07 13:00:00  c971fb21-d54c-4134-938f-16b62ee86d3b     70140   \n",
       "283  2018-10-17 13:00:00  da3ab9e4-6ffa-42f8-abd1-33a1e448a555     68670   \n",
       "2134 2019-03-03 16:00:00  38b161da-8b0d-4053-9fb2-9b87fc961dd6     14557   \n",
       "\n",
       "                                                product  quantity  price  \\\n",
       "6321  штора для ванной комнаты 240х200 verga белая т...         1  750.0   \n",
       "5886     таз пластмассовый 18,0 л пищевой (иж), 1404047         1  194.0   \n",
       "1730  контейнер для мусора доминик curver 25 л сереб...        10  748.0   \n",
       "283   герань домашняя (пеларгония зональная) цветуща...         1  149.0   \n",
       "2134  пеларгония зональная диам. 12 см темнорозовая ...         1  150.0   \n",
       "\n",
       "          time  days  \n",
       "6321  09:00:00     4  \n",
       "5886  17:00:00     2  \n",
       "1730  13:00:00     3  \n",
       "283   13:00:00     2  \n",
       "2134  16:00:00     6  "
      ]
     },
     "metadata": {},
     "output_type": "display_data"
    }
   ],
   "source": [
    "data['days'] = data['date'].dt.dayofweek # добавлю столбец с днями недели\n",
    "display(data.sample(5))"
   ]
  },
  {
   "cell_type": "code",
   "execution_count": 9,
   "metadata": {},
   "outputs": [
    {
     "data": {
      "text/html": [
       "<div>\n",
       "<style scoped>\n",
       "    .dataframe tbody tr th:only-of-type {\n",
       "        vertical-align: middle;\n",
       "    }\n",
       "\n",
       "    .dataframe tbody tr th {\n",
       "        vertical-align: top;\n",
       "    }\n",
       "\n",
       "    .dataframe thead th {\n",
       "        text-align: right;\n",
       "    }\n",
       "</style>\n",
       "<table border=\"1\" class=\"dataframe\">\n",
       "  <thead>\n",
       "    <tr style=\"text-align: right;\">\n",
       "      <th></th>\n",
       "      <th>date</th>\n",
       "      <th>customer_id</th>\n",
       "      <th>order_id</th>\n",
       "      <th>product</th>\n",
       "      <th>quantity</th>\n",
       "      <th>price</th>\n",
       "      <th>time</th>\n",
       "      <th>days</th>\n",
       "      <th>date_without_time</th>\n",
       "    </tr>\n",
       "  </thead>\n",
       "  <tbody>\n",
       "    <tr>\n",
       "      <th>6735</th>\n",
       "      <td>2019-10-31 14:00:00</td>\n",
       "      <td>73d1cd35-5e5f-4629-8cf2-3fda829d4e58</td>\n",
       "      <td>73164</td>\n",
       "      <td>таз пластмассовый со стиральной доской (иж), 1...</td>\n",
       "      <td>1</td>\n",
       "      <td>397.0</td>\n",
       "      <td>14:00:00</td>\n",
       "      <td>3</td>\n",
       "      <td>2019-10-31</td>\n",
       "    </tr>\n",
       "    <tr>\n",
       "      <th>7002</th>\n",
       "      <td>2019-12-06 10:00:00</td>\n",
       "      <td>f3dfe740-5c44-45ed-98ee-97835c4769e9</td>\n",
       "      <td>101934</td>\n",
       "      <td>базилик пурпурные звезды d-7 см</td>\n",
       "      <td>1</td>\n",
       "      <td>14.5</td>\n",
       "      <td>10:00:00</td>\n",
       "      <td>4</td>\n",
       "      <td>2019-12-06</td>\n",
       "    </tr>\n",
       "    <tr>\n",
       "      <th>3403</th>\n",
       "      <td>2019-05-05 10:00:00</td>\n",
       "      <td>71fa654e-ce06-4cf3-bafd-2884649f23e5</td>\n",
       "      <td>71353</td>\n",
       "      <td>стремянка framar slimmy стальная 3 ступени</td>\n",
       "      <td>1</td>\n",
       "      <td>1574.0</td>\n",
       "      <td>10:00:00</td>\n",
       "      <td>6</td>\n",
       "      <td>2019-05-05</td>\n",
       "    </tr>\n",
       "    <tr>\n",
       "      <th>1838</th>\n",
       "      <td>2019-02-15 14:00:00</td>\n",
       "      <td>11f83991-ae0e-40bb-83ff-497f24103e75</td>\n",
       "      <td>70278</td>\n",
       "      <td>примула желтая с оранжевым в горшке d-10 см</td>\n",
       "      <td>1</td>\n",
       "      <td>127.0</td>\n",
       "      <td>14:00:00</td>\n",
       "      <td>4</td>\n",
       "      <td>2019-02-15</td>\n",
       "    </tr>\n",
       "    <tr>\n",
       "      <th>4681</th>\n",
       "      <td>2019-06-06 08:00:00</td>\n",
       "      <td>db77c238-3c80-4032-9e3c-c30a43f4a650</td>\n",
       "      <td>14835</td>\n",
       "      <td>бакопа ампельная мега-крупная сиреневая объем ...</td>\n",
       "      <td>1</td>\n",
       "      <td>90.0</td>\n",
       "      <td>08:00:00</td>\n",
       "      <td>3</td>\n",
       "      <td>2019-06-06</td>\n",
       "    </tr>\n",
       "  </tbody>\n",
       "</table>\n",
       "</div>"
      ],
      "text/plain": [
       "                    date                           customer_id  order_id  \\\n",
       "6735 2019-10-31 14:00:00  73d1cd35-5e5f-4629-8cf2-3fda829d4e58     73164   \n",
       "7002 2019-12-06 10:00:00  f3dfe740-5c44-45ed-98ee-97835c4769e9    101934   \n",
       "3403 2019-05-05 10:00:00  71fa654e-ce06-4cf3-bafd-2884649f23e5     71353   \n",
       "1838 2019-02-15 14:00:00  11f83991-ae0e-40bb-83ff-497f24103e75     70278   \n",
       "4681 2019-06-06 08:00:00  db77c238-3c80-4032-9e3c-c30a43f4a650     14835   \n",
       "\n",
       "                                                product  quantity   price  \\\n",
       "6735  таз пластмассовый со стиральной доской (иж), 1...         1   397.0   \n",
       "7002                    базилик пурпурные звезды d-7 см         1    14.5   \n",
       "3403         стремянка framar slimmy стальная 3 ступени         1  1574.0   \n",
       "1838        примула желтая с оранжевым в горшке d-10 см         1   127.0   \n",
       "4681  бакопа ампельная мега-крупная сиреневая объем ...         1    90.0   \n",
       "\n",
       "          time  days date_without_time  \n",
       "6735  14:00:00     3        2019-10-31  \n",
       "7002  10:00:00     4        2019-12-06  \n",
       "3403  10:00:00     6        2019-05-05  \n",
       "1838  14:00:00     4        2019-02-15  \n",
       "4681  08:00:00     3        2019-06-06  "
      ]
     },
     "metadata": {},
     "output_type": "display_data"
    }
   ],
   "source": [
    "data['date_without_time'] = pd.to_datetime(data['date']).dt.date\n",
    "# добавил столбец с датами без времени\n",
    "display(data.sample(5))"
   ]
  },
  {
   "cell_type": "code",
   "execution_count": 10,
   "metadata": {},
   "outputs": [
    {
     "name": "stdout",
     "output_type": "stream",
     "text": [
      "2018-10-01 00:00:00\n",
      "2020-01-31 15:00:00\n"
     ]
    }
   ],
   "source": [
    "date_min = data['date'].min()\n",
    "print(date_min)\n",
    "date_max = data['date'].max()\n",
    "print(date_max)"
   ]
  },
  {
   "cell_type": "code",
   "execution_count": 11,
   "metadata": {},
   "outputs": [
    {
     "name": "stdout",
     "output_type": "stream",
     "text": [
      "date                 0\n",
      "customer_id          0\n",
      "order_id             0\n",
      "product              0\n",
      "quantity             0\n",
      "price                0\n",
      "time                 0\n",
      "days                 0\n",
      "date_without_time    0\n",
      "dtype: int64\n"
     ]
    }
   ],
   "source": [
    "print(data.isnull().sum())"
   ]
  },
  {
   "cell_type": "code",
   "execution_count": 12,
   "metadata": {},
   "outputs": [
    {
     "name": "stdout",
     "output_type": "stream",
     "text": [
      "0\n"
     ]
    }
   ],
   "source": [
    "print(data.duplicated().sum()) # обнаружили 0 дубликатов"
   ]
  },
  {
   "cell_type": "code",
   "execution_count": 13,
   "metadata": {},
   "outputs": [
    {
     "name": "stdout",
     "output_type": "stream",
     "text": [
      "1864\n"
     ]
    }
   ],
   "source": [
    "duplicates_without_date = data.drop(columns=['date','time','days', 'date_without_time']).duplicated().sum()\n",
    "print(duplicates_without_date) \n",
    "# обнаружено 1864 дубликата без учета даты и времени, удалю их, так как они могут сильно повлиять на результат исследования"
   ]
  },
  {
   "cell_type": "code",
   "execution_count": 14,
   "metadata": {},
   "outputs": [
    {
     "name": "stdout",
     "output_type": "stream",
     "text": [
      "<class 'pandas.core.frame.DataFrame'>\n",
      "Int64Index: 5610 entries, 0 to 7473\n",
      "Data columns (total 9 columns):\n",
      " #   Column             Non-Null Count  Dtype         \n",
      "---  ------             --------------  -----         \n",
      " 0   date               5610 non-null   datetime64[ns]\n",
      " 1   customer_id        5610 non-null   object        \n",
      " 2   order_id           5610 non-null   int64         \n",
      " 3   product            5610 non-null   object        \n",
      " 4   quantity           5610 non-null   int64         \n",
      " 5   price              5610 non-null   float64       \n",
      " 6   time               5610 non-null   object        \n",
      " 7   days               5610 non-null   int64         \n",
      " 8   date_without_time  5610 non-null   object        \n",
      "dtypes: datetime64[ns](1), float64(1), int64(3), object(4)\n",
      "memory usage: 438.3+ KB\n"
     ]
    }
   ],
   "source": [
    "data = data.drop_duplicates(subset=data.columns.difference(['date', 'time', 'days', 'date_without_time']))\n",
    "data.info() # удалил дубликаты"
   ]
  },
  {
   "cell_type": "code",
   "execution_count": 15,
   "metadata": {
    "scrolled": true
   },
   "outputs": [
    {
     "data": {
      "text/html": [
       "<div>\n",
       "<style scoped>\n",
       "    .dataframe tbody tr th:only-of-type {\n",
       "        vertical-align: middle;\n",
       "    }\n",
       "\n",
       "    .dataframe tbody tr th {\n",
       "        vertical-align: top;\n",
       "    }\n",
       "\n",
       "    .dataframe thead th {\n",
       "        text-align: right;\n",
       "    }\n",
       "</style>\n",
       "<table border=\"1\" class=\"dataframe\">\n",
       "  <thead>\n",
       "    <tr style=\"text-align: right;\">\n",
       "      <th></th>\n",
       "      <th>date</th>\n",
       "      <th>customer_id</th>\n",
       "      <th>order_id</th>\n",
       "      <th>product</th>\n",
       "      <th>quantity</th>\n",
       "      <th>price</th>\n",
       "      <th>time</th>\n",
       "      <th>days</th>\n",
       "      <th>date_without_time</th>\n",
       "    </tr>\n",
       "  </thead>\n",
       "  <tbody>\n",
       "    <tr>\n",
       "      <th>0</th>\n",
       "      <td>2018-10-01</td>\n",
       "      <td>ee47d746-6d2f-4d3c-9622-c31412542920</td>\n",
       "      <td>68477</td>\n",
       "      <td>комнатное растение в горшке алое вера, d12, h30</td>\n",
       "      <td>1</td>\n",
       "      <td>142.0</td>\n",
       "      <td>00:00:00</td>\n",
       "      <td>0</td>\n",
       "      <td>2018-10-01</td>\n",
       "    </tr>\n",
       "    <tr>\n",
       "      <th>1</th>\n",
       "      <td>2018-10-01</td>\n",
       "      <td>ee47d746-6d2f-4d3c-9622-c31412542920</td>\n",
       "      <td>68477</td>\n",
       "      <td>комнатное растение в горшке кофе арабика, d12,...</td>\n",
       "      <td>1</td>\n",
       "      <td>194.0</td>\n",
       "      <td>00:00:00</td>\n",
       "      <td>0</td>\n",
       "      <td>2018-10-01</td>\n",
       "    </tr>\n",
       "    <tr>\n",
       "      <th>2</th>\n",
       "      <td>2018-10-01</td>\n",
       "      <td>ee47d746-6d2f-4d3c-9622-c31412542920</td>\n",
       "      <td>68477</td>\n",
       "      <td>радермахера d-12 см h-20 см</td>\n",
       "      <td>1</td>\n",
       "      <td>112.0</td>\n",
       "      <td>00:00:00</td>\n",
       "      <td>0</td>\n",
       "      <td>2018-10-01</td>\n",
       "    </tr>\n",
       "    <tr>\n",
       "      <th>3</th>\n",
       "      <td>2018-10-01</td>\n",
       "      <td>ee47d746-6d2f-4d3c-9622-c31412542920</td>\n",
       "      <td>68477</td>\n",
       "      <td>хризолидокарпус лутесценс d-9 см</td>\n",
       "      <td>1</td>\n",
       "      <td>179.0</td>\n",
       "      <td>00:00:00</td>\n",
       "      <td>0</td>\n",
       "      <td>2018-10-01</td>\n",
       "    </tr>\n",
       "    <tr>\n",
       "      <th>4</th>\n",
       "      <td>2018-10-01</td>\n",
       "      <td>ee47d746-6d2f-4d3c-9622-c31412542920</td>\n",
       "      <td>68477</td>\n",
       "      <td>циперус зумула d-12 см h-25 см</td>\n",
       "      <td>1</td>\n",
       "      <td>112.0</td>\n",
       "      <td>00:00:00</td>\n",
       "      <td>0</td>\n",
       "      <td>2018-10-01</td>\n",
       "    </tr>\n",
       "  </tbody>\n",
       "</table>\n",
       "</div>"
      ],
      "text/plain": [
       "        date                           customer_id  order_id  \\\n",
       "0 2018-10-01  ee47d746-6d2f-4d3c-9622-c31412542920     68477   \n",
       "1 2018-10-01  ee47d746-6d2f-4d3c-9622-c31412542920     68477   \n",
       "2 2018-10-01  ee47d746-6d2f-4d3c-9622-c31412542920     68477   \n",
       "3 2018-10-01  ee47d746-6d2f-4d3c-9622-c31412542920     68477   \n",
       "4 2018-10-01  ee47d746-6d2f-4d3c-9622-c31412542920     68477   \n",
       "\n",
       "                                             product  quantity  price  \\\n",
       "0    комнатное растение в горшке алое вера, d12, h30         1  142.0   \n",
       "1  комнатное растение в горшке кофе арабика, d12,...         1  194.0   \n",
       "2                        радермахера d-12 см h-20 см         1  112.0   \n",
       "3                   хризолидокарпус лутесценс d-9 см         1  179.0   \n",
       "4                     циперус зумула d-12 см h-25 см         1  112.0   \n",
       "\n",
       "       time  days date_without_time  \n",
       "0  00:00:00     0        2018-10-01  \n",
       "1  00:00:00     0        2018-10-01  \n",
       "2  00:00:00     0        2018-10-01  \n",
       "3  00:00:00     0        2018-10-01  \n",
       "4  00:00:00     0        2018-10-01  "
      ]
     },
     "metadata": {},
     "output_type": "display_data"
    }
   ],
   "source": [
    "grouped = data.groupby('order_id')['customer_id'].nunique().reset_index()\n",
    "orders_more_one_client = grouped[grouped['customer_id'] > 1]['order_id']\n",
    "\n",
    "orders_drop = data[data['order_id'].isin(orders_more_one_client)].index\n",
    "# индексы строк для удаления\n",
    "\n",
    "data.drop(orders_drop, inplace=True)\n",
    "display(data.head())"
   ]
  },
  {
   "cell_type": "code",
   "execution_count": 16,
   "metadata": {
    "scrolled": true
   },
   "outputs": [
    {
     "data": {
      "text/html": [
       "<div>\n",
       "<style scoped>\n",
       "    .dataframe tbody tr th:only-of-type {\n",
       "        vertical-align: middle;\n",
       "    }\n",
       "\n",
       "    .dataframe tbody tr th {\n",
       "        vertical-align: top;\n",
       "    }\n",
       "\n",
       "    .dataframe thead th {\n",
       "        text-align: right;\n",
       "    }\n",
       "</style>\n",
       "<table border=\"1\" class=\"dataframe\">\n",
       "  <thead>\n",
       "    <tr style=\"text-align: right;\">\n",
       "      <th></th>\n",
       "      <th>date</th>\n",
       "      <th>customer_id</th>\n",
       "      <th>order_id</th>\n",
       "      <th>product</th>\n",
       "      <th>quantity</th>\n",
       "      <th>price</th>\n",
       "      <th>time</th>\n",
       "      <th>days</th>\n",
       "      <th>date_without_time</th>\n",
       "    </tr>\n",
       "  </thead>\n",
       "  <tbody>\n",
       "  </tbody>\n",
       "</table>\n",
       "</div>"
      ],
      "text/plain": [
       "Empty DataFrame\n",
       "Columns: [date, customer_id, order_id, product, quantity, price, time, days, date_without_time]\n",
       "Index: []"
      ]
     },
     "metadata": {},
     "output_type": "display_data"
    }
   ],
   "source": [
    "row_72845 = data[data['order_id'] == 72845]\n",
    "display(row_72845) # проверил один из заказов, отсутвует - значит строки с зазаказами с одинаковыми клиентами удалены"
   ]
  },
  {
   "cell_type": "code",
   "execution_count": 17,
   "metadata": {
    "scrolled": true
   },
   "outputs": [
    {
     "name": "stdout",
     "output_type": "stream",
     "text": [
      "Количество уникальных продуктов в заказе:  [   1   10   96   15    6   11    2    4    3    5   37   64   25  150\n",
      "   50   30   17    8    9    7  170   16  140   27   20   12   13   24\n",
      "  100  200   57   40   45   29   23   43   14   31   59   60   18   26\n",
      "  300   70  334 1000   22   80   65]\n"
     ]
    }
   ],
   "source": [
    "print('Количество уникальных продуктов в заказе: ', data['quantity'].unique())"
   ]
  },
  {
   "cell_type": "markdown",
   "metadata": {},
   "source": [
    "Вывод: Стоит обратить внимание, что количество уникальных продуктов в заказе может достигать больше 100 и даже 1000, необходимо проверить реальны ли эти значения."
   ]
  },
  {
   "cell_type": "code",
   "execution_count": 18,
   "metadata": {
    "scrolled": true
   },
   "outputs": [
    {
     "data": {
      "text/html": [
       "<div>\n",
       "<style scoped>\n",
       "    .dataframe tbody tr th:only-of-type {\n",
       "        vertical-align: middle;\n",
       "    }\n",
       "\n",
       "    .dataframe tbody tr th {\n",
       "        vertical-align: top;\n",
       "    }\n",
       "\n",
       "    .dataframe thead th {\n",
       "        text-align: right;\n",
       "    }\n",
       "</style>\n",
       "<table border=\"1\" class=\"dataframe\">\n",
       "  <thead>\n",
       "    <tr style=\"text-align: right;\">\n",
       "      <th></th>\n",
       "      <th>date</th>\n",
       "      <th>customer_id</th>\n",
       "      <th>order_id</th>\n",
       "      <th>product</th>\n",
       "      <th>quantity</th>\n",
       "      <th>price</th>\n",
       "      <th>time</th>\n",
       "      <th>days</th>\n",
       "      <th>date_without_time</th>\n",
       "    </tr>\n",
       "  </thead>\n",
       "  <tbody>\n",
       "    <tr>\n",
       "      <th>211</th>\n",
       "      <td>2018-10-11 14:00:00</td>\n",
       "      <td>cd09ea73-d9ce-48c3-b4c5-018113735e80</td>\n",
       "      <td>68611</td>\n",
       "      <td>крепеж для пружины дверной, 1107055</td>\n",
       "      <td>150</td>\n",
       "      <td>19.0</td>\n",
       "      <td>14:00:00</td>\n",
       "      <td>3</td>\n",
       "      <td>2018-10-11</td>\n",
       "    </tr>\n",
       "    <tr>\n",
       "      <th>212</th>\n",
       "      <td>2018-10-11 14:00:00</td>\n",
       "      <td>cd09ea73-d9ce-48c3-b4c5-018113735e80</td>\n",
       "      <td>68611</td>\n",
       "      <td>пружина дверная 240 мм оцинкованная (д-19 мм) ...</td>\n",
       "      <td>150</td>\n",
       "      <td>38.0</td>\n",
       "      <td>14:00:00</td>\n",
       "      <td>3</td>\n",
       "      <td>2018-10-11</td>\n",
       "    </tr>\n",
       "    <tr>\n",
       "      <th>568</th>\n",
       "      <td>2018-11-01 08:00:00</td>\n",
       "      <td>aa42dc38-780f-4b50-9a65-83b6fa64e766</td>\n",
       "      <td>68815</td>\n",
       "      <td>муляж яблоко 9 см красное</td>\n",
       "      <td>170</td>\n",
       "      <td>51.0</td>\n",
       "      <td>08:00:00</td>\n",
       "      <td>3</td>\n",
       "      <td>2018-11-01</td>\n",
       "    </tr>\n",
       "    <tr>\n",
       "      <th>586</th>\n",
       "      <td>2018-11-02 11:00:00</td>\n",
       "      <td>0c5aaa88-e346-4f87-8f7a-ad8cbc04e965</td>\n",
       "      <td>68831</td>\n",
       "      <td>муляж яблоко 9 см красное</td>\n",
       "      <td>140</td>\n",
       "      <td>59.0</td>\n",
       "      <td>11:00:00</td>\n",
       "      <td>4</td>\n",
       "      <td>2018-11-02</td>\n",
       "    </tr>\n",
       "    <tr>\n",
       "      <th>1103</th>\n",
       "      <td>2018-12-04 17:00:00</td>\n",
       "      <td>7d255526-fcc2-4f79-b28a-217d7d2373a8</td>\n",
       "      <td>69206</td>\n",
       "      <td>щетка для посуды *оля*, мультипласт 1807010</td>\n",
       "      <td>100</td>\n",
       "      <td>26.0</td>\n",
       "      <td>17:00:00</td>\n",
       "      <td>1</td>\n",
       "      <td>2018-12-04</td>\n",
       "    </tr>\n",
       "    <tr>\n",
       "      <th>1158</th>\n",
       "      <td>2018-12-10 14:00:00</td>\n",
       "      <td>a984c5b7-ff7e-4647-b84e-ef0b85a2762d</td>\n",
       "      <td>69289</td>\n",
       "      <td>ручка-скоба рс-100 белая *трибатрон*, 1108035</td>\n",
       "      <td>200</td>\n",
       "      <td>29.0</td>\n",
       "      <td>14:00:00</td>\n",
       "      <td>0</td>\n",
       "      <td>2018-12-10</td>\n",
       "    </tr>\n",
       "    <tr>\n",
       "      <th>1555</th>\n",
       "      <td>2019-01-21 09:00:00</td>\n",
       "      <td>8eabcaca-e8c8-4eee-9079-4ff5f612273a</td>\n",
       "      <td>69893</td>\n",
       "      <td>щетка для мытья посуды колибри м5202 большая</td>\n",
       "      <td>100</td>\n",
       "      <td>34.0</td>\n",
       "      <td>09:00:00</td>\n",
       "      <td>0</td>\n",
       "      <td>2019-01-21</td>\n",
       "    </tr>\n",
       "    <tr>\n",
       "      <th>2431</th>\n",
       "      <td>2019-03-23 10:00:00</td>\n",
       "      <td>685d3d84-aebb-485b-8e59-344b3df8b3d3</td>\n",
       "      <td>70841</td>\n",
       "      <td>плечики пластмассовые размер 52 - 54 тула 1205158</td>\n",
       "      <td>150</td>\n",
       "      <td>20.0</td>\n",
       "      <td>10:00:00</td>\n",
       "      <td>5</td>\n",
       "      <td>2019-03-23</td>\n",
       "    </tr>\n",
       "    <tr>\n",
       "      <th>3961</th>\n",
       "      <td>2019-05-20 21:00:00</td>\n",
       "      <td>5d189e88-d4d6-4eac-ab43-fa65a3c4d106</td>\n",
       "      <td>71478</td>\n",
       "      <td>муляж яблоко 9 см красное</td>\n",
       "      <td>300</td>\n",
       "      <td>51.0</td>\n",
       "      <td>21:00:00</td>\n",
       "      <td>0</td>\n",
       "      <td>2019-05-20</td>\n",
       "    </tr>\n",
       "    <tr>\n",
       "      <th>5071</th>\n",
       "      <td>2019-06-11 07:00:00</td>\n",
       "      <td>146cd9bf-a95c-4afb-915b-5f6684b17444</td>\n",
       "      <td>71668</td>\n",
       "      <td>вешалки мягкие для деликатных вещей 3 шт шоколад</td>\n",
       "      <td>334</td>\n",
       "      <td>148.0</td>\n",
       "      <td>07:00:00</td>\n",
       "      <td>1</td>\n",
       "      <td>2019-06-11</td>\n",
       "    </tr>\n",
       "    <tr>\n",
       "      <th>5456</th>\n",
       "      <td>2019-06-18 15:00:00</td>\n",
       "      <td>312e9a3e-5fca-43ff-a6a1-892d2b2d5ba6</td>\n",
       "      <td>71743</td>\n",
       "      <td>вантуз с деревянной ручкой d14 см красный, bur...</td>\n",
       "      <td>1000</td>\n",
       "      <td>675.0</td>\n",
       "      <td>15:00:00</td>\n",
       "      <td>1</td>\n",
       "      <td>2019-06-18</td>\n",
       "    </tr>\n",
       "    <tr>\n",
       "      <th>6535</th>\n",
       "      <td>2019-10-07 11:00:00</td>\n",
       "      <td>d933280e-5372-448f-be44-b269c8bafc2a</td>\n",
       "      <td>72885</td>\n",
       "      <td>крепеж для пружины дверной оцинкованный, 1107054</td>\n",
       "      <td>100</td>\n",
       "      <td>19.0</td>\n",
       "      <td>11:00:00</td>\n",
       "      <td>0</td>\n",
       "      <td>2019-10-07</td>\n",
       "    </tr>\n",
       "    <tr>\n",
       "      <th>6707</th>\n",
       "      <td>2019-10-28 10:00:00</td>\n",
       "      <td>018fb729-3525-4314-8e4d-1982b1062f9f</td>\n",
       "      <td>73110</td>\n",
       "      <td>шпингалет 80 мм белый с пружиной, 1102188</td>\n",
       "      <td>100</td>\n",
       "      <td>44.0</td>\n",
       "      <td>10:00:00</td>\n",
       "      <td>0</td>\n",
       "      <td>2019-10-28</td>\n",
       "    </tr>\n",
       "  </tbody>\n",
       "</table>\n",
       "</div>"
      ],
      "text/plain": [
       "                    date                           customer_id  order_id  \\\n",
       "211  2018-10-11 14:00:00  cd09ea73-d9ce-48c3-b4c5-018113735e80     68611   \n",
       "212  2018-10-11 14:00:00  cd09ea73-d9ce-48c3-b4c5-018113735e80     68611   \n",
       "568  2018-11-01 08:00:00  aa42dc38-780f-4b50-9a65-83b6fa64e766     68815   \n",
       "586  2018-11-02 11:00:00  0c5aaa88-e346-4f87-8f7a-ad8cbc04e965     68831   \n",
       "1103 2018-12-04 17:00:00  7d255526-fcc2-4f79-b28a-217d7d2373a8     69206   \n",
       "1158 2018-12-10 14:00:00  a984c5b7-ff7e-4647-b84e-ef0b85a2762d     69289   \n",
       "1555 2019-01-21 09:00:00  8eabcaca-e8c8-4eee-9079-4ff5f612273a     69893   \n",
       "2431 2019-03-23 10:00:00  685d3d84-aebb-485b-8e59-344b3df8b3d3     70841   \n",
       "3961 2019-05-20 21:00:00  5d189e88-d4d6-4eac-ab43-fa65a3c4d106     71478   \n",
       "5071 2019-06-11 07:00:00  146cd9bf-a95c-4afb-915b-5f6684b17444     71668   \n",
       "5456 2019-06-18 15:00:00  312e9a3e-5fca-43ff-a6a1-892d2b2d5ba6     71743   \n",
       "6535 2019-10-07 11:00:00  d933280e-5372-448f-be44-b269c8bafc2a     72885   \n",
       "6707 2019-10-28 10:00:00  018fb729-3525-4314-8e4d-1982b1062f9f     73110   \n",
       "\n",
       "                                                product  quantity  price  \\\n",
       "211                 крепеж для пружины дверной, 1107055       150   19.0   \n",
       "212   пружина дверная 240 мм оцинкованная (д-19 мм) ...       150   38.0   \n",
       "568                           муляж яблоко 9 см красное       170   51.0   \n",
       "586                           муляж яблоко 9 см красное       140   59.0   \n",
       "1103        щетка для посуды *оля*, мультипласт 1807010       100   26.0   \n",
       "1158      ручка-скоба рс-100 белая *трибатрон*, 1108035       200   29.0   \n",
       "1555       щетка для мытья посуды колибри м5202 большая       100   34.0   \n",
       "2431  плечики пластмассовые размер 52 - 54 тула 1205158       150   20.0   \n",
       "3961                          муляж яблоко 9 см красное       300   51.0   \n",
       "5071   вешалки мягкие для деликатных вещей 3 шт шоколад       334  148.0   \n",
       "5456  вантуз с деревянной ручкой d14 см красный, bur...      1000  675.0   \n",
       "6535   крепеж для пружины дверной оцинкованный, 1107054       100   19.0   \n",
       "6707          шпингалет 80 мм белый с пружиной, 1102188       100   44.0   \n",
       "\n",
       "          time  days date_without_time  \n",
       "211   14:00:00     3        2018-10-11  \n",
       "212   14:00:00     3        2018-10-11  \n",
       "568   08:00:00     3        2018-11-01  \n",
       "586   11:00:00     4        2018-11-02  \n",
       "1103  17:00:00     1        2018-12-04  \n",
       "1158  14:00:00     0        2018-12-10  \n",
       "1555  09:00:00     0        2019-01-21  \n",
       "2431  10:00:00     5        2019-03-23  \n",
       "3961  21:00:00     0        2019-05-20  \n",
       "5071  07:00:00     1        2019-06-11  \n",
       "5456  15:00:00     1        2019-06-18  \n",
       "6535  11:00:00     0        2019-10-07  \n",
       "6707  10:00:00     0        2019-10-28  "
      ]
     },
     "metadata": {},
     "output_type": "display_data"
    }
   ],
   "source": [
    "display(data[data['quantity'] >= 100])"
   ]
  },
  {
   "cell_type": "markdown",
   "metadata": {},
   "source": [
    "Вывод: Аномальное значение в шт. и общей стоимости имеет продукт - вантуз. Следует его удалить из данных, так как он будет вносить перекос в данные."
   ]
  },
  {
   "cell_type": "code",
   "execution_count": 19,
   "metadata": {},
   "outputs": [
    {
     "data": {
      "text/html": [
       "<div>\n",
       "<style scoped>\n",
       "    .dataframe tbody tr th:only-of-type {\n",
       "        vertical-align: middle;\n",
       "    }\n",
       "\n",
       "    .dataframe tbody tr th {\n",
       "        vertical-align: top;\n",
       "    }\n",
       "\n",
       "    .dataframe thead th {\n",
       "        text-align: right;\n",
       "    }\n",
       "</style>\n",
       "<table border=\"1\" class=\"dataframe\">\n",
       "  <thead>\n",
       "    <tr style=\"text-align: right;\">\n",
       "      <th></th>\n",
       "      <th>date</th>\n",
       "      <th>customer_id</th>\n",
       "      <th>order_id</th>\n",
       "      <th>product</th>\n",
       "      <th>quantity</th>\n",
       "      <th>price</th>\n",
       "      <th>time</th>\n",
       "      <th>days</th>\n",
       "      <th>date_without_time</th>\n",
       "    </tr>\n",
       "  </thead>\n",
       "  <tbody>\n",
       "    <tr>\n",
       "      <th>211</th>\n",
       "      <td>2018-10-11 14:00:00</td>\n",
       "      <td>cd09ea73-d9ce-48c3-b4c5-018113735e80</td>\n",
       "      <td>68611</td>\n",
       "      <td>крепеж для пружины дверной, 1107055</td>\n",
       "      <td>150</td>\n",
       "      <td>19.0</td>\n",
       "      <td>14:00:00</td>\n",
       "      <td>3</td>\n",
       "      <td>2018-10-11</td>\n",
       "    </tr>\n",
       "    <tr>\n",
       "      <th>212</th>\n",
       "      <td>2018-10-11 14:00:00</td>\n",
       "      <td>cd09ea73-d9ce-48c3-b4c5-018113735e80</td>\n",
       "      <td>68611</td>\n",
       "      <td>пружина дверная 240 мм оцинкованная (д-19 мм) ...</td>\n",
       "      <td>150</td>\n",
       "      <td>38.0</td>\n",
       "      <td>14:00:00</td>\n",
       "      <td>3</td>\n",
       "      <td>2018-10-11</td>\n",
       "    </tr>\n",
       "    <tr>\n",
       "      <th>568</th>\n",
       "      <td>2018-11-01 08:00:00</td>\n",
       "      <td>aa42dc38-780f-4b50-9a65-83b6fa64e766</td>\n",
       "      <td>68815</td>\n",
       "      <td>муляж яблоко 9 см красное</td>\n",
       "      <td>170</td>\n",
       "      <td>51.0</td>\n",
       "      <td>08:00:00</td>\n",
       "      <td>3</td>\n",
       "      <td>2018-11-01</td>\n",
       "    </tr>\n",
       "    <tr>\n",
       "      <th>586</th>\n",
       "      <td>2018-11-02 11:00:00</td>\n",
       "      <td>0c5aaa88-e346-4f87-8f7a-ad8cbc04e965</td>\n",
       "      <td>68831</td>\n",
       "      <td>муляж яблоко 9 см красное</td>\n",
       "      <td>140</td>\n",
       "      <td>59.0</td>\n",
       "      <td>11:00:00</td>\n",
       "      <td>4</td>\n",
       "      <td>2018-11-02</td>\n",
       "    </tr>\n",
       "    <tr>\n",
       "      <th>1103</th>\n",
       "      <td>2018-12-04 17:00:00</td>\n",
       "      <td>7d255526-fcc2-4f79-b28a-217d7d2373a8</td>\n",
       "      <td>69206</td>\n",
       "      <td>щетка для посуды *оля*, мультипласт 1807010</td>\n",
       "      <td>100</td>\n",
       "      <td>26.0</td>\n",
       "      <td>17:00:00</td>\n",
       "      <td>1</td>\n",
       "      <td>2018-12-04</td>\n",
       "    </tr>\n",
       "    <tr>\n",
       "      <th>1158</th>\n",
       "      <td>2018-12-10 14:00:00</td>\n",
       "      <td>a984c5b7-ff7e-4647-b84e-ef0b85a2762d</td>\n",
       "      <td>69289</td>\n",
       "      <td>ручка-скоба рс-100 белая *трибатрон*, 1108035</td>\n",
       "      <td>200</td>\n",
       "      <td>29.0</td>\n",
       "      <td>14:00:00</td>\n",
       "      <td>0</td>\n",
       "      <td>2018-12-10</td>\n",
       "    </tr>\n",
       "    <tr>\n",
       "      <th>1555</th>\n",
       "      <td>2019-01-21 09:00:00</td>\n",
       "      <td>8eabcaca-e8c8-4eee-9079-4ff5f612273a</td>\n",
       "      <td>69893</td>\n",
       "      <td>щетка для мытья посуды колибри м5202 большая</td>\n",
       "      <td>100</td>\n",
       "      <td>34.0</td>\n",
       "      <td>09:00:00</td>\n",
       "      <td>0</td>\n",
       "      <td>2019-01-21</td>\n",
       "    </tr>\n",
       "    <tr>\n",
       "      <th>2431</th>\n",
       "      <td>2019-03-23 10:00:00</td>\n",
       "      <td>685d3d84-aebb-485b-8e59-344b3df8b3d3</td>\n",
       "      <td>70841</td>\n",
       "      <td>плечики пластмассовые размер 52 - 54 тула 1205158</td>\n",
       "      <td>150</td>\n",
       "      <td>20.0</td>\n",
       "      <td>10:00:00</td>\n",
       "      <td>5</td>\n",
       "      <td>2019-03-23</td>\n",
       "    </tr>\n",
       "    <tr>\n",
       "      <th>3961</th>\n",
       "      <td>2019-05-20 21:00:00</td>\n",
       "      <td>5d189e88-d4d6-4eac-ab43-fa65a3c4d106</td>\n",
       "      <td>71478</td>\n",
       "      <td>муляж яблоко 9 см красное</td>\n",
       "      <td>300</td>\n",
       "      <td>51.0</td>\n",
       "      <td>21:00:00</td>\n",
       "      <td>0</td>\n",
       "      <td>2019-05-20</td>\n",
       "    </tr>\n",
       "    <tr>\n",
       "      <th>5071</th>\n",
       "      <td>2019-06-11 07:00:00</td>\n",
       "      <td>146cd9bf-a95c-4afb-915b-5f6684b17444</td>\n",
       "      <td>71668</td>\n",
       "      <td>вешалки мягкие для деликатных вещей 3 шт шоколад</td>\n",
       "      <td>334</td>\n",
       "      <td>148.0</td>\n",
       "      <td>07:00:00</td>\n",
       "      <td>1</td>\n",
       "      <td>2019-06-11</td>\n",
       "    </tr>\n",
       "    <tr>\n",
       "      <th>6535</th>\n",
       "      <td>2019-10-07 11:00:00</td>\n",
       "      <td>d933280e-5372-448f-be44-b269c8bafc2a</td>\n",
       "      <td>72885</td>\n",
       "      <td>крепеж для пружины дверной оцинкованный, 1107054</td>\n",
       "      <td>100</td>\n",
       "      <td>19.0</td>\n",
       "      <td>11:00:00</td>\n",
       "      <td>0</td>\n",
       "      <td>2019-10-07</td>\n",
       "    </tr>\n",
       "    <tr>\n",
       "      <th>6707</th>\n",
       "      <td>2019-10-28 10:00:00</td>\n",
       "      <td>018fb729-3525-4314-8e4d-1982b1062f9f</td>\n",
       "      <td>73110</td>\n",
       "      <td>шпингалет 80 мм белый с пружиной, 1102188</td>\n",
       "      <td>100</td>\n",
       "      <td>44.0</td>\n",
       "      <td>10:00:00</td>\n",
       "      <td>0</td>\n",
       "      <td>2019-10-28</td>\n",
       "    </tr>\n",
       "  </tbody>\n",
       "</table>\n",
       "</div>"
      ],
      "text/plain": [
       "                    date                           customer_id  order_id  \\\n",
       "211  2018-10-11 14:00:00  cd09ea73-d9ce-48c3-b4c5-018113735e80     68611   \n",
       "212  2018-10-11 14:00:00  cd09ea73-d9ce-48c3-b4c5-018113735e80     68611   \n",
       "568  2018-11-01 08:00:00  aa42dc38-780f-4b50-9a65-83b6fa64e766     68815   \n",
       "586  2018-11-02 11:00:00  0c5aaa88-e346-4f87-8f7a-ad8cbc04e965     68831   \n",
       "1103 2018-12-04 17:00:00  7d255526-fcc2-4f79-b28a-217d7d2373a8     69206   \n",
       "1158 2018-12-10 14:00:00  a984c5b7-ff7e-4647-b84e-ef0b85a2762d     69289   \n",
       "1555 2019-01-21 09:00:00  8eabcaca-e8c8-4eee-9079-4ff5f612273a     69893   \n",
       "2431 2019-03-23 10:00:00  685d3d84-aebb-485b-8e59-344b3df8b3d3     70841   \n",
       "3961 2019-05-20 21:00:00  5d189e88-d4d6-4eac-ab43-fa65a3c4d106     71478   \n",
       "5071 2019-06-11 07:00:00  146cd9bf-a95c-4afb-915b-5f6684b17444     71668   \n",
       "6535 2019-10-07 11:00:00  d933280e-5372-448f-be44-b269c8bafc2a     72885   \n",
       "6707 2019-10-28 10:00:00  018fb729-3525-4314-8e4d-1982b1062f9f     73110   \n",
       "\n",
       "                                                product  quantity  price  \\\n",
       "211                 крепеж для пружины дверной, 1107055       150   19.0   \n",
       "212   пружина дверная 240 мм оцинкованная (д-19 мм) ...       150   38.0   \n",
       "568                           муляж яблоко 9 см красное       170   51.0   \n",
       "586                           муляж яблоко 9 см красное       140   59.0   \n",
       "1103        щетка для посуды *оля*, мультипласт 1807010       100   26.0   \n",
       "1158      ручка-скоба рс-100 белая *трибатрон*, 1108035       200   29.0   \n",
       "1555       щетка для мытья посуды колибри м5202 большая       100   34.0   \n",
       "2431  плечики пластмассовые размер 52 - 54 тула 1205158       150   20.0   \n",
       "3961                          муляж яблоко 9 см красное       300   51.0   \n",
       "5071   вешалки мягкие для деликатных вещей 3 шт шоколад       334  148.0   \n",
       "6535   крепеж для пружины дверной оцинкованный, 1107054       100   19.0   \n",
       "6707          шпингалет 80 мм белый с пружиной, 1102188       100   44.0   \n",
       "\n",
       "          time  days date_without_time  \n",
       "211   14:00:00     3        2018-10-11  \n",
       "212   14:00:00     3        2018-10-11  \n",
       "568   08:00:00     3        2018-11-01  \n",
       "586   11:00:00     4        2018-11-02  \n",
       "1103  17:00:00     1        2018-12-04  \n",
       "1158  14:00:00     0        2018-12-10  \n",
       "1555  09:00:00     0        2019-01-21  \n",
       "2431  10:00:00     5        2019-03-23  \n",
       "3961  21:00:00     0        2019-05-20  \n",
       "5071  07:00:00     1        2019-06-11  \n",
       "6535  11:00:00     0        2019-10-07  \n",
       "6707  10:00:00     0        2019-10-28  "
      ]
     },
     "metadata": {},
     "output_type": "display_data"
    }
   ],
   "source": [
    "data.drop(5456, inplace=True)\n",
    "display(data[data['quantity'] >= 100]) #удалил строку в датафрейме с аномалией"
   ]
  },
  {
   "cell_type": "code",
   "execution_count": 20,
   "metadata": {
    "scrolled": true
   },
   "outputs": [
    {
     "data": {
      "image/png": "[encoded data removed]",
      "text/plain": [
       "<Figure size 864x432 with 1 Axes>"
      ]
     },
     "metadata": {
      "needs_background": "light"
     },
     "output_type": "display_data"
    }
   ],
   "source": [
    "data['time_str'] = data['time'].apply(lambda x: f\"{x.hour:02d}:{x.minute:02d}\")\n",
    "\n",
    "time_order_count = data.groupby('time_str')['order_id'].count().reset_index()\n",
    "# сгруппирую данные по времени и посчитаю количество order_id\n",
    "\n",
    "plt.figure(figsize=(12, 6))\n",
    "plt.plot(time_order_count['time_str'], time_order_count['order_id'], marker='o')\n",
    "plt.xlabel('Время')\n",
    "plt.ylabel('Количество Order ID')\n",
    "plt.title('Зависимость количества Order ID от времени')\n",
    "plt.xticks(rotation=90)\n",
    "plt.grid(True)\n",
    "plt.show()"
   ]
  },
  {
   "cell_type": "markdown",
   "metadata": {},
   "source": [
    "Вывод: Активность клиентов стремительно растет в период с 6:00 до 09:00. Пик наблюдается с 12:00-14:00, это время обеденного перерыва. Далее активность планомерно снижается. "
   ]
  },
  {
   "cell_type": "code",
   "execution_count": 21,
   "metadata": {
    "scrolled": true
   },
   "outputs": [
    {
     "data": {
      "image/png": "[encoded data removed]",
      "text/plain": [
       "<Figure size 720x432 with 1 Axes>"
      ]
     },
     "metadata": {
      "needs_background": "light"
     },
     "output_type": "display_data"
    }
   ],
   "source": [
    "day_order_count = data.groupby('days')['order_id'].count().reset_index()\n",
    "\n",
    "# Преобразование индекса дня недели в название дня недели\n",
    "day_order_count['days'] = day_order_count['days'].apply(lambda x: ['Понедельник', 'Вторник', 'Среда', 'Четверг', 'Пятница', 'Суббота', 'Воскресенье'][x])\n",
    "\n",
    "# Построение графика\n",
    "plt.figure(figsize=(10, 6))\n",
    "plt.bar(day_order_count['days'], day_order_count['order_id'])\n",
    "plt.xlabel('День недели')\n",
    "plt.ylabel('Количество заказов')\n",
    "plt.title('Зависимость количества заказов от дня недели')\n",
    "plt.xticks(rotation=45)\n",
    "plt.grid(True)\n",
    "plt.show()"
   ]
  },
  {
   "cell_type": "markdown",
   "metadata": {},
   "source": [
    "Вывод: наибольшее количество заказов в понедельник. Наименьшее количество заказов в субботу."
   ]
  },
  {
   "cell_type": "code",
   "execution_count": 22,
   "metadata": {
    "scrolled": true
   },
   "outputs": [
    {
     "data": {
      "image/png": "[encoded data removed]",
      "text/plain": [
       "<Figure size 720x432 with 1 Axes>"
      ]
     },
     "metadata": {
      "needs_background": "light"
     },
     "output_type": "display_data"
    }
   ],
   "source": [
    "data_2019 = data[data['date'].dt.year == 2019]\n",
    "month_order_count = data_2019.groupby(data_2019['date'].dt.month)['order_id'].count().reset_index()\n",
    "# возьму данные за 2019 год, было бы актуально иметь данные еще за один полный год\n",
    "\n",
    "month_order_count['date'] = month_order_count['date'].apply(lambda x: pd.Timestamp(2019, x, 1).strftime('%B'))\n",
    "# преобразую индекс месяца в название месяца\n",
    "\n",
    "plt.figure(figsize=(10, 6))\n",
    "plt.bar(month_order_count['date'], month_order_count['order_id'])\n",
    "plt.xlabel('Месяц')\n",
    "plt.ylabel('Количество заказов')\n",
    "plt.title('Зависимость количества заказов от месяца в 2019 году')\n",
    "plt.xticks(rotation=45)\n",
    "plt.grid(True)\n",
    "plt.show()"
   ]
  },
  {
   "cell_type": "markdown",
   "metadata": {},
   "source": [
    "Вывод: наибольшее количество заказов в мае, до этого месяца с января идет планомерный рост, с июня продажи сильно падают. Данные за 2019 год."
   ]
  },
  {
   "cell_type": "code",
   "execution_count": 23,
   "metadata": {},
   "outputs": [],
   "source": [
    "#duplicates_without_date = data.drop(columns=['date','time','time_str','days']).duplicated().sum()\n",
    "#print(duplicates_without_date) \n",
    "# обнаружено 1864 дубликата без учета даты и времени, но удалять их не будем, так как это может существенно повлиять на исследование"
   ]
  },
  {
   "cell_type": "code",
   "execution_count": 24,
   "metadata": {},
   "outputs": [
    {
     "name": "stdout",
     "output_type": "stream",
     "text": [
      "Всего уникальных клиентов:  2412\n"
     ]
    }
   ],
   "source": [
    "print('Всего уникальных клиентов: ', len(data['customer_id'].unique()))"
   ]
  },
  {
   "cell_type": "code",
   "execution_count": 25,
   "metadata": {},
   "outputs": [
    {
     "name": "stdout",
     "output_type": "stream",
     "text": [
      "Всего уникальных заказов:  3491\n"
     ]
    }
   ],
   "source": [
    "print('Всего уникальных заказов: ', len(data['order_id'].unique()))"
   ]
  },
  {
   "cell_type": "markdown",
   "metadata": {},
   "source": [
    "Вывод: Аномальное значение в шт. и общей стоимости имеет продукт - вантуз. Следует его удалить из данных, так как он будет вносить перекос в данные."
   ]
  },
  {
   "cell_type": "code",
   "execution_count": 26,
   "metadata": {},
   "outputs": [
    {
     "data": {
      "image/png": "[encoded data removed]",
      "text/plain": [
       "<Figure size 720x432 with 1 Axes>"
      ]
     },
     "metadata": {
      "needs_background": "light"
     },
     "output_type": "display_data"
    }
   ],
   "source": [
    "grouped_data = data.groupby(['quantity', 'date_without_time']).size().reset_index(name='count')\n",
    "plt.figure(figsize=(10, 6))\n",
    "plt.bar(grouped_data['date_without_time'], grouped_data['quantity'])\n",
    "plt.xlabel('Дата')\n",
    "plt.ylabel('Количество продуктов в заказе')\n",
    "plt.title('Количество продуктов в заказе по дате')\n",
    "plt.xticks(rotation=45)\n",
    "plt.tight_layout()\n",
    "plt.show()"
   ]
  },
  {
   "cell_type": "code",
   "execution_count": 27,
   "metadata": {},
   "outputs": [
    {
     "name": "stdout",
     "output_type": "stream",
     "text": [
      "Среднее количество заказов на одного клиента:  1.45\n"
     ]
    }
   ],
   "source": [
    "print('Среднее количество заказов на одного клиента: ', round(len(data['order_id'].unique()) / len(data['customer_id'].unique()), 2))"
   ]
  },
  {
   "cell_type": "code",
   "execution_count": 28,
   "metadata": {},
   "outputs": [
    {
     "data": {
      "image/png": "[encoded data removed]",
      "text/plain": [
       "<Figure size 720x432 with 1 Axes>"
      ]
     },
     "metadata": {
      "needs_background": "light"
     },
     "output_type": "display_data"
    }
   ],
   "source": [
    "grouped_data = data.groupby('date_without_time').size().reset_index(name='count')\n",
    "plt.figure(figsize=(10, 6))\n",
    "plt.bar(grouped_data['date_without_time'], grouped_data['count'])\n",
    "plt.xlabel('Дата')\n",
    "plt.ylabel('Количество заказов')\n",
    "plt.title('Количество заказов по дате')\n",
    "plt.xticks(rotation=45)\n",
    "plt.tight_layout()\n",
    "plt.show()"
   ]
  },
  {
   "cell_type": "code",
   "execution_count": 29,
   "metadata": {},
   "outputs": [
    {
     "data": {
      "text/html": [
       "<div>\n",
       "<style scoped>\n",
       "    .dataframe tbody tr th:only-of-type {\n",
       "        vertical-align: middle;\n",
       "    }\n",
       "\n",
       "    .dataframe tbody tr th {\n",
       "        vertical-align: top;\n",
       "    }\n",
       "\n",
       "    .dataframe thead th {\n",
       "        text-align: right;\n",
       "    }\n",
       "</style>\n",
       "<table border=\"1\" class=\"dataframe\">\n",
       "  <thead>\n",
       "    <tr style=\"text-align: right;\">\n",
       "      <th></th>\n",
       "      <th>date</th>\n",
       "      <th>customer_id</th>\n",
       "      <th>order_id</th>\n",
       "      <th>product</th>\n",
       "      <th>quantity</th>\n",
       "      <th>price</th>\n",
       "      <th>time</th>\n",
       "      <th>days</th>\n",
       "      <th>date_without_time</th>\n",
       "      <th>time_str</th>\n",
       "      <th>total_price</th>\n",
       "    </tr>\n",
       "  </thead>\n",
       "  <tbody>\n",
       "    <tr>\n",
       "      <th>0</th>\n",
       "      <td>2018-10-01 00:00:00</td>\n",
       "      <td>ee47d746-6d2f-4d3c-9622-c31412542920</td>\n",
       "      <td>68477</td>\n",
       "      <td>комнатное растение в горшке алое вера, d12, h30</td>\n",
       "      <td>1</td>\n",
       "      <td>142.0</td>\n",
       "      <td>00:00:00</td>\n",
       "      <td>0</td>\n",
       "      <td>2018-10-01</td>\n",
       "      <td>00:00</td>\n",
       "      <td>142.0</td>\n",
       "    </tr>\n",
       "    <tr>\n",
       "      <th>1</th>\n",
       "      <td>2018-10-01 00:00:00</td>\n",
       "      <td>ee47d746-6d2f-4d3c-9622-c31412542920</td>\n",
       "      <td>68477</td>\n",
       "      <td>комнатное растение в горшке кофе арабика, d12,...</td>\n",
       "      <td>1</td>\n",
       "      <td>194.0</td>\n",
       "      <td>00:00:00</td>\n",
       "      <td>0</td>\n",
       "      <td>2018-10-01</td>\n",
       "      <td>00:00</td>\n",
       "      <td>194.0</td>\n",
       "    </tr>\n",
       "    <tr>\n",
       "      <th>2</th>\n",
       "      <td>2018-10-01 00:00:00</td>\n",
       "      <td>ee47d746-6d2f-4d3c-9622-c31412542920</td>\n",
       "      <td>68477</td>\n",
       "      <td>радермахера d-12 см h-20 см</td>\n",
       "      <td>1</td>\n",
       "      <td>112.0</td>\n",
       "      <td>00:00:00</td>\n",
       "      <td>0</td>\n",
       "      <td>2018-10-01</td>\n",
       "      <td>00:00</td>\n",
       "      <td>112.0</td>\n",
       "    </tr>\n",
       "    <tr>\n",
       "      <th>3</th>\n",
       "      <td>2018-10-01 00:00:00</td>\n",
       "      <td>ee47d746-6d2f-4d3c-9622-c31412542920</td>\n",
       "      <td>68477</td>\n",
       "      <td>хризолидокарпус лутесценс d-9 см</td>\n",
       "      <td>1</td>\n",
       "      <td>179.0</td>\n",
       "      <td>00:00:00</td>\n",
       "      <td>0</td>\n",
       "      <td>2018-10-01</td>\n",
       "      <td>00:00</td>\n",
       "      <td>179.0</td>\n",
       "    </tr>\n",
       "    <tr>\n",
       "      <th>4</th>\n",
       "      <td>2018-10-01 00:00:00</td>\n",
       "      <td>ee47d746-6d2f-4d3c-9622-c31412542920</td>\n",
       "      <td>68477</td>\n",
       "      <td>циперус зумула d-12 см h-25 см</td>\n",
       "      <td>1</td>\n",
       "      <td>112.0</td>\n",
       "      <td>00:00:00</td>\n",
       "      <td>0</td>\n",
       "      <td>2018-10-01</td>\n",
       "      <td>00:00</td>\n",
       "      <td>112.0</td>\n",
       "    </tr>\n",
       "    <tr>\n",
       "      <th>...</th>\n",
       "      <td>...</td>\n",
       "      <td>...</td>\n",
       "      <td>...</td>\n",
       "      <td>...</td>\n",
       "      <td>...</td>\n",
       "      <td>...</td>\n",
       "      <td>...</td>\n",
       "      <td>...</td>\n",
       "      <td>...</td>\n",
       "      <td>...</td>\n",
       "      <td>...</td>\n",
       "    </tr>\n",
       "    <tr>\n",
       "      <th>7469</th>\n",
       "      <td>2020-01-30 21:00:00</td>\n",
       "      <td>63208953-a8e4-4f77-9b47-3a46e7b72eee</td>\n",
       "      <td>104002</td>\n",
       "      <td>томата (помидор) черниченский черри № 116 сорт...</td>\n",
       "      <td>2</td>\n",
       "      <td>38.0</td>\n",
       "      <td>21:00:00</td>\n",
       "      <td>3</td>\n",
       "      <td>2020-01-30</td>\n",
       "      <td>21:00</td>\n",
       "      <td>76.0</td>\n",
       "    </tr>\n",
       "    <tr>\n",
       "      <th>7470</th>\n",
       "      <td>2020-01-30 22:00:00</td>\n",
       "      <td>d99d25f1-4017-4fcd-8d29-c580cc695a1a</td>\n",
       "      <td>107336</td>\n",
       "      <td>дендробиум санок анна грин 1 ствол d-12 см</td>\n",
       "      <td>1</td>\n",
       "      <td>869.0</td>\n",
       "      <td>22:00:00</td>\n",
       "      <td>3</td>\n",
       "      <td>2020-01-30</td>\n",
       "      <td>22:00</td>\n",
       "      <td>869.0</td>\n",
       "    </tr>\n",
       "    <tr>\n",
       "      <th>7471</th>\n",
       "      <td>2020-01-31 02:00:00</td>\n",
       "      <td>2c9bd08d-8c55-4e7a-9bfb-8c56ba42c6d6</td>\n",
       "      <td>106336</td>\n",
       "      <td>подставка для обуви резиновая attribute 80x40 ...</td>\n",
       "      <td>1</td>\n",
       "      <td>354.0</td>\n",
       "      <td>02:00:00</td>\n",
       "      <td>4</td>\n",
       "      <td>2020-01-31</td>\n",
       "      <td>02:00</td>\n",
       "      <td>354.0</td>\n",
       "    </tr>\n",
       "    <tr>\n",
       "      <th>7472</th>\n",
       "      <td>2020-01-31 12:00:00</td>\n",
       "      <td>cdd17932-623e-415f-a577-3b31312fd0e2</td>\n",
       "      <td>102002</td>\n",
       "      <td>тагетис крупноцветковый рассада однолетних цве...</td>\n",
       "      <td>1</td>\n",
       "      <td>128.0</td>\n",
       "      <td>12:00:00</td>\n",
       "      <td>4</td>\n",
       "      <td>2020-01-31</td>\n",
       "      <td>12:00</td>\n",
       "      <td>128.0</td>\n",
       "    </tr>\n",
       "    <tr>\n",
       "      <th>7473</th>\n",
       "      <td>2020-01-31 15:00:00</td>\n",
       "      <td>2e460a26-35af-453d-a369-a036e95a40e0</td>\n",
       "      <td>103225</td>\n",
       "      <td>вешалка для блузок 41 см красный attribute ahm781</td>\n",
       "      <td>1</td>\n",
       "      <td>104.0</td>\n",
       "      <td>15:00:00</td>\n",
       "      <td>4</td>\n",
       "      <td>2020-01-31</td>\n",
       "      <td>15:00</td>\n",
       "      <td>104.0</td>\n",
       "    </tr>\n",
       "  </tbody>\n",
       "</table>\n",
       "<p>5543 rows × 11 columns</p>\n",
       "</div>"
      ],
      "text/plain": [
       "                    date                           customer_id  order_id  \\\n",
       "0    2018-10-01 00:00:00  ee47d746-6d2f-4d3c-9622-c31412542920     68477   \n",
       "1    2018-10-01 00:00:00  ee47d746-6d2f-4d3c-9622-c31412542920     68477   \n",
       "2    2018-10-01 00:00:00  ee47d746-6d2f-4d3c-9622-c31412542920     68477   \n",
       "3    2018-10-01 00:00:00  ee47d746-6d2f-4d3c-9622-c31412542920     68477   \n",
       "4    2018-10-01 00:00:00  ee47d746-6d2f-4d3c-9622-c31412542920     68477   \n",
       "...                  ...                                   ...       ...   \n",
       "7469 2020-01-30 21:00:00  63208953-a8e4-4f77-9b47-3a46e7b72eee    104002   \n",
       "7470 2020-01-30 22:00:00  d99d25f1-4017-4fcd-8d29-c580cc695a1a    107336   \n",
       "7471 2020-01-31 02:00:00  2c9bd08d-8c55-4e7a-9bfb-8c56ba42c6d6    106336   \n",
       "7472 2020-01-31 12:00:00  cdd17932-623e-415f-a577-3b31312fd0e2    102002   \n",
       "7473 2020-01-31 15:00:00  2e460a26-35af-453d-a369-a036e95a40e0    103225   \n",
       "\n",
       "                                                product  quantity  price  \\\n",
       "0       комнатное растение в горшке алое вера, d12, h30         1  142.0   \n",
       "1     комнатное растение в горшке кофе арабика, d12,...         1  194.0   \n",
       "2                           радермахера d-12 см h-20 см         1  112.0   \n",
       "3                      хризолидокарпус лутесценс d-9 см         1  179.0   \n",
       "4                        циперус зумула d-12 см h-25 см         1  112.0   \n",
       "...                                                 ...       ...    ...   \n",
       "7469  томата (помидор) черниченский черри № 116 сорт...         2   38.0   \n",
       "7470         дендробиум санок анна грин 1 ствол d-12 см         1  869.0   \n",
       "7471  подставка для обуви резиновая attribute 80x40 ...         1  354.0   \n",
       "7472  тагетис крупноцветковый рассада однолетних цве...         1  128.0   \n",
       "7473  вешалка для блузок 41 см красный attribute ahm781         1  104.0   \n",
       "\n",
       "          time  days date_without_time time_str  total_price  \n",
       "0     00:00:00     0        2018-10-01    00:00        142.0  \n",
       "1     00:00:00     0        2018-10-01    00:00        194.0  \n",
       "2     00:00:00     0        2018-10-01    00:00        112.0  \n",
       "3     00:00:00     0        2018-10-01    00:00        179.0  \n",
       "4     00:00:00     0        2018-10-01    00:00        112.0  \n",
       "...        ...   ...               ...      ...          ...  \n",
       "7469  21:00:00     3        2020-01-30    21:00         76.0  \n",
       "7470  22:00:00     3        2020-01-30    22:00        869.0  \n",
       "7471  02:00:00     4        2020-01-31    02:00        354.0  \n",
       "7472  12:00:00     4        2020-01-31    12:00        128.0  \n",
       "7473  15:00:00     4        2020-01-31    15:00        104.0  \n",
       "\n",
       "[5543 rows x 11 columns]"
      ]
     },
     "metadata": {},
     "output_type": "display_data"
    }
   ],
   "source": [
    "data['total_price'] = data['quantity'] * data['price']\n",
    "display(data)"
   ]
  },
  {
   "cell_type": "code",
   "execution_count": 30,
   "metadata": {},
   "outputs": [
    {
     "name": "stdout",
     "output_type": "stream",
     "text": [
      "Общая сумма продаж:  3926279.42\n"
     ]
    }
   ],
   "source": [
    "print('Общая сумма продаж: ', data['total_price'].sum().round(2))"
   ]
  },
  {
   "cell_type": "code",
   "execution_count": 31,
   "metadata": {},
   "outputs": [
    {
     "name": "stdout",
     "output_type": "stream",
     "text": [
      "Средний чек:  1627.810703427308\n"
     ]
    }
   ],
   "source": [
    "print('Средний чек: ', data['total_price'].sum() / len(data['customer_id'].unique()))"
   ]
  },
  {
   "cell_type": "code",
   "execution_count": 32,
   "metadata": {},
   "outputs": [
    {
     "name": "stdout",
     "output_type": "stream",
     "text": [
      "Средняя сумма заказа:  1124.6861691969827\n"
     ]
    }
   ],
   "source": [
    "print('Средняя сумма заказа: ', data['total_price'].sum() / len(data['order_id'].unique()))"
   ]
  },
  {
   "cell_type": "code",
   "execution_count": 33,
   "metadata": {
    "scrolled": true
   },
   "outputs": [
    {
     "data": {
      "image/png": "[encoded data removed]",
      "text/plain": [
       "<Figure size 432x288 with 1 Axes>"
      ]
     },
     "metadata": {
      "needs_background": "light"
     },
     "output_type": "display_data"
    }
   ],
   "source": [
    "data['price'].hist(range=(0, 6000), bins = 100)\n",
    "plt.xlabel('Стоимость')\n",
    "plt.ylabel('Частотность покупок')\n",
    "plt.show(); "
   ]
  },
  {
   "cell_type": "code",
   "execution_count": 34,
   "metadata": {},
   "outputs": [
    {
     "data": {
      "text/plain": [
       "count     5543.000000\n",
       "mean       530.341707\n",
       "std        973.854171\n",
       "min          9.000000\n",
       "25%         90.000000\n",
       "50%        150.000000\n",
       "75%        524.000000\n",
       "max      14917.000000\n",
       "Name: price, dtype: float64"
      ]
     },
     "execution_count": 34,
     "metadata": {},
     "output_type": "execute_result"
    }
   ],
   "source": [
    "data['price'].describe()"
   ]
  },
  {
   "cell_type": "code",
   "execution_count": 35,
   "metadata": {},
   "outputs": [
    {
     "data": {
      "text/plain": [
       "count     5543.000000\n",
       "mean       708.331123\n",
       "std       1656.164452\n",
       "min          9.000000\n",
       "25%        120.000000\n",
       "50%        194.000000\n",
       "75%        734.000000\n",
       "max      49432.000000\n",
       "Name: total_price, dtype: float64"
      ]
     },
     "execution_count": 35,
     "metadata": {},
     "output_type": "execute_result"
    }
   ],
   "source": [
    "data['total_price'].describe()"
   ]
  },
  {
   "cell_type": "markdown",
   "metadata": {},
   "source": [
    "Вывод: Больше всего клиенты покупают продукты стоимостью до 530, а общая сумма заказа в половине случаем составляет до 200. Есть продукты существенно дороже, свыше 2000, а максимальная сумма заказа составляет почти 50.000."
   ]
  },
  {
   "cell_type": "code",
   "execution_count": 36,
   "metadata": {},
   "outputs": [
    {
     "data": {
      "text/html": [
       "<div>\n",
       "<style scoped>\n",
       "    .dataframe tbody tr th:only-of-type {\n",
       "        vertical-align: middle;\n",
       "    }\n",
       "\n",
       "    .dataframe tbody tr th {\n",
       "        vertical-align: top;\n",
       "    }\n",
       "\n",
       "    .dataframe thead th {\n",
       "        text-align: right;\n",
       "    }\n",
       "</style>\n",
       "<table border=\"1\" class=\"dataframe\">\n",
       "  <thead>\n",
       "    <tr style=\"text-align: right;\">\n",
       "      <th></th>\n",
       "      <th>date</th>\n",
       "      <th>customer_id</th>\n",
       "      <th>order_id</th>\n",
       "      <th>product</th>\n",
       "      <th>quantity</th>\n",
       "      <th>price</th>\n",
       "      <th>time</th>\n",
       "      <th>days</th>\n",
       "      <th>date_without_time</th>\n",
       "      <th>time_str</th>\n",
       "      <th>total_price</th>\n",
       "    </tr>\n",
       "  </thead>\n",
       "  <tbody>\n",
       "    <tr>\n",
       "      <th>5992</th>\n",
       "      <td>2019-07-29 17:00:00</td>\n",
       "      <td>0d87f4ae-465a-4fac-81e6-5d629761783e</td>\n",
       "      <td>72139</td>\n",
       "      <td>сушилка уличная leifheit 85210 linomatic v 400...</td>\n",
       "      <td>1</td>\n",
       "      <td>14917.0</td>\n",
       "      <td>17:00:00</td>\n",
       "      <td>0</td>\n",
       "      <td>2019-07-29</td>\n",
       "      <td>17:00</td>\n",
       "      <td>14917.0</td>\n",
       "    </tr>\n",
       "    <tr>\n",
       "      <th>2697</th>\n",
       "      <td>2019-04-05 19:00:00</td>\n",
       "      <td>c0c60544-3a99-49d0-8a8e-cf7f293c22cb</td>\n",
       "      <td>71035</td>\n",
       "      <td>сумка-тележка хозяйственная andersen royal sho...</td>\n",
       "      <td>1</td>\n",
       "      <td>8737.0</td>\n",
       "      <td>19:00:00</td>\n",
       "      <td>4</td>\n",
       "      <td>2019-04-05</td>\n",
       "      <td>19:00</td>\n",
       "      <td>8737.0</td>\n",
       "    </tr>\n",
       "    <tr>\n",
       "      <th>1981</th>\n",
       "      <td>2019-02-24 10:00:00</td>\n",
       "      <td>ac250053-a236-467a-97d2-ddbb9bf4a1ba</td>\n",
       "      <td>70423</td>\n",
       "      <td>сумка-тележка хозяйственная andersen alu star ...</td>\n",
       "      <td>1</td>\n",
       "      <td>8437.0</td>\n",
       "      <td>10:00:00</td>\n",
       "      <td>6</td>\n",
       "      <td>2019-02-24</td>\n",
       "      <td>10:00</td>\n",
       "      <td>8437.0</td>\n",
       "    </tr>\n",
       "    <tr>\n",
       "      <th>2997</th>\n",
       "      <td>2019-04-21 16:00:00</td>\n",
       "      <td>19d904d8-8d16-476d-8f66-b2a3b7a23660</td>\n",
       "      <td>71227</td>\n",
       "      <td>сумка-тележка хозяйственная rolser mnb019 rojo...</td>\n",
       "      <td>1</td>\n",
       "      <td>8077.0</td>\n",
       "      <td>16:00:00</td>\n",
       "      <td>6</td>\n",
       "      <td>2019-04-21</td>\n",
       "      <td>16:00</td>\n",
       "      <td>8077.0</td>\n",
       "    </tr>\n",
       "    <tr>\n",
       "      <th>7436</th>\n",
       "      <td>2020-01-26 19:00:00</td>\n",
       "      <td>04416514-5346-4f90-93e3-fb7365e2ee8c</td>\n",
       "      <td>109758</td>\n",
       "      <td>сумка-тележка хозяйственная rolser mnb019 rojo...</td>\n",
       "      <td>1</td>\n",
       "      <td>8077.0</td>\n",
       "      <td>19:00:00</td>\n",
       "      <td>6</td>\n",
       "      <td>2020-01-26</td>\n",
       "      <td>19:00</td>\n",
       "      <td>8077.0</td>\n",
       "    </tr>\n",
       "  </tbody>\n",
       "</table>\n",
       "</div>"
      ],
      "text/plain": [
       "                    date                           customer_id  order_id  \\\n",
       "5992 2019-07-29 17:00:00  0d87f4ae-465a-4fac-81e6-5d629761783e     72139   \n",
       "2697 2019-04-05 19:00:00  c0c60544-3a99-49d0-8a8e-cf7f293c22cb     71035   \n",
       "1981 2019-02-24 10:00:00  ac250053-a236-467a-97d2-ddbb9bf4a1ba     70423   \n",
       "2997 2019-04-21 16:00:00  19d904d8-8d16-476d-8f66-b2a3b7a23660     71227   \n",
       "7436 2020-01-26 19:00:00  04416514-5346-4f90-93e3-fb7365e2ee8c    109758   \n",
       "\n",
       "                                                product  quantity    price  \\\n",
       "5992  сушилка уличная leifheit 85210 linomatic v 400...         1  14917.0   \n",
       "2697  сумка-тележка хозяйственная andersen royal sho...         1   8737.0   \n",
       "1981  сумка-тележка хозяйственная andersen alu star ...         1   8437.0   \n",
       "2997  сумка-тележка хозяйственная rolser mnb019 rojo...         1   8077.0   \n",
       "7436  сумка-тележка хозяйственная rolser mnb019 rojo...         1   8077.0   \n",
       "\n",
       "          time  days date_without_time time_str  total_price  \n",
       "5992  17:00:00     0        2019-07-29    17:00      14917.0  \n",
       "2697  19:00:00     4        2019-04-05    19:00       8737.0  \n",
       "1981  10:00:00     6        2019-02-24    10:00       8437.0  \n",
       "2997  16:00:00     6        2019-04-21    16:00       8077.0  \n",
       "7436  19:00:00     6        2020-01-26    19:00       8077.0  "
      ]
     },
     "execution_count": 36,
     "metadata": {},
     "output_type": "execute_result"
    }
   ],
   "source": [
    "filtered_data = data[data['price'] >= 2000].sort_values(by='price', ascending=False)\n",
    "filtered_data.head(5) # ознакомился с дорогими продуктами"
   ]
  },
  {
   "cell_type": "code",
   "execution_count": 37,
   "metadata": {
    "scrolled": true
   },
   "outputs": [],
   "source": [
    "#grouped = data.groupby('order_id')['customer_id'].nunique().reset_index()\n",
    "# сгруппирую по order_id и посчитаю уникальных customer_id\n",
    "\n",
    "#result = grouped[grouped['customer_id'] > 1]\n",
    "# отфильтрую order_id, для которых количество уникальных customer_id больше одного\n",
    "\n",
    "#print(result)"
   ]
  },
  {
   "cell_type": "code",
   "execution_count": 38,
   "metadata": {},
   "outputs": [],
   "source": [
    "#row_72845 = data[data['order_id'] == 72845]\n",
    "#display(row_72845) # проверил один из заказов"
   ]
  },
  {
   "cell_type": "markdown",
   "metadata": {},
   "source": [
    "Вывод: У некоторых заказов количество клиентов больше чем 1, скорее всего это ошибка, необходимо уточнять с чем это связано."
   ]
  },
  {
   "cell_type": "markdown",
   "metadata": {},
   "source": [
    "# Шаг 3. Исследовательский анализ данных"
   ]
  },
  {
   "cell_type": "code",
   "execution_count": 39,
   "metadata": {
    "scrolled": true
   },
   "outputs": [
    {
     "data": {
      "text/html": [
       "<div>\n",
       "<style scoped>\n",
       "    .dataframe tbody tr th:only-of-type {\n",
       "        vertical-align: middle;\n",
       "    }\n",
       "\n",
       "    .dataframe tbody tr th {\n",
       "        vertical-align: top;\n",
       "    }\n",
       "\n",
       "    .dataframe thead th {\n",
       "        text-align: right;\n",
       "    }\n",
       "</style>\n",
       "<table border=\"1\" class=\"dataframe\">\n",
       "  <thead>\n",
       "    <tr style=\"text-align: right;\">\n",
       "      <th></th>\n",
       "      <th>date</th>\n",
       "      <th>customer_id</th>\n",
       "      <th>order_id</th>\n",
       "      <th>product</th>\n",
       "      <th>quantity</th>\n",
       "      <th>price</th>\n",
       "      <th>time</th>\n",
       "      <th>days</th>\n",
       "      <th>date_without_time</th>\n",
       "      <th>time_str</th>\n",
       "      <th>total_price</th>\n",
       "      <th>category</th>\n",
       "    </tr>\n",
       "  </thead>\n",
       "  <tbody>\n",
       "    <tr>\n",
       "      <th>1844</th>\n",
       "      <td>2019-02-16 17:00:00</td>\n",
       "      <td>62952c5b-e5ef-4009-a2f9-1ebff401c514</td>\n",
       "      <td>14540</td>\n",
       "      <td>пеларгония розебудная emma укорененный черенок</td>\n",
       "      <td>1</td>\n",
       "      <td>135.0</td>\n",
       "      <td>17:00:00</td>\n",
       "      <td>5</td>\n",
       "      <td>2019-02-16</td>\n",
       "      <td>17:00</td>\n",
       "      <td>135.0</td>\n",
       "      <td>растения</td>\n",
       "    </tr>\n",
       "    <tr>\n",
       "      <th>3973</th>\n",
       "      <td>2019-05-21 10:00:00</td>\n",
       "      <td>4856a2a7-b9d2-4243-b8d9-a96ec1425bbe</td>\n",
       "      <td>14803</td>\n",
       "      <td>капуста цветная альфа в кассете 4 штуки раннес...</td>\n",
       "      <td>1</td>\n",
       "      <td>60.0</td>\n",
       "      <td>10:00:00</td>\n",
       "      <td>1</td>\n",
       "      <td>2019-05-21</td>\n",
       "      <td>10:00</td>\n",
       "      <td>60.0</td>\n",
       "      <td>растения</td>\n",
       "    </tr>\n",
       "    <tr>\n",
       "      <th>1021</th>\n",
       "      <td>2018-11-29 15:00:00</td>\n",
       "      <td>79882c68-b130-4c26-bb33-38ca2f6a6533</td>\n",
       "      <td>69154</td>\n",
       "      <td>гладильная доска ника николь 9 122х40 см</td>\n",
       "      <td>1</td>\n",
       "      <td>1837.0</td>\n",
       "      <td>15:00:00</td>\n",
       "      <td>3</td>\n",
       "      <td>2018-11-29</td>\n",
       "      <td>15:00</td>\n",
       "      <td>1837.0</td>\n",
       "      <td>хозяйственные товары</td>\n",
       "    </tr>\n",
       "    <tr>\n",
       "      <th>6696</th>\n",
       "      <td>2019-10-26 15:00:00</td>\n",
       "      <td>2bbb6b02-0854-4094-ac4a-3d032d9fbd95</td>\n",
       "      <td>73097</td>\n",
       "      <td>сушилка для белья потолочная лиана 1,7 м 1703006</td>\n",
       "      <td>1</td>\n",
       "      <td>562.0</td>\n",
       "      <td>15:00:00</td>\n",
       "      <td>5</td>\n",
       "      <td>2019-10-26</td>\n",
       "      <td>15:00</td>\n",
       "      <td>562.0</td>\n",
       "      <td>хозяйственные товары</td>\n",
       "    </tr>\n",
       "    <tr>\n",
       "      <th>798</th>\n",
       "      <td>2018-11-13 07:00:00</td>\n",
       "      <td>71129bd1-b3d1-4eb2-966e-ad3591ccf2cb</td>\n",
       "      <td>68977</td>\n",
       "      <td>бензин для зажигалок, 1205214</td>\n",
       "      <td>1</td>\n",
       "      <td>67.0</td>\n",
       "      <td>07:00:00</td>\n",
       "      <td>1</td>\n",
       "      <td>2018-11-13</td>\n",
       "      <td>07:00</td>\n",
       "      <td>67.0</td>\n",
       "      <td>кухня</td>\n",
       "    </tr>\n",
       "  </tbody>\n",
       "</table>\n",
       "</div>"
      ],
      "text/plain": [
       "                    date                           customer_id  order_id  \\\n",
       "1844 2019-02-16 17:00:00  62952c5b-e5ef-4009-a2f9-1ebff401c514     14540   \n",
       "3973 2019-05-21 10:00:00  4856a2a7-b9d2-4243-b8d9-a96ec1425bbe     14803   \n",
       "1021 2018-11-29 15:00:00  79882c68-b130-4c26-bb33-38ca2f6a6533     69154   \n",
       "6696 2019-10-26 15:00:00  2bbb6b02-0854-4094-ac4a-3d032d9fbd95     73097   \n",
       "798  2018-11-13 07:00:00  71129bd1-b3d1-4eb2-966e-ad3591ccf2cb     68977   \n",
       "\n",
       "                                                product  quantity   price  \\\n",
       "1844     пеларгония розебудная emma укорененный черенок         1   135.0   \n",
       "3973  капуста цветная альфа в кассете 4 штуки раннес...         1    60.0   \n",
       "1021           гладильная доска ника николь 9 122х40 см         1  1837.0   \n",
       "6696   сушилка для белья потолочная лиана 1,7 м 1703006         1   562.0   \n",
       "798                       бензин для зажигалок, 1205214         1    67.0   \n",
       "\n",
       "          time  days date_without_time time_str  total_price  \\\n",
       "1844  17:00:00     5        2019-02-16    17:00        135.0   \n",
       "3973  10:00:00     1        2019-05-21    10:00         60.0   \n",
       "1021  15:00:00     3        2018-11-29    15:00       1837.0   \n",
       "6696  15:00:00     5        2019-10-26    15:00        562.0   \n",
       "798   07:00:00     1        2018-11-13    07:00         67.0   \n",
       "\n",
       "                  category  \n",
       "1844              растения  \n",
       "3973              растения  \n",
       "1021  хозяйственные товары  \n",
       "6696  хозяйственные товары  \n",
       "798                  кухня  "
      ]
     },
     "execution_count": 39,
     "metadata": {},
     "output_type": "execute_result"
    }
   ],
   "source": [
    "data['category'] = None \n",
    "\n",
    "bags = 'сумк|тележк'\n",
    "data.loc[data['product'].str.contains(bags, case=False, na=False), 'category'] = 'сумки'\n",
    "\n",
    "bedroom = 'одеял|простын|подуш|плед|матрас|мыло|покрывало|спальн|наволочка'\n",
    "data.loc[data['product'].str.contains(bedroom, case=False, na=False), 'category'] = 'спальня'\n",
    "\n",
    "kitchen = 'блюдо|сковород|вилка|тарелк|ложка|фужер|посуд|кувшин|противень|кипятильник|соковыжим|лопатка|стакан|салатн|нож|бокал|чай|разделочная|венчик| \\\n",
    "           столов|банка|круж|толкушка|терка|варка|масл|чистка|салфет|кастрюл|webber|сахар|котел|wilmax|половник|скатерть|столовых|скалка|тортница| \\\n",
    "           кипят|дозатор|зажиг|губка|спираль|миска|термос|хлебница|кухон|кухн|бульон|выпеч|пресс|блюд|орехоколка|картофелемялка|электроштопор'\n",
    "data.loc[data['product'].str.contains(kitchen, case=False, na=False), 'category'] = 'кухня'\n",
    "\n",
    "bathroom = 'ванн|полотен|ёрш|ерш|зуб|вантуз|халат|подголовник|маска'\n",
    "data.loc[data['product'].str.contains(bathroom, case=False, na=False), 'category'] = 'ванная комната'\n",
    "\n",
    "storage = 'чехол|полки|вешал|плечик|стеллаж|хранен|крючок|этажерка|комод|подставка|полка|кофр|лоток'\n",
    "data.loc[data['product'].str.contains(storage, case=False, na=False), 'category'] = 'хранение вещей'\n",
    "\n",
    "plants = 'растение|пеларгония|помидор|герань|петуния|черенок|горшке|бакопа|кассете|калибрахоа|базилик|платикодон|георгина|виноград|петрушка|томат|седум|рудбекия|седун|физостегия|пиретрум|виола|тюльпан|лен| \\\n",
    "          лобелия|фуксия|ясколка|вербена|цветк|смесь|микс|земляника|клубника|ель|упаков|укроп|d-|камнеломка|примула|цинния|энотера|флокс|календула|вербейник|лапчатка| \\\n",
    "          вербейник|колокольчик|цикламен|барвинок|дыня|овсянница|папоротник|кипарис|бегония|осина|анемона|солидаго|арбуз|алиссум|монарда|космея|гвоздика|котовник|настурция|кореопсис|бадан'\n",
    "data.loc[data['product'].str.contains(plants, case=False, na=False), 'category'] = 'растения'\n",
    "\n",
    "container = 'корыт|таз|контейнер|бак|мусор|ведр|урна|корзин|бидон|ковш|коробка|емкость'\n",
    "data.loc[data['product'].str.contains(container, case=False, na=False), 'category'] = 'емкости'\n",
    "\n",
    "instrument = 'инструмент|сверел|сверло|напильник|стремянк|стяжк|шпингалет|сварка|миксер|крепеж|пружин|петл|линейк|гои|шило|штангенциркуль'\n",
    "data.loc[data['product'].str.contains(instrument, case=False, na=False), 'category'] = 'инструменты'\n",
    "\n",
    "seedlings = 'рассада| г '\n",
    "data.loc[data['product'].str.contains(seedlings, case=False, na=False), 'category'] = 'рассада'\n",
    "\n",
    "dummy = 'муляж|искусственн|композиц'\n",
    "data.loc[data['product'].str.contains(dummy, case=False, na=False), 'category'] = 'муляж'\n",
    "\n",
    "house = 'покрытие|перчат|почтов|ковр|ткан|штор|ковер|термометр|ковёр|светил|весы|фоторамка|ваза|ключница|пуф|обувница|решетка|пробк|ручка|фиксатор'\n",
    "data.loc[data['product'].str.contains(house, case=False, na=False), 'category'] = 'дом'\n",
    "\n",
    "household = 'тряп|швабр|совок|скребок|гладил|глажен|фал|ролик|прищеп|шнур|налет|антижир|насадка|пылесос|крем|стир|кашпо|щетка|сушилк|веник|антинакипин|подрукавник|совком|фен|для чистки|стирки|мыть|средство|мойк'\n",
    "data.loc[data['product'].str.contains(household, case=False, na=False), 'category'] = 'хозяйственные товары'\n",
    "\n",
    "data.sample(5)"
   ]
  },
  {
   "cell_type": "code",
   "execution_count": 40,
   "metadata": {},
   "outputs": [
    {
     "name": "stdout",
     "output_type": "stream",
     "text": [
      "Empty DataFrame\n",
      "Columns: [date, customer_id, order_id, product, quantity, price, time, days, date_without_time, time_str, total_price, category]\n",
      "Index: []\n"
     ]
    }
   ],
   "source": [
    "print(data[data['category'].isnull()]) \n",
    "# проверил наличие строк без указания категории"
   ]
  },
  {
   "cell_type": "code",
   "execution_count": 41,
   "metadata": {},
   "outputs": [
    {
     "name": "stdout",
     "output_type": "stream",
     "text": [
      "\n",
      "Строк без категории: 0\n"
     ]
    }
   ],
   "source": [
    "print('\\nСтрок без категории: {}'.format(len(data[data['category'].isnull()]))) \n",
    "# проверил сколько осталось строк без категории"
   ]
  },
  {
   "cell_type": "code",
   "execution_count": 42,
   "metadata": {
    "scrolled": true
   },
   "outputs": [
    {
     "name": "stdout",
     "output_type": "stream",
     "text": [
      "                category  total_price percent\n",
      "10  хозяйственные товары       945620  24.10%\n",
      "9                  сумки       792213  20.20%\n",
      "7               растения       555335  14.10%\n",
      "1                    дом       354783   9.00%\n",
      "4                  кухня       304560   7.80%\n",
      "11        хранение вещей       245029   6.20%\n",
      "2                емкости       238699   6.10%\n",
      "3            инструменты       155419   4.00%\n",
      "6                рассада       116468   3.00%\n",
      "5                  муляж       112437   2.90%\n",
      "8                спальня        54766   1.40%\n",
      "0         ванная комната        50948   1.30%\n"
     ]
    }
   ],
   "source": [
    "category_share = data.groupby('category').agg({'total_price': 'sum'}).reset_index()\n",
    "category_share.columns = ['category', 'total_price']\n",
    "\n",
    "total_price_sum = category_share['total_price'].sum()\n",
    "category_share['percent'] = (category_share['total_price'] / total_price_sum).round(3)\n",
    "category_share = category_share.sort_values(by='percent', ascending=False)\n",
    "category_share['percent'] = category_share['percent'].map('{:.2%}'.format)\n",
    "category_share['total_price'] = category_share['total_price'].astype(int)\n",
    "\n",
    "print(category_share)"
   ]
  },
  {
   "cell_type": "code",
   "execution_count": 43,
   "metadata": {
    "scrolled": true
   },
   "outputs": [
    {
     "data": {
      "image/png": "[encoded data removed]",
      "text/plain": [
       "<Figure size 576x576 with 1 Axes>"
      ]
     },
     "metadata": {},
     "output_type": "display_data"
    }
   ],
   "source": [
    "category_share['percent'] = category_share['percent'].str.rstrip('%').astype('float') / 100\n",
    "\n",
    "plt.figure(figsize=(8, 8))\n",
    "plt.pie(category_share['percent'], labels=category_share['category'], autopct='%1.1f%%', startangle=140, normalize=True)\n",
    "plt.title('Доли категорий')\n",
    "plt.show()"
   ]
  },
  {
   "cell_type": "markdown",
   "metadata": {},
   "source": [
    "Вывод: получилось 12 категорий, больше всего выручка в категории хозяйственные товары и сумки, меньше всего выручка с товарами для спальни и ванной комнаты."
   ]
  },
  {
   "cell_type": "code",
   "execution_count": 44,
   "metadata": {
    "scrolled": true
   },
   "outputs": [
    {
     "data": {
      "image/png": "[encoded data removed]",
      "text/plain": [
       "<Figure size 720x432 with 1 Axes>"
      ]
     },
     "metadata": {
      "needs_background": "light"
     },
     "output_type": "display_data"
    }
   ],
   "source": [
    "data_monthly = data.groupby(data['date'].dt.to_period('M')).sum().reset_index()\n",
    "\n",
    "\n",
    "data_2018 = data_monthly[(data_monthly['date'].dt.year == 2018) & (data_monthly['date'].dt.month >= 10) & (data_monthly['date'].dt.month <= 12)]\n",
    "data_2019 = data_monthly[(data_monthly['date'].dt.year == 2019) & (data_monthly['date'].dt.month >= 10) & (data_monthly['date'].dt.month <= 12)]\n",
    "# отфильтрую данные по периодам\n",
    "\n",
    "plt.figure(figsize=(10, 6))\n",
    "\n",
    "plt.bar(data_2018['date'].dt.strftime('%Y-%m'), data_2018['total_price'], label='2018', alpha=0.7)\n",
    "plt.bar(data_2019['date'].dt.strftime('%Y-%m'), data_2019['total_price'], label='2019', alpha=0.7)\n",
    "\n",
    "plt.title('Выручка за периоды 10.2018 - 12.2018 и 10.2019 - 12.2019')\n",
    "plt.xlabel('Дата')\n",
    "plt.ylabel('Выручка')\n",
    "plt.legend()\n",
    "plt.grid(True)\n",
    "plt.show()"
   ]
  },
  {
   "cell_type": "markdown",
   "metadata": {},
   "source": [
    "Вывод: Выручка за период с 10-2019 по 12-2019 значительно снизилась по сравнению с выручкой за аналагичный период с 10-2018 по 12-2019."
   ]
  },
  {
   "cell_type": "code",
   "execution_count": 45,
   "metadata": {
    "scrolled": true
   },
   "outputs": [
    {
     "data": {
      "image/png": "[encoded data removed]",
      "text/plain": [
       "<Figure size 864x720 with 2 Axes>"
      ]
     },
     "metadata": {
      "needs_background": "light"
     },
     "output_type": "display_data"
    }
   ],
   "source": [
    "# сгруппирую данные по месяцам и категориям, посчитаю сумму total_price\n",
    "data_monthly_category = data.groupby([data['date'].dt.to_period('M'), 'category']).sum().reset_index()\n",
    "\n",
    "# отфильтрую данные по периодам за 2018 и за 2019 год\n",
    "data_2018 = data_monthly_category[(data_monthly_category['date'].dt.year == 2018) & (data_monthly_category['date'].dt.month >= 10) & (data_monthly_category['date'].dt.month <= 12)]\n",
    "data_2019 = data_monthly_category[(data_monthly_category['date'].dt.year == 2019) & (data_monthly_category['date'].dt.month >= 10) & (data_monthly_category['date'].dt.month <= 12)]\n",
    "\n",
    "fig, axes = plt.subplots(nrows=2, ncols=1, figsize=(12, 10), sharey=True)\n",
    "\n",
    "# график для 2018 года\n",
    "data_2018.pivot(index='date', columns='category', values='total_price').plot(kind='bar', ax=axes[0], width=0.8)\n",
    "axes[0].set_title('Выручка по категориям за период 10.2018 - 12.2018')\n",
    "axes[0].set_xlabel('Дата')\n",
    "axes[0].set_ylabel('Выручка')\n",
    "axes[0].legend(title='Категория')\n",
    "\n",
    "# график для 2019 года\n",
    "data_2019.pivot(index='date', columns='category', values='total_price').plot(kind='bar', ax=axes[1], width=0.8)\n",
    "axes[1].set_title('Выручка по категориям за период 10.2019 - 12.2019')\n",
    "axes[1].set_xlabel('Дата')\n",
    "axes[1].set_ylabel('Выручка')\n",
    "axes[1].legend(title='Категория')\n",
    "\n",
    "plt.tight_layout()\n",
    "plt.show()"
   ]
  },
  {
   "cell_type": "markdown",
   "metadata": {},
   "source": [
    "Вывод: Заметно снизилась выручка в категориях хозяйственные товары, сумки, растения, кухня, дом. Практически все категории показали снижение."
   ]
  },
  {
   "cell_type": "markdown",
   "metadata": {},
   "source": [
    "# Шаг 4. Сегментировать покупателей по профилю потребления"
   ]
  },
  {
   "cell_type": "markdown",
   "metadata": {},
   "source": [
    "- Времени, которое прошло с покупки. Для разных продуктов давность оценивается по-своему. Возьмем для исследования топ-1 категорию - хозяйственные товары. "
   ]
  },
  {
   "cell_type": "code",
   "execution_count": 46,
   "metadata": {},
   "outputs": [
    {
     "data": {
      "text/html": [
       "<div>\n",
       "<style scoped>\n",
       "    .dataframe tbody tr th:only-of-type {\n",
       "        vertical-align: middle;\n",
       "    }\n",
       "\n",
       "    .dataframe tbody tr th {\n",
       "        vertical-align: top;\n",
       "    }\n",
       "\n",
       "    .dataframe thead th {\n",
       "        text-align: right;\n",
       "    }\n",
       "</style>\n",
       "<table border=\"1\" class=\"dataframe\">\n",
       "  <thead>\n",
       "    <tr style=\"text-align: right;\">\n",
       "      <th></th>\n",
       "      <th>customer_id</th>\n",
       "      <th>max_date_without_time</th>\n",
       "      <th>order_id_count</th>\n",
       "      <th>total_price_sum</th>\n",
       "      <th>avg_cash_receipt</th>\n",
       "    </tr>\n",
       "  </thead>\n",
       "  <tbody>\n",
       "    <tr>\n",
       "      <th>1928</th>\n",
       "      <td>cdd17932-623e-415f-a577-3b31312fd0e2</td>\n",
       "      <td>2020-01-31</td>\n",
       "      <td>2</td>\n",
       "      <td>727.0</td>\n",
       "      <td>363.5</td>\n",
       "    </tr>\n",
       "    <tr>\n",
       "      <th>433</th>\n",
       "      <td>2e460a26-35af-453d-a369-a036e95a40e0</td>\n",
       "      <td>2020-01-31</td>\n",
       "      <td>2</td>\n",
       "      <td>223.0</td>\n",
       "      <td>111.5</td>\n",
       "    </tr>\n",
       "    <tr>\n",
       "      <th>421</th>\n",
       "      <td>2c9bd08d-8c55-4e7a-9bfb-8c56ba42c6d6</td>\n",
       "      <td>2020-01-31</td>\n",
       "      <td>2</td>\n",
       "      <td>953.0</td>\n",
       "      <td>476.5</td>\n",
       "    </tr>\n",
       "    <tr>\n",
       "      <th>2044</th>\n",
       "      <td>d99d25f1-4017-4fcd-8d29-c580cc695a1a</td>\n",
       "      <td>2020-01-30</td>\n",
       "      <td>2</td>\n",
       "      <td>1993.0</td>\n",
       "      <td>996.5</td>\n",
       "    </tr>\n",
       "    <tr>\n",
       "      <th>522</th>\n",
       "      <td>370ed405-57f6-4eff-ab2e-a0bacab6e982</td>\n",
       "      <td>2020-01-30</td>\n",
       "      <td>2</td>\n",
       "      <td>231.0</td>\n",
       "      <td>115.5</td>\n",
       "    </tr>\n",
       "  </tbody>\n",
       "</table>\n",
       "</div>"
      ],
      "text/plain": [
       "                               customer_id max_date_without_time  \\\n",
       "1928  cdd17932-623e-415f-a577-3b31312fd0e2            2020-01-31   \n",
       "433   2e460a26-35af-453d-a369-a036e95a40e0            2020-01-31   \n",
       "421   2c9bd08d-8c55-4e7a-9bfb-8c56ba42c6d6            2020-01-31   \n",
       "2044  d99d25f1-4017-4fcd-8d29-c580cc695a1a            2020-01-30   \n",
       "522   370ed405-57f6-4eff-ab2e-a0bacab6e982            2020-01-30   \n",
       "\n",
       "      order_id_count  total_price_sum  avg_cash_receipt  \n",
       "1928               2            727.0             363.5  \n",
       "433                2            223.0             111.5  \n",
       "421                2            953.0             476.5  \n",
       "2044               2           1993.0             996.5  \n",
       "522                2            231.0             115.5  "
      ]
     },
     "metadata": {},
     "output_type": "display_data"
    }
   ],
   "source": [
    "grouped_data = data.groupby('customer_id').agg({\n",
    "    'date_without_time': 'max',  # Максимальное значение date_without_time\n",
    "    'order_id': 'count',       # Количество уникальных order_id\n",
    "    'total_price': 'sum'         # Сумма total_price\n",
    "}).reset_index()\n",
    "# cгруппирую данные\n",
    "\n",
    "grouped_data.columns = ['customer_id', 'max_date_without_time', 'order_id_count', 'total_price_sum']\n",
    "grouped_data['avg_cash_receipt'] = grouped_data['total_price_sum'] / grouped_data['order_id_count']\n",
    "sorted_data = grouped_data.sort_values(by='max_date_without_time', ascending=False)\n",
    "\n",
    "# Проверка результата\n",
    "display(sorted_data.head(5))"
   ]
  },
  {
   "cell_type": "code",
   "execution_count": 47,
   "metadata": {
    "scrolled": true
   },
   "outputs": [
    {
     "data": {
      "text/html": [
       "<div>\n",
       "<style scoped>\n",
       "    .dataframe tbody tr th:only-of-type {\n",
       "        vertical-align: middle;\n",
       "    }\n",
       "\n",
       "    .dataframe tbody tr th {\n",
       "        vertical-align: top;\n",
       "    }\n",
       "\n",
       "    .dataframe thead th {\n",
       "        text-align: right;\n",
       "    }\n",
       "</style>\n",
       "<table border=\"1\" class=\"dataframe\">\n",
       "  <thead>\n",
       "    <tr style=\"text-align: right;\">\n",
       "      <th></th>\n",
       "      <th>order_id_count</th>\n",
       "      <th>total_price_sum</th>\n",
       "      <th>avg_cash_receipt</th>\n",
       "    </tr>\n",
       "  </thead>\n",
       "  <tbody>\n",
       "    <tr>\n",
       "      <th>count</th>\n",
       "      <td>2412.000000</td>\n",
       "      <td>2412.000000</td>\n",
       "      <td>2412.000000</td>\n",
       "    </tr>\n",
       "    <tr>\n",
       "      <th>mean</th>\n",
       "      <td>2.298093</td>\n",
       "      <td>1627.810703</td>\n",
       "      <td>1007.602757</td>\n",
       "    </tr>\n",
       "    <tr>\n",
       "      <th>std</th>\n",
       "      <td>4.403284</td>\n",
       "      <td>4342.082317</td>\n",
       "      <td>1920.254056</td>\n",
       "    </tr>\n",
       "    <tr>\n",
       "      <th>min</th>\n",
       "      <td>1.000000</td>\n",
       "      <td>15.000000</td>\n",
       "      <td>15.000000</td>\n",
       "    </tr>\n",
       "    <tr>\n",
       "      <th>25%</th>\n",
       "      <td>1.000000</td>\n",
       "      <td>394.500000</td>\n",
       "      <td>200.000000</td>\n",
       "    </tr>\n",
       "    <tr>\n",
       "      <th>50%</th>\n",
       "      <td>1.000000</td>\n",
       "      <td>838.500000</td>\n",
       "      <td>509.000000</td>\n",
       "    </tr>\n",
       "    <tr>\n",
       "      <th>75%</th>\n",
       "      <td>2.000000</td>\n",
       "      <td>1799.000000</td>\n",
       "      <td>1087.000000</td>\n",
       "    </tr>\n",
       "    <tr>\n",
       "      <th>max</th>\n",
       "      <td>143.000000</td>\n",
       "      <td>159508.000000</td>\n",
       "      <td>49432.000000</td>\n",
       "    </tr>\n",
       "  </tbody>\n",
       "</table>\n",
       "</div>"
      ],
      "text/plain": [
       "       order_id_count  total_price_sum  avg_cash_receipt\n",
       "count     2412.000000      2412.000000       2412.000000\n",
       "mean         2.298093      1627.810703       1007.602757\n",
       "std          4.403284      4342.082317       1920.254056\n",
       "min          1.000000        15.000000         15.000000\n",
       "25%          1.000000       394.500000        200.000000\n",
       "50%          1.000000       838.500000        509.000000\n",
       "75%          2.000000      1799.000000       1087.000000\n",
       "max        143.000000    159508.000000      49432.000000"
      ]
     },
     "execution_count": 47,
     "metadata": {},
     "output_type": "execute_result"
    }
   ],
   "source": [
    "sorted_data.describe()"
   ]
  },
  {
   "cell_type": "markdown",
   "metadata": {},
   "source": [
    "# Оценим каждый сегмент по сумме баллов:\n",
    "- Давность заказа: 1 — давние от 4-ех и больше месяцев, 2 — «спящие» - до от 2-ух до 4-ех месяцев, 3 — недавние - до 2-ух месяцев;\n",
    "- Частота покупок: 1 — разовые - 1 заказ, 2 — редкие - 2 заказа, 3 — частые - 3 заказа и больше;\n",
    "- Сумма покупок: 1 — низкий чек - до 500, 2 — средний чек - от 500 до 1000, 3 — высокий чек - от 1000."
   ]
  },
  {
   "cell_type": "code",
   "execution_count": 48,
   "metadata": {},
   "outputs": [
    {
     "data": {
      "text/html": [
       "<div>\n",
       "<style scoped>\n",
       "    .dataframe tbody tr th:only-of-type {\n",
       "        vertical-align: middle;\n",
       "    }\n",
       "\n",
       "    .dataframe tbody tr th {\n",
       "        vertical-align: top;\n",
       "    }\n",
       "\n",
       "    .dataframe thead th {\n",
       "        text-align: right;\n",
       "    }\n",
       "</style>\n",
       "<table border=\"1\" class=\"dataframe\">\n",
       "  <thead>\n",
       "    <tr style=\"text-align: right;\">\n",
       "      <th></th>\n",
       "      <th>customer_id</th>\n",
       "      <th>max_date_without_time</th>\n",
       "      <th>order_id_count</th>\n",
       "      <th>total_price_sum</th>\n",
       "      <th>avg_cash_receipt</th>\n",
       "      <th>recency</th>\n",
       "    </tr>\n",
       "  </thead>\n",
       "  <tbody>\n",
       "    <tr>\n",
       "      <th>1916</th>\n",
       "      <td>ccb9a747-30d3-4036-8050-0384b55d7d77</td>\n",
       "      <td>2019-12-31</td>\n",
       "      <td>2</td>\n",
       "      <td>3112.0</td>\n",
       "      <td>1556.000000</td>\n",
       "      <td>3</td>\n",
       "    </tr>\n",
       "    <tr>\n",
       "      <th>633</th>\n",
       "      <td>42f210be-2e9c-43fa-b65a-e7891d90b98b</td>\n",
       "      <td>2019-04-16</td>\n",
       "      <td>3</td>\n",
       "      <td>434.0</td>\n",
       "      <td>144.666667</td>\n",
       "      <td>1</td>\n",
       "    </tr>\n",
       "    <tr>\n",
       "      <th>172</th>\n",
       "      <td>11fa97e3-7882-47f9-92fa-9a9332ec8615</td>\n",
       "      <td>2018-10-21</td>\n",
       "      <td>2</td>\n",
       "      <td>2923.0</td>\n",
       "      <td>1461.500000</td>\n",
       "      <td>1</td>\n",
       "    </tr>\n",
       "    <tr>\n",
       "      <th>878</th>\n",
       "      <td>5ec85e49-1721-4398-8a1f-636ca03df853</td>\n",
       "      <td>2019-12-02</td>\n",
       "      <td>2</td>\n",
       "      <td>3628.0</td>\n",
       "      <td>1814.000000</td>\n",
       "      <td>2</td>\n",
       "    </tr>\n",
       "    <tr>\n",
       "      <th>129</th>\n",
       "      <td>0d4d02d0-46e7-4219-aa8c-49b180d6aa30</td>\n",
       "      <td>2019-07-05</td>\n",
       "      <td>1</td>\n",
       "      <td>88.0</td>\n",
       "      <td>88.000000</td>\n",
       "      <td>1</td>\n",
       "    </tr>\n",
       "  </tbody>\n",
       "</table>\n",
       "</div>"
      ],
      "text/plain": [
       "                               customer_id max_date_without_time  \\\n",
       "1916  ccb9a747-30d3-4036-8050-0384b55d7d77            2019-12-31   \n",
       "633   42f210be-2e9c-43fa-b65a-e7891d90b98b            2019-04-16   \n",
       "172   11fa97e3-7882-47f9-92fa-9a9332ec8615            2018-10-21   \n",
       "878   5ec85e49-1721-4398-8a1f-636ca03df853            2019-12-02   \n",
       "129   0d4d02d0-46e7-4219-aa8c-49b180d6aa30            2019-07-05   \n",
       "\n",
       "      order_id_count  total_price_sum  avg_cash_receipt recency  \n",
       "1916               2           3112.0       1556.000000       3  \n",
       "633                3            434.0        144.666667       1  \n",
       "172                2           2923.0       1461.500000       1  \n",
       "878                2           3628.0       1814.000000       2  \n",
       "129                1             88.0         88.000000       1  "
      ]
     },
     "metadata": {},
     "output_type": "display_data"
    }
   ],
   "source": [
    "start_date = datetime.strptime('2020-01-31', '%Y-%m-%d').date() # максимальная дата в данных, от нее вычетаем периоды\n",
    "\n",
    "def categorize_recency(max_date):\n",
    "    days_since_last_order = (start_date - max_date).days\n",
    "    if days_since_last_order >= 120: \n",
    "        return '1'\n",
    "    elif days_since_last_order >= 60:\n",
    "        return '2'\n",
    "    else:\n",
    "        return '3'\n",
    "\n",
    "sorted_data['recency'] = sorted_data['max_date_without_time'].apply(categorize_recency)\n",
    "\n",
    "display(sorted_data.sample(5))"
   ]
  },
  {
   "cell_type": "code",
   "execution_count": 49,
   "metadata": {},
   "outputs": [
    {
     "data": {
      "text/html": [
       "<div>\n",
       "<style scoped>\n",
       "    .dataframe tbody tr th:only-of-type {\n",
       "        vertical-align: middle;\n",
       "    }\n",
       "\n",
       "    .dataframe tbody tr th {\n",
       "        vertical-align: top;\n",
       "    }\n",
       "\n",
       "    .dataframe thead th {\n",
       "        text-align: right;\n",
       "    }\n",
       "</style>\n",
       "<table border=\"1\" class=\"dataframe\">\n",
       "  <thead>\n",
       "    <tr style=\"text-align: right;\">\n",
       "      <th></th>\n",
       "      <th>customer_id</th>\n",
       "      <th>max_date_without_time</th>\n",
       "      <th>order_id_count</th>\n",
       "      <th>total_price_sum</th>\n",
       "      <th>avg_cash_receipt</th>\n",
       "      <th>recency</th>\n",
       "      <th>frequency</th>\n",
       "    </tr>\n",
       "  </thead>\n",
       "  <tbody>\n",
       "    <tr>\n",
       "      <th>2300</th>\n",
       "      <td>f3f12a44-8b82-4850-899f-69130c366f0f</td>\n",
       "      <td>2019-09-15</td>\n",
       "      <td>1</td>\n",
       "      <td>29.0</td>\n",
       "      <td>29.0</td>\n",
       "      <td>1</td>\n",
       "      <td>1</td>\n",
       "    </tr>\n",
       "    <tr>\n",
       "      <th>607</th>\n",
       "      <td>3fab0e36-df21-484a-9a52-6d24890bf44f</td>\n",
       "      <td>2019-12-07</td>\n",
       "      <td>2</td>\n",
       "      <td>3585.0</td>\n",
       "      <td>1792.5</td>\n",
       "      <td>3</td>\n",
       "      <td>2</td>\n",
       "    </tr>\n",
       "    <tr>\n",
       "      <th>1249</th>\n",
       "      <td>8777b241-fe5c-4189-9673-599b12a6d3ab</td>\n",
       "      <td>2020-01-02</td>\n",
       "      <td>2</td>\n",
       "      <td>456.0</td>\n",
       "      <td>228.0</td>\n",
       "      <td>3</td>\n",
       "      <td>2</td>\n",
       "    </tr>\n",
       "    <tr>\n",
       "      <th>2346</th>\n",
       "      <td>f909dc01-f7f6-4217-a842-958e0d06c9f4</td>\n",
       "      <td>2019-04-13</td>\n",
       "      <td>2</td>\n",
       "      <td>2096.0</td>\n",
       "      <td>1048.0</td>\n",
       "      <td>1</td>\n",
       "      <td>2</td>\n",
       "    </tr>\n",
       "    <tr>\n",
       "      <th>181</th>\n",
       "      <td>12d7bb33-250b-4615-b609-448c4d3c945e</td>\n",
       "      <td>2019-07-17</td>\n",
       "      <td>1</td>\n",
       "      <td>1874.0</td>\n",
       "      <td>1874.0</td>\n",
       "      <td>1</td>\n",
       "      <td>1</td>\n",
       "    </tr>\n",
       "  </tbody>\n",
       "</table>\n",
       "</div>"
      ],
      "text/plain": [
       "                               customer_id max_date_without_time  \\\n",
       "2300  f3f12a44-8b82-4850-899f-69130c366f0f            2019-09-15   \n",
       "607   3fab0e36-df21-484a-9a52-6d24890bf44f            2019-12-07   \n",
       "1249  8777b241-fe5c-4189-9673-599b12a6d3ab            2020-01-02   \n",
       "2346  f909dc01-f7f6-4217-a842-958e0d06c9f4            2019-04-13   \n",
       "181   12d7bb33-250b-4615-b609-448c4d3c945e            2019-07-17   \n",
       "\n",
       "      order_id_count  total_price_sum  avg_cash_receipt recency frequency  \n",
       "2300               1             29.0              29.0       1         1  \n",
       "607                2           3585.0            1792.5       3         2  \n",
       "1249               2            456.0             228.0       3         2  \n",
       "2346               2           2096.0            1048.0       1         2  \n",
       "181                1           1874.0            1874.0       1         1  "
      ]
     },
     "metadata": {},
     "output_type": "display_data"
    }
   ],
   "source": [
    "sorted_data['frequency'] = pd.cut(sorted_data['order_id_count'], bins=[1, 2, 3, float('inf')], labels=['1', '2', '3'], right=False)\n",
    "display(sorted_data.sample(5))"
   ]
  },
  {
   "cell_type": "code",
   "execution_count": 50,
   "metadata": {
    "scrolled": true
   },
   "outputs": [
    {
     "data": {
      "text/html": [
       "<div>\n",
       "<style scoped>\n",
       "    .dataframe tbody tr th:only-of-type {\n",
       "        vertical-align: middle;\n",
       "    }\n",
       "\n",
       "    .dataframe tbody tr th {\n",
       "        vertical-align: top;\n",
       "    }\n",
       "\n",
       "    .dataframe thead th {\n",
       "        text-align: right;\n",
       "    }\n",
       "</style>\n",
       "<table border=\"1\" class=\"dataframe\">\n",
       "  <thead>\n",
       "    <tr style=\"text-align: right;\">\n",
       "      <th></th>\n",
       "      <th>customer_id</th>\n",
       "      <th>max_date_without_time</th>\n",
       "      <th>order_id_count</th>\n",
       "      <th>total_price_sum</th>\n",
       "      <th>avg_cash_receipt</th>\n",
       "      <th>recency</th>\n",
       "      <th>frequency</th>\n",
       "      <th>monetary</th>\n",
       "    </tr>\n",
       "  </thead>\n",
       "  <tbody>\n",
       "    <tr>\n",
       "      <th>1785</th>\n",
       "      <td>be6152d8-9303-4bd4-8f7f-0b5365f522f3</td>\n",
       "      <td>2018-12-18</td>\n",
       "      <td>1</td>\n",
       "      <td>52.0</td>\n",
       "      <td>52.00</td>\n",
       "      <td>1</td>\n",
       "      <td>1</td>\n",
       "      <td>1</td>\n",
       "    </tr>\n",
       "    <tr>\n",
       "      <th>1880</th>\n",
       "      <td>c90a3413-aed0-4d3c-892f-f9def8cc50f2</td>\n",
       "      <td>2019-08-27</td>\n",
       "      <td>1</td>\n",
       "      <td>164.0</td>\n",
       "      <td>164.00</td>\n",
       "      <td>1</td>\n",
       "      <td>1</td>\n",
       "      <td>1</td>\n",
       "    </tr>\n",
       "    <tr>\n",
       "      <th>1938</th>\n",
       "      <td>cf2b0635-67bb-423b-85a4-a342c58bd1ca</td>\n",
       "      <td>2019-11-27</td>\n",
       "      <td>2</td>\n",
       "      <td>456.0</td>\n",
       "      <td>228.00</td>\n",
       "      <td>2</td>\n",
       "      <td>2</td>\n",
       "      <td>1</td>\n",
       "    </tr>\n",
       "    <tr>\n",
       "      <th>39</th>\n",
       "      <td>036d75ea-b633-41a8-8974-3f84fee8c65e</td>\n",
       "      <td>2019-12-23</td>\n",
       "      <td>2</td>\n",
       "      <td>2743.5</td>\n",
       "      <td>1371.75</td>\n",
       "      <td>3</td>\n",
       "      <td>2</td>\n",
       "      <td>3</td>\n",
       "    </tr>\n",
       "    <tr>\n",
       "      <th>916</th>\n",
       "      <td>62f1e9ea-c828-4287-b234-86f56491201a</td>\n",
       "      <td>2019-04-23</td>\n",
       "      <td>1</td>\n",
       "      <td>475.0</td>\n",
       "      <td>475.00</td>\n",
       "      <td>1</td>\n",
       "      <td>1</td>\n",
       "      <td>1</td>\n",
       "    </tr>\n",
       "  </tbody>\n",
       "</table>\n",
       "</div>"
      ],
      "text/plain": [
       "                               customer_id max_date_without_time  \\\n",
       "1785  be6152d8-9303-4bd4-8f7f-0b5365f522f3            2018-12-18   \n",
       "1880  c90a3413-aed0-4d3c-892f-f9def8cc50f2            2019-08-27   \n",
       "1938  cf2b0635-67bb-423b-85a4-a342c58bd1ca            2019-11-27   \n",
       "39    036d75ea-b633-41a8-8974-3f84fee8c65e            2019-12-23   \n",
       "916   62f1e9ea-c828-4287-b234-86f56491201a            2019-04-23   \n",
       "\n",
       "      order_id_count  total_price_sum  avg_cash_receipt recency frequency  \\\n",
       "1785               1             52.0             52.00       1         1   \n",
       "1880               1            164.0            164.00       1         1   \n",
       "1938               2            456.0            228.00       2         2   \n",
       "39                 2           2743.5           1371.75       3         2   \n",
       "916                1            475.0            475.00       1         1   \n",
       "\n",
       "     monetary  \n",
       "1785        1  \n",
       "1880        1  \n",
       "1938        1  \n",
       "39          3  \n",
       "916         1  "
      ]
     },
     "metadata": {},
     "output_type": "display_data"
    }
   ],
   "source": [
    "sorted_data['monetary'] = pd.cut(sorted_data['avg_cash_receipt'], bins=[0, 500, 1000, float('inf')], labels=['1', '2', '3'], right=False)\n",
    "display(sorted_data.sample(5))"
   ]
  },
  {
   "cell_type": "markdown",
   "metadata": {},
   "source": [
    "# С помощью суммы значений столбцов: recency, frequency и monetary, можем сегментировать клиентов.\n",
    "- Если сумма значений = 3 - потерянные клиенты, от 4-5 - потерянные лояльные клиенты, 6-7 - лояльные клиенты, 8-9 - VIP клиенты.\n",
    "Можно сделать более детальную сегментацию, для этого нужно будет выявить сезонность в продуктах и исследовать эти периоды и поведение клиентов в них, возможно есть постоянные клиенты, которые из года в год покупают рассаду только в нашем магазине, возможно есть клиенты, которые покупают новые сумки перед каждым путешествием только в нашем магазине."
   ]
  },
  {
   "cell_type": "code",
   "execution_count": 51,
   "metadata": {
    "scrolled": true
   },
   "outputs": [
    {
     "data": {
      "text/html": [
       "<div>\n",
       "<style scoped>\n",
       "    .dataframe tbody tr th:only-of-type {\n",
       "        vertical-align: middle;\n",
       "    }\n",
       "\n",
       "    .dataframe tbody tr th {\n",
       "        vertical-align: top;\n",
       "    }\n",
       "\n",
       "    .dataframe thead th {\n",
       "        text-align: right;\n",
       "    }\n",
       "</style>\n",
       "<table border=\"1\" class=\"dataframe\">\n",
       "  <thead>\n",
       "    <tr style=\"text-align: right;\">\n",
       "      <th></th>\n",
       "      <th>customer_id</th>\n",
       "      <th>max_date_without_time</th>\n",
       "      <th>order_id_count</th>\n",
       "      <th>total_price_sum</th>\n",
       "      <th>avg_cash_receipt</th>\n",
       "      <th>recency</th>\n",
       "      <th>frequency</th>\n",
       "      <th>monetary</th>\n",
       "      <th>total_segment</th>\n",
       "      <th>segment_name</th>\n",
       "    </tr>\n",
       "  </thead>\n",
       "  <tbody>\n",
       "    <tr>\n",
       "      <th>1809</th>\n",
       "      <td>c09b95c0-8db5-4dc1-867f-ddd546a90284</td>\n",
       "      <td>2019-06-12</td>\n",
       "      <td>1</td>\n",
       "      <td>208.0</td>\n",
       "      <td>208.000000</td>\n",
       "      <td>1</td>\n",
       "      <td>1</td>\n",
       "      <td>1</td>\n",
       "      <td>3</td>\n",
       "      <td>потерянные клиенты</td>\n",
       "    </tr>\n",
       "    <tr>\n",
       "      <th>1076</th>\n",
       "      <td>73be0af1-ade8-4da1-b74f-dd831103bf57</td>\n",
       "      <td>2020-01-12</td>\n",
       "      <td>2</td>\n",
       "      <td>4490.0</td>\n",
       "      <td>2245.000000</td>\n",
       "      <td>3</td>\n",
       "      <td>2</td>\n",
       "      <td>3</td>\n",
       "      <td>8</td>\n",
       "      <td>VIP клиенты</td>\n",
       "    </tr>\n",
       "    <tr>\n",
       "      <th>1254</th>\n",
       "      <td>87b754ae-0f9f-4bbf-8769-9117d6ecf109</td>\n",
       "      <td>2019-08-15</td>\n",
       "      <td>1</td>\n",
       "      <td>577.0</td>\n",
       "      <td>577.000000</td>\n",
       "      <td>1</td>\n",
       "      <td>1</td>\n",
       "      <td>2</td>\n",
       "      <td>4</td>\n",
       "      <td>потерянные лояльные клиенты</td>\n",
       "    </tr>\n",
       "    <tr>\n",
       "      <th>765</th>\n",
       "      <td>52aff75c-a972-4c25-bad5-dfe6a48cd981</td>\n",
       "      <td>2018-11-25</td>\n",
       "      <td>9</td>\n",
       "      <td>665.0</td>\n",
       "      <td>73.888889</td>\n",
       "      <td>1</td>\n",
       "      <td>3</td>\n",
       "      <td>1</td>\n",
       "      <td>5</td>\n",
       "      <td>потерянные лояльные клиенты</td>\n",
       "    </tr>\n",
       "    <tr>\n",
       "      <th>959</th>\n",
       "      <td>671f78ce-18ec-4017-9848-519963be6b99</td>\n",
       "      <td>2019-05-13</td>\n",
       "      <td>1</td>\n",
       "      <td>284.0</td>\n",
       "      <td>284.000000</td>\n",
       "      <td>1</td>\n",
       "      <td>1</td>\n",
       "      <td>1</td>\n",
       "      <td>3</td>\n",
       "      <td>потерянные клиенты</td>\n",
       "    </tr>\n",
       "  </tbody>\n",
       "</table>\n",
       "</div>"
      ],
      "text/plain": [
       "                               customer_id max_date_without_time  \\\n",
       "1809  c09b95c0-8db5-4dc1-867f-ddd546a90284            2019-06-12   \n",
       "1076  73be0af1-ade8-4da1-b74f-dd831103bf57            2020-01-12   \n",
       "1254  87b754ae-0f9f-4bbf-8769-9117d6ecf109            2019-08-15   \n",
       "765   52aff75c-a972-4c25-bad5-dfe6a48cd981            2018-11-25   \n",
       "959   671f78ce-18ec-4017-9848-519963be6b99            2019-05-13   \n",
       "\n",
       "      order_id_count  total_price_sum  avg_cash_receipt recency frequency  \\\n",
       "1809               1            208.0        208.000000       1         1   \n",
       "1076               2           4490.0       2245.000000       3         2   \n",
       "1254               1            577.0        577.000000       1         1   \n",
       "765                9            665.0         73.888889       1         3   \n",
       "959                1            284.0        284.000000       1         1   \n",
       "\n",
       "     monetary  total_segment                 segment_name  \n",
       "1809        1              3           потерянные клиенты  \n",
       "1076        3              8                  VIP клиенты  \n",
       "1254        2              4  потерянные лояльные клиенты  \n",
       "765         1              5  потерянные лояльные клиенты  \n",
       "959         1              3           потерянные клиенты  "
      ]
     },
     "metadata": {},
     "output_type": "display_data"
    }
   ],
   "source": [
    "sorted_data['total_segment'] = sorted_data['recency'].astype(int) + sorted_data['frequency'].astype(int) + sorted_data['monetary'].astype(int)\n",
    "# создам столбец 'total_segment'\n",
    "\n",
    "def segment_name(row):\n",
    "    if row['total_segment'] == 3:\n",
    "        return 'потерянные клиенты'\n",
    "    elif 3 < row['total_segment'] <= 5:\n",
    "        return 'потерянные лояльные клиенты'\n",
    "    elif 5 < row['total_segment'] <= 7:\n",
    "        return 'лояльные клиенты'\n",
    "    else:\n",
    "        return 'VIP клиенты'\n",
    "\n",
    "sorted_data['segment_name'] = sorted_data.apply(segment_name, axis=1)\n",
    "display(sorted_data.sample(5))"
   ]
  },
  {
   "cell_type": "code",
   "execution_count": 52,
   "metadata": {
    "scrolled": true
   },
   "outputs": [
    {
     "data": {
      "image/png": "[encoded data removed]",
      "text/plain": [
       "<Figure size 432x432 with 1 Axes>"
      ]
     },
     "metadata": {},
     "output_type": "display_data"
    }
   ],
   "source": [
    "segment_counts = sorted_data['segment_name'].value_counts()\n",
    "\n",
    "plt.figure(figsize=(6, 6))\n",
    "plt.pie(segment_counts, labels=segment_counts.index, autopct='%1.1f%%', startangle=140)\n",
    "plt.title('Доли сегментов')\n",
    "plt.show()"
   ]
  },
  {
   "cell_type": "markdown",
   "metadata": {},
   "source": [
    "Вывод: На графике видно, что у нас достаточно большая база активных клиентов - больше 33% , потерянных клиентов почти 17% и 50% клиентов, среди которых есть те, которых можно вернуть в наш магазин и не потерять."
   ]
  },
  {
   "cell_type": "markdown",
   "metadata": {},
   "source": [
    "# Рассмотрю подробней категорию \"хозяйственные товары\""
   ]
  },
  {
   "cell_type": "code",
   "execution_count": 53,
   "metadata": {
    "scrolled": true
   },
   "outputs": [
    {
     "data": {
      "text/html": [
       "<div>\n",
       "<style scoped>\n",
       "    .dataframe tbody tr th:only-of-type {\n",
       "        vertical-align: middle;\n",
       "    }\n",
       "\n",
       "    .dataframe tbody tr th {\n",
       "        vertical-align: top;\n",
       "    }\n",
       "\n",
       "    .dataframe thead th {\n",
       "        text-align: right;\n",
       "    }\n",
       "</style>\n",
       "<table border=\"1\" class=\"dataframe\">\n",
       "  <thead>\n",
       "    <tr style=\"text-align: right;\">\n",
       "      <th></th>\n",
       "      <th>product</th>\n",
       "      <th>total_price</th>\n",
       "    </tr>\n",
       "  </thead>\n",
       "  <tbody>\n",
       "    <tr>\n",
       "      <th>169</th>\n",
       "      <td>сушилка meliconi stendy junior</td>\n",
       "      <td>27970.0</td>\n",
       "    </tr>\n",
       "    <tr>\n",
       "      <th>11</th>\n",
       "      <td>веник сорго с деревянной ручкой с 4-мя швами, ...</td>\n",
       "      <td>20550.0</td>\n",
       "    </tr>\n",
       "    <tr>\n",
       "      <th>37</th>\n",
       "      <td>гладильная доска sarayli new elegant 125x45 см</td>\n",
       "      <td>17843.0</td>\n",
       "    </tr>\n",
       "    <tr>\n",
       "      <th>53</th>\n",
       "      <td>гладильная доска ника blues 124х46 см 5757</td>\n",
       "      <td>17786.0</td>\n",
       "    </tr>\n",
       "    <tr>\n",
       "      <th>280</th>\n",
       "      <td>сушилка уличная leifheit 85210 linomatic v 400...</td>\n",
       "      <td>14917.0</td>\n",
       "    </tr>\n",
       "  </tbody>\n",
       "</table>\n",
       "</div>"
      ],
      "text/plain": [
       "                                               product  total_price\n",
       "169                     сушилка meliconi stendy junior      27970.0\n",
       "11   веник сорго с деревянной ручкой с 4-мя швами, ...      20550.0\n",
       "37      гладильная доска sarayli new elegant 125x45 см      17843.0\n",
       "53          гладильная доска ника blues 124х46 см 5757      17786.0\n",
       "280  сушилка уличная leifheit 85210 linomatic v 400...      14917.0"
      ]
     },
     "execution_count": 53,
     "metadata": {},
     "output_type": "execute_result"
    }
   ],
   "source": [
    "household_products = data[data['category'] == 'хозяйственные товары']\n",
    "grouped_products = household_products.groupby('product')['total_price'].sum().reset_index()\n",
    "top_5_household_products = grouped_products.sort_values(by='total_price', ascending=False).head(5)\n",
    "top_5_household_products"
   ]
  },
  {
   "cell_type": "code",
   "execution_count": 54,
   "metadata": {},
   "outputs": [
    {
     "data": {
      "image/png": "[encoded data removed]",
      "text/plain": [
       "<Figure size 864x432 with 1 Axes>"
      ]
     },
     "metadata": {
      "needs_background": "light"
     },
     "output_type": "display_data"
    }
   ],
   "source": [
    "household_products = data[data['category'] == 'хозяйственные товары']\n",
    "# отфильтрую данные по категории \"хозяйственные товары\"\n",
    "\n",
    "grouped_household_data = household_products.groupby('date_without_time')['total_price'].sum().reset_index()\n",
    "# сгруппирую данные по столбцу `date` и суммирую `total_price` для каждой даты\n",
    "\n",
    "plt.figure(figsize=(12, 6))\n",
    "plt.plot(grouped_household_data['date_without_time'], grouped_household_data['total_price'])\n",
    "\n",
    "plt.xlabel('Дата')\n",
    "plt.ylabel('Выручка')\n",
    "plt.title('Выручка по датам в категории хозяйственные товары')\n",
    "plt.xticks(rotation=90) \n",
    "plt.grid(True)\n",
    "plt.show()"
   ]
  },
  {
   "cell_type": "code",
   "execution_count": 55,
   "metadata": {
    "scrolled": true
   },
   "outputs": [
    {
     "data": {
      "image/png": "[encoded data removed]",
      "text/plain": [
       "<Figure size 864x432 with 1 Axes>"
      ]
     },
     "metadata": {
      "needs_background": "light"
     },
     "output_type": "display_data"
    }
   ],
   "source": [
    "# сортирую данные по сумме `total_price`\n",
    "top_5_household_products = grouped_products.sort_values(by='total_price', ascending=False).head(5)\n",
    "\n",
    "# список топ 5 хозяйственных продуктов\n",
    "top_5_products = top_5_household_products['product'].tolist()\n",
    "top_5_data = household_products[household_products['product'].isin(top_5_products)]\n",
    "grouped_top_5_data = top_5_data.groupby(['date_without_time', 'product'])['total_price'].sum().unstack()\n",
    "\n",
    "plt.figure(figsize=(12, 6))\n",
    "for product in top_5_products:\n",
    "    plt.plot(grouped_top_5_data.index, grouped_top_5_data[product], label=product)\n",
    "\n",
    "plt.xlabel('Дата')\n",
    "plt.ylabel('Выручка')\n",
    "plt.title('Выручка по датам по топ-5 хозяйственным товарам')\n",
    "plt.legend()\n",
    "plt.grid(True)\n",
    "plt.show()"
   ]
  },
  {
   "cell_type": "code",
   "execution_count": 56,
   "metadata": {},
   "outputs": [
    {
     "data": {
      "image/png": "[encoded data removed]",
      "text/plain": [
       "<Figure size 864x432 with 1 Axes>"
      ]
     },
     "metadata": {
      "needs_background": "light"
     },
     "output_type": "display_data"
    }
   ],
   "source": [
    "# отсортирую данные по сумме `total_price`\n",
    "top_1_household_product = grouped_products.sort_values(by='total_price', ascending=False).head(1)\n",
    "\n",
    "# топ 1 хозяйственный продукт по выручке\n",
    "top_product_name = top_1_household_product['product'].iloc[0]\n",
    "top_product_data = household_products[household_products['product'] == top_product_name]\n",
    "grouped_top_product_data = top_product_data.groupby('date_without_time')['total_price'].sum()\n",
    "\n",
    "plt.figure(figsize=(12, 6))\n",
    "plt.plot(grouped_top_product_data.index, grouped_top_product_data.values, label=top_product_name, marker='o')\n",
    "\n",
    "plt.xlabel('Дата')\n",
    "plt.ylabel('Выручка')\n",
    "plt.title(f'Выручка по датам для топ-1 хозяйственный продукт : {top_product_name}')\n",
    "plt.legend()\n",
    "plt.grid(True)\n",
    "plt.show()"
   ]
  },
  {
   "cell_type": "markdown",
   "metadata": {},
   "source": [
    "Вывод: При детальном рассмотрении можно увидеть, что гладильная доска продавалась не так часто, возможно в какие-то периоды ее не было в продаже, и только в мае-июне наблюдается рост ее продаж. Скорее всего если исследовать каждую категори и каждый продукт будут наблюдаться равные графики за весь период и линейные графики на коротких отрезках. Кроме того, есть продукты каждодневного спроса, а как в нашем случае - гладильная доска, которая покупается не каждый день, а только в случае необходимости."
   ]
  },
  {
   "cell_type": "markdown",
   "metadata": {},
   "source": [
    "- Частотность заказов (frequency): с какой периодичностью клиент возвращается к повторным/новым покупкам."
   ]
  },
  {
   "cell_type": "code",
   "execution_count": 57,
   "metadata": {
    "scrolled": true
   },
   "outputs": [
    {
     "name": "stdout",
     "output_type": "stream",
     "text": [
      "                category  unique_customer_count\n",
      "7               растения                    808\n",
      "10  хозяйственные товары                    596\n",
      "4                  кухня                    311\n",
      "9                  сумки                    309\n",
      "1                    дом                    279\n",
      "6                рассада                    211\n",
      "5                  муляж                    209\n",
      "2                емкости                    201\n",
      "11        хранение вещей                    163\n",
      "0         ванная комната                     79\n",
      "3            инструменты                     78\n",
      "8                спальня                     27\n"
     ]
    }
   ],
   "source": [
    "customer_count_category = data.groupby('category')['customer_id'].nunique().reset_index()\n",
    "customer_count_category.columns = ['category', 'unique_customer_count']\n",
    "print(customer_count_category.sort_values(by='unique_customer_count', ascending=False))"
   ]
  },
  {
   "cell_type": "code",
   "execution_count": 58,
   "metadata": {},
   "outputs": [
    {
     "name": "stdout",
     "output_type": "stream",
     "text": [
      "                category  one_customer_count\n",
      "7               растения                 523\n",
      "10  хозяйственные товары                 517\n",
      "9                  сумки                 286\n",
      "4                  кухня                 277\n",
      "1                    дом                 245\n",
      "5                  муляж                 183\n",
      "2                емкости                 177\n",
      "11        хранение вещей                 148\n",
      "6                рассада                 106\n",
      "0         ванная комната                  73\n",
      "3            инструменты                  69\n",
      "8                спальня                  27\n"
     ]
    }
   ],
   "source": [
    "customer_id_counts = data.groupby(['category', 'customer_id']).size().reset_index(name='count')\n",
    "# сгруппируем данные по категории и customer_id\n",
    "\n",
    "one_customer_ids = customer_id_counts[customer_id_counts['count'] == 1]\n",
    "# оставлю только те записи, где count = 1\n",
    "\n",
    "one_customer_count_by_category = one_customer_ids.groupby('category')['customer_id'].count().reset_index()\n",
    "one_customer_count_by_category.columns = ['category', 'one_customer_count']\n",
    "\n",
    "print(one_customer_count_by_category.sort_values(by='one_customer_count', ascending=False))"
   ]
  },
  {
   "cell_type": "code",
   "execution_count": 59,
   "metadata": {},
   "outputs": [
    {
     "name": "stdout",
     "output_type": "stream",
     "text": [
      "                category  two_customer_count\n",
      "7               растения                 115\n",
      "9   хозяйственные товары                  68\n",
      "1                    дом                  28\n",
      "6                рассада                  24\n",
      "4                  кухня                  23\n",
      "8                  сумки                  18\n",
      "5                  муляж                  14\n",
      "10        хранение вещей                  12\n",
      "2                емкости                  10\n",
      "3            инструменты                   7\n",
      "0         ванная комната                   4\n"
     ]
    }
   ],
   "source": [
    "two_customer_ids = customer_id_counts[customer_id_counts['count'] == 2]\n",
    "# оставлю только те записи, где count = 2\n",
    "\n",
    "two_customer_count_by_category = two_customer_ids.groupby('category')['customer_id'].count().reset_index()\n",
    "# сгруппирую данные для повторных customer_id по категориям\n",
    "\n",
    "two_customer_count_by_category.columns = ['category', 'two_customer_count']\n",
    "\n",
    "print(two_customer_count_by_category.sort_values(by='two_customer_count', ascending=False))"
   ]
  },
  {
   "cell_type": "code",
   "execution_count": 60,
   "metadata": {},
   "outputs": [
    {
     "name": "stdout",
     "output_type": "stream",
     "text": [
      "                category  three_customer_count\n",
      "7               растения                   170\n",
      "6                рассада                    81\n",
      "2                емкости                    14\n",
      "5                  муляж                    12\n",
      "4                  кухня                    11\n",
      "9   хозяйственные товары                    11\n",
      "1                    дом                     6\n",
      "8                  сумки                     5\n",
      "10        хранение вещей                     3\n",
      "0         ванная комната                     2\n",
      "3            инструменты                     2\n"
     ]
    }
   ],
   "source": [
    "three_customer_ids = customer_id_counts[customer_id_counts['count'] >= 3]\n",
    "# оставлю только те записи, где count >= 3\n",
    "\n",
    "three_customer_count_by_category = three_customer_ids.groupby('category')['customer_id'].count().reset_index()\n",
    "three_customer_count_by_category.columns = ['category', 'three_customer_count']\n",
    "\n",
    "print(three_customer_count_by_category.sort_values(by='three_customer_count', ascending=False))"
   ]
  },
  {
   "cell_type": "markdown",
   "metadata": {},
   "source": [
    "Вывод: Чаще всего постоянные клиенты встречаются в категории растения, хозяйственные товары, рассада."
   ]
  },
  {
   "cell_type": "markdown",
   "metadata": {},
   "source": [
    "- Сумма, которую клиент тратит на продукты компании. Определим лояльных клиентов. Исследуем топ-10 клиентов по выручке, совершивших 2 и более покупки за все время."
   ]
  },
  {
   "cell_type": "code",
   "execution_count": 61,
   "metadata": {},
   "outputs": [
    {
     "data": {
      "text/html": [
       "<div>\n",
       "<style scoped>\n",
       "    .dataframe tbody tr th:only-of-type {\n",
       "        vertical-align: middle;\n",
       "    }\n",
       "\n",
       "    .dataframe tbody tr th {\n",
       "        vertical-align: top;\n",
       "    }\n",
       "\n",
       "    .dataframe thead th {\n",
       "        text-align: right;\n",
       "    }\n",
       "</style>\n",
       "<table border=\"1\" class=\"dataframe\">\n",
       "  <thead>\n",
       "    <tr style=\"text-align: right;\">\n",
       "      <th></th>\n",
       "      <th>customer_id</th>\n",
       "      <th>total_price</th>\n",
       "      <th>order_count</th>\n",
       "      <th>category_count</th>\n",
       "    </tr>\n",
       "  </thead>\n",
       "  <tbody>\n",
       "    <tr>\n",
       "      <th>0</th>\n",
       "      <td>c971fb21-d54c-4134-938f-16b62ee86d3b</td>\n",
       "      <td>159508.0</td>\n",
       "      <td>126</td>\n",
       "      <td>10</td>\n",
       "    </tr>\n",
       "    <tr>\n",
       "      <th>1</th>\n",
       "      <td>4d93d3f6-8b24-403b-a74b-f5173e40d7db</td>\n",
       "      <td>57278.0</td>\n",
       "      <td>35</td>\n",
       "      <td>12</td>\n",
       "    </tr>\n",
       "    <tr>\n",
       "      <th>2</th>\n",
       "      <td>58a4c3cc-504f-43ea-a74a-bae19e665552</td>\n",
       "      <td>53232.0</td>\n",
       "      <td>2</td>\n",
       "      <td>1</td>\n",
       "    </tr>\n",
       "    <tr>\n",
       "      <th>3</th>\n",
       "      <td>498f12a4-6a62-4725-8516-cf5dc9ab8a3a</td>\n",
       "      <td>41900.0</td>\n",
       "      <td>4</td>\n",
       "      <td>4</td>\n",
       "    </tr>\n",
       "    <tr>\n",
       "      <th>4</th>\n",
       "      <td>73d1cd35-5e5f-4629-8cf2-3fda829d4e58</td>\n",
       "      <td>21361.0</td>\n",
       "      <td>17</td>\n",
       "      <td>6</td>\n",
       "    </tr>\n",
       "    <tr>\n",
       "      <th>5</th>\n",
       "      <td>940c175f-ea87-44e0-9e16-0a3d0a9abecd</td>\n",
       "      <td>20232.0</td>\n",
       "      <td>2</td>\n",
       "      <td>2</td>\n",
       "    </tr>\n",
       "    <tr>\n",
       "      <th>6</th>\n",
       "      <td>f279d50f-a508-40b4-bde5-5cb4a1be3ad0</td>\n",
       "      <td>16557.0</td>\n",
       "      <td>2</td>\n",
       "      <td>2</td>\n",
       "    </tr>\n",
       "    <tr>\n",
       "      <th>7</th>\n",
       "      <td>ad66d870-22f5-43bc-958f-73420822586b</td>\n",
       "      <td>13731.0</td>\n",
       "      <td>2</td>\n",
       "      <td>2</td>\n",
       "    </tr>\n",
       "    <tr>\n",
       "      <th>8</th>\n",
       "      <td>639c4989-b0ab-412a-b7ec-be394cb2d372</td>\n",
       "      <td>12095.0</td>\n",
       "      <td>3</td>\n",
       "      <td>2</td>\n",
       "    </tr>\n",
       "    <tr>\n",
       "      <th>9</th>\n",
       "      <td>86c97bf1-c834-423e-9e38-8acda68f97e8</td>\n",
       "      <td>11548.0</td>\n",
       "      <td>2</td>\n",
       "      <td>1</td>\n",
       "    </tr>\n",
       "  </tbody>\n",
       "</table>\n",
       "</div>"
      ],
      "text/plain": [
       "                            customer_id  total_price  order_count  \\\n",
       "0  c971fb21-d54c-4134-938f-16b62ee86d3b     159508.0          126   \n",
       "1  4d93d3f6-8b24-403b-a74b-f5173e40d7db      57278.0           35   \n",
       "2  58a4c3cc-504f-43ea-a74a-bae19e665552      53232.0            2   \n",
       "3  498f12a4-6a62-4725-8516-cf5dc9ab8a3a      41900.0            4   \n",
       "4  73d1cd35-5e5f-4629-8cf2-3fda829d4e58      21361.0           17   \n",
       "5  940c175f-ea87-44e0-9e16-0a3d0a9abecd      20232.0            2   \n",
       "6  f279d50f-a508-40b4-bde5-5cb4a1be3ad0      16557.0            2   \n",
       "7  ad66d870-22f5-43bc-958f-73420822586b      13731.0            2   \n",
       "8  639c4989-b0ab-412a-b7ec-be394cb2d372      12095.0            3   \n",
       "9  86c97bf1-c834-423e-9e38-8acda68f97e8      11548.0            2   \n",
       "\n",
       "   category_count  \n",
       "0              10  \n",
       "1              12  \n",
       "2               1  \n",
       "3               4  \n",
       "4               6  \n",
       "5               2  \n",
       "6               2  \n",
       "7               2  \n",
       "8               2  \n",
       "9               1  "
      ]
     },
     "metadata": {},
     "output_type": "display_data"
    }
   ],
   "source": [
    "customer_order_count = data.groupby('customer_id')['order_id'].nunique().reset_index()\n",
    "customer_order_count.columns = ['customer_id', 'order_count']\n",
    "# количество order_id для каждого customer_id\n",
    "\n",
    "filtered_customers = customer_order_count[customer_order_count['order_count'] >= 2]\n",
    "# отфильтрую customer_id с order_count >= 2\n",
    "\n",
    "filtered_data = pd.merge(filtered_customers, data, on='customer_id', how='left')\n",
    "# объединю отфильтрованных customer_id с исходными данными\n",
    "\n",
    "customer_total_price = filtered_data.groupby('customer_id')['total_price'].sum().reset_index()\n",
    "# сумма total_price для каждого customer_id\n",
    "\n",
    "top_10_customers = customer_total_price.sort_values(by='total_price', ascending=False).head(10)\n",
    "# отсортирую данные по сумме total_price и выберу топ-10 клиентов\n",
    "\n",
    "customer_category_count = filtered_data.groupby('customer_id')['category'].nunique().reset_index()\n",
    "customer_category_count.columns = ['customer_id', 'category_count']\n",
    "# посчитаю количество уникальных категорий для каждого customer_id\n",
    "\n",
    "top_10_customers_with_counts = pd.merge(top_10_customers, customer_order_count, on='customer_id', how='left')\n",
    "top_10_customers_with_counts = pd.merge(top_10_customers_with_counts, customer_category_count, on='customer_id', how='left')\n",
    "# объединю данные о топ-10 customer_id с данными о количестве order_id и category_count\n",
    "\n",
    "display(top_10_customers_with_counts)"
   ]
  },
  {
   "cell_type": "code",
   "execution_count": 62,
   "metadata": {
    "scrolled": true
   },
   "outputs": [
    {
     "data": {
      "image/png": "[encoded data removed]",
      "text/plain": [
       "<Figure size 720x432 with 1 Axes>"
      ]
     },
     "metadata": {
      "needs_background": "light"
     },
     "output_type": "display_data"
    }
   ],
   "source": [
    "top_10_customers_with_counts = pd.merge(top_10_customers, customer_order_count, on='customer_id', how='left')\n",
    "top_10_customers_with_counts = pd.merge(top_10_customers_with_counts, customer_category_count, on='customer_id', how='left')\n",
    "# объединю данные топ-10 customer_id с данными о количестве order_id и category_count\n",
    "\n",
    "top_10_categories = pd.merge(top_10_customers_with_counts, filtered_data, on='customer_id', how='left')\n",
    "category_order_count = top_10_categories.groupby('category')['order_id'].nunique().reset_index()\n",
    "category_order_count.columns = ['category', 'order_count']\n",
    "\n",
    "plt.figure(figsize=(10, 6))\n",
    "plt.bar(category_order_count['category'], category_order_count['order_count'], color='blue')\n",
    "plt.xlabel('Категория')\n",
    "plt.ylabel('Количество заказов')\n",
    "plt.title('Количество заказов по категориям топ-10 клиентов')\n",
    "plt.xticks(rotation=45)\n",
    "plt.tight_layout()\n",
    "plt.show()"
   ]
  },
  {
   "cell_type": "markdown",
   "metadata": {},
   "source": [
    "Вывод: Больше всего повторных заказов в категории хозяйственные товары, далее это растения и сумки."
   ]
  },
  {
   "cell_type": "code",
   "execution_count": 63,
   "metadata": {},
   "outputs": [
    {
     "data": {
      "image/png": "[encoded data removed]",
      "text/plain": [
       "<Figure size 720x432 with 1 Axes>"
      ]
     },
     "metadata": {
      "needs_background": "light"
     },
     "output_type": "display_data"
    }
   ],
   "source": [
    "top_10_categories = pd.merge(top_10_customers_with_counts, filtered_data, on='customer_id', how='left')\n",
    "category_count_data = top_10_categories.groupby('category')['customer_id'].nunique().reset_index()\n",
    "category_count_data.columns = ['category', 'category_count']\n",
    "\n",
    "plt.figure(figsize=(10, 6))\n",
    "plt.bar(category_count_data['category'], category_count_data['category_count'], color='blue')\n",
    "plt.xlabel('Категория')\n",
    "plt.ylabel('Количество категорий')\n",
    "plt.title('Количество категорий топ-10 клиентов')\n",
    "plt.xticks(rotation=45)\n",
    "plt.tight_layout()\n",
    "plt.show()"
   ]
  },
  {
   "cell_type": "markdown",
   "metadata": {},
   "source": [
    "Вывод: Категория в которой преобладает наибольшее количество повторных заказов - сумки, далее это кухня, растения, хозяйственные товары."
   ]
  },
  {
   "cell_type": "markdown",
   "metadata": {},
   "source": [
    "# Шаг 5. Проверка гипотез"
   ]
  },
  {
   "cell_type": "markdown",
   "metadata": {},
   "source": [
    "Формулируем гипотезы: H0 - средняя выручка в категории \"хозяйственные товары\" равна средней выручке в других категориях. H1 - средняя выручка в категории \"хозяйственные товары\" не равна средней выручке в других категориях."
   ]
  },
  {
   "cell_type": "code",
   "execution_count": 64,
   "metadata": {},
   "outputs": [
    {
     "name": "stdout",
     "output_type": "stream",
     "text": [
      "1257.47\n",
      "622.14\n"
     ]
    }
   ],
   "source": [
    "total_price_household_mean = data.query(\"category == 'хозяйственные товары'\")['total_price'].mean()\n",
    "print(total_price_household_mean.round(2))\n",
    "total_price_not_household_mean = data.query(\"category != 'хозяйственные товары'\")['total_price'].mean()\n",
    "print(total_price_not_household_mean.round(2))"
   ]
  },
  {
   "cell_type": "code",
   "execution_count": 65,
   "metadata": {},
   "outputs": [
    {
     "name": "stdout",
     "output_type": "stream",
     "text": [
      "4.547552146974593e-23\n",
      "Отвергаем нулевую гипотезу\n"
     ]
    }
   ],
   "source": [
    "results = st.ttest_ind(data.query(\"category == 'хозяйственные товары'\")['total_price'], \n",
    "                       data.query(\"category != 'хозяйственные товары'\")['total_price'],\n",
    "                       alternative='greater')\n",
    "print(results.pvalue)\n",
    "\n",
    "alpha = 0.05\n",
    "if results.pvalue < alpha:\n",
    "    print('Отвергаем нулевую гипотезу')\n",
    "else:\n",
    "    print('Не получилось отвергнуть нулевую гипотезу')"
   ]
  },
  {
   "cell_type": "markdown",
   "metadata": {},
   "source": [
    "Вывод: Подтвердилась гипотеза, в которой средняя выручка в категории \"хозяйственные товары\" не равна средней выручке в \"других категориях\". В исследовании видно, что средняя выручка в категории хозяйственные товары значительно выше."
   ]
  },
  {
   "cell_type": "markdown",
   "metadata": {},
   "source": [
    "Формулируем гипотезы: H0 - тренд в выручке отсутствует. H1 - есть тренд в выручке."
   ]
  },
  {
   "cell_type": "code",
   "execution_count": 66,
   "metadata": {},
   "outputs": [
    {
     "name": "stdout",
     "output_type": "stream",
     "text": [
      "Статистика теста (корреляция Кендалла): -0.05843746329048315\n",
      "p-значение: 8.534739449373115e-11\n",
      "Отвергаем нулевую гипотезу об отсутствии тренда\n"
     ]
    }
   ],
   "source": [
    "data = data.sort_values(by='date')\n",
    "\n",
    "result = st.kendalltau(data.index, data['total_price']) # Выполняем тест Манна-Кендалла на тренд\n",
    "\n",
    "print(f\"Статистика теста (корреляция Кендалла): {result.correlation}\")\n",
    "print(f\"p-значение: {result.pvalue}\")\n",
    "\n",
    "alpha = 0.05\n",
    "if result.pvalue < alpha:\n",
    "    print('Отвергаем нулевую гипотезу об отсутствии тренда')\n",
    "else:\n",
    "    print('Не получилось отвергнуть нулевую гипотезу об отсутствии тренда')"
   ]
  },
  {
   "cell_type": "markdown",
   "metadata": {},
   "source": [
    "Вывод: Ранее был рассмотрен тренд, где была очевидна тенденция на снижение выручки, сейчас гипотеза потверждает изменение в тренде."
   ]
  },
  {
   "cell_type": "markdown",
   "metadata": {},
   "source": [
    "# Общий вывод:\n",
    "- Данные имеют недостатки: дубликаты и в некоторых случаях на один заказ приходится несколько клиентов, требуется уточнение информации. Кроме того, количество уникальных продуктов в заказе может достигать больше 100 и даже 1000, необходимо проверить реальны ли эти значения. Аномальное значение в шт. и общей стоимости имеет продукт - вантуз, удалим его из данных, так как он будет вносить перекос в данные;\n",
    "- Выручка в интернет-магазине снижается;\n",
    "- Активность клиентов стремительно растет в период с 6:00 до 09:00. Пик наблюдается с 12:00-14:00, это время обеденного перерыва. Далее активность планомерно снижается. Наибольшее количество заказов в понедельник, наименьшее количество заказов в субботу. Наибольшее количество заказов в июне 2019, до этого месяца с января идет планомерный рост, с июля продажи сильно падают;\n",
    "- Больше всего клиенты покупают продукты стоимостью до 500 рублей. Но есть продукты существенно дороже, свыше 2000 рублей;\n",
    "- Получилось 12 категорий, больше всего выручка в категории хозяйственные товары и сумки, меньше всего выручка с товарами для спальни и ванной комнаты;\n",
    "# Сегментация профилей клиентов:\n",
    "- Получили 4 сегмента клиентов: потерянные клиенты составляют 50%, потерянные лояльные клиенты - 17%, 27.6% - лояльные клиенты, 5.8% - VIP клиенты; \n",
    "- Чаще всего постоянные клиенты встречаются в категории растения, хозяйственные товары, рассада и совершают 2 и более покупки;\n",
    "- Больше всего повторных заказов в категории хозяйственные товары, далее это растения и сумки;\n",
    "- Категория в которой преобладает наибольшее количество повторных заказов - сумки, далее это кухня, растения, хозяйственные товары. "
   ]
  },
  {
   "cell_type": "markdown",
   "metadata": {},
   "source": [
    "https://disk.yandex.ru/i/XEwE9Tt-BrsjmA"
   ]
  }
 ],
 "metadata": {
  "ExecuteTimeLog": [
   {
    "duration": 886,
    "start_time": "2024-07-24T07:05:04.490Z"
   },
   {
    "duration": 162,
    "start_time": "2024-07-24T07:06:14.486Z"
   },
   {
    "duration": 153,
    "start_time": "2024-07-24T07:13:01.613Z"
   },
   {
    "duration": 19,
    "start_time": "2024-07-24T07:13:21.523Z"
   },
   {
    "duration": 13,
    "start_time": "2024-07-24T07:13:39.721Z"
   },
   {
    "duration": 30,
    "start_time": "2024-07-24T07:13:59.924Z"
   },
   {
    "duration": 20,
    "start_time": "2024-07-24T07:14:27.983Z"
   },
   {
    "duration": 6,
    "start_time": "2024-07-24T07:14:33.216Z"
   },
   {
    "duration": 6,
    "start_time": "2024-07-24T07:14:53.542Z"
   },
   {
    "duration": 18,
    "start_time": "2024-07-24T07:15:07.198Z"
   },
   {
    "duration": 13,
    "start_time": "2024-07-24T07:15:21.069Z"
   },
   {
    "duration": 4,
    "start_time": "2024-07-24T07:15:35.745Z"
   },
   {
    "duration": 5,
    "start_time": "2024-07-24T07:15:49.037Z"
   },
   {
    "duration": 3,
    "start_time": "2024-07-24T07:16:01.812Z"
   },
   {
    "duration": 5466,
    "start_time": "2024-07-24T07:16:20.031Z"
   },
   {
    "duration": 4,
    "start_time": "2024-07-24T07:16:44.919Z"
   },
   {
    "duration": 4558,
    "start_time": "2024-07-24T07:16:56.737Z"
   },
   {
    "duration": 25,
    "start_time": "2024-07-24T07:17:33.886Z"
   },
   {
    "duration": 4,
    "start_time": "2024-07-24T07:18:05.214Z"
   },
   {
    "duration": 5,
    "start_time": "2024-07-24T07:18:17.463Z"
   },
   {
    "duration": 3,
    "start_time": "2024-07-24T07:18:32.007Z"
   },
   {
    "duration": 224,
    "start_time": "2024-07-24T07:20:47.512Z"
   },
   {
    "duration": 8,
    "start_time": "2024-07-24T07:21:19.064Z"
   },
   {
    "duration": 8,
    "start_time": "2024-07-24T07:22:25.782Z"
   },
   {
    "duration": 12,
    "start_time": "2024-07-24T07:22:45.623Z"
   },
   {
    "duration": 1381,
    "start_time": "2024-07-24T07:23:20.456Z"
   },
   {
    "duration": 5,
    "start_time": "2024-07-24T07:23:43.602Z"
   },
   {
    "duration": 6,
    "start_time": "2024-07-24T07:24:06.064Z"
   },
   {
    "duration": 11,
    "start_time": "2024-07-24T07:24:28.898Z"
   },
   {
    "duration": 176,
    "start_time": "2024-07-24T07:24:53.335Z"
   },
   {
    "duration": 21,
    "start_time": "2024-07-24T07:25:08.399Z"
   },
   {
    "duration": 15,
    "start_time": "2024-07-24T07:25:13.963Z"
   },
   {
    "duration": 634,
    "start_time": "2024-07-24T07:25:31.206Z"
   },
   {
    "duration": 49,
    "start_time": "2024-07-24T07:25:31.842Z"
   },
   {
    "duration": 13,
    "start_time": "2024-07-24T07:25:31.893Z"
   },
   {
    "duration": 25,
    "start_time": "2024-07-24T07:25:31.907Z"
   },
   {
    "duration": 49,
    "start_time": "2024-07-24T07:25:31.935Z"
   },
   {
    "duration": 4,
    "start_time": "2024-07-24T07:25:31.986Z"
   },
   {
    "duration": 28,
    "start_time": "2024-07-24T07:25:31.992Z"
   },
   {
    "duration": 31,
    "start_time": "2024-07-24T07:25:32.022Z"
   },
   {
    "duration": 40,
    "start_time": "2024-07-24T07:25:32.055Z"
   },
   {
    "duration": 29,
    "start_time": "2024-07-24T07:25:32.097Z"
   },
   {
    "duration": 12,
    "start_time": "2024-07-24T07:25:32.128Z"
   },
   {
    "duration": 13,
    "start_time": "2024-07-24T07:25:32.142Z"
   },
   {
    "duration": 5446,
    "start_time": "2024-07-24T07:25:32.157Z"
   },
   {
    "duration": 5,
    "start_time": "2024-07-24T07:25:37.607Z"
   },
   {
    "duration": 5168,
    "start_time": "2024-07-24T07:25:37.614Z"
   },
   {
    "duration": 18,
    "start_time": "2024-07-24T07:25:42.784Z"
   },
   {
    "duration": 4,
    "start_time": "2024-07-24T07:25:42.803Z"
   },
   {
    "duration": 18,
    "start_time": "2024-07-24T07:25:42.809Z"
   },
   {
    "duration": 9,
    "start_time": "2024-07-24T07:25:42.829Z"
   },
   {
    "duration": 256,
    "start_time": "2024-07-24T07:25:42.840Z"
   },
   {
    "duration": 7,
    "start_time": "2024-07-24T07:25:43.098Z"
   },
   {
    "duration": 8,
    "start_time": "2024-07-24T07:25:43.107Z"
   },
   {
    "duration": 12,
    "start_time": "2024-07-24T07:25:43.116Z"
   },
   {
    "duration": 1173,
    "start_time": "2024-07-24T07:25:43.129Z"
   },
   {
    "duration": 5,
    "start_time": "2024-07-24T07:25:44.303Z"
   },
   {
    "duration": 55,
    "start_time": "2024-07-24T07:25:44.309Z"
   },
   {
    "duration": 17,
    "start_time": "2024-07-24T07:25:44.366Z"
   },
   {
    "duration": 183,
    "start_time": "2024-07-24T07:25:44.385Z"
   },
   {
    "duration": 78,
    "start_time": "2024-07-24T07:25:59.498Z"
   },
   {
    "duration": 11,
    "start_time": "2024-07-24T07:26:15.493Z"
   },
   {
    "duration": 11,
    "start_time": "2024-07-24T07:26:22.172Z"
   },
   {
    "duration": 606,
    "start_time": "2024-07-24T07:26:28.590Z"
   },
   {
    "duration": 46,
    "start_time": "2024-07-24T07:26:29.198Z"
   },
   {
    "duration": 11,
    "start_time": "2024-07-24T07:26:29.246Z"
   },
   {
    "duration": 11,
    "start_time": "2024-07-24T07:26:29.258Z"
   },
   {
    "duration": 18,
    "start_time": "2024-07-24T07:26:29.271Z"
   },
   {
    "duration": 4,
    "start_time": "2024-07-24T07:26:29.291Z"
   },
   {
    "duration": 6,
    "start_time": "2024-07-24T07:26:29.296Z"
   },
   {
    "duration": 36,
    "start_time": "2024-07-24T07:26:29.304Z"
   },
   {
    "duration": 22,
    "start_time": "2024-07-24T07:26:29.342Z"
   },
   {
    "duration": 5,
    "start_time": "2024-07-24T07:26:29.366Z"
   },
   {
    "duration": 5,
    "start_time": "2024-07-24T07:26:29.373Z"
   },
   {
    "duration": 11,
    "start_time": "2024-07-24T07:26:29.380Z"
   },
   {
    "duration": 5375,
    "start_time": "2024-07-24T07:26:29.392Z"
   },
   {
    "duration": 4,
    "start_time": "2024-07-24T07:26:34.771Z"
   },
   {
    "duration": 4633,
    "start_time": "2024-07-24T07:26:34.776Z"
   },
   {
    "duration": 18,
    "start_time": "2024-07-24T07:26:39.411Z"
   },
   {
    "duration": 3,
    "start_time": "2024-07-24T07:26:39.431Z"
   },
   {
    "duration": 27,
    "start_time": "2024-07-24T07:26:39.435Z"
   },
   {
    "duration": 4,
    "start_time": "2024-07-24T07:26:39.463Z"
   },
   {
    "duration": 245,
    "start_time": "2024-07-24T07:26:39.469Z"
   },
   {
    "duration": 10,
    "start_time": "2024-07-24T07:26:39.715Z"
   },
   {
    "duration": 36,
    "start_time": "2024-07-24T07:26:39.727Z"
   },
   {
    "duration": 32,
    "start_time": "2024-07-24T07:26:39.765Z"
   },
   {
    "duration": 1077,
    "start_time": "2024-07-24T07:26:39.799Z"
   },
   {
    "duration": 5,
    "start_time": "2024-07-24T07:26:40.877Z"
   },
   {
    "duration": 29,
    "start_time": "2024-07-24T07:26:40.884Z"
   },
   {
    "duration": 48,
    "start_time": "2024-07-24T07:26:40.914Z"
   },
   {
    "duration": 181,
    "start_time": "2024-07-24T07:26:40.963Z"
   },
   {
    "duration": 11,
    "start_time": "2024-07-24T07:40:43.026Z"
   },
   {
    "duration": 16,
    "start_time": "2024-07-24T07:43:01.089Z"
   },
   {
    "duration": 10,
    "start_time": "2024-07-24T07:43:25.851Z"
   },
   {
    "duration": 590,
    "start_time": "2024-07-24T07:43:44.116Z"
   },
   {
    "duration": 47,
    "start_time": "2024-07-24T07:43:44.707Z"
   },
   {
    "duration": 12,
    "start_time": "2024-07-24T07:43:44.755Z"
   },
   {
    "duration": 14,
    "start_time": "2024-07-24T07:43:44.768Z"
   },
   {
    "duration": 23,
    "start_time": "2024-07-24T07:43:44.784Z"
   },
   {
    "duration": 14,
    "start_time": "2024-07-24T07:43:44.809Z"
   },
   {
    "duration": 12,
    "start_time": "2024-07-24T07:43:44.825Z"
   },
   {
    "duration": 30,
    "start_time": "2024-07-24T07:43:44.838Z"
   },
   {
    "duration": 12,
    "start_time": "2024-07-24T07:43:44.870Z"
   },
   {
    "duration": 9,
    "start_time": "2024-07-24T07:43:44.884Z"
   },
   {
    "duration": 14,
    "start_time": "2024-07-24T07:43:44.895Z"
   },
   {
    "duration": 10,
    "start_time": "2024-07-24T07:43:44.911Z"
   },
   {
    "duration": 4,
    "start_time": "2024-07-24T07:43:44.922Z"
   },
   {
    "duration": 34,
    "start_time": "2024-07-24T07:43:44.930Z"
   },
   {
    "duration": 7,
    "start_time": "2024-07-24T07:43:44.965Z"
   },
   {
    "duration": 5538,
    "start_time": "2024-07-24T07:43:44.974Z"
   },
   {
    "duration": 4,
    "start_time": "2024-07-24T07:43:50.514Z"
   },
   {
    "duration": 4708,
    "start_time": "2024-07-24T07:43:50.519Z"
   },
   {
    "duration": 18,
    "start_time": "2024-07-24T07:43:55.228Z"
   },
   {
    "duration": 32,
    "start_time": "2024-07-24T07:43:55.248Z"
   },
   {
    "duration": 19,
    "start_time": "2024-07-24T07:43:55.281Z"
   },
   {
    "duration": 18,
    "start_time": "2024-07-24T07:43:55.301Z"
   },
   {
    "duration": 265,
    "start_time": "2024-07-24T07:43:55.320Z"
   },
   {
    "duration": 7,
    "start_time": "2024-07-24T07:43:55.587Z"
   },
   {
    "duration": 11,
    "start_time": "2024-07-24T07:43:55.596Z"
   },
   {
    "duration": 33,
    "start_time": "2024-07-24T07:43:55.608Z"
   },
   {
    "duration": 1088,
    "start_time": "2024-07-24T07:43:55.643Z"
   },
   {
    "duration": 4,
    "start_time": "2024-07-24T07:43:56.733Z"
   },
   {
    "duration": 14,
    "start_time": "2024-07-24T07:43:56.738Z"
   },
   {
    "duration": 34,
    "start_time": "2024-07-24T07:43:56.753Z"
   },
   {
    "duration": 191,
    "start_time": "2024-07-24T07:43:56.788Z"
   },
   {
    "duration": 11,
    "start_time": "2024-07-24T07:53:20.366Z"
   },
   {
    "duration": 8,
    "start_time": "2024-07-24T07:53:37.055Z"
   },
   {
    "duration": 8,
    "start_time": "2024-07-24T07:53:43.260Z"
   },
   {
    "duration": 80,
    "start_time": "2024-07-24T08:06:04.049Z"
   },
   {
    "duration": 9,
    "start_time": "2024-07-24T08:06:53.783Z"
   },
   {
    "duration": 19,
    "start_time": "2024-07-24T10:16:54.698Z"
   },
   {
    "duration": 8,
    "start_time": "2024-07-24T10:17:10.571Z"
   },
   {
    "duration": 9,
    "start_time": "2024-07-24T10:18:30.321Z"
   },
   {
    "duration": 14,
    "start_time": "2024-07-24T10:18:46.228Z"
   },
   {
    "duration": 16,
    "start_time": "2024-07-24T10:27:54.752Z"
   },
   {
    "duration": 13,
    "start_time": "2024-07-24T10:28:09.889Z"
   },
   {
    "duration": 10,
    "start_time": "2024-07-24T10:28:38.069Z"
   },
   {
    "duration": 627,
    "start_time": "2024-07-24T10:28:56.375Z"
   },
   {
    "duration": 48,
    "start_time": "2024-07-24T10:28:57.003Z"
   },
   {
    "duration": 11,
    "start_time": "2024-07-24T10:28:57.053Z"
   },
   {
    "duration": 11,
    "start_time": "2024-07-24T10:28:57.066Z"
   },
   {
    "duration": 16,
    "start_time": "2024-07-24T10:28:57.079Z"
   },
   {
    "duration": 8,
    "start_time": "2024-07-24T10:28:57.097Z"
   },
   {
    "duration": 14,
    "start_time": "2024-07-24T10:28:57.106Z"
   },
   {
    "duration": 24,
    "start_time": "2024-07-24T10:28:57.122Z"
   },
   {
    "duration": 23,
    "start_time": "2024-07-24T10:28:57.147Z"
   },
   {
    "duration": 11,
    "start_time": "2024-07-24T10:28:57.173Z"
   },
   {
    "duration": 15,
    "start_time": "2024-07-24T10:28:57.186Z"
   },
   {
    "duration": 10,
    "start_time": "2024-07-24T10:28:57.203Z"
   },
   {
    "duration": 5,
    "start_time": "2024-07-24T10:28:57.214Z"
   },
   {
    "duration": 40,
    "start_time": "2024-07-24T10:28:57.222Z"
   },
   {
    "duration": 4,
    "start_time": "2024-07-24T10:28:57.265Z"
   },
   {
    "duration": 17,
    "start_time": "2024-07-24T10:28:57.271Z"
   },
   {
    "duration": 16,
    "start_time": "2024-07-24T10:28:57.289Z"
   },
   {
    "duration": 5323,
    "start_time": "2024-07-24T10:28:57.307Z"
   },
   {
    "duration": 4,
    "start_time": "2024-07-24T10:29:02.632Z"
   },
   {
    "duration": 4805,
    "start_time": "2024-07-24T10:29:02.638Z"
   },
   {
    "duration": 21,
    "start_time": "2024-07-24T10:29:07.445Z"
   },
   {
    "duration": 4,
    "start_time": "2024-07-24T10:29:07.467Z"
   },
   {
    "duration": 8,
    "start_time": "2024-07-24T10:29:07.472Z"
   },
   {
    "duration": 5,
    "start_time": "2024-07-24T10:29:07.481Z"
   },
   {
    "duration": 280,
    "start_time": "2024-07-24T10:29:07.487Z"
   },
   {
    "duration": 8,
    "start_time": "2024-07-24T10:29:07.768Z"
   },
   {
    "duration": 6,
    "start_time": "2024-07-24T10:29:07.778Z"
   },
   {
    "duration": 6,
    "start_time": "2024-07-24T10:29:07.786Z"
   },
   {
    "duration": 12,
    "start_time": "2024-07-24T10:29:07.794Z"
   },
   {
    "duration": 1098,
    "start_time": "2024-07-24T10:29:07.808Z"
   },
   {
    "duration": 5,
    "start_time": "2024-07-24T10:29:08.907Z"
   },
   {
    "duration": 9,
    "start_time": "2024-07-24T10:29:08.913Z"
   },
   {
    "duration": 13,
    "start_time": "2024-07-24T10:29:08.923Z"
   },
   {
    "duration": 193,
    "start_time": "2024-07-24T10:29:08.937Z"
   },
   {
    "duration": 75,
    "start_time": "2024-07-24T10:30:02.567Z"
   },
   {
    "duration": 636,
    "start_time": "2024-07-24T10:30:13.965Z"
   },
   {
    "duration": 48,
    "start_time": "2024-07-24T10:30:14.602Z"
   },
   {
    "duration": 13,
    "start_time": "2024-07-24T10:30:14.651Z"
   },
   {
    "duration": 14,
    "start_time": "2024-07-24T10:30:14.665Z"
   },
   {
    "duration": 20,
    "start_time": "2024-07-24T10:30:14.682Z"
   },
   {
    "duration": 4,
    "start_time": "2024-07-24T10:30:14.703Z"
   },
   {
    "duration": 10,
    "start_time": "2024-07-24T10:30:14.709Z"
   },
   {
    "duration": 43,
    "start_time": "2024-07-24T10:30:14.720Z"
   },
   {
    "duration": 10,
    "start_time": "2024-07-24T10:30:14.765Z"
   },
   {
    "duration": 9,
    "start_time": "2024-07-24T10:30:14.777Z"
   },
   {
    "duration": 13,
    "start_time": "2024-07-24T10:30:14.788Z"
   },
   {
    "duration": 8,
    "start_time": "2024-07-24T10:30:14.803Z"
   },
   {
    "duration": 3,
    "start_time": "2024-07-24T10:30:14.813Z"
   },
   {
    "duration": 3,
    "start_time": "2024-07-24T10:30:14.819Z"
   },
   {
    "duration": 4,
    "start_time": "2024-07-24T10:30:14.860Z"
   },
   {
    "duration": 23,
    "start_time": "2024-07-24T10:30:14.865Z"
   },
   {
    "duration": 24,
    "start_time": "2024-07-24T10:30:14.889Z"
   },
   {
    "duration": 5473,
    "start_time": "2024-07-24T10:30:14.915Z"
   },
   {
    "duration": 4,
    "start_time": "2024-07-24T10:30:20.390Z"
   },
   {
    "duration": 4689,
    "start_time": "2024-07-24T10:30:20.395Z"
   },
   {
    "duration": 17,
    "start_time": "2024-07-24T10:30:25.085Z"
   },
   {
    "duration": 19,
    "start_time": "2024-07-24T10:30:25.104Z"
   },
   {
    "duration": 15,
    "start_time": "2024-07-24T10:30:25.124Z"
   },
   {
    "duration": 7,
    "start_time": "2024-07-24T10:30:25.141Z"
   },
   {
    "duration": 243,
    "start_time": "2024-07-24T10:30:25.149Z"
   },
   {
    "duration": 7,
    "start_time": "2024-07-24T10:30:25.394Z"
   },
   {
    "duration": 14,
    "start_time": "2024-07-24T10:30:25.402Z"
   },
   {
    "duration": 7,
    "start_time": "2024-07-24T10:30:25.417Z"
   },
   {
    "duration": 24,
    "start_time": "2024-07-24T10:30:25.425Z"
   },
   {
    "duration": 1128,
    "start_time": "2024-07-24T10:30:25.462Z"
   },
   {
    "duration": 4,
    "start_time": "2024-07-24T10:30:26.592Z"
   },
   {
    "duration": 45,
    "start_time": "2024-07-24T10:30:26.597Z"
   },
   {
    "duration": 19,
    "start_time": "2024-07-24T10:30:26.643Z"
   },
   {
    "duration": 176,
    "start_time": "2024-07-24T10:30:26.664Z"
   },
   {
    "duration": 74,
    "start_time": "2024-07-24T10:35:18.904Z"
   },
   {
    "duration": 603,
    "start_time": "2024-07-24T10:35:26.617Z"
   },
   {
    "duration": 48,
    "start_time": "2024-07-24T10:35:27.222Z"
   },
   {
    "duration": 12,
    "start_time": "2024-07-24T10:35:27.272Z"
   },
   {
    "duration": 20,
    "start_time": "2024-07-24T10:35:27.285Z"
   },
   {
    "duration": 22,
    "start_time": "2024-07-24T10:35:27.307Z"
   },
   {
    "duration": 9,
    "start_time": "2024-07-24T10:35:27.331Z"
   },
   {
    "duration": 36,
    "start_time": "2024-07-24T10:35:27.342Z"
   },
   {
    "duration": 29,
    "start_time": "2024-07-24T10:35:27.380Z"
   },
   {
    "duration": 12,
    "start_time": "2024-07-24T10:35:27.412Z"
   },
   {
    "duration": 13,
    "start_time": "2024-07-24T10:35:27.425Z"
   },
   {
    "duration": 20,
    "start_time": "2024-07-24T10:35:27.440Z"
   },
   {
    "duration": 9,
    "start_time": "2024-07-24T10:35:27.462Z"
   },
   {
    "duration": 5,
    "start_time": "2024-07-24T10:35:27.472Z"
   },
   {
    "duration": 4,
    "start_time": "2024-07-24T10:35:27.479Z"
   },
   {
    "duration": 5,
    "start_time": "2024-07-24T10:35:27.484Z"
   },
   {
    "duration": 12,
    "start_time": "2024-07-24T10:35:27.491Z"
   },
   {
    "duration": 22,
    "start_time": "2024-07-24T10:35:27.505Z"
   },
   {
    "duration": 5479,
    "start_time": "2024-07-24T10:35:27.529Z"
   },
   {
    "duration": 5,
    "start_time": "2024-07-24T10:35:33.010Z"
   },
   {
    "duration": 4765,
    "start_time": "2024-07-24T10:35:33.017Z"
   },
   {
    "duration": 20,
    "start_time": "2024-07-24T10:35:37.784Z"
   },
   {
    "duration": 11,
    "start_time": "2024-07-24T10:35:37.805Z"
   },
   {
    "duration": 22,
    "start_time": "2024-07-24T10:35:37.818Z"
   },
   {
    "duration": 8,
    "start_time": "2024-07-24T10:35:37.842Z"
   },
   {
    "duration": 336,
    "start_time": "2024-07-24T10:35:37.851Z"
   },
   {
    "duration": 7,
    "start_time": "2024-07-24T10:35:38.189Z"
   },
   {
    "duration": 32,
    "start_time": "2024-07-24T10:35:38.197Z"
   },
   {
    "duration": 13,
    "start_time": "2024-07-24T10:35:38.230Z"
   },
   {
    "duration": 36,
    "start_time": "2024-07-24T10:35:38.245Z"
   },
   {
    "duration": 1079,
    "start_time": "2024-07-24T10:35:38.283Z"
   },
   {
    "duration": 5,
    "start_time": "2024-07-24T10:35:39.363Z"
   },
   {
    "duration": 40,
    "start_time": "2024-07-24T10:35:39.370Z"
   },
   {
    "duration": 26,
    "start_time": "2024-07-24T10:35:39.412Z"
   },
   {
    "duration": 177,
    "start_time": "2024-07-24T10:35:39.440Z"
   },
   {
    "duration": 646,
    "start_time": "2024-07-24T10:39:40.080Z"
   },
   {
    "duration": 50,
    "start_time": "2024-07-24T10:39:40.727Z"
   },
   {
    "duration": 12,
    "start_time": "2024-07-24T10:39:40.778Z"
   },
   {
    "duration": 12,
    "start_time": "2024-07-24T10:39:40.791Z"
   },
   {
    "duration": 20,
    "start_time": "2024-07-24T10:39:40.805Z"
   },
   {
    "duration": 4,
    "start_time": "2024-07-24T10:39:40.827Z"
   },
   {
    "duration": 29,
    "start_time": "2024-07-24T10:39:40.833Z"
   },
   {
    "duration": 19,
    "start_time": "2024-07-24T10:39:40.864Z"
   },
   {
    "duration": 12,
    "start_time": "2024-07-24T10:39:40.884Z"
   },
   {
    "duration": 10,
    "start_time": "2024-07-24T10:39:40.897Z"
   },
   {
    "duration": 15,
    "start_time": "2024-07-24T10:39:40.908Z"
   },
   {
    "duration": 42,
    "start_time": "2024-07-24T10:39:40.925Z"
   },
   {
    "duration": 5,
    "start_time": "2024-07-24T10:39:40.969Z"
   },
   {
    "duration": 13,
    "start_time": "2024-07-24T10:39:40.978Z"
   },
   {
    "duration": 6,
    "start_time": "2024-07-24T10:39:40.993Z"
   },
   {
    "duration": 15,
    "start_time": "2024-07-24T10:39:41.001Z"
   },
   {
    "duration": 13,
    "start_time": "2024-07-24T10:39:41.017Z"
   },
   {
    "duration": 5650,
    "start_time": "2024-07-24T10:39:41.031Z"
   },
   {
    "duration": 4,
    "start_time": "2024-07-24T10:39:46.683Z"
   },
   {
    "duration": 5109,
    "start_time": "2024-07-24T10:39:46.688Z"
   },
   {
    "duration": 17,
    "start_time": "2024-07-24T10:39:51.800Z"
   },
   {
    "duration": 5,
    "start_time": "2024-07-24T10:39:51.818Z"
   },
   {
    "duration": 9,
    "start_time": "2024-07-24T10:39:51.825Z"
   },
   {
    "duration": 28,
    "start_time": "2024-07-24T10:39:51.836Z"
   },
   {
    "duration": 256,
    "start_time": "2024-07-24T10:39:51.866Z"
   },
   {
    "duration": 9,
    "start_time": "2024-07-24T10:39:52.124Z"
   },
   {
    "duration": 8,
    "start_time": "2024-07-24T10:39:52.134Z"
   },
   {
    "duration": 10,
    "start_time": "2024-07-24T10:39:52.162Z"
   },
   {
    "duration": 33,
    "start_time": "2024-07-24T10:39:52.174Z"
   },
   {
    "duration": 1143,
    "start_time": "2024-07-24T10:39:52.209Z"
   },
   {
    "duration": 8,
    "start_time": "2024-07-24T10:39:53.354Z"
   },
   {
    "duration": 6,
    "start_time": "2024-07-24T10:39:53.363Z"
   },
   {
    "duration": 23,
    "start_time": "2024-07-24T10:39:53.370Z"
   },
   {
    "duration": 209,
    "start_time": "2024-07-24T10:39:53.394Z"
   },
   {
    "duration": 11,
    "start_time": "2024-07-24T10:41:47.411Z"
   },
   {
    "duration": 16,
    "start_time": "2024-07-24T10:48:05.171Z"
   },
   {
    "duration": 17,
    "start_time": "2024-07-24T10:48:30.376Z"
   },
   {
    "duration": 653,
    "start_time": "2024-07-24T10:48:41.951Z"
   },
   {
    "duration": 47,
    "start_time": "2024-07-24T10:48:42.605Z"
   },
   {
    "duration": 12,
    "start_time": "2024-07-24T10:48:42.654Z"
   },
   {
    "duration": 23,
    "start_time": "2024-07-24T10:48:42.667Z"
   },
   {
    "duration": 23,
    "start_time": "2024-07-24T10:48:42.692Z"
   },
   {
    "duration": 16,
    "start_time": "2024-07-24T10:48:42.717Z"
   },
   {
    "duration": 8,
    "start_time": "2024-07-24T10:48:42.735Z"
   },
   {
    "duration": 24,
    "start_time": "2024-07-24T10:48:42.744Z"
   },
   {
    "duration": 23,
    "start_time": "2024-07-24T10:48:42.769Z"
   },
   {
    "duration": 26,
    "start_time": "2024-07-24T10:48:42.794Z"
   },
   {
    "duration": 15,
    "start_time": "2024-07-24T10:48:42.822Z"
   },
   {
    "duration": 14,
    "start_time": "2024-07-24T10:48:42.839Z"
   },
   {
    "duration": 14,
    "start_time": "2024-07-24T10:48:42.855Z"
   },
   {
    "duration": 22,
    "start_time": "2024-07-24T10:48:42.872Z"
   },
   {
    "duration": 26,
    "start_time": "2024-07-24T10:48:42.896Z"
   },
   {
    "duration": 17,
    "start_time": "2024-07-24T10:48:42.923Z"
   },
   {
    "duration": 5413,
    "start_time": "2024-07-24T10:48:42.942Z"
   },
   {
    "duration": 6,
    "start_time": "2024-07-24T10:48:48.356Z"
   },
   {
    "duration": 4835,
    "start_time": "2024-07-24T10:48:48.364Z"
   },
   {
    "duration": 20,
    "start_time": "2024-07-24T10:48:53.201Z"
   },
   {
    "duration": 11,
    "start_time": "2024-07-24T10:48:53.222Z"
   },
   {
    "duration": 7,
    "start_time": "2024-07-24T10:48:53.235Z"
   },
   {
    "duration": 39,
    "start_time": "2024-07-24T10:48:53.244Z"
   },
   {
    "duration": 235,
    "start_time": "2024-07-24T10:48:53.285Z"
   },
   {
    "duration": 8,
    "start_time": "2024-07-24T10:48:53.522Z"
   },
   {
    "duration": 9,
    "start_time": "2024-07-24T10:48:53.532Z"
   },
   {
    "duration": 8,
    "start_time": "2024-07-24T10:48:53.561Z"
   },
   {
    "duration": 17,
    "start_time": "2024-07-24T10:48:53.570Z"
   },
   {
    "duration": 1176,
    "start_time": "2024-07-24T10:48:53.589Z"
   },
   {
    "duration": 4,
    "start_time": "2024-07-24T10:48:54.767Z"
   },
   {
    "duration": 6,
    "start_time": "2024-07-24T10:48:54.773Z"
   },
   {
    "duration": 15,
    "start_time": "2024-07-24T10:48:54.781Z"
   },
   {
    "duration": 184,
    "start_time": "2024-07-24T10:48:54.797Z"
   },
   {
    "duration": 167,
    "start_time": "2024-07-24T10:49:54.997Z"
   },
   {
    "duration": 505,
    "start_time": "2024-07-24T10:50:54.953Z"
   },
   {
    "duration": 1101,
    "start_time": "2024-07-24T10:53:23.631Z"
   },
   {
    "duration": 2020,
    "start_time": "2024-07-24T10:53:59.271Z"
   },
   {
    "duration": 2249,
    "start_time": "2024-07-24T10:54:26.787Z"
   },
   {
    "duration": 663,
    "start_time": "2024-07-24T10:54:44.029Z"
   },
   {
    "duration": 53,
    "start_time": "2024-07-24T10:54:44.694Z"
   },
   {
    "duration": 17,
    "start_time": "2024-07-24T10:54:44.749Z"
   },
   {
    "duration": 29,
    "start_time": "2024-07-24T10:54:44.768Z"
   },
   {
    "duration": 20,
    "start_time": "2024-07-24T10:54:44.800Z"
   },
   {
    "duration": 1086,
    "start_time": "2024-07-24T10:54:44.823Z"
   },
   {
    "duration": 0,
    "start_time": "2024-07-24T10:54:45.912Z"
   },
   {
    "duration": 0,
    "start_time": "2024-07-24T10:54:45.913Z"
   },
   {
    "duration": 0,
    "start_time": "2024-07-24T10:54:45.915Z"
   },
   {
    "duration": 0,
    "start_time": "2024-07-24T10:54:45.917Z"
   },
   {
    "duration": 0,
    "start_time": "2024-07-24T10:54:45.918Z"
   },
   {
    "duration": 0,
    "start_time": "2024-07-24T10:54:45.919Z"
   },
   {
    "duration": 0,
    "start_time": "2024-07-24T10:54:45.921Z"
   },
   {
    "duration": 0,
    "start_time": "2024-07-24T10:54:45.922Z"
   },
   {
    "duration": 0,
    "start_time": "2024-07-24T10:54:45.923Z"
   },
   {
    "duration": 0,
    "start_time": "2024-07-24T10:54:45.925Z"
   },
   {
    "duration": 0,
    "start_time": "2024-07-24T10:54:45.926Z"
   },
   {
    "duration": 0,
    "start_time": "2024-07-24T10:54:45.927Z"
   },
   {
    "duration": 0,
    "start_time": "2024-07-24T10:54:45.928Z"
   },
   {
    "duration": 0,
    "start_time": "2024-07-24T10:54:45.929Z"
   },
   {
    "duration": 0,
    "start_time": "2024-07-24T10:54:45.931Z"
   },
   {
    "duration": 0,
    "start_time": "2024-07-24T10:54:45.932Z"
   },
   {
    "duration": 0,
    "start_time": "2024-07-24T10:54:45.933Z"
   },
   {
    "duration": 0,
    "start_time": "2024-07-24T10:54:45.934Z"
   },
   {
    "duration": 0,
    "start_time": "2024-07-24T10:54:45.935Z"
   },
   {
    "duration": 0,
    "start_time": "2024-07-24T10:54:45.936Z"
   },
   {
    "duration": 0,
    "start_time": "2024-07-24T10:54:45.937Z"
   },
   {
    "duration": 0,
    "start_time": "2024-07-24T10:54:45.938Z"
   },
   {
    "duration": 0,
    "start_time": "2024-07-24T10:54:45.939Z"
   },
   {
    "duration": 0,
    "start_time": "2024-07-24T10:54:45.940Z"
   },
   {
    "duration": 0,
    "start_time": "2024-07-24T10:54:45.941Z"
   },
   {
    "duration": 0,
    "start_time": "2024-07-24T10:54:45.943Z"
   },
   {
    "duration": 0,
    "start_time": "2024-07-24T10:54:45.943Z"
   },
   {
    "duration": 22,
    "start_time": "2024-07-24T10:56:11.892Z"
   },
   {
    "duration": 14,
    "start_time": "2024-07-24T10:56:35.920Z"
   },
   {
    "duration": 1979,
    "start_time": "2024-07-24T10:56:43.107Z"
   },
   {
    "duration": 239,
    "start_time": "2024-07-24T10:59:31.624Z"
   },
   {
    "duration": 20,
    "start_time": "2024-07-24T11:12:37.362Z"
   },
   {
    "duration": 705,
    "start_time": "2024-07-24T11:12:59.244Z"
   },
   {
    "duration": 51,
    "start_time": "2024-07-24T11:12:59.955Z"
   },
   {
    "duration": 14,
    "start_time": "2024-07-24T11:13:00.008Z"
   },
   {
    "duration": 69,
    "start_time": "2024-07-24T11:13:00.024Z"
   },
   {
    "duration": 60,
    "start_time": "2024-07-24T11:13:00.096Z"
   },
   {
    "duration": 20,
    "start_time": "2024-07-24T11:13:00.158Z"
   },
   {
    "duration": 365,
    "start_time": "2024-07-24T11:13:00.179Z"
   },
   {
    "duration": 9,
    "start_time": "2024-07-24T11:13:00.547Z"
   },
   {
    "duration": 42,
    "start_time": "2024-07-24T11:13:00.559Z"
   },
   {
    "duration": 53,
    "start_time": "2024-07-24T11:13:00.603Z"
   },
   {
    "duration": 63,
    "start_time": "2024-07-24T11:13:00.657Z"
   },
   {
    "duration": 39,
    "start_time": "2024-07-24T11:13:00.722Z"
   },
   {
    "duration": 82,
    "start_time": "2024-07-24T11:13:00.762Z"
   },
   {
    "duration": 229,
    "start_time": "2024-07-24T11:13:00.847Z"
   },
   {
    "duration": 65,
    "start_time": "2024-07-24T11:13:01.078Z"
   },
   {
    "duration": 132,
    "start_time": "2024-07-24T11:13:01.145Z"
   },
   {
    "duration": 151,
    "start_time": "2024-07-24T11:13:01.279Z"
   },
   {
    "duration": 5717,
    "start_time": "2024-07-24T11:13:01.431Z"
   },
   {
    "duration": 13,
    "start_time": "2024-07-24T11:13:07.149Z"
   },
   {
    "duration": 4916,
    "start_time": "2024-07-24T11:13:07.164Z"
   },
   {
    "duration": 21,
    "start_time": "2024-07-24T11:13:12.082Z"
   },
   {
    "duration": 4,
    "start_time": "2024-07-24T11:13:12.105Z"
   },
   {
    "duration": 5,
    "start_time": "2024-07-24T11:13:12.111Z"
   },
   {
    "duration": 4,
    "start_time": "2024-07-24T11:13:12.118Z"
   },
   {
    "duration": 264,
    "start_time": "2024-07-24T11:13:12.123Z"
   },
   {
    "duration": 9,
    "start_time": "2024-07-24T11:13:12.388Z"
   },
   {
    "duration": 9,
    "start_time": "2024-07-24T11:13:12.399Z"
   },
   {
    "duration": 8,
    "start_time": "2024-07-24T11:13:12.409Z"
   },
   {
    "duration": 47,
    "start_time": "2024-07-24T11:13:12.420Z"
   },
   {
    "duration": 1477,
    "start_time": "2024-07-24T11:13:12.469Z"
   },
   {
    "duration": 5,
    "start_time": "2024-07-24T11:13:13.947Z"
   },
   {
    "duration": 10,
    "start_time": "2024-07-24T11:13:13.961Z"
   },
   {
    "duration": 13,
    "start_time": "2024-07-24T11:13:13.973Z"
   },
   {
    "duration": 188,
    "start_time": "2024-07-24T11:13:13.987Z"
   },
   {
    "duration": 67,
    "start_time": "2024-07-24T11:14:18.986Z"
   },
   {
    "duration": 15,
    "start_time": "2024-07-24T11:14:52.859Z"
   },
   {
    "duration": 19,
    "start_time": "2024-07-24T11:16:53.971Z"
   },
   {
    "duration": 310,
    "start_time": "2024-07-24T11:17:23.036Z"
   },
   {
    "duration": 262,
    "start_time": "2024-07-24T11:18:03.504Z"
   },
   {
    "duration": 13,
    "start_time": "2024-07-24T11:18:58.754Z"
   },
   {
    "duration": 1245,
    "start_time": "2024-07-24T11:19:26.558Z"
   },
   {
    "duration": 164,
    "start_time": "2024-07-24T11:20:16.000Z"
   },
   {
    "duration": 16,
    "start_time": "2024-07-24T11:35:56.338Z"
   },
   {
    "duration": 188,
    "start_time": "2024-07-24T11:38:57.220Z"
   },
   {
    "duration": 168,
    "start_time": "2024-07-24T11:40:03.882Z"
   },
   {
    "duration": 13,
    "start_time": "2024-07-24T11:40:08.251Z"
   },
   {
    "duration": 203,
    "start_time": "2024-07-24T11:42:09.877Z"
   },
   {
    "duration": 13,
    "start_time": "2024-07-24T11:45:20.074Z"
   },
   {
    "duration": 644,
    "start_time": "2024-07-24T11:45:27.973Z"
   },
   {
    "duration": 49,
    "start_time": "2024-07-24T11:45:28.619Z"
   },
   {
    "duration": 12,
    "start_time": "2024-07-24T11:45:28.670Z"
   },
   {
    "duration": 12,
    "start_time": "2024-07-24T11:45:28.683Z"
   },
   {
    "duration": 19,
    "start_time": "2024-07-24T11:45:28.698Z"
   },
   {
    "duration": 18,
    "start_time": "2024-07-24T11:45:28.719Z"
   },
   {
    "duration": 270,
    "start_time": "2024-07-24T11:45:28.739Z"
   },
   {
    "duration": 14,
    "start_time": "2024-07-24T11:45:29.011Z"
   },
   {
    "duration": 179,
    "start_time": "2024-07-24T11:45:29.026Z"
   },
   {
    "duration": 13,
    "start_time": "2024-07-24T11:45:29.207Z"
   },
   {
    "duration": 81,
    "start_time": "2024-07-24T11:45:29.221Z"
   },
   {
    "duration": 0,
    "start_time": "2024-07-24T11:45:29.304Z"
   },
   {
    "duration": 0,
    "start_time": "2024-07-24T11:45:29.305Z"
   },
   {
    "duration": 0,
    "start_time": "2024-07-24T11:45:29.307Z"
   },
   {
    "duration": 0,
    "start_time": "2024-07-24T11:45:29.308Z"
   },
   {
    "duration": 0,
    "start_time": "2024-07-24T11:45:29.309Z"
   },
   {
    "duration": 0,
    "start_time": "2024-07-24T11:45:29.310Z"
   },
   {
    "duration": 0,
    "start_time": "2024-07-24T11:45:29.311Z"
   },
   {
    "duration": 0,
    "start_time": "2024-07-24T11:45:29.312Z"
   },
   {
    "duration": 0,
    "start_time": "2024-07-24T11:45:29.314Z"
   },
   {
    "duration": 0,
    "start_time": "2024-07-24T11:45:29.315Z"
   },
   {
    "duration": 0,
    "start_time": "2024-07-24T11:45:29.316Z"
   },
   {
    "duration": 0,
    "start_time": "2024-07-24T11:45:29.317Z"
   },
   {
    "duration": 0,
    "start_time": "2024-07-24T11:45:29.318Z"
   },
   {
    "duration": 0,
    "start_time": "2024-07-24T11:45:29.320Z"
   },
   {
    "duration": 0,
    "start_time": "2024-07-24T11:45:29.321Z"
   },
   {
    "duration": 0,
    "start_time": "2024-07-24T11:45:29.323Z"
   },
   {
    "duration": 0,
    "start_time": "2024-07-24T11:45:29.325Z"
   },
   {
    "duration": 0,
    "start_time": "2024-07-24T11:45:29.361Z"
   },
   {
    "duration": 0,
    "start_time": "2024-07-24T11:45:29.362Z"
   },
   {
    "duration": 0,
    "start_time": "2024-07-24T11:45:29.364Z"
   },
   {
    "duration": 0,
    "start_time": "2024-07-24T11:45:29.365Z"
   },
   {
    "duration": 0,
    "start_time": "2024-07-24T11:45:29.366Z"
   },
   {
    "duration": 0,
    "start_time": "2024-07-24T11:45:29.368Z"
   },
   {
    "duration": 0,
    "start_time": "2024-07-24T11:45:29.369Z"
   },
   {
    "duration": 0,
    "start_time": "2024-07-24T11:45:29.371Z"
   },
   {
    "duration": 0,
    "start_time": "2024-07-24T11:45:29.372Z"
   },
   {
    "duration": 0,
    "start_time": "2024-07-24T11:45:29.374Z"
   },
   {
    "duration": 216,
    "start_time": "2024-07-24T11:46:45.965Z"
   },
   {
    "duration": 598,
    "start_time": "2024-07-24T11:46:56.479Z"
   },
   {
    "duration": 47,
    "start_time": "2024-07-24T11:46:57.079Z"
   },
   {
    "duration": 12,
    "start_time": "2024-07-24T11:46:57.127Z"
   },
   {
    "duration": 12,
    "start_time": "2024-07-24T11:46:57.141Z"
   },
   {
    "duration": 18,
    "start_time": "2024-07-24T11:46:57.155Z"
   },
   {
    "duration": 15,
    "start_time": "2024-07-24T11:46:57.174Z"
   },
   {
    "duration": 249,
    "start_time": "2024-07-24T11:46:57.191Z"
   },
   {
    "duration": 22,
    "start_time": "2024-07-24T11:46:57.442Z"
   },
   {
    "duration": 159,
    "start_time": "2024-07-24T11:46:57.465Z"
   },
   {
    "duration": 201,
    "start_time": "2024-07-24T11:46:57.626Z"
   },
   {
    "duration": 5,
    "start_time": "2024-07-24T11:46:57.829Z"
   },
   {
    "duration": 9,
    "start_time": "2024-07-24T11:46:57.836Z"
   },
   {
    "duration": 25,
    "start_time": "2024-07-24T11:46:57.860Z"
   },
   {
    "duration": 55,
    "start_time": "2024-07-24T11:46:57.890Z"
   },
   {
    "duration": 77,
    "start_time": "2024-07-24T11:46:57.947Z"
   },
   {
    "duration": 0,
    "start_time": "2024-07-24T11:46:58.025Z"
   },
   {
    "duration": 0,
    "start_time": "2024-07-24T11:46:58.027Z"
   },
   {
    "duration": 0,
    "start_time": "2024-07-24T11:46:58.028Z"
   },
   {
    "duration": 0,
    "start_time": "2024-07-24T11:46:58.029Z"
   },
   {
    "duration": 0,
    "start_time": "2024-07-24T11:46:58.030Z"
   },
   {
    "duration": 0,
    "start_time": "2024-07-24T11:46:58.031Z"
   },
   {
    "duration": 0,
    "start_time": "2024-07-24T11:46:58.032Z"
   },
   {
    "duration": 0,
    "start_time": "2024-07-24T11:46:58.033Z"
   },
   {
    "duration": 0,
    "start_time": "2024-07-24T11:46:58.034Z"
   },
   {
    "duration": 0,
    "start_time": "2024-07-24T11:46:58.035Z"
   },
   {
    "duration": 0,
    "start_time": "2024-07-24T11:46:58.036Z"
   },
   {
    "duration": 0,
    "start_time": "2024-07-24T11:46:58.037Z"
   },
   {
    "duration": 0,
    "start_time": "2024-07-24T11:46:58.038Z"
   },
   {
    "duration": 0,
    "start_time": "2024-07-24T11:46:58.061Z"
   },
   {
    "duration": 0,
    "start_time": "2024-07-24T11:46:58.062Z"
   },
   {
    "duration": 0,
    "start_time": "2024-07-24T11:46:58.063Z"
   },
   {
    "duration": 0,
    "start_time": "2024-07-24T11:46:58.063Z"
   },
   {
    "duration": 0,
    "start_time": "2024-07-24T11:46:58.064Z"
   },
   {
    "duration": 0,
    "start_time": "2024-07-24T11:46:58.065Z"
   },
   {
    "duration": 0,
    "start_time": "2024-07-24T11:46:58.066Z"
   },
   {
    "duration": 0,
    "start_time": "2024-07-24T11:46:58.067Z"
   },
   {
    "duration": 0,
    "start_time": "2024-07-24T11:46:58.068Z"
   },
   {
    "duration": 624,
    "start_time": "2024-07-24T11:47:35.486Z"
   },
   {
    "duration": 51,
    "start_time": "2024-07-24T11:47:36.112Z"
   },
   {
    "duration": 14,
    "start_time": "2024-07-24T11:47:36.165Z"
   },
   {
    "duration": 17,
    "start_time": "2024-07-24T11:47:36.181Z"
   },
   {
    "duration": 19,
    "start_time": "2024-07-24T11:47:36.201Z"
   },
   {
    "duration": 40,
    "start_time": "2024-07-24T11:47:36.222Z"
   },
   {
    "duration": 259,
    "start_time": "2024-07-24T11:47:36.264Z"
   },
   {
    "duration": 13,
    "start_time": "2024-07-24T11:47:36.525Z"
   },
   {
    "duration": 194,
    "start_time": "2024-07-24T11:47:36.539Z"
   },
   {
    "duration": 227,
    "start_time": "2024-07-24T11:47:36.735Z"
   },
   {
    "duration": 4,
    "start_time": "2024-07-24T11:47:36.964Z"
   },
   {
    "duration": 15,
    "start_time": "2024-07-24T11:47:36.970Z"
   },
   {
    "duration": 19,
    "start_time": "2024-07-24T11:47:36.987Z"
   },
   {
    "duration": 12,
    "start_time": "2024-07-24T11:47:37.009Z"
   },
   {
    "duration": 9,
    "start_time": "2024-07-24T11:47:37.023Z"
   },
   {
    "duration": 28,
    "start_time": "2024-07-24T11:47:37.033Z"
   },
   {
    "duration": 4,
    "start_time": "2024-07-24T11:47:37.062Z"
   },
   {
    "duration": 5,
    "start_time": "2024-07-24T11:47:37.067Z"
   },
   {
    "duration": 19,
    "start_time": "2024-07-24T11:47:37.074Z"
   },
   {
    "duration": 18,
    "start_time": "2024-07-24T11:47:37.095Z"
   },
   {
    "duration": 5610,
    "start_time": "2024-07-24T11:47:37.114Z"
   },
   {
    "duration": 4,
    "start_time": "2024-07-24T11:47:42.726Z"
   },
   {
    "duration": 4934,
    "start_time": "2024-07-24T11:47:42.731Z"
   },
   {
    "duration": 21,
    "start_time": "2024-07-24T11:47:47.667Z"
   },
   {
    "duration": 28,
    "start_time": "2024-07-24T11:47:47.689Z"
   },
   {
    "duration": 19,
    "start_time": "2024-07-24T11:47:47.719Z"
   },
   {
    "duration": 10,
    "start_time": "2024-07-24T11:47:47.740Z"
   },
   {
    "duration": 547,
    "start_time": "2024-07-24T11:47:47.751Z"
   },
   {
    "duration": 8,
    "start_time": "2024-07-24T11:47:48.300Z"
   },
   {
    "duration": 25,
    "start_time": "2024-07-24T11:47:48.309Z"
   },
   {
    "duration": 22,
    "start_time": "2024-07-24T11:47:48.335Z"
   },
   {
    "duration": 44,
    "start_time": "2024-07-24T11:47:48.359Z"
   },
   {
    "duration": 1109,
    "start_time": "2024-07-24T11:47:48.405Z"
   },
   {
    "duration": 5,
    "start_time": "2024-07-24T11:47:49.515Z"
   },
   {
    "duration": 13,
    "start_time": "2024-07-24T11:47:49.521Z"
   },
   {
    "duration": 18,
    "start_time": "2024-07-24T11:47:49.535Z"
   },
   {
    "duration": 194,
    "start_time": "2024-07-24T11:47:49.555Z"
   },
   {
    "duration": 11,
    "start_time": "2024-07-24T11:50:41.982Z"
   },
   {
    "duration": 14,
    "start_time": "2024-07-24T12:19:44.226Z"
   },
   {
    "duration": 14,
    "start_time": "2024-07-24T12:20:36.346Z"
   },
   {
    "duration": 195,
    "start_time": "2024-07-24T12:20:45.595Z"
   },
   {
    "duration": 18,
    "start_time": "2024-07-24T12:30:22.746Z"
   },
   {
    "duration": 13,
    "start_time": "2024-07-24T12:31:09.173Z"
   },
   {
    "duration": 14,
    "start_time": "2024-07-24T14:06:12.757Z"
   },
   {
    "duration": 8,
    "start_time": "2024-07-24T14:07:08.961Z"
   },
   {
    "duration": 79,
    "start_time": "2024-07-24T14:07:33.144Z"
   },
   {
    "duration": 11,
    "start_time": "2024-07-24T14:08:55.754Z"
   },
   {
    "duration": 77,
    "start_time": "2024-07-24T14:09:46.119Z"
   },
   {
    "duration": 10,
    "start_time": "2024-07-24T14:09:56.328Z"
   },
   {
    "duration": 15,
    "start_time": "2024-07-24T14:20:34.523Z"
   },
   {
    "duration": 16,
    "start_time": "2024-07-24T14:21:18.428Z"
   },
   {
    "duration": 71,
    "start_time": "2024-07-24T14:22:53.698Z"
   },
   {
    "duration": 16,
    "start_time": "2024-07-24T14:23:01.005Z"
   },
   {
    "duration": 16,
    "start_time": "2024-07-24T14:23:37.858Z"
   },
   {
    "duration": 651,
    "start_time": "2024-07-24T14:23:45.947Z"
   },
   {
    "duration": 49,
    "start_time": "2024-07-24T14:23:46.600Z"
   },
   {
    "duration": 11,
    "start_time": "2024-07-24T14:23:46.651Z"
   },
   {
    "duration": 13,
    "start_time": "2024-07-24T14:23:46.663Z"
   },
   {
    "duration": 18,
    "start_time": "2024-07-24T14:23:46.678Z"
   },
   {
    "duration": 14,
    "start_time": "2024-07-24T14:23:46.698Z"
   },
   {
    "duration": 259,
    "start_time": "2024-07-24T14:23:46.714Z"
   },
   {
    "duration": 14,
    "start_time": "2024-07-24T14:23:46.974Z"
   },
   {
    "duration": 165,
    "start_time": "2024-07-24T14:23:46.990Z"
   },
   {
    "duration": 187,
    "start_time": "2024-07-24T14:23:47.160Z"
   },
   {
    "duration": 4,
    "start_time": "2024-07-24T14:23:47.349Z"
   },
   {
    "duration": 7,
    "start_time": "2024-07-24T14:23:47.361Z"
   },
   {
    "duration": 33,
    "start_time": "2024-07-24T14:23:47.370Z"
   },
   {
    "duration": 18,
    "start_time": "2024-07-24T14:23:47.406Z"
   },
   {
    "duration": 10,
    "start_time": "2024-07-24T14:23:47.426Z"
   },
   {
    "duration": 23,
    "start_time": "2024-07-24T14:23:47.438Z"
   },
   {
    "duration": 4,
    "start_time": "2024-07-24T14:23:47.463Z"
   },
   {
    "duration": 6,
    "start_time": "2024-07-24T14:23:47.468Z"
   },
   {
    "duration": 20,
    "start_time": "2024-07-24T14:23:47.475Z"
   },
   {
    "duration": 26,
    "start_time": "2024-07-24T14:23:47.496Z"
   },
   {
    "duration": 5318,
    "start_time": "2024-07-24T14:23:47.524Z"
   },
   {
    "duration": 4,
    "start_time": "2024-07-24T14:23:52.843Z"
   },
   {
    "duration": 4723,
    "start_time": "2024-07-24T14:23:52.849Z"
   },
   {
    "duration": 22,
    "start_time": "2024-07-24T14:23:57.574Z"
   },
   {
    "duration": 23,
    "start_time": "2024-07-24T14:23:57.598Z"
   },
   {
    "duration": 17,
    "start_time": "2024-07-24T14:23:57.623Z"
   },
   {
    "duration": 30,
    "start_time": "2024-07-24T14:23:57.642Z"
   },
   {
    "duration": 643,
    "start_time": "2024-07-24T14:23:57.673Z"
   },
   {
    "duration": 8,
    "start_time": "2024-07-24T14:23:58.317Z"
   },
   {
    "duration": 34,
    "start_time": "2024-07-24T14:23:58.326Z"
   },
   {
    "duration": 101,
    "start_time": "2024-07-24T14:23:58.361Z"
   },
   {
    "duration": 1144,
    "start_time": "2024-07-24T14:23:58.463Z"
   },
   {
    "duration": 5,
    "start_time": "2024-07-24T14:23:59.608Z"
   },
   {
    "duration": 20,
    "start_time": "2024-07-24T14:23:59.614Z"
   },
   {
    "duration": 43,
    "start_time": "2024-07-24T14:23:59.637Z"
   },
   {
    "duration": 222,
    "start_time": "2024-07-24T14:23:59.682Z"
   },
   {
    "duration": 11,
    "start_time": "2024-07-24T14:23:59.906Z"
   },
   {
    "duration": 93,
    "start_time": "2024-07-24T14:23:59.919Z"
   },
   {
    "duration": 0,
    "start_time": "2024-07-24T14:24:00.014Z"
   },
   {
    "duration": 17,
    "start_time": "2024-07-24T14:24:15.631Z"
   },
   {
    "duration": 21,
    "start_time": "2024-07-24T14:24:29.310Z"
   },
   {
    "duration": 15,
    "start_time": "2024-07-24T14:25:38.935Z"
   },
   {
    "duration": 11,
    "start_time": "2024-07-24T14:29:00.034Z"
   },
   {
    "duration": 10,
    "start_time": "2024-07-24T14:29:04.179Z"
   },
   {
    "duration": 8,
    "start_time": "2024-07-24T14:29:38.928Z"
   },
   {
    "duration": 9,
    "start_time": "2024-07-24T14:29:58.713Z"
   },
   {
    "duration": 12,
    "start_time": "2024-07-24T14:33:37.461Z"
   },
   {
    "duration": 661,
    "start_time": "2024-07-24T14:33:44.230Z"
   },
   {
    "duration": 49,
    "start_time": "2024-07-24T14:33:44.893Z"
   },
   {
    "duration": 13,
    "start_time": "2024-07-24T14:33:44.944Z"
   },
   {
    "duration": 37,
    "start_time": "2024-07-24T14:33:44.958Z"
   },
   {
    "duration": 19,
    "start_time": "2024-07-24T14:33:44.997Z"
   },
   {
    "duration": 14,
    "start_time": "2024-07-24T14:33:45.018Z"
   },
   {
    "duration": 259,
    "start_time": "2024-07-24T14:33:45.034Z"
   },
   {
    "duration": 13,
    "start_time": "2024-07-24T14:33:45.295Z"
   },
   {
    "duration": 167,
    "start_time": "2024-07-24T14:33:45.309Z"
   },
   {
    "duration": 205,
    "start_time": "2024-07-24T14:33:45.477Z"
   },
   {
    "duration": 5,
    "start_time": "2024-07-24T14:33:45.683Z"
   },
   {
    "duration": 12,
    "start_time": "2024-07-24T14:33:45.689Z"
   },
   {
    "duration": 32,
    "start_time": "2024-07-24T14:33:45.703Z"
   },
   {
    "duration": 25,
    "start_time": "2024-07-24T14:33:45.738Z"
   },
   {
    "duration": 9,
    "start_time": "2024-07-24T14:33:45.765Z"
   },
   {
    "duration": 4,
    "start_time": "2024-07-24T14:33:45.776Z"
   },
   {
    "duration": 6,
    "start_time": "2024-07-24T14:33:45.782Z"
   },
   {
    "duration": 18,
    "start_time": "2024-07-24T14:33:45.789Z"
   },
   {
    "duration": 25,
    "start_time": "2024-07-24T14:33:45.809Z"
   },
   {
    "duration": 41,
    "start_time": "2024-07-24T14:33:45.836Z"
   },
   {
    "duration": 5453,
    "start_time": "2024-07-24T14:33:45.880Z"
   },
   {
    "duration": 4,
    "start_time": "2024-07-24T14:33:51.335Z"
   },
   {
    "duration": 4897,
    "start_time": "2024-07-24T14:33:51.341Z"
   },
   {
    "duration": 30,
    "start_time": "2024-07-24T14:33:56.240Z"
   },
   {
    "duration": 20,
    "start_time": "2024-07-24T14:33:56.271Z"
   },
   {
    "duration": 5,
    "start_time": "2024-07-24T14:33:56.293Z"
   },
   {
    "duration": 6,
    "start_time": "2024-07-24T14:33:56.300Z"
   },
   {
    "duration": 546,
    "start_time": "2024-07-24T14:33:56.307Z"
   },
   {
    "duration": 13,
    "start_time": "2024-07-24T14:33:56.854Z"
   },
   {
    "duration": 9,
    "start_time": "2024-07-24T14:33:56.869Z"
   },
   {
    "duration": 14,
    "start_time": "2024-07-24T14:33:56.880Z"
   },
   {
    "duration": 1096,
    "start_time": "2024-07-24T14:33:56.895Z"
   },
   {
    "duration": 4,
    "start_time": "2024-07-24T14:33:57.993Z"
   },
   {
    "duration": 6,
    "start_time": "2024-07-24T14:33:57.999Z"
   },
   {
    "duration": 13,
    "start_time": "2024-07-24T14:33:58.006Z"
   },
   {
    "duration": 196,
    "start_time": "2024-07-24T14:33:58.021Z"
   },
   {
    "duration": 9,
    "start_time": "2024-07-24T14:33:58.218Z"
   },
   {
    "duration": 14,
    "start_time": "2024-07-24T14:33:58.229Z"
   },
   {
    "duration": 9,
    "start_time": "2024-07-24T14:33:58.261Z"
   },
   {
    "duration": 22,
    "start_time": "2024-07-24T14:33:58.271Z"
   },
   {
    "duration": 219,
    "start_time": "2024-07-24T15:03:12.229Z"
   },
   {
    "duration": 174,
    "start_time": "2024-07-24T15:07:32.340Z"
   },
   {
    "duration": 145,
    "start_time": "2024-07-24T15:07:46.310Z"
   },
   {
    "duration": 141,
    "start_time": "2024-07-24T15:09:57.692Z"
   },
   {
    "duration": 143,
    "start_time": "2024-07-24T15:11:03.075Z"
   },
   {
    "duration": 17,
    "start_time": "2024-07-24T15:31:28.242Z"
   },
   {
    "duration": 1137,
    "start_time": "2024-07-24T15:35:45.829Z"
   },
   {
    "duration": 49,
    "start_time": "2024-07-24T15:35:46.968Z"
   },
   {
    "duration": 12,
    "start_time": "2024-07-24T15:35:47.018Z"
   },
   {
    "duration": 14,
    "start_time": "2024-07-24T15:35:47.031Z"
   },
   {
    "duration": 18,
    "start_time": "2024-07-24T15:35:47.047Z"
   },
   {
    "duration": 14,
    "start_time": "2024-07-24T15:35:47.066Z"
   },
   {
    "duration": 260,
    "start_time": "2024-07-24T15:35:47.082Z"
   },
   {
    "duration": 20,
    "start_time": "2024-07-24T15:35:47.343Z"
   },
   {
    "duration": 157,
    "start_time": "2024-07-24T15:35:47.364Z"
   },
   {
    "duration": 196,
    "start_time": "2024-07-24T15:35:47.523Z"
   },
   {
    "duration": 5,
    "start_time": "2024-07-24T15:35:47.721Z"
   },
   {
    "duration": 11,
    "start_time": "2024-07-24T15:35:47.727Z"
   },
   {
    "duration": 29,
    "start_time": "2024-07-24T15:35:47.741Z"
   },
   {
    "duration": 24,
    "start_time": "2024-07-24T15:35:47.773Z"
   },
   {
    "duration": 31,
    "start_time": "2024-07-24T15:35:47.799Z"
   },
   {
    "duration": 18,
    "start_time": "2024-07-24T15:35:47.832Z"
   },
   {
    "duration": 13,
    "start_time": "2024-07-24T15:35:47.852Z"
   },
   {
    "duration": 21,
    "start_time": "2024-07-24T15:35:47.867Z"
   },
   {
    "duration": 32,
    "start_time": "2024-07-24T15:35:47.889Z"
   },
   {
    "duration": 39,
    "start_time": "2024-07-24T15:35:47.922Z"
   },
   {
    "duration": 5498,
    "start_time": "2024-07-24T15:35:47.963Z"
   },
   {
    "duration": 4,
    "start_time": "2024-07-24T15:35:53.463Z"
   },
   {
    "duration": 4761,
    "start_time": "2024-07-24T15:35:53.468Z"
   },
   {
    "duration": 19,
    "start_time": "2024-07-24T15:35:58.231Z"
   },
   {
    "duration": 4,
    "start_time": "2024-07-24T15:35:58.260Z"
   },
   {
    "duration": 21,
    "start_time": "2024-07-24T15:35:58.266Z"
   },
   {
    "duration": 22,
    "start_time": "2024-07-24T15:35:58.289Z"
   },
   {
    "duration": 270,
    "start_time": "2024-07-24T15:35:58.313Z"
   },
   {
    "duration": 8,
    "start_time": "2024-07-24T15:35:58.584Z"
   },
   {
    "duration": 8,
    "start_time": "2024-07-24T15:35:58.594Z"
   },
   {
    "duration": 19,
    "start_time": "2024-07-24T15:35:58.604Z"
   },
   {
    "duration": 1165,
    "start_time": "2024-07-24T15:35:58.625Z"
   },
   {
    "duration": 6,
    "start_time": "2024-07-24T15:35:59.792Z"
   },
   {
    "duration": 7,
    "start_time": "2024-07-24T15:35:59.800Z"
   },
   {
    "duration": 20,
    "start_time": "2024-07-24T15:35:59.809Z"
   },
   {
    "duration": 222,
    "start_time": "2024-07-24T15:35:59.832Z"
   },
   {
    "duration": 10,
    "start_time": "2024-07-24T15:36:00.057Z"
   },
   {
    "duration": 54,
    "start_time": "2024-07-24T15:36:00.069Z"
   },
   {
    "duration": 67,
    "start_time": "2024-07-24T15:36:00.124Z"
   },
   {
    "duration": 82,
    "start_time": "2024-07-24T15:36:00.193Z"
   },
   {
    "duration": 1103,
    "start_time": "2024-07-24T15:37:07.301Z"
   },
   {
    "duration": 48,
    "start_time": "2024-07-24T15:37:08.406Z"
   },
   {
    "duration": 12,
    "start_time": "2024-07-24T15:37:08.456Z"
   },
   {
    "duration": 13,
    "start_time": "2024-07-24T15:37:08.470Z"
   },
   {
    "duration": 21,
    "start_time": "2024-07-24T15:37:08.486Z"
   },
   {
    "duration": 19,
    "start_time": "2024-07-24T15:37:08.509Z"
   },
   {
    "duration": 297,
    "start_time": "2024-07-24T15:37:08.529Z"
   },
   {
    "duration": 15,
    "start_time": "2024-07-24T15:37:08.827Z"
   },
   {
    "duration": 170,
    "start_time": "2024-07-24T15:37:08.844Z"
   },
   {
    "duration": 199,
    "start_time": "2024-07-24T15:37:09.015Z"
   },
   {
    "duration": 4,
    "start_time": "2024-07-24T15:37:09.216Z"
   },
   {
    "duration": 9,
    "start_time": "2024-07-24T15:37:09.221Z"
   },
   {
    "duration": 34,
    "start_time": "2024-07-24T15:37:09.232Z"
   },
   {
    "duration": 12,
    "start_time": "2024-07-24T15:37:09.269Z"
   },
   {
    "duration": 8,
    "start_time": "2024-07-24T15:37:09.282Z"
   },
   {
    "duration": 3,
    "start_time": "2024-07-24T15:37:09.292Z"
   },
   {
    "duration": 4,
    "start_time": "2024-07-24T15:37:09.297Z"
   },
   {
    "duration": 7,
    "start_time": "2024-07-24T15:37:09.302Z"
   },
   {
    "duration": 13,
    "start_time": "2024-07-24T15:37:09.310Z"
   },
   {
    "duration": 45,
    "start_time": "2024-07-24T15:37:09.324Z"
   },
   {
    "duration": 5476,
    "start_time": "2024-07-24T15:37:09.370Z"
   },
   {
    "duration": 4,
    "start_time": "2024-07-24T15:37:14.847Z"
   },
   {
    "duration": 4861,
    "start_time": "2024-07-24T15:37:14.852Z"
   },
   {
    "duration": 25,
    "start_time": "2024-07-24T15:37:19.715Z"
   },
   {
    "duration": 19,
    "start_time": "2024-07-24T15:37:19.742Z"
   },
   {
    "duration": 24,
    "start_time": "2024-07-24T15:37:19.763Z"
   },
   {
    "duration": 5,
    "start_time": "2024-07-24T15:37:19.789Z"
   },
   {
    "duration": 268,
    "start_time": "2024-07-24T15:37:19.795Z"
   },
   {
    "duration": 8,
    "start_time": "2024-07-24T15:37:20.064Z"
   },
   {
    "duration": 13,
    "start_time": "2024-07-24T15:37:20.073Z"
   },
   {
    "duration": 19,
    "start_time": "2024-07-24T15:37:20.088Z"
   },
   {
    "duration": 1139,
    "start_time": "2024-07-24T15:37:20.108Z"
   },
   {
    "duration": 12,
    "start_time": "2024-07-24T15:37:21.249Z"
   },
   {
    "duration": 40,
    "start_time": "2024-07-24T15:37:21.263Z"
   },
   {
    "duration": 49,
    "start_time": "2024-07-24T15:37:21.305Z"
   },
   {
    "duration": 183,
    "start_time": "2024-07-24T15:37:21.355Z"
   },
   {
    "duration": 9,
    "start_time": "2024-07-24T15:37:21.539Z"
   },
   {
    "duration": 23,
    "start_time": "2024-07-24T15:37:21.550Z"
   },
   {
    "duration": 8,
    "start_time": "2024-07-24T15:37:21.575Z"
   },
   {
    "duration": 19,
    "start_time": "2024-07-24T15:37:21.584Z"
   },
   {
    "duration": 1133,
    "start_time": "2024-07-24T15:38:09.537Z"
   },
   {
    "duration": 51,
    "start_time": "2024-07-24T15:38:10.672Z"
   },
   {
    "duration": 20,
    "start_time": "2024-07-24T15:38:10.727Z"
   },
   {
    "duration": 19,
    "start_time": "2024-07-24T15:38:10.750Z"
   },
   {
    "duration": 24,
    "start_time": "2024-07-24T15:38:10.772Z"
   },
   {
    "duration": 17,
    "start_time": "2024-07-24T15:38:10.798Z"
   },
   {
    "duration": 270,
    "start_time": "2024-07-24T15:38:10.817Z"
   },
   {
    "duration": 13,
    "start_time": "2024-07-24T15:38:11.089Z"
   },
   {
    "duration": 160,
    "start_time": "2024-07-24T15:38:11.103Z"
   },
   {
    "duration": 189,
    "start_time": "2024-07-24T15:38:11.265Z"
   },
   {
    "duration": 7,
    "start_time": "2024-07-24T15:38:11.456Z"
   },
   {
    "duration": 26,
    "start_time": "2024-07-24T15:38:11.464Z"
   },
   {
    "duration": 18,
    "start_time": "2024-07-24T15:38:11.492Z"
   },
   {
    "duration": 12,
    "start_time": "2024-07-24T15:38:11.514Z"
   },
   {
    "duration": 11,
    "start_time": "2024-07-24T15:38:11.528Z"
   },
   {
    "duration": 20,
    "start_time": "2024-07-24T15:38:11.541Z"
   },
   {
    "duration": 4,
    "start_time": "2024-07-24T15:38:11.563Z"
   },
   {
    "duration": 7,
    "start_time": "2024-07-24T15:38:11.568Z"
   },
   {
    "duration": 19,
    "start_time": "2024-07-24T15:38:11.576Z"
   },
   {
    "duration": 22,
    "start_time": "2024-07-24T15:38:11.596Z"
   },
   {
    "duration": 5470,
    "start_time": "2024-07-24T15:38:11.620Z"
   },
   {
    "duration": 4,
    "start_time": "2024-07-24T15:38:17.092Z"
   },
   {
    "duration": 4784,
    "start_time": "2024-07-24T15:38:17.097Z"
   },
   {
    "duration": 25,
    "start_time": "2024-07-24T15:38:21.883Z"
   },
   {
    "duration": 14,
    "start_time": "2024-07-24T15:38:21.910Z"
   },
   {
    "duration": 7,
    "start_time": "2024-07-24T15:38:21.926Z"
   },
   {
    "duration": 11,
    "start_time": "2024-07-24T15:38:21.935Z"
   },
   {
    "duration": 245,
    "start_time": "2024-07-24T15:38:21.947Z"
   },
   {
    "duration": 8,
    "start_time": "2024-07-24T15:38:22.194Z"
   },
   {
    "duration": 10,
    "start_time": "2024-07-24T15:38:22.203Z"
   },
   {
    "duration": 17,
    "start_time": "2024-07-24T15:38:22.214Z"
   },
   {
    "duration": 1309,
    "start_time": "2024-07-24T15:38:22.232Z"
   },
   {
    "duration": 5,
    "start_time": "2024-07-24T15:38:23.543Z"
   },
   {
    "duration": 5,
    "start_time": "2024-07-24T15:38:23.560Z"
   },
   {
    "duration": 12,
    "start_time": "2024-07-24T15:38:23.567Z"
   },
   {
    "duration": 222,
    "start_time": "2024-07-24T15:38:23.581Z"
   },
   {
    "duration": 9,
    "start_time": "2024-07-24T15:38:23.804Z"
   },
   {
    "duration": 13,
    "start_time": "2024-07-24T15:38:23.815Z"
   },
   {
    "duration": 30,
    "start_time": "2024-07-24T15:38:23.830Z"
   },
   {
    "duration": 14,
    "start_time": "2024-07-24T15:38:23.862Z"
   },
   {
    "duration": 1058,
    "start_time": "2024-07-24T15:41:04.123Z"
   },
   {
    "duration": 159,
    "start_time": "2024-07-24T15:41:05.182Z"
   },
   {
    "duration": 13,
    "start_time": "2024-07-24T15:41:05.342Z"
   },
   {
    "duration": 15,
    "start_time": "2024-07-24T15:41:05.357Z"
   },
   {
    "duration": 35,
    "start_time": "2024-07-24T15:41:05.375Z"
   },
   {
    "duration": 15,
    "start_time": "2024-07-24T15:41:05.411Z"
   },
   {
    "duration": 251,
    "start_time": "2024-07-24T15:41:05.427Z"
   },
   {
    "duration": 13,
    "start_time": "2024-07-24T15:41:05.680Z"
   },
   {
    "duration": 199,
    "start_time": "2024-07-24T15:41:05.695Z"
   },
   {
    "duration": 208,
    "start_time": "2024-07-24T15:41:05.896Z"
   },
   {
    "duration": 4,
    "start_time": "2024-07-24T15:41:06.105Z"
   },
   {
    "duration": 18,
    "start_time": "2024-07-24T15:41:06.110Z"
   },
   {
    "duration": 33,
    "start_time": "2024-07-24T15:41:06.130Z"
   },
   {
    "duration": 36,
    "start_time": "2024-07-24T15:41:06.165Z"
   },
   {
    "duration": 9,
    "start_time": "2024-07-24T15:41:06.202Z"
   },
   {
    "duration": 13,
    "start_time": "2024-07-24T15:41:06.212Z"
   },
   {
    "duration": 12,
    "start_time": "2024-07-24T15:41:06.226Z"
   },
   {
    "duration": 10,
    "start_time": "2024-07-24T15:41:06.239Z"
   },
   {
    "duration": 21,
    "start_time": "2024-07-24T15:41:06.250Z"
   },
   {
    "duration": 31,
    "start_time": "2024-07-24T15:41:06.273Z"
   },
   {
    "duration": 5429,
    "start_time": "2024-07-24T15:41:06.305Z"
   },
   {
    "duration": 4,
    "start_time": "2024-07-24T15:41:11.736Z"
   },
   {
    "duration": 4811,
    "start_time": "2024-07-24T15:41:11.741Z"
   },
   {
    "duration": 20,
    "start_time": "2024-07-24T15:41:16.561Z"
   },
   {
    "duration": 3,
    "start_time": "2024-07-24T15:41:16.583Z"
   },
   {
    "duration": 9,
    "start_time": "2024-07-24T15:41:16.588Z"
   },
   {
    "duration": 10,
    "start_time": "2024-07-24T15:41:16.599Z"
   },
   {
    "duration": 233,
    "start_time": "2024-07-24T15:41:16.610Z"
   },
   {
    "duration": 19,
    "start_time": "2024-07-24T15:41:16.845Z"
   },
   {
    "duration": 7,
    "start_time": "2024-07-24T15:41:16.866Z"
   },
   {
    "duration": 25,
    "start_time": "2024-07-24T15:41:16.874Z"
   },
   {
    "duration": 1107,
    "start_time": "2024-07-24T15:41:16.900Z"
   },
   {
    "duration": 4,
    "start_time": "2024-07-24T15:41:18.009Z"
   },
   {
    "duration": 30,
    "start_time": "2024-07-24T15:41:18.015Z"
   },
   {
    "duration": 16,
    "start_time": "2024-07-24T15:41:18.047Z"
   },
   {
    "duration": 186,
    "start_time": "2024-07-24T15:41:18.065Z"
   },
   {
    "duration": 14,
    "start_time": "2024-07-24T15:41:18.252Z"
   },
   {
    "duration": 16,
    "start_time": "2024-07-24T15:41:18.268Z"
   },
   {
    "duration": 8,
    "start_time": "2024-07-24T15:41:18.285Z"
   },
   {
    "duration": 19,
    "start_time": "2024-07-24T15:41:18.295Z"
   },
   {
    "duration": 1141,
    "start_time": "2024-07-24T15:46:11.925Z"
   },
   {
    "duration": 156,
    "start_time": "2024-07-24T15:46:13.068Z"
   },
   {
    "duration": 12,
    "start_time": "2024-07-24T15:46:13.226Z"
   },
   {
    "duration": 19,
    "start_time": "2024-07-24T15:46:13.241Z"
   },
   {
    "duration": 19,
    "start_time": "2024-07-24T15:46:13.261Z"
   },
   {
    "duration": 15,
    "start_time": "2024-07-24T15:46:13.281Z"
   },
   {
    "duration": 256,
    "start_time": "2024-07-24T15:46:13.297Z"
   },
   {
    "duration": 16,
    "start_time": "2024-07-24T15:46:13.555Z"
   },
   {
    "duration": 160,
    "start_time": "2024-07-24T15:46:13.572Z"
   },
   {
    "duration": 200,
    "start_time": "2024-07-24T15:46:13.734Z"
   },
   {
    "duration": 4,
    "start_time": "2024-07-24T15:46:13.936Z"
   },
   {
    "duration": 20,
    "start_time": "2024-07-24T15:46:13.941Z"
   },
   {
    "duration": 27,
    "start_time": "2024-07-24T15:46:13.962Z"
   },
   {
    "duration": 12,
    "start_time": "2024-07-24T15:46:13.991Z"
   },
   {
    "duration": 10,
    "start_time": "2024-07-24T15:46:14.004Z"
   },
   {
    "duration": 4,
    "start_time": "2024-07-24T15:46:14.015Z"
   },
   {
    "duration": 40,
    "start_time": "2024-07-24T15:46:14.021Z"
   },
   {
    "duration": 4,
    "start_time": "2024-07-24T15:46:14.062Z"
   },
   {
    "duration": 19,
    "start_time": "2024-07-24T15:46:14.067Z"
   },
   {
    "duration": 18,
    "start_time": "2024-07-24T15:46:14.088Z"
   },
   {
    "duration": 5431,
    "start_time": "2024-07-24T15:46:14.107Z"
   },
   {
    "duration": 5,
    "start_time": "2024-07-24T15:46:19.540Z"
   },
   {
    "duration": 4858,
    "start_time": "2024-07-24T15:46:19.547Z"
   },
   {
    "duration": 21,
    "start_time": "2024-07-24T15:46:24.407Z"
   },
   {
    "duration": 19,
    "start_time": "2024-07-24T15:46:24.430Z"
   },
   {
    "duration": 22,
    "start_time": "2024-07-24T15:46:24.450Z"
   },
   {
    "duration": 4,
    "start_time": "2024-07-24T15:46:24.473Z"
   },
   {
    "duration": 245,
    "start_time": "2024-07-24T15:46:24.481Z"
   },
   {
    "duration": 7,
    "start_time": "2024-07-24T15:46:24.728Z"
   },
   {
    "duration": 27,
    "start_time": "2024-07-24T15:46:24.737Z"
   },
   {
    "duration": 14,
    "start_time": "2024-07-24T15:46:24.766Z"
   },
   {
    "duration": 1092,
    "start_time": "2024-07-24T15:46:24.781Z"
   },
   {
    "duration": 5,
    "start_time": "2024-07-24T15:46:25.874Z"
   },
   {
    "duration": 39,
    "start_time": "2024-07-24T15:46:25.880Z"
   },
   {
    "duration": 53,
    "start_time": "2024-07-24T15:46:25.920Z"
   },
   {
    "duration": 180,
    "start_time": "2024-07-24T15:46:25.975Z"
   },
   {
    "duration": 9,
    "start_time": "2024-07-24T15:46:26.157Z"
   },
   {
    "duration": 13,
    "start_time": "2024-07-24T15:46:26.168Z"
   },
   {
    "duration": 9,
    "start_time": "2024-07-24T15:46:26.183Z"
   },
   {
    "duration": 9,
    "start_time": "2024-07-24T15:46:26.193Z"
   },
   {
    "duration": 48,
    "start_time": "2024-07-24T15:54:19.518Z"
   },
   {
    "duration": 1109,
    "start_time": "2024-07-24T15:54:48.004Z"
   },
   {
    "duration": 159,
    "start_time": "2024-07-24T15:54:49.115Z"
   },
   {
    "duration": 13,
    "start_time": "2024-07-24T15:54:49.275Z"
   },
   {
    "duration": 13,
    "start_time": "2024-07-24T15:54:49.289Z"
   },
   {
    "duration": 18,
    "start_time": "2024-07-24T15:54:49.305Z"
   },
   {
    "duration": 16,
    "start_time": "2024-07-24T15:54:49.324Z"
   },
   {
    "duration": 258,
    "start_time": "2024-07-24T15:54:49.342Z"
   },
   {
    "duration": 13,
    "start_time": "2024-07-24T15:54:49.601Z"
   },
   {
    "duration": 180,
    "start_time": "2024-07-24T15:54:49.616Z"
   },
   {
    "duration": 254,
    "start_time": "2024-07-24T15:54:49.798Z"
   },
   {
    "duration": 4,
    "start_time": "2024-07-24T15:54:50.060Z"
   },
   {
    "duration": 21,
    "start_time": "2024-07-24T15:54:50.066Z"
   },
   {
    "duration": 24,
    "start_time": "2024-07-24T15:54:50.088Z"
   },
   {
    "duration": 25,
    "start_time": "2024-07-24T15:54:50.115Z"
   },
   {
    "duration": 13,
    "start_time": "2024-07-24T15:54:50.142Z"
   },
   {
    "duration": 17,
    "start_time": "2024-07-24T15:54:50.157Z"
   },
   {
    "duration": 4,
    "start_time": "2024-07-24T15:54:50.176Z"
   },
   {
    "duration": 14,
    "start_time": "2024-07-24T15:54:50.181Z"
   },
   {
    "duration": 14,
    "start_time": "2024-07-24T15:54:50.196Z"
   },
   {
    "duration": 14,
    "start_time": "2024-07-24T15:54:50.212Z"
   },
   {
    "duration": 5348,
    "start_time": "2024-07-24T15:54:50.227Z"
   },
   {
    "duration": 4,
    "start_time": "2024-07-24T15:54:55.577Z"
   },
   {
    "duration": 4853,
    "start_time": "2024-07-24T15:54:55.582Z"
   },
   {
    "duration": 30,
    "start_time": "2024-07-24T15:55:00.437Z"
   },
   {
    "duration": 30,
    "start_time": "2024-07-24T15:55:00.470Z"
   },
   {
    "duration": 20,
    "start_time": "2024-07-24T15:55:00.502Z"
   },
   {
    "duration": 79,
    "start_time": "2024-07-24T15:55:00.524Z"
   },
   {
    "duration": 276,
    "start_time": "2024-07-24T15:55:00.605Z"
   },
   {
    "duration": 9,
    "start_time": "2024-07-24T15:55:00.883Z"
   },
   {
    "duration": 46,
    "start_time": "2024-07-24T15:55:00.894Z"
   },
   {
    "duration": 43,
    "start_time": "2024-07-24T15:55:00.941Z"
   },
   {
    "duration": 1153,
    "start_time": "2024-07-24T15:55:00.986Z"
   },
   {
    "duration": 5,
    "start_time": "2024-07-24T15:55:02.141Z"
   },
   {
    "duration": 45,
    "start_time": "2024-07-24T15:55:02.147Z"
   },
   {
    "duration": 31,
    "start_time": "2024-07-24T15:55:02.194Z"
   },
   {
    "duration": 242,
    "start_time": "2024-07-24T15:55:02.226Z"
   },
   {
    "duration": 9,
    "start_time": "2024-07-24T15:55:02.470Z"
   },
   {
    "duration": 16,
    "start_time": "2024-07-24T15:55:02.480Z"
   },
   {
    "duration": 22,
    "start_time": "2024-07-24T15:55:02.497Z"
   },
   {
    "duration": 13,
    "start_time": "2024-07-24T15:55:02.521Z"
   },
   {
    "duration": 713,
    "start_time": "2024-07-24T16:23:46.192Z"
   },
   {
    "duration": 160,
    "start_time": "2024-07-24T16:23:46.907Z"
   },
   {
    "duration": 12,
    "start_time": "2024-07-24T16:23:47.068Z"
   },
   {
    "duration": 14,
    "start_time": "2024-07-24T16:23:47.081Z"
   },
   {
    "duration": 18,
    "start_time": "2024-07-24T16:23:47.097Z"
   },
   {
    "duration": 16,
    "start_time": "2024-07-24T16:23:47.116Z"
   },
   {
    "duration": 262,
    "start_time": "2024-07-24T16:23:47.133Z"
   },
   {
    "duration": 14,
    "start_time": "2024-07-24T16:23:47.397Z"
   },
   {
    "duration": 171,
    "start_time": "2024-07-24T16:23:47.412Z"
   },
   {
    "duration": 194,
    "start_time": "2024-07-24T16:23:47.584Z"
   },
   {
    "duration": 4,
    "start_time": "2024-07-24T16:23:47.780Z"
   },
   {
    "duration": 7,
    "start_time": "2024-07-24T16:23:47.786Z"
   },
   {
    "duration": 25,
    "start_time": "2024-07-24T16:23:47.794Z"
   },
   {
    "duration": 19,
    "start_time": "2024-07-24T16:23:47.822Z"
   },
   {
    "duration": 67,
    "start_time": "2024-07-24T16:23:47.860Z"
   },
   {
    "duration": 7,
    "start_time": "2024-07-24T16:23:47.929Z"
   },
   {
    "duration": 22,
    "start_time": "2024-07-24T16:23:47.939Z"
   },
   {
    "duration": 4,
    "start_time": "2024-07-24T16:23:47.964Z"
   },
   {
    "duration": 26,
    "start_time": "2024-07-24T16:23:47.970Z"
   },
   {
    "duration": 18,
    "start_time": "2024-07-24T16:23:47.998Z"
   },
   {
    "duration": 5433,
    "start_time": "2024-07-24T16:23:48.018Z"
   },
   {
    "duration": 10,
    "start_time": "2024-07-24T16:23:53.452Z"
   },
   {
    "duration": 4846,
    "start_time": "2024-07-24T16:23:53.463Z"
   },
   {
    "duration": 21,
    "start_time": "2024-07-24T16:23:58.311Z"
   },
   {
    "duration": 4,
    "start_time": "2024-07-24T16:23:58.333Z"
   },
   {
    "duration": 23,
    "start_time": "2024-07-24T16:23:58.339Z"
   },
   {
    "duration": 7,
    "start_time": "2024-07-24T16:23:58.363Z"
   },
   {
    "duration": 560,
    "start_time": "2024-07-24T16:23:58.371Z"
   },
   {
    "duration": 10,
    "start_time": "2024-07-24T16:23:58.932Z"
   },
   {
    "duration": 25,
    "start_time": "2024-07-24T16:23:58.943Z"
   },
   {
    "duration": 17,
    "start_time": "2024-07-24T16:23:58.970Z"
   },
   {
    "duration": 1136,
    "start_time": "2024-07-24T16:23:58.988Z"
   },
   {
    "duration": 6,
    "start_time": "2024-07-24T16:24:00.125Z"
   },
   {
    "duration": 51,
    "start_time": "2024-07-24T16:24:00.132Z"
   },
   {
    "duration": 56,
    "start_time": "2024-07-24T16:24:00.185Z"
   },
   {
    "duration": 218,
    "start_time": "2024-07-24T16:24:00.243Z"
   },
   {
    "duration": 10,
    "start_time": "2024-07-24T16:24:00.463Z"
   },
   {
    "duration": 37,
    "start_time": "2024-07-24T16:24:00.475Z"
   },
   {
    "duration": 29,
    "start_time": "2024-07-24T16:24:00.514Z"
   },
   {
    "duration": 114,
    "start_time": "2024-07-24T16:24:00.544Z"
   },
   {
    "duration": 115,
    "start_time": "2024-07-24T16:24:00.662Z"
   },
   {
    "duration": 711,
    "start_time": "2024-07-24T16:25:02.805Z"
   },
   {
    "duration": 49,
    "start_time": "2024-07-24T16:25:03.518Z"
   },
   {
    "duration": 13,
    "start_time": "2024-07-24T16:25:03.569Z"
   },
   {
    "duration": 13,
    "start_time": "2024-07-24T16:25:03.584Z"
   },
   {
    "duration": 31,
    "start_time": "2024-07-24T16:25:03.599Z"
   },
   {
    "duration": 52,
    "start_time": "2024-07-24T16:25:03.632Z"
   },
   {
    "duration": 336,
    "start_time": "2024-07-24T16:25:03.686Z"
   },
   {
    "duration": 16,
    "start_time": "2024-07-24T16:25:04.024Z"
   },
   {
    "duration": 169,
    "start_time": "2024-07-24T16:25:04.042Z"
   },
   {
    "duration": 230,
    "start_time": "2024-07-24T16:25:04.213Z"
   },
   {
    "duration": 4,
    "start_time": "2024-07-24T16:25:04.445Z"
   },
   {
    "duration": 15,
    "start_time": "2024-07-24T16:25:04.450Z"
   },
   {
    "duration": 19,
    "start_time": "2024-07-24T16:25:04.466Z"
   },
   {
    "duration": 14,
    "start_time": "2024-07-24T16:25:04.488Z"
   },
   {
    "duration": 75,
    "start_time": "2024-07-24T16:25:04.503Z"
   },
   {
    "duration": 23,
    "start_time": "2024-07-24T16:25:04.579Z"
   },
   {
    "duration": 3,
    "start_time": "2024-07-24T16:25:04.604Z"
   },
   {
    "duration": 9,
    "start_time": "2024-07-24T16:25:04.609Z"
   },
   {
    "duration": 14,
    "start_time": "2024-07-24T16:25:04.619Z"
   },
   {
    "duration": 34,
    "start_time": "2024-07-24T16:25:04.634Z"
   },
   {
    "duration": 5411,
    "start_time": "2024-07-24T16:25:04.670Z"
   },
   {
    "duration": 4,
    "start_time": "2024-07-24T16:25:10.082Z"
   },
   {
    "duration": 4884,
    "start_time": "2024-07-24T16:25:10.087Z"
   },
   {
    "duration": 20,
    "start_time": "2024-07-24T16:25:14.973Z"
   },
   {
    "duration": 17,
    "start_time": "2024-07-24T16:25:14.994Z"
   },
   {
    "duration": 43,
    "start_time": "2024-07-24T16:25:15.012Z"
   },
   {
    "duration": 49,
    "start_time": "2024-07-24T16:25:15.056Z"
   },
   {
    "duration": 564,
    "start_time": "2024-07-24T16:25:15.106Z"
   },
   {
    "duration": 9,
    "start_time": "2024-07-24T16:25:15.672Z"
   },
   {
    "duration": 33,
    "start_time": "2024-07-24T16:25:15.682Z"
   },
   {
    "duration": 24,
    "start_time": "2024-07-24T16:25:15.717Z"
   },
   {
    "duration": 1175,
    "start_time": "2024-07-24T16:25:15.742Z"
   },
   {
    "duration": 5,
    "start_time": "2024-07-24T16:25:16.918Z"
   },
   {
    "duration": 18,
    "start_time": "2024-07-24T16:25:16.925Z"
   },
   {
    "duration": 22,
    "start_time": "2024-07-24T16:25:16.945Z"
   },
   {
    "duration": 179,
    "start_time": "2024-07-24T16:25:16.969Z"
   },
   {
    "duration": 16,
    "start_time": "2024-07-24T16:25:17.150Z"
   },
   {
    "duration": 14,
    "start_time": "2024-07-24T16:25:17.168Z"
   },
   {
    "duration": 8,
    "start_time": "2024-07-24T16:25:17.183Z"
   },
   {
    "duration": 9,
    "start_time": "2024-07-24T16:25:17.192Z"
   },
   {
    "duration": 208,
    "start_time": "2024-07-24T16:25:17.204Z"
   },
   {
    "duration": 12806,
    "start_time": "2024-07-24T16:26:19.722Z"
   },
   {
    "duration": 7367,
    "start_time": "2024-07-24T16:29:13.910Z"
   },
   {
    "duration": 12311,
    "start_time": "2024-07-24T16:33:19.733Z"
   },
   {
    "duration": 12286,
    "start_time": "2024-07-24T16:36:20.399Z"
   },
   {
    "duration": 846,
    "start_time": "2024-07-25T04:30:44.699Z"
   },
   {
    "duration": 193,
    "start_time": "2024-07-25T04:30:45.547Z"
   },
   {
    "duration": 12,
    "start_time": "2024-07-25T04:30:45.741Z"
   },
   {
    "duration": 23,
    "start_time": "2024-07-25T04:30:45.754Z"
   },
   {
    "duration": 17,
    "start_time": "2024-07-25T04:30:45.779Z"
   },
   {
    "duration": 15,
    "start_time": "2024-07-25T04:30:45.797Z"
   },
   {
    "duration": 234,
    "start_time": "2024-07-25T04:30:45.814Z"
   },
   {
    "duration": 13,
    "start_time": "2024-07-25T04:30:46.050Z"
   },
   {
    "duration": 162,
    "start_time": "2024-07-25T04:30:46.065Z"
   },
   {
    "duration": 233,
    "start_time": "2024-07-25T04:30:46.228Z"
   },
   {
    "duration": 5,
    "start_time": "2024-07-25T04:30:46.462Z"
   },
   {
    "duration": 16,
    "start_time": "2024-07-25T04:30:46.468Z"
   },
   {
    "duration": 18,
    "start_time": "2024-07-25T04:30:46.485Z"
   },
   {
    "duration": 12,
    "start_time": "2024-07-25T04:30:46.506Z"
   },
   {
    "duration": 7,
    "start_time": "2024-07-25T04:30:46.519Z"
   },
   {
    "duration": 4,
    "start_time": "2024-07-25T04:30:46.527Z"
   },
   {
    "duration": 3,
    "start_time": "2024-07-25T04:30:46.532Z"
   },
   {
    "duration": 3,
    "start_time": "2024-07-25T04:30:46.536Z"
   },
   {
    "duration": 50,
    "start_time": "2024-07-25T04:30:46.540Z"
   },
   {
    "duration": 20,
    "start_time": "2024-07-25T04:30:46.592Z"
   },
   {
    "duration": 5140,
    "start_time": "2024-07-25T04:30:46.614Z"
   },
   {
    "duration": 5,
    "start_time": "2024-07-25T04:30:51.755Z"
   },
   {
    "duration": 4568,
    "start_time": "2024-07-25T04:30:51.761Z"
   },
   {
    "duration": 21,
    "start_time": "2024-07-25T04:30:56.330Z"
   },
   {
    "duration": 3,
    "start_time": "2024-07-25T04:30:56.353Z"
   },
   {
    "duration": 24,
    "start_time": "2024-07-25T04:30:56.358Z"
   },
   {
    "duration": 13,
    "start_time": "2024-07-25T04:30:56.384Z"
   },
   {
    "duration": 229,
    "start_time": "2024-07-25T04:30:56.398Z"
   },
   {
    "duration": 7,
    "start_time": "2024-07-25T04:30:56.628Z"
   },
   {
    "duration": 15,
    "start_time": "2024-07-25T04:30:56.636Z"
   },
   {
    "duration": 14,
    "start_time": "2024-07-25T04:30:56.652Z"
   },
   {
    "duration": 1076,
    "start_time": "2024-07-25T04:30:56.668Z"
   },
   {
    "duration": 5,
    "start_time": "2024-07-25T04:30:57.745Z"
   },
   {
    "duration": 7,
    "start_time": "2024-07-25T04:30:57.751Z"
   },
   {
    "duration": 24,
    "start_time": "2024-07-25T04:30:57.760Z"
   },
   {
    "duration": 179,
    "start_time": "2024-07-25T04:30:57.785Z"
   },
   {
    "duration": 17,
    "start_time": "2024-07-25T04:30:57.965Z"
   },
   {
    "duration": 13,
    "start_time": "2024-07-25T04:30:57.983Z"
   },
   {
    "duration": 14,
    "start_time": "2024-07-25T04:30:57.998Z"
   },
   {
    "duration": 6,
    "start_time": "2024-07-25T04:30:58.014Z"
   },
   {
    "duration": 55,
    "start_time": "2024-07-25T12:20:01.234Z"
   },
   {
    "duration": 10,
    "start_time": "2024-07-25T12:28:00.865Z"
   },
   {
    "duration": 908,
    "start_time": "2024-07-25T12:28:14.094Z"
   },
   {
    "duration": 170,
    "start_time": "2024-07-25T12:28:15.004Z"
   },
   {
    "duration": 16,
    "start_time": "2024-07-25T12:28:15.176Z"
   },
   {
    "duration": 20,
    "start_time": "2024-07-25T12:28:15.193Z"
   },
   {
    "duration": 21,
    "start_time": "2024-07-25T12:28:15.215Z"
   },
   {
    "duration": 44,
    "start_time": "2024-07-25T12:28:15.238Z"
   },
   {
    "duration": 280,
    "start_time": "2024-07-25T12:28:15.284Z"
   },
   {
    "duration": 14,
    "start_time": "2024-07-25T12:28:15.566Z"
   },
   {
    "duration": 216,
    "start_time": "2024-07-25T12:28:15.582Z"
   },
   {
    "duration": 217,
    "start_time": "2024-07-25T12:28:15.800Z"
   },
   {
    "duration": 5,
    "start_time": "2024-07-25T12:28:16.018Z"
   },
   {
    "duration": 29,
    "start_time": "2024-07-25T12:28:16.025Z"
   },
   {
    "duration": 21,
    "start_time": "2024-07-25T12:28:16.056Z"
   },
   {
    "duration": 30,
    "start_time": "2024-07-25T12:28:16.080Z"
   },
   {
    "duration": 75,
    "start_time": "2024-07-25T12:28:16.112Z"
   },
   {
    "duration": 4,
    "start_time": "2024-07-25T12:28:16.189Z"
   },
   {
    "duration": 8,
    "start_time": "2024-07-25T12:28:16.195Z"
   },
   {
    "duration": 7,
    "start_time": "2024-07-25T12:28:16.204Z"
   },
   {
    "duration": 19,
    "start_time": "2024-07-25T12:28:16.212Z"
   },
   {
    "duration": 15,
    "start_time": "2024-07-25T12:28:16.256Z"
   },
   {
    "duration": 6027,
    "start_time": "2024-07-25T12:28:16.273Z"
   },
   {
    "duration": 4,
    "start_time": "2024-07-25T12:28:22.302Z"
   },
   {
    "duration": 5274,
    "start_time": "2024-07-25T12:28:22.308Z"
   },
   {
    "duration": 32,
    "start_time": "2024-07-25T12:28:27.584Z"
   },
   {
    "duration": 22,
    "start_time": "2024-07-25T12:28:27.618Z"
   },
   {
    "duration": 12,
    "start_time": "2024-07-25T12:28:27.643Z"
   },
   {
    "duration": 7,
    "start_time": "2024-07-25T12:28:27.657Z"
   },
   {
    "duration": 596,
    "start_time": "2024-07-25T12:28:27.666Z"
   },
   {
    "duration": 9,
    "start_time": "2024-07-25T12:28:28.263Z"
   },
   {
    "duration": 16,
    "start_time": "2024-07-25T12:28:28.273Z"
   },
   {
    "duration": 14,
    "start_time": "2024-07-25T12:28:28.291Z"
   },
   {
    "duration": 1221,
    "start_time": "2024-07-25T12:28:28.307Z"
   },
   {
    "duration": 6,
    "start_time": "2024-07-25T12:28:29.529Z"
   },
   {
    "duration": 20,
    "start_time": "2024-07-25T12:28:29.536Z"
   },
   {
    "duration": 13,
    "start_time": "2024-07-25T12:28:29.558Z"
   },
   {
    "duration": 210,
    "start_time": "2024-07-25T12:28:29.572Z"
   },
   {
    "duration": 14,
    "start_time": "2024-07-25T12:28:29.784Z"
   },
   {
    "duration": 16,
    "start_time": "2024-07-25T12:28:29.800Z"
   },
   {
    "duration": 39,
    "start_time": "2024-07-25T12:28:29.818Z"
   },
   {
    "duration": 14,
    "start_time": "2024-07-25T12:28:29.859Z"
   },
   {
    "duration": 256,
    "start_time": "2024-07-25T12:28:29.877Z"
   },
   {
    "duration": 232,
    "start_time": "2024-07-25T12:32:42.831Z"
   },
   {
    "duration": 92,
    "start_time": "2024-07-25T12:37:08.954Z"
   },
   {
    "duration": 227,
    "start_time": "2024-07-25T12:38:08.470Z"
   },
   {
    "duration": 240,
    "start_time": "2024-07-25T12:46:56.361Z"
   },
   {
    "duration": 236,
    "start_time": "2024-07-25T12:56:26.789Z"
   },
   {
    "duration": 4847,
    "start_time": "2024-07-25T12:58:16.447Z"
   },
   {
    "duration": 1320,
    "start_time": "2024-07-25T13:00:43.323Z"
   },
   {
    "duration": 864,
    "start_time": "2024-07-25T13:06:37.018Z"
   },
   {
    "duration": 52,
    "start_time": "2024-07-25T13:06:37.884Z"
   },
   {
    "duration": 13,
    "start_time": "2024-07-25T13:06:37.938Z"
   },
   {
    "duration": 15,
    "start_time": "2024-07-25T13:06:37.953Z"
   },
   {
    "duration": 20,
    "start_time": "2024-07-25T13:06:37.971Z"
   },
   {
    "duration": 35,
    "start_time": "2024-07-25T13:06:37.993Z"
   },
   {
    "duration": 300,
    "start_time": "2024-07-25T13:06:38.031Z"
   },
   {
    "duration": 24,
    "start_time": "2024-07-25T13:06:38.333Z"
   },
   {
    "duration": 197,
    "start_time": "2024-07-25T13:06:38.360Z"
   },
   {
    "duration": 319,
    "start_time": "2024-07-25T13:06:38.559Z"
   },
   {
    "duration": 5,
    "start_time": "2024-07-25T13:06:38.880Z"
   },
   {
    "duration": 24,
    "start_time": "2024-07-25T13:06:38.887Z"
   },
   {
    "duration": 36,
    "start_time": "2024-07-25T13:06:38.913Z"
   },
   {
    "duration": 36,
    "start_time": "2024-07-25T13:06:38.952Z"
   },
   {
    "duration": 73,
    "start_time": "2024-07-25T13:06:38.990Z"
   },
   {
    "duration": 9,
    "start_time": "2024-07-25T13:06:39.065Z"
   },
   {
    "duration": 15,
    "start_time": "2024-07-25T13:06:39.076Z"
   },
   {
    "duration": 5,
    "start_time": "2024-07-25T13:06:39.092Z"
   },
   {
    "duration": 19,
    "start_time": "2024-07-25T13:06:39.098Z"
   },
   {
    "duration": 36,
    "start_time": "2024-07-25T13:06:39.120Z"
   },
   {
    "duration": 6109,
    "start_time": "2024-07-25T13:06:39.158Z"
   },
   {
    "duration": 6,
    "start_time": "2024-07-25T13:06:45.269Z"
   },
   {
    "duration": 5596,
    "start_time": "2024-07-25T13:06:45.277Z"
   },
   {
    "duration": 24,
    "start_time": "2024-07-25T13:06:50.875Z"
   },
   {
    "duration": 36,
    "start_time": "2024-07-25T13:06:50.901Z"
   },
   {
    "duration": 31,
    "start_time": "2024-07-25T13:06:50.939Z"
   },
   {
    "duration": 19,
    "start_time": "2024-07-25T13:06:50.972Z"
   },
   {
    "duration": 655,
    "start_time": "2024-07-25T13:06:50.992Z"
   },
   {
    "duration": 10,
    "start_time": "2024-07-25T13:06:51.655Z"
   },
   {
    "duration": 19,
    "start_time": "2024-07-25T13:06:51.667Z"
   },
   {
    "duration": 35,
    "start_time": "2024-07-25T13:06:51.688Z"
   },
   {
    "duration": 1235,
    "start_time": "2024-07-25T13:06:51.725Z"
   },
   {
    "duration": 5,
    "start_time": "2024-07-25T13:06:52.962Z"
   },
   {
    "duration": 32,
    "start_time": "2024-07-25T13:06:52.969Z"
   },
   {
    "duration": 38,
    "start_time": "2024-07-25T13:06:53.003Z"
   },
   {
    "duration": 213,
    "start_time": "2024-07-25T13:06:53.043Z"
   },
   {
    "duration": 11,
    "start_time": "2024-07-25T13:06:53.258Z"
   },
   {
    "duration": 21,
    "start_time": "2024-07-25T13:06:53.271Z"
   },
   {
    "duration": 10,
    "start_time": "2024-07-25T13:06:53.294Z"
   },
   {
    "duration": 33,
    "start_time": "2024-07-25T13:06:53.306Z"
   },
   {
    "duration": 241,
    "start_time": "2024-07-25T13:06:53.344Z"
   },
   {
    "duration": 1333,
    "start_time": "2024-07-25T13:06:53.587Z"
   },
   {
    "duration": 846,
    "start_time": "2024-07-25T13:07:50.008Z"
   },
   {
    "duration": 900,
    "start_time": "2024-07-25T13:09:22.064Z"
   },
   {
    "duration": 899,
    "start_time": "2024-07-25T13:10:45.349Z"
   },
   {
    "duration": 783,
    "start_time": "2024-07-25T13:11:17.168Z"
   },
   {
    "duration": 53,
    "start_time": "2024-07-25T13:11:17.956Z"
   },
   {
    "duration": 13,
    "start_time": "2024-07-25T13:11:18.011Z"
   },
   {
    "duration": 36,
    "start_time": "2024-07-25T13:11:18.025Z"
   },
   {
    "duration": 24,
    "start_time": "2024-07-25T13:11:18.063Z"
   },
   {
    "duration": 29,
    "start_time": "2024-07-25T13:11:18.088Z"
   },
   {
    "duration": 290,
    "start_time": "2024-07-25T13:11:18.118Z"
   },
   {
    "duration": 15,
    "start_time": "2024-07-25T13:11:18.410Z"
   },
   {
    "duration": 194,
    "start_time": "2024-07-25T13:11:18.427Z"
   },
   {
    "duration": 247,
    "start_time": "2024-07-25T13:11:18.624Z"
   },
   {
    "duration": 5,
    "start_time": "2024-07-25T13:11:18.873Z"
   },
   {
    "duration": 18,
    "start_time": "2024-07-25T13:11:18.880Z"
   },
   {
    "duration": 41,
    "start_time": "2024-07-25T13:11:18.900Z"
   },
   {
    "duration": 24,
    "start_time": "2024-07-25T13:11:18.944Z"
   },
   {
    "duration": 69,
    "start_time": "2024-07-25T13:11:18.969Z"
   },
   {
    "duration": 16,
    "start_time": "2024-07-25T13:11:19.040Z"
   },
   {
    "duration": 9,
    "start_time": "2024-07-25T13:11:19.058Z"
   },
   {
    "duration": 20,
    "start_time": "2024-07-25T13:11:19.068Z"
   },
   {
    "duration": 40,
    "start_time": "2024-07-25T13:11:19.090Z"
   },
   {
    "duration": 33,
    "start_time": "2024-07-25T13:11:19.132Z"
   },
   {
    "duration": 5902,
    "start_time": "2024-07-25T13:11:19.166Z"
   },
   {
    "duration": 5,
    "start_time": "2024-07-25T13:11:25.070Z"
   },
   {
    "duration": 5435,
    "start_time": "2024-07-25T13:11:25.077Z"
   },
   {
    "duration": 23,
    "start_time": "2024-07-25T13:11:30.514Z"
   },
   {
    "duration": 19,
    "start_time": "2024-07-25T13:11:30.539Z"
   },
   {
    "duration": 64,
    "start_time": "2024-07-25T13:11:30.560Z"
   },
   {
    "duration": 32,
    "start_time": "2024-07-25T13:11:30.626Z"
   },
   {
    "duration": 643,
    "start_time": "2024-07-25T13:11:30.660Z"
   },
   {
    "duration": 10,
    "start_time": "2024-07-25T13:11:31.305Z"
   },
   {
    "duration": 64,
    "start_time": "2024-07-25T13:11:31.317Z"
   },
   {
    "duration": 65,
    "start_time": "2024-07-25T13:11:31.383Z"
   },
   {
    "duration": 1311,
    "start_time": "2024-07-25T13:11:31.451Z"
   },
   {
    "duration": 6,
    "start_time": "2024-07-25T13:11:32.764Z"
   },
   {
    "duration": 24,
    "start_time": "2024-07-25T13:11:32.771Z"
   },
   {
    "duration": 21,
    "start_time": "2024-07-25T13:11:32.797Z"
   },
   {
    "duration": 201,
    "start_time": "2024-07-25T13:11:32.820Z"
   },
   {
    "duration": 12,
    "start_time": "2024-07-25T13:11:33.023Z"
   },
   {
    "duration": 31,
    "start_time": "2024-07-25T13:11:33.037Z"
   },
   {
    "duration": 10,
    "start_time": "2024-07-25T13:11:33.069Z"
   },
   {
    "duration": 39,
    "start_time": "2024-07-25T13:11:33.081Z"
   },
   {
    "duration": 211,
    "start_time": "2024-07-25T13:11:33.125Z"
   },
   {
    "duration": 852,
    "start_time": "2024-07-25T13:11:33.338Z"
   },
   {
    "duration": 817,
    "start_time": "2024-07-25T13:11:41.663Z"
   },
   {
    "duration": 805,
    "start_time": "2024-07-25T13:32:17.737Z"
   },
   {
    "duration": 53,
    "start_time": "2024-07-25T13:32:18.544Z"
   },
   {
    "duration": 15,
    "start_time": "2024-07-25T13:32:18.598Z"
   },
   {
    "duration": 18,
    "start_time": "2024-07-25T13:32:18.614Z"
   },
   {
    "duration": 22,
    "start_time": "2024-07-25T13:32:18.634Z"
   },
   {
    "duration": 17,
    "start_time": "2024-07-25T13:32:18.658Z"
   },
   {
    "duration": 289,
    "start_time": "2024-07-25T13:32:18.677Z"
   },
   {
    "duration": 15,
    "start_time": "2024-07-25T13:32:18.968Z"
   },
   {
    "duration": 201,
    "start_time": "2024-07-25T13:32:18.985Z"
   },
   {
    "duration": 217,
    "start_time": "2024-07-25T13:32:19.188Z"
   },
   {
    "duration": 5,
    "start_time": "2024-07-25T13:32:19.407Z"
   },
   {
    "duration": 8,
    "start_time": "2024-07-25T13:32:19.414Z"
   },
   {
    "duration": 40,
    "start_time": "2024-07-25T13:32:19.425Z"
   },
   {
    "duration": 15,
    "start_time": "2024-07-25T13:32:19.470Z"
   },
   {
    "duration": 81,
    "start_time": "2024-07-25T13:32:19.488Z"
   },
   {
    "duration": 21,
    "start_time": "2024-07-25T13:32:19.571Z"
   },
   {
    "duration": 6,
    "start_time": "2024-07-25T13:32:19.594Z"
   },
   {
    "duration": 9,
    "start_time": "2024-07-25T13:32:19.601Z"
   },
   {
    "duration": 23,
    "start_time": "2024-07-25T13:32:19.612Z"
   },
   {
    "duration": 20,
    "start_time": "2024-07-25T13:32:19.637Z"
   },
   {
    "duration": 5916,
    "start_time": "2024-07-25T13:32:19.659Z"
   },
   {
    "duration": 5,
    "start_time": "2024-07-25T13:32:25.576Z"
   },
   {
    "duration": 5681,
    "start_time": "2024-07-25T13:32:25.583Z"
   },
   {
    "duration": 28,
    "start_time": "2024-07-25T13:32:31.266Z"
   },
   {
    "duration": 149,
    "start_time": "2024-07-25T13:32:31.296Z"
   },
   {
    "duration": 39,
    "start_time": "2024-07-25T13:32:31.447Z"
   },
   {
    "duration": 65,
    "start_time": "2024-07-25T13:32:31.489Z"
   },
   {
    "duration": 676,
    "start_time": "2024-07-25T13:32:31.556Z"
   },
   {
    "duration": 9,
    "start_time": "2024-07-25T13:32:32.234Z"
   },
   {
    "duration": 10,
    "start_time": "2024-07-25T13:32:32.256Z"
   },
   {
    "duration": 31,
    "start_time": "2024-07-25T13:32:32.269Z"
   },
   {
    "duration": 1315,
    "start_time": "2024-07-25T13:32:32.302Z"
   },
   {
    "duration": 5,
    "start_time": "2024-07-25T13:32:33.619Z"
   },
   {
    "duration": 21,
    "start_time": "2024-07-25T13:32:33.626Z"
   },
   {
    "duration": 22,
    "start_time": "2024-07-25T13:32:33.656Z"
   },
   {
    "duration": 248,
    "start_time": "2024-07-25T13:32:33.681Z"
   },
   {
    "duration": 247,
    "start_time": "2024-07-25T13:32:33.931Z"
   },
   {
    "duration": 831,
    "start_time": "2024-07-25T13:32:34.180Z"
   },
   {
    "duration": 76,
    "start_time": "2024-07-25T13:32:35.013Z"
   },
   {
    "duration": 0,
    "start_time": "2024-07-25T13:32:35.091Z"
   },
   {
    "duration": 0,
    "start_time": "2024-07-25T13:32:35.093Z"
   },
   {
    "duration": 0,
    "start_time": "2024-07-25T13:32:35.094Z"
   },
   {
    "duration": 0,
    "start_time": "2024-07-25T13:32:35.096Z"
   },
   {
    "duration": 0,
    "start_time": "2024-07-25T13:32:35.097Z"
   },
   {
    "duration": 0,
    "start_time": "2024-07-25T13:32:35.099Z"
   },
   {
    "duration": 845,
    "start_time": "2024-07-25T13:36:59.558Z"
   },
   {
    "duration": 52,
    "start_time": "2024-07-25T13:37:00.405Z"
   },
   {
    "duration": 19,
    "start_time": "2024-07-25T13:37:00.458Z"
   },
   {
    "duration": 106,
    "start_time": "2024-07-25T13:37:00.479Z"
   },
   {
    "duration": 110,
    "start_time": "2024-07-25T13:37:00.588Z"
   },
   {
    "duration": 117,
    "start_time": "2024-07-25T13:37:00.700Z"
   },
   {
    "duration": 308,
    "start_time": "2024-07-25T13:37:00.819Z"
   },
   {
    "duration": 28,
    "start_time": "2024-07-25T13:37:01.129Z"
   },
   {
    "duration": 310,
    "start_time": "2024-07-25T13:37:01.160Z"
   },
   {
    "duration": 253,
    "start_time": "2024-07-25T13:37:01.473Z"
   },
   {
    "duration": 79,
    "start_time": "2024-07-25T13:37:01.728Z"
   },
   {
    "duration": 46,
    "start_time": "2024-07-25T13:37:01.809Z"
   },
   {
    "duration": 49,
    "start_time": "2024-07-25T13:37:01.856Z"
   },
   {
    "duration": 153,
    "start_time": "2024-07-25T13:37:01.908Z"
   },
   {
    "duration": 135,
    "start_time": "2024-07-25T13:37:02.063Z"
   },
   {
    "duration": 5,
    "start_time": "2024-07-25T13:37:02.200Z"
   },
   {
    "duration": 86,
    "start_time": "2024-07-25T13:37:02.206Z"
   },
   {
    "duration": 58,
    "start_time": "2024-07-25T13:37:02.294Z"
   },
   {
    "duration": 44,
    "start_time": "2024-07-25T13:37:02.354Z"
   },
   {
    "duration": 67,
    "start_time": "2024-07-25T13:37:02.400Z"
   },
   {
    "duration": 6238,
    "start_time": "2024-07-25T13:37:02.468Z"
   },
   {
    "duration": 7,
    "start_time": "2024-07-25T13:37:08.711Z"
   },
   {
    "duration": 5273,
    "start_time": "2024-07-25T13:37:08.720Z"
   },
   {
    "duration": 25,
    "start_time": "2024-07-25T13:37:13.995Z"
   },
   {
    "duration": 11,
    "start_time": "2024-07-25T13:37:14.022Z"
   },
   {
    "duration": 26,
    "start_time": "2024-07-25T13:37:14.035Z"
   },
   {
    "duration": 15,
    "start_time": "2024-07-25T13:37:14.063Z"
   },
   {
    "duration": 642,
    "start_time": "2024-07-25T13:37:14.080Z"
   },
   {
    "duration": 8,
    "start_time": "2024-07-25T13:37:14.724Z"
   },
   {
    "duration": 25,
    "start_time": "2024-07-25T13:37:14.734Z"
   },
   {
    "duration": 16,
    "start_time": "2024-07-25T13:37:14.760Z"
   },
   {
    "duration": 1238,
    "start_time": "2024-07-25T13:37:14.779Z"
   },
   {
    "duration": 5,
    "start_time": "2024-07-25T13:37:16.019Z"
   },
   {
    "duration": 41,
    "start_time": "2024-07-25T13:37:16.026Z"
   },
   {
    "duration": 31,
    "start_time": "2024-07-25T13:37:16.069Z"
   },
   {
    "duration": 197,
    "start_time": "2024-07-25T13:37:16.102Z"
   },
   {
    "duration": 208,
    "start_time": "2024-07-25T13:37:16.301Z"
   },
   {
    "duration": 817,
    "start_time": "2024-07-25T13:37:16.511Z"
   },
   {
    "duration": 10,
    "start_time": "2024-07-25T13:37:17.330Z"
   },
   {
    "duration": 28,
    "start_time": "2024-07-25T13:37:17.342Z"
   },
   {
    "duration": 9,
    "start_time": "2024-07-25T13:37:17.375Z"
   },
   {
    "duration": 14,
    "start_time": "2024-07-25T13:37:17.386Z"
   },
   {
    "duration": 100,
    "start_time": "2024-07-25T13:37:17.402Z"
   },
   {
    "duration": 12,
    "start_time": "2024-07-25T14:04:09.782Z"
   },
   {
    "duration": 84,
    "start_time": "2024-07-25T14:04:20.720Z"
   },
   {
    "duration": 22,
    "start_time": "2024-07-25T14:05:27.266Z"
   },
   {
    "duration": 22,
    "start_time": "2024-07-25T14:07:23.591Z"
   },
   {
    "duration": 12,
    "start_time": "2024-07-25T14:09:43.655Z"
   },
   {
    "duration": 32,
    "start_time": "2024-07-25T14:45:58.955Z"
   },
   {
    "duration": 80,
    "start_time": "2024-07-25T14:47:05.838Z"
   },
   {
    "duration": 28,
    "start_time": "2024-07-25T14:49:48.209Z"
   },
   {
    "duration": 29,
    "start_time": "2024-07-25T14:50:22.066Z"
   },
   {
    "duration": 29,
    "start_time": "2024-07-25T14:50:37.654Z"
   },
   {
    "duration": 48,
    "start_time": "2024-07-25T15:07:18.418Z"
   },
   {
    "duration": 49,
    "start_time": "2024-07-25T15:07:30.163Z"
   },
   {
    "duration": 324,
    "start_time": "2024-07-25T15:12:51.424Z"
   },
   {
    "duration": 128,
    "start_time": "2024-07-25T15:13:11.308Z"
   },
   {
    "duration": 346,
    "start_time": "2024-07-25T15:13:26.712Z"
   },
   {
    "duration": 374,
    "start_time": "2024-07-25T15:19:58.551Z"
   },
   {
    "duration": 467,
    "start_time": "2024-07-25T16:14:11.327Z"
   },
   {
    "duration": 3295,
    "start_time": "2024-07-25T16:14:30.513Z"
   },
   {
    "duration": 54,
    "start_time": "2024-07-25T16:14:33.810Z"
   },
   {
    "duration": 16,
    "start_time": "2024-07-25T16:14:33.866Z"
   },
   {
    "duration": 13,
    "start_time": "2024-07-25T16:14:33.883Z"
   },
   {
    "duration": 20,
    "start_time": "2024-07-25T16:14:33.899Z"
   },
   {
    "duration": 44,
    "start_time": "2024-07-25T16:14:33.920Z"
   },
   {
    "duration": 282,
    "start_time": "2024-07-25T16:14:33.966Z"
   },
   {
    "duration": 16,
    "start_time": "2024-07-25T16:14:34.250Z"
   },
   {
    "duration": 206,
    "start_time": "2024-07-25T16:14:34.268Z"
   },
   {
    "duration": 221,
    "start_time": "2024-07-25T16:14:34.476Z"
   },
   {
    "duration": 5,
    "start_time": "2024-07-25T16:14:34.698Z"
   },
   {
    "duration": 9,
    "start_time": "2024-07-25T16:14:34.704Z"
   },
   {
    "duration": 40,
    "start_time": "2024-07-25T16:14:34.715Z"
   },
   {
    "duration": 15,
    "start_time": "2024-07-25T16:14:34.759Z"
   },
   {
    "duration": 86,
    "start_time": "2024-07-25T16:14:34.776Z"
   },
   {
    "duration": 5,
    "start_time": "2024-07-25T16:14:34.864Z"
   },
   {
    "duration": 31,
    "start_time": "2024-07-25T16:14:34.870Z"
   },
   {
    "duration": 72,
    "start_time": "2024-07-25T16:14:34.904Z"
   },
   {
    "duration": 28,
    "start_time": "2024-07-25T16:14:34.978Z"
   },
   {
    "duration": 22,
    "start_time": "2024-07-25T16:14:35.009Z"
   },
   {
    "duration": 5928,
    "start_time": "2024-07-25T16:14:35.034Z"
   },
   {
    "duration": 5,
    "start_time": "2024-07-25T16:14:40.964Z"
   },
   {
    "duration": 5362,
    "start_time": "2024-07-25T16:14:40.970Z"
   },
   {
    "duration": 32,
    "start_time": "2024-07-25T16:14:46.334Z"
   },
   {
    "duration": 4,
    "start_time": "2024-07-25T16:14:46.367Z"
   },
   {
    "duration": 17,
    "start_time": "2024-07-25T16:14:46.373Z"
   },
   {
    "duration": 7,
    "start_time": "2024-07-25T16:14:46.392Z"
   },
   {
    "duration": 616,
    "start_time": "2024-07-25T16:14:46.401Z"
   },
   {
    "duration": 8,
    "start_time": "2024-07-25T16:14:47.019Z"
   },
   {
    "duration": 33,
    "start_time": "2024-07-25T16:14:47.029Z"
   },
   {
    "duration": 16,
    "start_time": "2024-07-25T16:14:47.064Z"
   },
   {
    "duration": 1299,
    "start_time": "2024-07-25T16:14:47.081Z"
   },
   {
    "duration": 6,
    "start_time": "2024-07-25T16:14:48.381Z"
   },
   {
    "duration": 38,
    "start_time": "2024-07-25T16:14:48.389Z"
   },
   {
    "duration": 33,
    "start_time": "2024-07-25T16:14:48.429Z"
   },
   {
    "duration": 240,
    "start_time": "2024-07-25T16:14:48.464Z"
   },
   {
    "duration": 214,
    "start_time": "2024-07-25T16:14:48.706Z"
   },
   {
    "duration": 782,
    "start_time": "2024-07-25T16:14:48.921Z"
   },
   {
    "duration": 12,
    "start_time": "2024-07-25T16:14:49.705Z"
   },
   {
    "duration": 19,
    "start_time": "2024-07-25T16:14:49.719Z"
   },
   {
    "duration": 10,
    "start_time": "2024-07-25T16:14:49.755Z"
   },
   {
    "duration": 20,
    "start_time": "2024-07-25T16:14:49.766Z"
   },
   {
    "duration": 18,
    "start_time": "2024-07-25T16:14:49.787Z"
   },
   {
    "duration": 107,
    "start_time": "2024-07-25T16:14:49.806Z"
   },
   {
    "duration": 46,
    "start_time": "2024-07-25T16:14:49.914Z"
   },
   {
    "duration": 381,
    "start_time": "2024-07-25T16:14:49.962Z"
   },
   {
    "duration": 389,
    "start_time": "2024-07-25T16:14:50.355Z"
   },
   {
    "duration": 83,
    "start_time": "2024-07-25T16:24:38.403Z"
   },
   {
    "duration": 393,
    "start_time": "2024-07-25T16:25:14.638Z"
   },
   {
    "duration": 15,
    "start_time": "2024-07-25T16:37:31.842Z"
   },
   {
    "duration": 13,
    "start_time": "2024-07-25T16:37:49.541Z"
   },
   {
    "duration": 13,
    "start_time": "2024-07-25T16:37:56.071Z"
   },
   {
    "duration": 391,
    "start_time": "2024-07-25T16:38:08.357Z"
   },
   {
    "duration": 53,
    "start_time": "2024-07-26T06:04:08.927Z"
   },
   {
    "duration": 1209,
    "start_time": "2024-07-26T06:04:23.227Z"
   },
   {
    "duration": 170,
    "start_time": "2024-07-26T06:04:24.438Z"
   },
   {
    "duration": 16,
    "start_time": "2024-07-26T06:04:24.610Z"
   },
   {
    "duration": 36,
    "start_time": "2024-07-26T06:04:24.628Z"
   },
   {
    "duration": 22,
    "start_time": "2024-07-26T06:04:24.667Z"
   },
   {
    "duration": 15,
    "start_time": "2024-07-26T06:04:24.690Z"
   },
   {
    "duration": 266,
    "start_time": "2024-07-26T06:04:24.707Z"
   },
   {
    "duration": 15,
    "start_time": "2024-07-26T06:04:24.975Z"
   },
   {
    "duration": 195,
    "start_time": "2024-07-26T06:04:24.992Z"
   },
   {
    "duration": 218,
    "start_time": "2024-07-26T06:04:25.189Z"
   },
   {
    "duration": 4,
    "start_time": "2024-07-26T06:04:25.409Z"
   },
   {
    "duration": 46,
    "start_time": "2024-07-26T06:04:25.415Z"
   },
   {
    "duration": 26,
    "start_time": "2024-07-26T06:04:25.464Z"
   },
   {
    "duration": 13,
    "start_time": "2024-07-26T06:04:25.494Z"
   },
   {
    "duration": 85,
    "start_time": "2024-07-26T06:04:25.509Z"
   },
   {
    "duration": 9,
    "start_time": "2024-07-26T06:04:25.596Z"
   },
   {
    "duration": 14,
    "start_time": "2024-07-26T06:04:25.606Z"
   },
   {
    "duration": 18,
    "start_time": "2024-07-26T06:04:25.622Z"
   },
   {
    "duration": 22,
    "start_time": "2024-07-26T06:04:25.641Z"
   },
   {
    "duration": 25,
    "start_time": "2024-07-26T06:04:25.665Z"
   },
   {
    "duration": 5873,
    "start_time": "2024-07-26T06:04:25.692Z"
   },
   {
    "duration": 7,
    "start_time": "2024-07-26T06:04:31.567Z"
   },
   {
    "duration": 5298,
    "start_time": "2024-07-26T06:04:31.577Z"
   },
   {
    "duration": 22,
    "start_time": "2024-07-26T06:04:36.876Z"
   },
   {
    "duration": 8,
    "start_time": "2024-07-26T06:04:36.900Z"
   },
   {
    "duration": 11,
    "start_time": "2024-07-26T06:04:36.909Z"
   },
   {
    "duration": 10,
    "start_time": "2024-07-26T06:04:36.921Z"
   },
   {
    "duration": 577,
    "start_time": "2024-07-26T06:04:36.933Z"
   },
   {
    "duration": 9,
    "start_time": "2024-07-26T06:04:37.511Z"
   },
   {
    "duration": 10,
    "start_time": "2024-07-26T06:04:37.522Z"
   },
   {
    "duration": 34,
    "start_time": "2024-07-26T06:04:37.534Z"
   },
   {
    "duration": 1187,
    "start_time": "2024-07-26T06:04:37.570Z"
   },
   {
    "duration": 7,
    "start_time": "2024-07-26T06:04:38.759Z"
   },
   {
    "duration": 15,
    "start_time": "2024-07-26T06:04:38.768Z"
   },
   {
    "duration": 13,
    "start_time": "2024-07-26T06:04:38.785Z"
   },
   {
    "duration": 198,
    "start_time": "2024-07-26T06:04:38.799Z"
   },
   {
    "duration": 203,
    "start_time": "2024-07-26T06:04:38.999Z"
   },
   {
    "duration": 802,
    "start_time": "2024-07-26T06:04:39.204Z"
   },
   {
    "duration": 9,
    "start_time": "2024-07-26T06:04:40.008Z"
   },
   {
    "duration": 35,
    "start_time": "2024-07-26T06:04:40.019Z"
   },
   {
    "duration": 52,
    "start_time": "2024-07-26T06:04:40.057Z"
   },
   {
    "duration": 8,
    "start_time": "2024-07-26T06:04:40.111Z"
   },
   {
    "duration": 22,
    "start_time": "2024-07-26T06:04:40.121Z"
   },
   {
    "duration": 26,
    "start_time": "2024-07-26T06:04:40.144Z"
   },
   {
    "duration": 30,
    "start_time": "2024-07-26T06:04:40.172Z"
   },
   {
    "duration": 342,
    "start_time": "2024-07-26T06:04:40.204Z"
   },
   {
    "duration": 344,
    "start_time": "2024-07-26T06:04:40.547Z"
   },
   {
    "duration": 364,
    "start_time": "2024-07-26T06:07:02.927Z"
   },
   {
    "duration": 70,
    "start_time": "2024-07-26T06:08:36.786Z"
   },
   {
    "duration": 14,
    "start_time": "2024-07-26T06:22:52.327Z"
   },
   {
    "duration": 14,
    "start_time": "2024-07-26T06:26:25.865Z"
   },
   {
    "duration": 14,
    "start_time": "2024-07-26T06:26:39.426Z"
   },
   {
    "duration": 2,
    "start_time": "2024-07-26T06:40:02.230Z"
   },
   {
    "duration": 850,
    "start_time": "2024-07-27T08:08:49.876Z"
   },
   {
    "duration": 169,
    "start_time": "2024-07-27T08:08:50.728Z"
   },
   {
    "duration": 12,
    "start_time": "2024-07-27T08:08:50.898Z"
   },
   {
    "duration": 12,
    "start_time": "2024-07-27T08:08:50.912Z"
   },
   {
    "duration": 18,
    "start_time": "2024-07-27T08:08:50.927Z"
   },
   {
    "duration": 14,
    "start_time": "2024-07-27T08:08:50.946Z"
   },
   {
    "duration": 253,
    "start_time": "2024-07-27T08:08:50.961Z"
   },
   {
    "duration": 12,
    "start_time": "2024-07-27T08:08:51.216Z"
   },
   {
    "duration": 168,
    "start_time": "2024-07-27T08:08:51.229Z"
   },
   {
    "duration": 215,
    "start_time": "2024-07-27T08:08:51.398Z"
   },
   {
    "duration": 3,
    "start_time": "2024-07-27T08:08:51.615Z"
   },
   {
    "duration": 6,
    "start_time": "2024-07-27T08:08:51.620Z"
   },
   {
    "duration": 17,
    "start_time": "2024-07-27T08:08:51.627Z"
   },
   {
    "duration": 11,
    "start_time": "2024-07-27T08:08:51.647Z"
   },
   {
    "duration": 8,
    "start_time": "2024-07-27T08:08:51.660Z"
   },
   {
    "duration": 7,
    "start_time": "2024-07-27T08:08:51.669Z"
   },
   {
    "duration": 9,
    "start_time": "2024-07-27T08:08:51.677Z"
   },
   {
    "duration": 25,
    "start_time": "2024-07-27T08:08:51.687Z"
   },
   {
    "duration": 12,
    "start_time": "2024-07-27T08:08:51.714Z"
   },
   {
    "duration": 11,
    "start_time": "2024-07-27T08:08:51.728Z"
   },
   {
    "duration": 4562,
    "start_time": "2024-07-27T08:08:51.740Z"
   },
   {
    "duration": 3,
    "start_time": "2024-07-27T08:08:56.304Z"
   },
   {
    "duration": 4049,
    "start_time": "2024-07-27T08:08:56.308Z"
   },
   {
    "duration": 18,
    "start_time": "2024-07-27T08:09:00.359Z"
   },
   {
    "duration": 51,
    "start_time": "2024-07-27T08:09:00.378Z"
   },
   {
    "duration": 53,
    "start_time": "2024-07-27T08:09:00.431Z"
   },
   {
    "duration": 172,
    "start_time": "2024-07-27T08:09:00.486Z"
   },
   {
    "duration": 243,
    "start_time": "2024-07-27T08:09:00.660Z"
   },
   {
    "duration": 8,
    "start_time": "2024-07-27T08:09:00.905Z"
   },
   {
    "duration": 46,
    "start_time": "2024-07-27T08:09:00.915Z"
   },
   {
    "duration": 43,
    "start_time": "2024-07-27T08:09:00.962Z"
   },
   {
    "duration": 41,
    "start_time": "2024-07-27T08:09:01.007Z"
   },
   {
    "duration": 54,
    "start_time": "2024-07-27T08:09:01.049Z"
   },
   {
    "duration": 977,
    "start_time": "2024-07-27T08:09:01.105Z"
   },
   {
    "duration": 4,
    "start_time": "2024-07-27T08:09:02.084Z"
   },
   {
    "duration": 6,
    "start_time": "2024-07-27T08:09:02.090Z"
   },
   {
    "duration": 24,
    "start_time": "2024-07-27T08:09:02.097Z"
   },
   {
    "duration": 190,
    "start_time": "2024-07-27T08:09:02.122Z"
   },
   {
    "duration": 178,
    "start_time": "2024-07-27T08:09:02.314Z"
   },
   {
    "duration": 673,
    "start_time": "2024-07-27T08:09:02.493Z"
   },
   {
    "duration": 9,
    "start_time": "2024-07-27T08:09:03.170Z"
   },
   {
    "duration": 19,
    "start_time": "2024-07-27T08:09:03.180Z"
   },
   {
    "duration": 23,
    "start_time": "2024-07-27T08:09:03.201Z"
   },
   {
    "duration": 11,
    "start_time": "2024-07-27T08:09:03.225Z"
   },
   {
    "duration": 12,
    "start_time": "2024-07-27T08:09:03.237Z"
   },
   {
    "duration": 22,
    "start_time": "2024-07-27T08:09:03.250Z"
   },
   {
    "duration": 46,
    "start_time": "2024-07-27T08:09:03.274Z"
   },
   {
    "duration": 359,
    "start_time": "2024-07-27T08:09:03.322Z"
   },
   {
    "duration": 598,
    "start_time": "2024-07-27T08:09:03.682Z"
   },
   {
    "duration": 92,
    "start_time": "2024-07-27T08:09:04.281Z"
   },
   {
    "duration": 12,
    "start_time": "2024-07-27T08:20:43.402Z"
   },
   {
    "duration": 11,
    "start_time": "2024-07-27T08:24:14.984Z"
   },
   {
    "duration": 80,
    "start_time": "2024-07-27T08:26:06.097Z"
   },
   {
    "duration": 695,
    "start_time": "2024-07-27T08:28:28.897Z"
   },
   {
    "duration": 48,
    "start_time": "2024-07-27T08:28:29.594Z"
   },
   {
    "duration": 12,
    "start_time": "2024-07-27T08:28:29.643Z"
   },
   {
    "duration": 12,
    "start_time": "2024-07-27T08:28:29.657Z"
   },
   {
    "duration": 18,
    "start_time": "2024-07-27T08:28:29.670Z"
   },
   {
    "duration": 24,
    "start_time": "2024-07-27T08:28:29.689Z"
   },
   {
    "duration": 227,
    "start_time": "2024-07-27T08:28:29.715Z"
   },
   {
    "duration": 13,
    "start_time": "2024-07-27T08:28:29.943Z"
   },
   {
    "duration": 160,
    "start_time": "2024-07-27T08:28:29.957Z"
   },
   {
    "duration": 183,
    "start_time": "2024-07-27T08:28:30.120Z"
   },
   {
    "duration": 11,
    "start_time": "2024-07-27T08:28:30.304Z"
   },
   {
    "duration": 116,
    "start_time": "2024-07-27T08:28:30.316Z"
   },
   {
    "duration": 99,
    "start_time": "2024-07-27T08:28:30.434Z"
   },
   {
    "duration": 67,
    "start_time": "2024-07-27T08:28:30.535Z"
   },
   {
    "duration": 111,
    "start_time": "2024-07-27T08:28:30.604Z"
   },
   {
    "duration": 36,
    "start_time": "2024-07-27T08:28:30.717Z"
   },
   {
    "duration": 19,
    "start_time": "2024-07-27T08:28:30.755Z"
   },
   {
    "duration": 32,
    "start_time": "2024-07-27T08:28:30.775Z"
   },
   {
    "duration": 48,
    "start_time": "2024-07-27T08:28:30.809Z"
   },
   {
    "duration": 71,
    "start_time": "2024-07-27T08:28:30.859Z"
   },
   {
    "duration": 4432,
    "start_time": "2024-07-27T08:28:30.931Z"
   },
   {
    "duration": 4,
    "start_time": "2024-07-27T08:28:35.365Z"
   },
   {
    "duration": 3960,
    "start_time": "2024-07-27T08:28:35.371Z"
   },
   {
    "duration": 19,
    "start_time": "2024-07-27T08:28:39.333Z"
   },
   {
    "duration": 3,
    "start_time": "2024-07-27T08:28:39.353Z"
   },
   {
    "duration": 4,
    "start_time": "2024-07-27T08:28:39.358Z"
   },
   {
    "duration": 3,
    "start_time": "2024-07-27T08:28:39.364Z"
   },
   {
    "duration": 400,
    "start_time": "2024-07-27T08:28:39.371Z"
   },
   {
    "duration": 6,
    "start_time": "2024-07-27T08:28:39.773Z"
   },
   {
    "duration": 6,
    "start_time": "2024-07-27T08:28:39.781Z"
   },
   {
    "duration": 27,
    "start_time": "2024-07-27T08:28:39.788Z"
   },
   {
    "duration": 8,
    "start_time": "2024-07-27T08:28:39.816Z"
   },
   {
    "duration": 10,
    "start_time": "2024-07-27T08:28:39.825Z"
   },
   {
    "duration": 952,
    "start_time": "2024-07-27T08:28:39.837Z"
   },
   {
    "duration": 4,
    "start_time": "2024-07-27T08:28:40.790Z"
   },
   {
    "duration": 7,
    "start_time": "2024-07-27T08:28:40.796Z"
   },
   {
    "duration": 11,
    "start_time": "2024-07-27T08:28:40.811Z"
   },
   {
    "duration": 169,
    "start_time": "2024-07-27T08:28:40.823Z"
   },
   {
    "duration": 172,
    "start_time": "2024-07-27T08:28:40.994Z"
   },
   {
    "duration": 683,
    "start_time": "2024-07-27T08:28:41.168Z"
   },
   {
    "duration": 12,
    "start_time": "2024-07-27T08:28:41.853Z"
   },
   {
    "duration": 11,
    "start_time": "2024-07-27T08:28:41.866Z"
   },
   {
    "duration": 85,
    "start_time": "2024-07-27T08:28:41.878Z"
   },
   {
    "duration": 0,
    "start_time": "2024-07-27T08:28:41.965Z"
   },
   {
    "duration": 0,
    "start_time": "2024-07-27T08:28:41.965Z"
   },
   {
    "duration": 0,
    "start_time": "2024-07-27T08:28:41.966Z"
   },
   {
    "duration": 0,
    "start_time": "2024-07-27T08:28:41.967Z"
   },
   {
    "duration": 0,
    "start_time": "2024-07-27T08:28:41.968Z"
   },
   {
    "duration": 0,
    "start_time": "2024-07-27T08:28:41.969Z"
   },
   {
    "duration": 0,
    "start_time": "2024-07-27T08:28:41.970Z"
   },
   {
    "duration": 0,
    "start_time": "2024-07-27T08:28:41.971Z"
   },
   {
    "duration": 0,
    "start_time": "2024-07-27T08:28:41.971Z"
   },
   {
    "duration": 0,
    "start_time": "2024-07-27T08:28:41.972Z"
   },
   {
    "duration": 12,
    "start_time": "2024-07-27T08:29:32.509Z"
   },
   {
    "duration": 228,
    "start_time": "2024-07-27T08:42:54.004Z"
   },
   {
    "duration": 658,
    "start_time": "2024-07-27T08:45:14.264Z"
   },
   {
    "duration": 47,
    "start_time": "2024-07-27T08:45:14.924Z"
   },
   {
    "duration": 12,
    "start_time": "2024-07-27T08:45:14.972Z"
   },
   {
    "duration": 16,
    "start_time": "2024-07-27T08:45:14.986Z"
   },
   {
    "duration": 18,
    "start_time": "2024-07-27T08:45:15.003Z"
   },
   {
    "duration": 57,
    "start_time": "2024-07-27T08:45:15.022Z"
   },
   {
    "duration": 244,
    "start_time": "2024-07-27T08:45:15.080Z"
   },
   {
    "duration": 12,
    "start_time": "2024-07-27T08:45:15.325Z"
   },
   {
    "duration": 163,
    "start_time": "2024-07-27T08:45:15.338Z"
   },
   {
    "duration": 184,
    "start_time": "2024-07-27T08:45:15.502Z"
   },
   {
    "duration": 3,
    "start_time": "2024-07-27T08:45:15.687Z"
   },
   {
    "duration": 18,
    "start_time": "2024-07-27T08:45:15.691Z"
   },
   {
    "duration": 16,
    "start_time": "2024-07-27T08:45:15.712Z"
   },
   {
    "duration": 11,
    "start_time": "2024-07-27T08:45:15.731Z"
   },
   {
    "duration": 47,
    "start_time": "2024-07-27T08:45:15.743Z"
   },
   {
    "duration": 22,
    "start_time": "2024-07-27T08:45:15.791Z"
   },
   {
    "duration": 3,
    "start_time": "2024-07-27T08:45:15.814Z"
   },
   {
    "duration": 7,
    "start_time": "2024-07-27T08:45:15.819Z"
   },
   {
    "duration": 13,
    "start_time": "2024-07-27T08:45:15.827Z"
   },
   {
    "duration": 12,
    "start_time": "2024-07-27T08:45:15.842Z"
   },
   {
    "duration": 4442,
    "start_time": "2024-07-27T08:45:15.856Z"
   },
   {
    "duration": 3,
    "start_time": "2024-07-27T08:45:20.300Z"
   },
   {
    "duration": 3790,
    "start_time": "2024-07-27T08:45:20.305Z"
   },
   {
    "duration": 20,
    "start_time": "2024-07-27T08:45:24.097Z"
   },
   {
    "duration": 3,
    "start_time": "2024-07-27T08:45:24.118Z"
   },
   {
    "duration": 4,
    "start_time": "2024-07-27T08:45:24.123Z"
   },
   {
    "duration": 4,
    "start_time": "2024-07-27T08:45:24.129Z"
   },
   {
    "duration": 416,
    "start_time": "2024-07-27T08:45:24.134Z"
   },
   {
    "duration": 7,
    "start_time": "2024-07-27T08:45:24.551Z"
   },
   {
    "duration": 19,
    "start_time": "2024-07-27T08:45:24.559Z"
   },
   {
    "duration": 23,
    "start_time": "2024-07-27T08:45:24.579Z"
   },
   {
    "duration": 8,
    "start_time": "2024-07-27T08:45:24.603Z"
   },
   {
    "duration": 10,
    "start_time": "2024-07-27T08:45:24.612Z"
   },
   {
    "duration": 957,
    "start_time": "2024-07-27T08:45:24.624Z"
   },
   {
    "duration": 4,
    "start_time": "2024-07-27T08:45:25.583Z"
   },
   {
    "duration": 21,
    "start_time": "2024-07-27T08:45:25.588Z"
   },
   {
    "duration": 41,
    "start_time": "2024-07-27T08:45:25.611Z"
   },
   {
    "duration": 164,
    "start_time": "2024-07-27T08:45:25.653Z"
   },
   {
    "duration": 176,
    "start_time": "2024-07-27T08:45:25.818Z"
   },
   {
    "duration": 646,
    "start_time": "2024-07-27T08:45:25.996Z"
   },
   {
    "duration": 12,
    "start_time": "2024-07-27T08:45:26.646Z"
   },
   {
    "duration": 11,
    "start_time": "2024-07-27T08:45:26.659Z"
   },
   {
    "duration": 86,
    "start_time": "2024-07-27T08:45:26.672Z"
   },
   {
    "duration": 8,
    "start_time": "2024-07-27T08:45:26.760Z"
   },
   {
    "duration": 26,
    "start_time": "2024-07-27T08:45:26.769Z"
   },
   {
    "duration": 7,
    "start_time": "2024-07-27T08:45:26.796Z"
   },
   {
    "duration": 34,
    "start_time": "2024-07-27T08:45:26.805Z"
   },
   {
    "duration": 9,
    "start_time": "2024-07-27T08:45:26.841Z"
   },
   {
    "duration": 22,
    "start_time": "2024-07-27T08:45:26.851Z"
   },
   {
    "duration": 28,
    "start_time": "2024-07-27T08:45:26.874Z"
   },
   {
    "duration": 332,
    "start_time": "2024-07-27T08:45:26.904Z"
   },
   {
    "duration": 328,
    "start_time": "2024-07-27T08:45:27.237Z"
   },
   {
    "duration": 63,
    "start_time": "2024-07-27T08:45:27.566Z"
   },
   {
    "duration": 12,
    "start_time": "2024-07-27T08:53:11.691Z"
   },
   {
    "duration": 5,
    "start_time": "2024-07-27T08:55:37.421Z"
   },
   {
    "duration": 5,
    "start_time": "2024-07-27T08:55:45.721Z"
   },
   {
    "duration": 5,
    "start_time": "2024-07-27T08:56:14.043Z"
   },
   {
    "duration": 4,
    "start_time": "2024-07-27T08:56:21.257Z"
   },
   {
    "duration": 5,
    "start_time": "2024-07-27T08:58:18.767Z"
   },
   {
    "duration": 5,
    "start_time": "2024-07-27T08:58:29.068Z"
   },
   {
    "duration": 5,
    "start_time": "2024-07-27T08:58:35.439Z"
   },
   {
    "duration": 5,
    "start_time": "2024-07-27T08:59:53.450Z"
   },
   {
    "duration": 13,
    "start_time": "2024-07-27T09:00:13.968Z"
   },
   {
    "duration": 80,
    "start_time": "2024-07-27T09:05:04.879Z"
   },
   {
    "duration": 15,
    "start_time": "2024-07-27T09:05:17.339Z"
   },
   {
    "duration": 6,
    "start_time": "2024-07-27T09:06:01.291Z"
   },
   {
    "duration": 5,
    "start_time": "2024-07-27T09:06:29.902Z"
   },
   {
    "duration": 664,
    "start_time": "2024-07-27T09:06:37.335Z"
   },
   {
    "duration": 47,
    "start_time": "2024-07-27T09:06:38.000Z"
   },
   {
    "duration": 10,
    "start_time": "2024-07-27T09:06:38.048Z"
   },
   {
    "duration": 12,
    "start_time": "2024-07-27T09:06:38.059Z"
   },
   {
    "duration": 18,
    "start_time": "2024-07-27T09:06:38.073Z"
   },
   {
    "duration": 21,
    "start_time": "2024-07-27T09:06:38.093Z"
   },
   {
    "duration": 232,
    "start_time": "2024-07-27T09:06:38.115Z"
   },
   {
    "duration": 13,
    "start_time": "2024-07-27T09:06:38.349Z"
   },
   {
    "duration": 161,
    "start_time": "2024-07-27T09:06:38.364Z"
   },
   {
    "duration": 205,
    "start_time": "2024-07-27T09:06:38.528Z"
   },
   {
    "duration": 4,
    "start_time": "2024-07-27T09:06:38.734Z"
   },
   {
    "duration": 65,
    "start_time": "2024-07-27T09:06:38.739Z"
   },
   {
    "duration": 16,
    "start_time": "2024-07-27T09:06:38.806Z"
   },
   {
    "duration": 44,
    "start_time": "2024-07-27T09:06:38.824Z"
   },
   {
    "duration": 8,
    "start_time": "2024-07-27T09:06:38.870Z"
   },
   {
    "duration": 4,
    "start_time": "2024-07-27T09:06:38.879Z"
   },
   {
    "duration": 4,
    "start_time": "2024-07-27T09:06:38.885Z"
   },
   {
    "duration": 4,
    "start_time": "2024-07-27T09:06:38.890Z"
   },
   {
    "duration": 66,
    "start_time": "2024-07-27T09:06:38.895Z"
   },
   {
    "duration": 14,
    "start_time": "2024-07-27T09:06:38.962Z"
   },
   {
    "duration": 4474,
    "start_time": "2024-07-27T09:06:38.978Z"
   },
   {
    "duration": 4,
    "start_time": "2024-07-27T09:06:43.454Z"
   },
   {
    "duration": 3991,
    "start_time": "2024-07-27T09:06:43.459Z"
   },
   {
    "duration": 18,
    "start_time": "2024-07-27T09:06:47.452Z"
   },
   {
    "duration": 3,
    "start_time": "2024-07-27T09:06:47.471Z"
   },
   {
    "duration": 21,
    "start_time": "2024-07-27T09:06:47.476Z"
   },
   {
    "duration": 3,
    "start_time": "2024-07-27T09:06:47.499Z"
   },
   {
    "duration": 409,
    "start_time": "2024-07-27T09:06:47.512Z"
   },
   {
    "duration": 8,
    "start_time": "2024-07-27T09:06:47.923Z"
   },
   {
    "duration": 7,
    "start_time": "2024-07-27T09:06:47.932Z"
   },
   {
    "duration": 13,
    "start_time": "2024-07-27T09:06:47.941Z"
   },
   {
    "duration": 11,
    "start_time": "2024-07-27T09:06:47.955Z"
   },
   {
    "duration": 11,
    "start_time": "2024-07-27T09:06:47.968Z"
   },
   {
    "duration": 935,
    "start_time": "2024-07-27T09:06:48.012Z"
   },
   {
    "duration": 5,
    "start_time": "2024-07-27T09:06:48.949Z"
   },
   {
    "duration": 6,
    "start_time": "2024-07-27T09:06:48.955Z"
   },
   {
    "duration": 14,
    "start_time": "2024-07-27T09:06:48.962Z"
   },
   {
    "duration": 190,
    "start_time": "2024-07-27T09:06:48.978Z"
   },
   {
    "duration": 176,
    "start_time": "2024-07-27T09:06:49.170Z"
   },
   {
    "duration": 682,
    "start_time": "2024-07-27T09:06:49.347Z"
   },
   {
    "duration": 11,
    "start_time": "2024-07-27T09:06:50.031Z"
   },
   {
    "duration": 13,
    "start_time": "2024-07-27T09:06:50.044Z"
   },
   {
    "duration": 13,
    "start_time": "2024-07-27T09:06:50.058Z"
   },
   {
    "duration": 6,
    "start_time": "2024-07-27T09:06:50.072Z"
   },
   {
    "duration": 35,
    "start_time": "2024-07-27T09:06:50.079Z"
   },
   {
    "duration": 14,
    "start_time": "2024-07-27T09:06:50.116Z"
   },
   {
    "duration": 9,
    "start_time": "2024-07-27T09:06:50.131Z"
   },
   {
    "duration": 11,
    "start_time": "2024-07-27T09:06:50.141Z"
   },
   {
    "duration": 10,
    "start_time": "2024-07-27T09:06:50.154Z"
   },
   {
    "duration": 54,
    "start_time": "2024-07-27T09:06:50.165Z"
   },
   {
    "duration": 30,
    "start_time": "2024-07-27T09:06:50.221Z"
   },
   {
    "duration": 335,
    "start_time": "2024-07-27T09:06:50.253Z"
   },
   {
    "duration": 325,
    "start_time": "2024-07-27T09:06:50.589Z"
   },
   {
    "duration": 62,
    "start_time": "2024-07-27T09:06:50.915Z"
   },
   {
    "duration": 253,
    "start_time": "2024-07-27T09:12:53.329Z"
   },
   {
    "duration": 241,
    "start_time": "2024-07-27T09:14:50.305Z"
   },
   {
    "duration": 276,
    "start_time": "2024-07-27T09:27:39.436Z"
   },
   {
    "duration": 227,
    "start_time": "2024-07-27T09:40:28.642Z"
   },
   {
    "duration": 12,
    "start_time": "2024-07-27T09:40:32.382Z"
   },
   {
    "duration": 243,
    "start_time": "2024-07-27T09:40:36.014Z"
   },
   {
    "duration": 202,
    "start_time": "2024-07-27T09:43:10.220Z"
   },
   {
    "duration": 200,
    "start_time": "2024-07-27T09:44:32.335Z"
   },
   {
    "duration": 658,
    "start_time": "2024-07-27T09:51:53.064Z"
   },
   {
    "duration": 49,
    "start_time": "2024-07-27T09:51:53.724Z"
   },
   {
    "duration": 25,
    "start_time": "2024-07-27T09:51:53.774Z"
   },
   {
    "duration": 12,
    "start_time": "2024-07-27T09:51:53.800Z"
   },
   {
    "duration": 18,
    "start_time": "2024-07-27T09:51:53.814Z"
   },
   {
    "duration": 14,
    "start_time": "2024-07-27T09:51:53.834Z"
   },
   {
    "duration": 254,
    "start_time": "2024-07-27T09:51:53.849Z"
   },
   {
    "duration": 14,
    "start_time": "2024-07-27T09:51:54.111Z"
   },
   {
    "duration": 197,
    "start_time": "2024-07-27T09:51:54.126Z"
   },
   {
    "duration": 195,
    "start_time": "2024-07-27T09:51:54.324Z"
   },
   {
    "duration": 3,
    "start_time": "2024-07-27T09:51:54.521Z"
   },
   {
    "duration": 78,
    "start_time": "2024-07-27T09:51:54.525Z"
   },
   {
    "duration": 16,
    "start_time": "2024-07-27T09:51:54.605Z"
   },
   {
    "duration": 14,
    "start_time": "2024-07-27T09:51:54.624Z"
   },
   {
    "duration": 47,
    "start_time": "2024-07-27T09:51:54.639Z"
   },
   {
    "duration": 4,
    "start_time": "2024-07-27T09:51:54.687Z"
   },
   {
    "duration": 22,
    "start_time": "2024-07-27T09:51:54.692Z"
   },
   {
    "duration": 3,
    "start_time": "2024-07-27T09:51:54.715Z"
   },
   {
    "duration": 14,
    "start_time": "2024-07-27T09:51:54.720Z"
   },
   {
    "duration": 11,
    "start_time": "2024-07-27T09:51:54.735Z"
   },
   {
    "duration": 4587,
    "start_time": "2024-07-27T09:51:54.747Z"
   },
   {
    "duration": 5,
    "start_time": "2024-07-27T09:51:59.336Z"
   },
   {
    "duration": 4009,
    "start_time": "2024-07-27T09:51:59.343Z"
   },
   {
    "duration": 20,
    "start_time": "2024-07-27T09:52:03.354Z"
   },
   {
    "duration": 3,
    "start_time": "2024-07-27T09:52:03.376Z"
   },
   {
    "duration": 10,
    "start_time": "2024-07-27T09:52:03.381Z"
   },
   {
    "duration": 21,
    "start_time": "2024-07-27T09:52:03.392Z"
   },
   {
    "duration": 447,
    "start_time": "2024-07-27T09:52:03.414Z"
   },
   {
    "duration": 7,
    "start_time": "2024-07-27T09:52:03.863Z"
   },
   {
    "duration": 7,
    "start_time": "2024-07-27T09:52:03.872Z"
   },
   {
    "duration": 36,
    "start_time": "2024-07-27T09:52:03.881Z"
   },
   {
    "duration": 10,
    "start_time": "2024-07-27T09:52:03.918Z"
   },
   {
    "duration": 11,
    "start_time": "2024-07-27T09:52:03.929Z"
   },
   {
    "duration": 1020,
    "start_time": "2024-07-27T09:52:03.942Z"
   },
   {
    "duration": 4,
    "start_time": "2024-07-27T09:52:04.964Z"
   },
   {
    "duration": 23,
    "start_time": "2024-07-27T09:52:04.970Z"
   },
   {
    "duration": 11,
    "start_time": "2024-07-27T09:52:04.995Z"
   },
   {
    "duration": 182,
    "start_time": "2024-07-27T09:52:05.008Z"
   },
   {
    "duration": 184,
    "start_time": "2024-07-27T09:52:05.192Z"
   },
   {
    "duration": 682,
    "start_time": "2024-07-27T09:52:05.377Z"
   },
   {
    "duration": 12,
    "start_time": "2024-07-27T09:52:06.062Z"
   },
   {
    "duration": 243,
    "start_time": "2024-07-27T09:52:06.075Z"
   },
   {
    "duration": 214,
    "start_time": "2024-07-27T09:52:06.320Z"
   },
   {
    "duration": 8,
    "start_time": "2024-07-27T09:52:06.536Z"
   },
   {
    "duration": 74,
    "start_time": "2024-07-27T09:52:06.546Z"
   },
   {
    "duration": 9,
    "start_time": "2024-07-27T09:52:06.621Z"
   },
   {
    "duration": 8,
    "start_time": "2024-07-27T09:52:06.631Z"
   },
   {
    "duration": 11,
    "start_time": "2024-07-27T09:52:06.640Z"
   },
   {
    "duration": 21,
    "start_time": "2024-07-27T09:52:06.653Z"
   },
   {
    "duration": 66,
    "start_time": "2024-07-27T09:52:06.676Z"
   },
   {
    "duration": 349,
    "start_time": "2024-07-27T09:52:06.744Z"
   },
   {
    "duration": 336,
    "start_time": "2024-07-27T09:52:07.094Z"
   },
   {
    "duration": 59,
    "start_time": "2024-07-27T09:52:07.432Z"
   },
   {
    "duration": 238,
    "start_time": "2024-07-27T10:15:43.811Z"
   },
   {
    "duration": 205,
    "start_time": "2024-07-27T10:17:51.789Z"
   },
   {
    "duration": 205,
    "start_time": "2024-07-27T10:18:04.759Z"
   },
   {
    "duration": 93,
    "start_time": "2024-07-27T10:28:15.160Z"
   },
   {
    "duration": 27,
    "start_time": "2024-07-27T10:28:26.275Z"
   },
   {
    "duration": 9,
    "start_time": "2024-07-27T10:28:36.179Z"
   },
   {
    "duration": 8,
    "start_time": "2024-07-27T10:32:01.702Z"
   },
   {
    "duration": 1106,
    "start_time": "2024-07-27T10:32:46.054Z"
   },
   {
    "duration": 47,
    "start_time": "2024-07-27T10:32:47.162Z"
   },
   {
    "duration": 11,
    "start_time": "2024-07-27T10:32:47.210Z"
   },
   {
    "duration": 11,
    "start_time": "2024-07-27T10:32:47.222Z"
   },
   {
    "duration": 17,
    "start_time": "2024-07-27T10:32:47.235Z"
   },
   {
    "duration": 13,
    "start_time": "2024-07-27T10:32:47.253Z"
   },
   {
    "duration": 247,
    "start_time": "2024-07-27T10:32:47.268Z"
   },
   {
    "duration": 12,
    "start_time": "2024-07-27T10:32:47.516Z"
   },
   {
    "duration": 166,
    "start_time": "2024-07-27T10:32:47.529Z"
   },
   {
    "duration": 188,
    "start_time": "2024-07-27T10:32:47.696Z"
   },
   {
    "duration": 3,
    "start_time": "2024-07-27T10:32:47.886Z"
   },
   {
    "duration": 21,
    "start_time": "2024-07-27T10:32:47.891Z"
   },
   {
    "duration": 26,
    "start_time": "2024-07-27T10:32:47.913Z"
   },
   {
    "duration": 13,
    "start_time": "2024-07-27T10:32:47.942Z"
   },
   {
    "duration": 13,
    "start_time": "2024-07-27T10:32:47.956Z"
   },
   {
    "duration": 16,
    "start_time": "2024-07-27T10:32:47.971Z"
   },
   {
    "duration": 3,
    "start_time": "2024-07-27T10:32:47.989Z"
   },
   {
    "duration": 6,
    "start_time": "2024-07-27T10:32:47.993Z"
   },
   {
    "duration": 14,
    "start_time": "2024-07-27T10:32:48.000Z"
   },
   {
    "duration": 11,
    "start_time": "2024-07-27T10:32:48.015Z"
   },
   {
    "duration": 4492,
    "start_time": "2024-07-27T10:32:48.028Z"
   },
   {
    "duration": 4,
    "start_time": "2024-07-27T10:32:52.522Z"
   },
   {
    "duration": 3934,
    "start_time": "2024-07-27T10:32:52.528Z"
   },
   {
    "duration": 18,
    "start_time": "2024-07-27T10:32:56.464Z"
   },
   {
    "duration": 4,
    "start_time": "2024-07-27T10:32:56.483Z"
   },
   {
    "duration": 26,
    "start_time": "2024-07-27T10:32:56.488Z"
   },
   {
    "duration": 7,
    "start_time": "2024-07-27T10:32:56.516Z"
   },
   {
    "duration": 207,
    "start_time": "2024-07-27T10:32:56.525Z"
   },
   {
    "duration": 6,
    "start_time": "2024-07-27T10:32:56.734Z"
   },
   {
    "duration": 11,
    "start_time": "2024-07-27T10:32:56.742Z"
   },
   {
    "duration": 14,
    "start_time": "2024-07-27T10:32:56.754Z"
   },
   {
    "duration": 8,
    "start_time": "2024-07-27T10:32:56.770Z"
   },
   {
    "duration": 18,
    "start_time": "2024-07-27T10:32:56.779Z"
   },
   {
    "duration": 973,
    "start_time": "2024-07-27T10:32:56.812Z"
   },
   {
    "duration": 4,
    "start_time": "2024-07-27T10:32:57.787Z"
   },
   {
    "duration": 6,
    "start_time": "2024-07-27T10:32:57.793Z"
   },
   {
    "duration": 11,
    "start_time": "2024-07-27T10:32:57.811Z"
   },
   {
    "duration": 170,
    "start_time": "2024-07-27T10:32:57.824Z"
   },
   {
    "duration": 169,
    "start_time": "2024-07-27T10:32:57.996Z"
   },
   {
    "duration": 922,
    "start_time": "2024-07-27T10:32:58.167Z"
   },
   {
    "duration": 19,
    "start_time": "2024-07-27T10:32:59.093Z"
   },
   {
    "duration": 224,
    "start_time": "2024-07-27T10:32:59.114Z"
   },
   {
    "duration": 220,
    "start_time": "2024-07-27T10:32:59.339Z"
   },
   {
    "duration": 204,
    "start_time": "2024-07-27T10:32:59.560Z"
   },
   {
    "duration": 9,
    "start_time": "2024-07-27T10:32:59.766Z"
   },
   {
    "duration": 14,
    "start_time": "2024-07-27T10:32:59.776Z"
   },
   {
    "duration": 24,
    "start_time": "2024-07-27T10:32:59.791Z"
   },
   {
    "duration": 8,
    "start_time": "2024-07-27T10:32:59.816Z"
   },
   {
    "duration": 9,
    "start_time": "2024-07-27T10:32:59.825Z"
   },
   {
    "duration": 21,
    "start_time": "2024-07-27T10:32:59.835Z"
   },
   {
    "duration": 105,
    "start_time": "2024-07-27T10:32:59.858Z"
   },
   {
    "duration": 319,
    "start_time": "2024-07-27T10:32:59.965Z"
   },
   {
    "duration": 299,
    "start_time": "2024-07-27T10:33:00.285Z"
   },
   {
    "duration": 28,
    "start_time": "2024-07-27T10:33:00.586Z"
   },
   {
    "duration": 14,
    "start_time": "2024-07-27T10:33:00.616Z"
   },
   {
    "duration": 1153,
    "start_time": "2024-07-27T10:37:39.184Z"
   },
   {
    "duration": 48,
    "start_time": "2024-07-27T10:37:40.339Z"
   },
   {
    "duration": 11,
    "start_time": "2024-07-27T10:37:40.389Z"
   },
   {
    "duration": 12,
    "start_time": "2024-07-27T10:37:40.402Z"
   },
   {
    "duration": 19,
    "start_time": "2024-07-27T10:37:40.417Z"
   },
   {
    "duration": 14,
    "start_time": "2024-07-27T10:37:40.438Z"
   },
   {
    "duration": 244,
    "start_time": "2024-07-27T10:37:40.454Z"
   },
   {
    "duration": 17,
    "start_time": "2024-07-27T10:37:40.700Z"
   },
   {
    "duration": 160,
    "start_time": "2024-07-27T10:37:40.718Z"
   },
   {
    "duration": 184,
    "start_time": "2024-07-27T10:37:40.880Z"
   },
   {
    "duration": 5,
    "start_time": "2024-07-27T10:37:41.066Z"
   },
   {
    "duration": 27,
    "start_time": "2024-07-27T10:37:41.072Z"
   },
   {
    "duration": 24,
    "start_time": "2024-07-27T10:37:41.100Z"
   },
   {
    "duration": 14,
    "start_time": "2024-07-27T10:37:41.129Z"
   },
   {
    "duration": 9,
    "start_time": "2024-07-27T10:37:41.144Z"
   },
   {
    "duration": 4,
    "start_time": "2024-07-27T10:37:41.154Z"
   },
   {
    "duration": 4,
    "start_time": "2024-07-27T10:37:41.159Z"
   },
   {
    "duration": 4,
    "start_time": "2024-07-27T10:37:41.164Z"
   },
   {
    "duration": 50,
    "start_time": "2024-07-27T10:37:41.170Z"
   },
   {
    "duration": 11,
    "start_time": "2024-07-27T10:37:41.221Z"
   },
   {
    "duration": 4565,
    "start_time": "2024-07-27T10:37:41.234Z"
   },
   {
    "duration": 4,
    "start_time": "2024-07-27T10:37:45.801Z"
   },
   {
    "duration": 4032,
    "start_time": "2024-07-27T10:37:45.806Z"
   },
   {
    "duration": 19,
    "start_time": "2024-07-27T10:37:49.840Z"
   },
   {
    "duration": 4,
    "start_time": "2024-07-27T10:37:49.860Z"
   },
   {
    "duration": 77,
    "start_time": "2024-07-27T10:37:49.865Z"
   },
   {
    "duration": 13,
    "start_time": "2024-07-27T10:37:49.943Z"
   },
   {
    "duration": 202,
    "start_time": "2024-07-27T10:37:49.957Z"
   },
   {
    "duration": 7,
    "start_time": "2024-07-27T10:37:50.161Z"
   },
   {
    "duration": 6,
    "start_time": "2024-07-27T10:37:50.170Z"
   },
   {
    "duration": 12,
    "start_time": "2024-07-27T10:37:50.178Z"
   },
   {
    "duration": 27,
    "start_time": "2024-07-27T10:37:50.191Z"
   },
   {
    "duration": 11,
    "start_time": "2024-07-27T10:37:50.219Z"
   },
   {
    "duration": 996,
    "start_time": "2024-07-27T10:37:50.232Z"
   },
   {
    "duration": 4,
    "start_time": "2024-07-27T10:37:51.230Z"
   },
   {
    "duration": 16,
    "start_time": "2024-07-27T10:37:51.235Z"
   },
   {
    "duration": 11,
    "start_time": "2024-07-27T10:37:51.252Z"
   },
   {
    "duration": 174,
    "start_time": "2024-07-27T10:37:51.264Z"
   },
   {
    "duration": 185,
    "start_time": "2024-07-27T10:37:51.440Z"
   },
   {
    "duration": 922,
    "start_time": "2024-07-27T10:37:51.626Z"
   },
   {
    "duration": 11,
    "start_time": "2024-07-27T10:37:52.552Z"
   },
   {
    "duration": 218,
    "start_time": "2024-07-27T10:37:52.564Z"
   },
   {
    "duration": 233,
    "start_time": "2024-07-27T10:37:52.783Z"
   },
   {
    "duration": 203,
    "start_time": "2024-07-27T10:37:53.017Z"
   },
   {
    "duration": 9,
    "start_time": "2024-07-27T10:37:53.221Z"
   },
   {
    "duration": 24,
    "start_time": "2024-07-27T10:37:53.231Z"
   },
   {
    "duration": 8,
    "start_time": "2024-07-27T10:37:53.257Z"
   },
   {
    "duration": 15,
    "start_time": "2024-07-27T10:37:53.266Z"
   },
   {
    "duration": 9,
    "start_time": "2024-07-27T10:37:53.282Z"
   },
   {
    "duration": 33,
    "start_time": "2024-07-27T10:37:53.293Z"
   },
   {
    "duration": 31,
    "start_time": "2024-07-27T10:37:53.327Z"
   },
   {
    "duration": 324,
    "start_time": "2024-07-27T10:37:53.360Z"
   },
   {
    "duration": 304,
    "start_time": "2024-07-27T10:37:53.686Z"
   },
   {
    "duration": 29,
    "start_time": "2024-07-27T10:37:53.991Z"
   },
   {
    "duration": 10,
    "start_time": "2024-07-27T10:37:54.022Z"
   },
   {
    "duration": 10,
    "start_time": "2024-07-27T10:41:17.412Z"
   },
   {
    "duration": 45,
    "start_time": "2024-07-27T14:11:19.406Z"
   },
   {
    "duration": 1294,
    "start_time": "2024-07-27T14:11:59.946Z"
   },
   {
    "duration": 172,
    "start_time": "2024-07-27T14:12:01.241Z"
   },
   {
    "duration": 12,
    "start_time": "2024-07-27T14:12:01.415Z"
   },
   {
    "duration": 48,
    "start_time": "2024-07-27T14:12:01.429Z"
   },
   {
    "duration": 46,
    "start_time": "2024-07-27T14:12:01.480Z"
   },
   {
    "duration": 27,
    "start_time": "2024-07-27T14:12:01.527Z"
   },
   {
    "duration": 325,
    "start_time": "2024-07-27T14:12:01.556Z"
   },
   {
    "duration": 13,
    "start_time": "2024-07-27T14:12:01.882Z"
   },
   {
    "duration": 171,
    "start_time": "2024-07-27T14:12:01.897Z"
   },
   {
    "duration": 202,
    "start_time": "2024-07-27T14:12:02.069Z"
   },
   {
    "duration": 4,
    "start_time": "2024-07-27T14:12:02.272Z"
   },
   {
    "duration": 21,
    "start_time": "2024-07-27T14:12:02.277Z"
   },
   {
    "duration": 46,
    "start_time": "2024-07-27T14:12:02.299Z"
   },
   {
    "duration": 38,
    "start_time": "2024-07-27T14:12:02.348Z"
   },
   {
    "duration": 43,
    "start_time": "2024-07-27T14:12:02.388Z"
   },
   {
    "duration": 34,
    "start_time": "2024-07-27T14:12:02.433Z"
   },
   {
    "duration": 23,
    "start_time": "2024-07-27T14:12:02.468Z"
   },
   {
    "duration": 17,
    "start_time": "2024-07-27T14:12:02.492Z"
   },
   {
    "duration": 24,
    "start_time": "2024-07-27T14:12:02.510Z"
   },
   {
    "duration": 20,
    "start_time": "2024-07-27T14:12:02.535Z"
   },
   {
    "duration": 4570,
    "start_time": "2024-07-27T14:12:02.557Z"
   },
   {
    "duration": 4,
    "start_time": "2024-07-27T14:12:07.129Z"
   },
   {
    "duration": 3988,
    "start_time": "2024-07-27T14:12:07.134Z"
   },
   {
    "duration": 19,
    "start_time": "2024-07-27T14:12:11.124Z"
   },
   {
    "duration": 12,
    "start_time": "2024-07-27T14:12:11.145Z"
   },
   {
    "duration": 12,
    "start_time": "2024-07-27T14:12:11.159Z"
   },
   {
    "duration": 4,
    "start_time": "2024-07-27T14:12:11.173Z"
   },
   {
    "duration": 216,
    "start_time": "2024-07-27T14:12:11.179Z"
   },
   {
    "duration": 6,
    "start_time": "2024-07-27T14:12:11.397Z"
   },
   {
    "duration": 46,
    "start_time": "2024-07-27T14:12:11.412Z"
   },
   {
    "duration": 12,
    "start_time": "2024-07-27T14:12:11.459Z"
   },
   {
    "duration": 8,
    "start_time": "2024-07-27T14:12:11.473Z"
   },
   {
    "duration": 10,
    "start_time": "2024-07-27T14:12:11.482Z"
   },
   {
    "duration": 939,
    "start_time": "2024-07-27T14:12:11.493Z"
   },
   {
    "duration": 4,
    "start_time": "2024-07-27T14:12:12.434Z"
   },
   {
    "duration": 6,
    "start_time": "2024-07-27T14:12:12.439Z"
   },
   {
    "duration": 14,
    "start_time": "2024-07-27T14:12:12.446Z"
   },
   {
    "duration": 176,
    "start_time": "2024-07-27T14:12:12.461Z"
   },
   {
    "duration": 174,
    "start_time": "2024-07-27T14:12:12.638Z"
   },
   {
    "duration": 890,
    "start_time": "2024-07-27T14:12:12.813Z"
   },
   {
    "duration": 11,
    "start_time": "2024-07-27T14:12:13.711Z"
   },
   {
    "duration": 211,
    "start_time": "2024-07-27T14:12:13.723Z"
   },
   {
    "duration": 222,
    "start_time": "2024-07-27T14:12:13.935Z"
   },
   {
    "duration": 200,
    "start_time": "2024-07-27T14:12:14.159Z"
   },
   {
    "duration": 8,
    "start_time": "2024-07-27T14:12:14.361Z"
   },
   {
    "duration": 13,
    "start_time": "2024-07-27T14:12:14.370Z"
   },
   {
    "duration": 8,
    "start_time": "2024-07-27T14:12:14.384Z"
   },
   {
    "duration": 8,
    "start_time": "2024-07-27T14:12:14.412Z"
   },
   {
    "duration": 11,
    "start_time": "2024-07-27T14:12:14.422Z"
   },
   {
    "duration": 22,
    "start_time": "2024-07-27T14:12:14.434Z"
   },
   {
    "duration": 54,
    "start_time": "2024-07-27T14:12:14.458Z"
   },
   {
    "duration": 341,
    "start_time": "2024-07-27T14:12:14.514Z"
   },
   {
    "duration": 317,
    "start_time": "2024-07-27T14:12:14.857Z"
   },
   {
    "duration": 10,
    "start_time": "2024-07-27T14:12:15.176Z"
   },
   {
    "duration": 30,
    "start_time": "2024-07-27T14:12:15.188Z"
   },
   {
    "duration": 151,
    "start_time": "2024-07-27T14:12:15.220Z"
   },
   {
    "duration": 9,
    "start_time": "2024-07-27T14:13:12.600Z"
   },
   {
    "duration": 330,
    "start_time": "2024-07-27T14:35:13.322Z"
   },
   {
    "duration": 1074,
    "start_time": "2024-07-27T14:35:26.966Z"
   },
   {
    "duration": 46,
    "start_time": "2024-07-27T14:35:28.042Z"
   },
   {
    "duration": 11,
    "start_time": "2024-07-27T14:35:28.089Z"
   },
   {
    "duration": 10,
    "start_time": "2024-07-27T14:35:28.102Z"
   },
   {
    "duration": 27,
    "start_time": "2024-07-27T14:35:28.114Z"
   },
   {
    "duration": 13,
    "start_time": "2024-07-27T14:35:28.143Z"
   },
   {
    "duration": 234,
    "start_time": "2024-07-27T14:35:28.158Z"
   },
   {
    "duration": 19,
    "start_time": "2024-07-27T14:35:28.393Z"
   },
   {
    "duration": 151,
    "start_time": "2024-07-27T14:35:28.414Z"
   },
   {
    "duration": 181,
    "start_time": "2024-07-27T14:35:28.567Z"
   },
   {
    "duration": 4,
    "start_time": "2024-07-27T14:35:28.750Z"
   },
   {
    "duration": 5,
    "start_time": "2024-07-27T14:35:28.756Z"
   },
   {
    "duration": 16,
    "start_time": "2024-07-27T14:35:28.763Z"
   },
   {
    "duration": 35,
    "start_time": "2024-07-27T14:35:28.781Z"
   },
   {
    "duration": 9,
    "start_time": "2024-07-27T14:35:28.817Z"
   },
   {
    "duration": 13,
    "start_time": "2024-07-27T14:35:28.827Z"
   },
   {
    "duration": 17,
    "start_time": "2024-07-27T14:35:28.841Z"
   },
   {
    "duration": 22,
    "start_time": "2024-07-27T14:35:28.859Z"
   },
   {
    "duration": 29,
    "start_time": "2024-07-27T14:35:28.883Z"
   },
   {
    "duration": 50,
    "start_time": "2024-07-27T14:35:28.913Z"
   },
   {
    "duration": 4565,
    "start_time": "2024-07-27T14:35:28.964Z"
   },
   {
    "duration": 4,
    "start_time": "2024-07-27T14:35:33.531Z"
   },
   {
    "duration": 4091,
    "start_time": "2024-07-27T14:35:33.536Z"
   },
   {
    "duration": 19,
    "start_time": "2024-07-27T14:35:37.628Z"
   },
   {
    "duration": 3,
    "start_time": "2024-07-27T14:35:37.649Z"
   },
   {
    "duration": 10,
    "start_time": "2024-07-27T14:35:37.653Z"
   },
   {
    "duration": 10,
    "start_time": "2024-07-27T14:35:37.664Z"
   },
   {
    "duration": 222,
    "start_time": "2024-07-27T14:35:37.675Z"
   },
   {
    "duration": 13,
    "start_time": "2024-07-27T14:35:37.899Z"
   },
   {
    "duration": 6,
    "start_time": "2024-07-27T14:35:37.913Z"
   },
   {
    "duration": 12,
    "start_time": "2024-07-27T14:35:37.921Z"
   },
   {
    "duration": 8,
    "start_time": "2024-07-27T14:35:37.935Z"
   },
   {
    "duration": 10,
    "start_time": "2024-07-27T14:35:37.944Z"
   },
   {
    "duration": 957,
    "start_time": "2024-07-27T14:35:37.955Z"
   },
   {
    "duration": 4,
    "start_time": "2024-07-27T14:35:38.913Z"
   },
   {
    "duration": 8,
    "start_time": "2024-07-27T14:35:38.918Z"
   },
   {
    "duration": 11,
    "start_time": "2024-07-27T14:35:38.927Z"
   },
   {
    "duration": 177,
    "start_time": "2024-07-27T14:35:38.939Z"
   },
   {
    "duration": 178,
    "start_time": "2024-07-27T14:35:39.117Z"
   },
   {
    "duration": 850,
    "start_time": "2024-07-27T14:35:39.297Z"
   },
   {
    "duration": 11,
    "start_time": "2024-07-27T14:35:40.152Z"
   },
   {
    "duration": 241,
    "start_time": "2024-07-27T14:35:40.165Z"
   },
   {
    "duration": 224,
    "start_time": "2024-07-27T14:35:40.407Z"
   },
   {
    "duration": 194,
    "start_time": "2024-07-27T14:35:40.632Z"
   },
   {
    "duration": 8,
    "start_time": "2024-07-27T14:35:40.828Z"
   },
   {
    "duration": 19,
    "start_time": "2024-07-27T14:35:40.838Z"
   },
   {
    "duration": 12,
    "start_time": "2024-07-27T14:35:40.858Z"
   },
   {
    "duration": 8,
    "start_time": "2024-07-27T14:35:40.872Z"
   },
   {
    "duration": 31,
    "start_time": "2024-07-27T14:35:40.882Z"
   },
   {
    "duration": 21,
    "start_time": "2024-07-27T14:35:40.914Z"
   },
   {
    "duration": 27,
    "start_time": "2024-07-27T14:35:40.936Z"
   },
   {
    "duration": 316,
    "start_time": "2024-07-27T14:35:40.965Z"
   },
   {
    "duration": 308,
    "start_time": "2024-07-27T14:35:41.283Z"
   },
   {
    "duration": 22,
    "start_time": "2024-07-27T14:35:41.592Z"
   },
   {
    "duration": 9,
    "start_time": "2024-07-27T14:35:41.615Z"
   },
   {
    "duration": 16,
    "start_time": "2024-07-27T14:35:41.626Z"
   },
   {
    "duration": 341,
    "start_time": "2024-07-27T14:36:07.128Z"
   },
   {
    "duration": 323,
    "start_time": "2024-07-27T14:36:37.576Z"
   },
   {
    "duration": 354,
    "start_time": "2024-07-27T14:36:52.608Z"
   },
   {
    "duration": 337,
    "start_time": "2024-07-27T14:37:19.549Z"
   },
   {
    "duration": 338,
    "start_time": "2024-07-27T14:40:35.731Z"
   },
   {
    "duration": 1173,
    "start_time": "2024-07-27T14:40:44.669Z"
   },
   {
    "duration": 47,
    "start_time": "2024-07-27T14:40:45.843Z"
   },
   {
    "duration": 12,
    "start_time": "2024-07-27T14:40:45.891Z"
   },
   {
    "duration": 13,
    "start_time": "2024-07-27T14:40:45.905Z"
   },
   {
    "duration": 20,
    "start_time": "2024-07-27T14:40:45.920Z"
   },
   {
    "duration": 14,
    "start_time": "2024-07-27T14:40:45.941Z"
   },
   {
    "duration": 238,
    "start_time": "2024-07-27T14:40:45.957Z"
   },
   {
    "duration": 17,
    "start_time": "2024-07-27T14:40:46.196Z"
   },
   {
    "duration": 149,
    "start_time": "2024-07-27T14:40:46.214Z"
   },
   {
    "duration": 183,
    "start_time": "2024-07-27T14:40:46.365Z"
   },
   {
    "duration": 3,
    "start_time": "2024-07-27T14:40:46.550Z"
   },
   {
    "duration": 10,
    "start_time": "2024-07-27T14:40:46.555Z"
   },
   {
    "duration": 19,
    "start_time": "2024-07-27T14:40:46.566Z"
   },
   {
    "duration": 11,
    "start_time": "2024-07-27T14:40:46.587Z"
   },
   {
    "duration": 14,
    "start_time": "2024-07-27T14:40:46.612Z"
   },
   {
    "duration": 3,
    "start_time": "2024-07-27T14:40:46.628Z"
   },
   {
    "duration": 17,
    "start_time": "2024-07-27T14:40:46.632Z"
   },
   {
    "duration": 3,
    "start_time": "2024-07-27T14:40:46.651Z"
   },
   {
    "duration": 17,
    "start_time": "2024-07-27T14:40:46.655Z"
   },
   {
    "duration": 29,
    "start_time": "2024-07-27T14:40:46.674Z"
   },
   {
    "duration": 4541,
    "start_time": "2024-07-27T14:40:46.705Z"
   },
   {
    "duration": 4,
    "start_time": "2024-07-27T14:40:51.248Z"
   },
   {
    "duration": 3870,
    "start_time": "2024-07-27T14:40:51.253Z"
   },
   {
    "duration": 18,
    "start_time": "2024-07-27T14:40:55.125Z"
   },
   {
    "duration": 18,
    "start_time": "2024-07-27T14:40:55.145Z"
   },
   {
    "duration": 6,
    "start_time": "2024-07-27T14:40:55.164Z"
   },
   {
    "duration": 3,
    "start_time": "2024-07-27T14:40:55.171Z"
   },
   {
    "duration": 216,
    "start_time": "2024-07-27T14:40:55.176Z"
   },
   {
    "duration": 8,
    "start_time": "2024-07-27T14:40:55.393Z"
   },
   {
    "duration": 15,
    "start_time": "2024-07-27T14:40:55.402Z"
   },
   {
    "duration": 17,
    "start_time": "2024-07-27T14:40:55.418Z"
   },
   {
    "duration": 8,
    "start_time": "2024-07-27T14:40:55.437Z"
   },
   {
    "duration": 13,
    "start_time": "2024-07-27T14:40:55.446Z"
   },
   {
    "duration": 975,
    "start_time": "2024-07-27T14:40:55.460Z"
   },
   {
    "duration": 4,
    "start_time": "2024-07-27T14:40:56.436Z"
   },
   {
    "duration": 9,
    "start_time": "2024-07-27T14:40:56.441Z"
   },
   {
    "duration": 11,
    "start_time": "2024-07-27T14:40:56.451Z"
   },
   {
    "duration": 176,
    "start_time": "2024-07-27T14:40:56.463Z"
   },
   {
    "duration": 176,
    "start_time": "2024-07-27T14:40:56.640Z"
   },
   {
    "duration": 931,
    "start_time": "2024-07-27T14:40:56.817Z"
   },
   {
    "duration": 11,
    "start_time": "2024-07-27T14:40:57.752Z"
   },
   {
    "duration": 302,
    "start_time": "2024-07-27T14:40:57.764Z"
   },
   {
    "duration": 221,
    "start_time": "2024-07-27T14:40:58.068Z"
   },
   {
    "duration": 209,
    "start_time": "2024-07-27T14:40:58.290Z"
   },
   {
    "duration": 12,
    "start_time": "2024-07-27T14:40:58.501Z"
   },
   {
    "duration": 13,
    "start_time": "2024-07-27T14:40:58.514Z"
   },
   {
    "duration": 7,
    "start_time": "2024-07-27T14:40:58.529Z"
   },
   {
    "duration": 12,
    "start_time": "2024-07-27T14:40:58.537Z"
   },
   {
    "duration": 15,
    "start_time": "2024-07-27T14:40:58.551Z"
   },
   {
    "duration": 20,
    "start_time": "2024-07-27T14:40:58.567Z"
   },
   {
    "duration": 49,
    "start_time": "2024-07-27T14:40:58.588Z"
   },
   {
    "duration": 334,
    "start_time": "2024-07-27T14:40:58.639Z"
   },
   {
    "duration": 304,
    "start_time": "2024-07-27T14:40:58.974Z"
   },
   {
    "duration": 10,
    "start_time": "2024-07-27T14:40:59.279Z"
   },
   {
    "duration": 24,
    "start_time": "2024-07-27T14:40:59.290Z"
   },
   {
    "duration": 7,
    "start_time": "2024-07-27T14:40:59.316Z"
   },
   {
    "duration": 326,
    "start_time": "2024-07-27T14:41:20.344Z"
   },
   {
    "duration": 306,
    "start_time": "2024-07-27T14:41:49.857Z"
   },
   {
    "duration": 295,
    "start_time": "2024-07-27T14:41:58.630Z"
   },
   {
    "duration": 424,
    "start_time": "2024-07-27T14:46:48.150Z"
   },
   {
    "duration": 1125,
    "start_time": "2024-07-27T14:49:37.770Z"
   },
   {
    "duration": 57,
    "start_time": "2024-07-27T14:49:38.898Z"
   },
   {
    "duration": 12,
    "start_time": "2024-07-27T14:49:38.957Z"
   },
   {
    "duration": 10,
    "start_time": "2024-07-27T14:49:38.971Z"
   },
   {
    "duration": 18,
    "start_time": "2024-07-27T14:49:38.983Z"
   },
   {
    "duration": 20,
    "start_time": "2024-07-27T14:49:39.002Z"
   },
   {
    "duration": 259,
    "start_time": "2024-07-27T14:49:39.024Z"
   },
   {
    "duration": 13,
    "start_time": "2024-07-27T14:49:39.285Z"
   },
   {
    "duration": 161,
    "start_time": "2024-07-27T14:49:39.300Z"
   },
   {
    "duration": 178,
    "start_time": "2024-07-27T14:49:39.463Z"
   },
   {
    "duration": 4,
    "start_time": "2024-07-27T14:49:39.643Z"
   },
   {
    "duration": 23,
    "start_time": "2024-07-27T14:49:39.648Z"
   },
   {
    "duration": 18,
    "start_time": "2024-07-27T14:49:39.672Z"
   },
   {
    "duration": 26,
    "start_time": "2024-07-27T14:49:39.693Z"
   },
   {
    "duration": 9,
    "start_time": "2024-07-27T14:49:39.721Z"
   },
   {
    "duration": 8,
    "start_time": "2024-07-27T14:49:39.732Z"
   },
   {
    "duration": 4,
    "start_time": "2024-07-27T14:49:39.741Z"
   },
   {
    "duration": 7,
    "start_time": "2024-07-27T14:49:39.747Z"
   },
   {
    "duration": 27,
    "start_time": "2024-07-27T14:49:39.755Z"
   },
   {
    "duration": 10,
    "start_time": "2024-07-27T14:49:39.784Z"
   },
   {
    "duration": 4491,
    "start_time": "2024-07-27T14:49:39.796Z"
   },
   {
    "duration": 4,
    "start_time": "2024-07-27T14:49:44.289Z"
   },
   {
    "duration": 4127,
    "start_time": "2024-07-27T14:49:44.294Z"
   },
   {
    "duration": 19,
    "start_time": "2024-07-27T14:49:48.423Z"
   },
   {
    "duration": 3,
    "start_time": "2024-07-27T14:49:48.443Z"
   },
   {
    "duration": 5,
    "start_time": "2024-07-27T14:49:48.447Z"
   },
   {
    "duration": 11,
    "start_time": "2024-07-27T14:49:48.453Z"
   },
   {
    "duration": 220,
    "start_time": "2024-07-27T14:49:48.466Z"
   },
   {
    "duration": 7,
    "start_time": "2024-07-27T14:49:48.688Z"
   },
   {
    "duration": 21,
    "start_time": "2024-07-27T14:49:48.696Z"
   },
   {
    "duration": 87,
    "start_time": "2024-07-27T14:49:48.719Z"
   },
   {
    "duration": 8,
    "start_time": "2024-07-27T14:49:48.808Z"
   },
   {
    "duration": 11,
    "start_time": "2024-07-27T14:49:48.817Z"
   },
   {
    "duration": 1015,
    "start_time": "2024-07-27T14:49:48.829Z"
   },
   {
    "duration": 4,
    "start_time": "2024-07-27T14:49:49.846Z"
   },
   {
    "duration": 9,
    "start_time": "2024-07-27T14:49:49.851Z"
   },
   {
    "duration": 24,
    "start_time": "2024-07-27T14:49:49.861Z"
   },
   {
    "duration": 167,
    "start_time": "2024-07-27T14:49:49.886Z"
   },
   {
    "duration": 182,
    "start_time": "2024-07-27T14:49:50.055Z"
   },
   {
    "duration": 916,
    "start_time": "2024-07-27T14:49:50.238Z"
   },
   {
    "duration": 12,
    "start_time": "2024-07-27T14:49:51.159Z"
   },
   {
    "duration": 249,
    "start_time": "2024-07-27T14:49:51.173Z"
   },
   {
    "duration": 232,
    "start_time": "2024-07-27T14:49:51.424Z"
   },
   {
    "duration": 236,
    "start_time": "2024-07-27T14:49:51.657Z"
   },
   {
    "duration": 17,
    "start_time": "2024-07-27T14:49:51.894Z"
   },
   {
    "duration": 16,
    "start_time": "2024-07-27T14:49:51.913Z"
   },
   {
    "duration": 7,
    "start_time": "2024-07-27T14:49:51.930Z"
   },
   {
    "duration": 10,
    "start_time": "2024-07-27T14:49:51.939Z"
   },
   {
    "duration": 38,
    "start_time": "2024-07-27T14:49:51.951Z"
   },
   {
    "duration": 343,
    "start_time": "2024-07-27T14:49:51.991Z"
   },
   {
    "duration": 317,
    "start_time": "2024-07-27T14:49:52.336Z"
   },
   {
    "duration": 9,
    "start_time": "2024-07-27T14:49:52.655Z"
   },
   {
    "duration": 13,
    "start_time": "2024-07-27T14:49:52.665Z"
   },
   {
    "duration": 14,
    "start_time": "2024-07-27T14:49:52.680Z"
   },
   {
    "duration": 193,
    "start_time": "2024-07-27T14:52:01.695Z"
   },
   {
    "duration": 192,
    "start_time": "2024-07-27T14:52:15.255Z"
   },
   {
    "duration": 205,
    "start_time": "2024-07-27T14:53:05.811Z"
   },
   {
    "duration": 269,
    "start_time": "2024-07-27T14:54:13.104Z"
   },
   {
    "duration": 194,
    "start_time": "2024-07-27T14:54:28.743Z"
   },
   {
    "duration": 219,
    "start_time": "2024-07-27T15:05:33.455Z"
   },
   {
    "duration": 177,
    "start_time": "2024-07-27T15:11:22.643Z"
   },
   {
    "duration": 6,
    "start_time": "2024-07-27T15:13:55.580Z"
   },
   {
    "duration": 9,
    "start_time": "2024-07-27T15:16:05.216Z"
   },
   {
    "duration": 12,
    "start_time": "2024-07-27T15:16:11.214Z"
   },
   {
    "duration": 12,
    "start_time": "2024-07-27T15:16:31.775Z"
   },
   {
    "duration": 959,
    "start_time": "2024-07-27T15:16:52.682Z"
   },
   {
    "duration": 186,
    "start_time": "2024-07-27T15:17:27.116Z"
   },
   {
    "duration": 679,
    "start_time": "2024-07-27T15:19:12.130Z"
   },
   {
    "duration": 243,
    "start_time": "2024-07-27T15:26:54.510Z"
   },
   {
    "duration": 188,
    "start_time": "2024-07-27T15:27:52.643Z"
   },
   {
    "duration": 197,
    "start_time": "2024-07-27T15:31:23.967Z"
   },
   {
    "duration": 267,
    "start_time": "2024-07-27T15:31:40.747Z"
   },
   {
    "duration": 14,
    "start_time": "2024-07-27T15:34:31.412Z"
   },
   {
    "duration": 10,
    "start_time": "2024-07-27T15:35:50.218Z"
   },
   {
    "duration": 8,
    "start_time": "2024-07-27T15:38:53.823Z"
   },
   {
    "duration": 336,
    "start_time": "2024-07-27T15:40:28.446Z"
   },
   {
    "duration": 321,
    "start_time": "2024-07-27T15:40:44.612Z"
   },
   {
    "duration": 323,
    "start_time": "2024-07-27T15:41:02.267Z"
   },
   {
    "duration": 319,
    "start_time": "2024-07-27T15:42:14.153Z"
   },
   {
    "duration": 1101,
    "start_time": "2024-07-27T15:42:40.026Z"
   },
   {
    "duration": 48,
    "start_time": "2024-07-27T15:42:41.128Z"
   },
   {
    "duration": 11,
    "start_time": "2024-07-27T15:42:41.178Z"
   },
   {
    "duration": 11,
    "start_time": "2024-07-27T15:42:41.190Z"
   },
   {
    "duration": 17,
    "start_time": "2024-07-27T15:42:41.203Z"
   },
   {
    "duration": 16,
    "start_time": "2024-07-27T15:42:41.221Z"
   },
   {
    "duration": 231,
    "start_time": "2024-07-27T15:42:41.238Z"
   },
   {
    "duration": 13,
    "start_time": "2024-07-27T15:42:41.470Z"
   },
   {
    "duration": 159,
    "start_time": "2024-07-27T15:42:41.484Z"
   },
   {
    "duration": 182,
    "start_time": "2024-07-27T15:42:41.644Z"
   },
   {
    "duration": 4,
    "start_time": "2024-07-27T15:42:41.827Z"
   },
   {
    "duration": 9,
    "start_time": "2024-07-27T15:42:41.832Z"
   },
   {
    "duration": 16,
    "start_time": "2024-07-27T15:42:41.842Z"
   },
   {
    "duration": 12,
    "start_time": "2024-07-27T15:42:41.861Z"
   },
   {
    "duration": 9,
    "start_time": "2024-07-27T15:42:41.874Z"
   },
   {
    "duration": 3,
    "start_time": "2024-07-27T15:42:41.884Z"
   },
   {
    "duration": 26,
    "start_time": "2024-07-27T15:42:41.888Z"
   },
   {
    "duration": 82,
    "start_time": "2024-07-27T15:42:41.916Z"
   },
   {
    "duration": 13,
    "start_time": "2024-07-27T15:42:41.999Z"
   },
   {
    "duration": 13,
    "start_time": "2024-07-27T15:42:42.013Z"
   },
   {
    "duration": 4523,
    "start_time": "2024-07-27T15:42:42.028Z"
   },
   {
    "duration": 4,
    "start_time": "2024-07-27T15:42:46.553Z"
   },
   {
    "duration": 4096,
    "start_time": "2024-07-27T15:42:46.558Z"
   },
   {
    "duration": 19,
    "start_time": "2024-07-27T15:42:50.656Z"
   },
   {
    "duration": 4,
    "start_time": "2024-07-27T15:42:50.677Z"
   },
   {
    "duration": 5,
    "start_time": "2024-07-27T15:42:50.682Z"
   },
   {
    "duration": 5,
    "start_time": "2024-07-27T15:42:50.711Z"
   },
   {
    "duration": 238,
    "start_time": "2024-07-27T15:42:50.717Z"
   },
   {
    "duration": 9,
    "start_time": "2024-07-27T15:42:50.957Z"
   },
   {
    "duration": 16,
    "start_time": "2024-07-27T15:42:50.967Z"
   },
   {
    "duration": 31,
    "start_time": "2024-07-27T15:42:50.984Z"
   },
   {
    "duration": 11,
    "start_time": "2024-07-27T15:42:51.017Z"
   },
   {
    "duration": 12,
    "start_time": "2024-07-27T15:42:51.030Z"
   },
   {
    "duration": 953,
    "start_time": "2024-07-27T15:42:51.044Z"
   },
   {
    "duration": 4,
    "start_time": "2024-07-27T15:42:51.999Z"
   },
   {
    "duration": 8,
    "start_time": "2024-07-27T15:42:52.005Z"
   },
   {
    "duration": 15,
    "start_time": "2024-07-27T15:42:52.015Z"
   },
   {
    "duration": 180,
    "start_time": "2024-07-27T15:42:52.032Z"
   },
   {
    "duration": 176,
    "start_time": "2024-07-27T15:42:52.213Z"
   },
   {
    "duration": 871,
    "start_time": "2024-07-27T15:42:52.391Z"
   },
   {
    "duration": 12,
    "start_time": "2024-07-27T15:42:53.265Z"
   },
   {
    "duration": 236,
    "start_time": "2024-07-27T15:42:53.278Z"
   },
   {
    "duration": 247,
    "start_time": "2024-07-27T15:42:53.515Z"
   },
   {
    "duration": 208,
    "start_time": "2024-07-27T15:42:53.763Z"
   },
   {
    "duration": 9,
    "start_time": "2024-07-27T15:42:53.972Z"
   },
   {
    "duration": 30,
    "start_time": "2024-07-27T15:42:53.982Z"
   },
   {
    "duration": 8,
    "start_time": "2024-07-27T15:42:54.013Z"
   },
   {
    "duration": 15,
    "start_time": "2024-07-27T15:42:54.023Z"
   },
   {
    "duration": 34,
    "start_time": "2024-07-27T15:42:54.039Z"
   },
   {
    "duration": 308,
    "start_time": "2024-07-27T15:42:54.075Z"
   },
   {
    "duration": 297,
    "start_time": "2024-07-27T15:42:54.384Z"
   },
   {
    "duration": 16,
    "start_time": "2024-07-27T15:42:54.683Z"
   },
   {
    "duration": 10,
    "start_time": "2024-07-27T15:42:54.712Z"
   },
   {
    "duration": 8,
    "start_time": "2024-07-27T15:42:54.723Z"
   },
   {
    "duration": 28,
    "start_time": "2024-07-27T15:46:16.437Z"
   },
   {
    "duration": 1135,
    "start_time": "2024-07-27T15:46:31.900Z"
   },
   {
    "duration": 47,
    "start_time": "2024-07-27T15:46:33.038Z"
   },
   {
    "duration": 12,
    "start_time": "2024-07-27T15:46:33.086Z"
   },
   {
    "duration": 12,
    "start_time": "2024-07-27T15:46:33.100Z"
   },
   {
    "duration": 18,
    "start_time": "2024-07-27T15:46:33.113Z"
   },
   {
    "duration": 27,
    "start_time": "2024-07-27T15:46:33.132Z"
   },
   {
    "duration": 244,
    "start_time": "2024-07-27T15:46:33.161Z"
   },
   {
    "duration": 14,
    "start_time": "2024-07-27T15:46:33.407Z"
   },
   {
    "duration": 157,
    "start_time": "2024-07-27T15:46:33.423Z"
   },
   {
    "duration": 185,
    "start_time": "2024-07-27T15:46:33.583Z"
   },
   {
    "duration": 4,
    "start_time": "2024-07-27T15:46:33.770Z"
   },
   {
    "duration": 15,
    "start_time": "2024-07-27T15:46:33.775Z"
   },
   {
    "duration": 20,
    "start_time": "2024-07-27T15:46:33.792Z"
   },
   {
    "duration": 11,
    "start_time": "2024-07-27T15:46:33.814Z"
   },
   {
    "duration": 9,
    "start_time": "2024-07-27T15:46:33.826Z"
   },
   {
    "duration": 3,
    "start_time": "2024-07-27T15:46:33.836Z"
   },
   {
    "duration": 6,
    "start_time": "2024-07-27T15:46:33.840Z"
   },
   {
    "duration": 9,
    "start_time": "2024-07-27T15:46:33.848Z"
   },
   {
    "duration": 22,
    "start_time": "2024-07-27T15:46:33.859Z"
   },
   {
    "duration": 30,
    "start_time": "2024-07-27T15:46:33.883Z"
   },
   {
    "duration": 4582,
    "start_time": "2024-07-27T15:46:33.914Z"
   },
   {
    "duration": 5,
    "start_time": "2024-07-27T15:46:38.497Z"
   },
   {
    "duration": 4005,
    "start_time": "2024-07-27T15:46:38.512Z"
   },
   {
    "duration": 18,
    "start_time": "2024-07-27T15:46:42.519Z"
   },
   {
    "duration": 4,
    "start_time": "2024-07-27T15:46:42.538Z"
   },
   {
    "duration": 4,
    "start_time": "2024-07-27T15:46:42.543Z"
   },
   {
    "duration": 3,
    "start_time": "2024-07-27T15:46:42.549Z"
   },
   {
    "duration": 234,
    "start_time": "2024-07-27T15:46:42.556Z"
   },
   {
    "duration": 6,
    "start_time": "2024-07-27T15:46:42.791Z"
   },
   {
    "duration": 18,
    "start_time": "2024-07-27T15:46:42.798Z"
   },
   {
    "duration": 14,
    "start_time": "2024-07-27T15:46:42.818Z"
   },
   {
    "duration": 8,
    "start_time": "2024-07-27T15:46:42.833Z"
   },
   {
    "duration": 11,
    "start_time": "2024-07-27T15:46:42.842Z"
   },
   {
    "duration": 980,
    "start_time": "2024-07-27T15:46:42.855Z"
   },
   {
    "duration": 5,
    "start_time": "2024-07-27T15:46:43.836Z"
   },
   {
    "duration": 8,
    "start_time": "2024-07-27T15:46:43.843Z"
   },
   {
    "duration": 12,
    "start_time": "2024-07-27T15:46:43.853Z"
   },
   {
    "duration": 189,
    "start_time": "2024-07-27T15:46:43.866Z"
   },
   {
    "duration": 179,
    "start_time": "2024-07-27T15:46:44.057Z"
   },
   {
    "duration": 910,
    "start_time": "2024-07-27T15:46:44.238Z"
   },
   {
    "duration": 13,
    "start_time": "2024-07-27T15:46:45.150Z"
   },
   {
    "duration": 233,
    "start_time": "2024-07-27T15:46:45.165Z"
   },
   {
    "duration": 216,
    "start_time": "2024-07-27T15:46:45.399Z"
   },
   {
    "duration": 213,
    "start_time": "2024-07-27T15:46:45.617Z"
   },
   {
    "duration": 10,
    "start_time": "2024-07-27T15:46:45.832Z"
   },
   {
    "duration": 15,
    "start_time": "2024-07-27T15:46:45.844Z"
   },
   {
    "duration": 9,
    "start_time": "2024-07-27T15:46:45.861Z"
   },
   {
    "duration": 12,
    "start_time": "2024-07-27T15:46:45.871Z"
   },
   {
    "duration": 62,
    "start_time": "2024-07-27T15:46:45.884Z"
   },
   {
    "duration": 332,
    "start_time": "2024-07-27T15:46:45.948Z"
   },
   {
    "duration": 296,
    "start_time": "2024-07-27T15:46:46.282Z"
   },
   {
    "duration": 10,
    "start_time": "2024-07-27T15:46:46.580Z"
   },
   {
    "duration": 24,
    "start_time": "2024-07-27T15:46:46.592Z"
   },
   {
    "duration": 7,
    "start_time": "2024-07-27T15:46:46.618Z"
   },
   {
    "duration": 9,
    "start_time": "2024-07-27T15:56:03.914Z"
   },
   {
    "duration": 9,
    "start_time": "2024-07-27T15:56:11.981Z"
   },
   {
    "duration": 1147,
    "start_time": "2024-07-27T16:33:17.984Z"
   },
   {
    "duration": 49,
    "start_time": "2024-07-27T16:33:19.133Z"
   },
   {
    "duration": 40,
    "start_time": "2024-07-27T16:33:19.184Z"
   },
   {
    "duration": 30,
    "start_time": "2024-07-27T16:33:19.226Z"
   },
   {
    "duration": 19,
    "start_time": "2024-07-27T16:33:19.259Z"
   },
   {
    "duration": 26,
    "start_time": "2024-07-27T16:33:19.279Z"
   },
   {
    "duration": 226,
    "start_time": "2024-07-27T16:33:19.306Z"
   },
   {
    "duration": 12,
    "start_time": "2024-07-27T16:33:19.533Z"
   },
   {
    "duration": 159,
    "start_time": "2024-07-27T16:33:19.546Z"
   },
   {
    "duration": 183,
    "start_time": "2024-07-27T16:33:19.707Z"
   },
   {
    "duration": 3,
    "start_time": "2024-07-27T16:33:19.892Z"
   },
   {
    "duration": 25,
    "start_time": "2024-07-27T16:33:19.897Z"
   },
   {
    "duration": 35,
    "start_time": "2024-07-27T16:33:19.924Z"
   },
   {
    "duration": 22,
    "start_time": "2024-07-27T16:33:19.962Z"
   },
   {
    "duration": 18,
    "start_time": "2024-07-27T16:33:19.985Z"
   },
   {
    "duration": 12,
    "start_time": "2024-07-27T16:33:20.004Z"
   },
   {
    "duration": 13,
    "start_time": "2024-07-27T16:33:20.017Z"
   },
   {
    "duration": 23,
    "start_time": "2024-07-27T16:33:20.032Z"
   },
   {
    "duration": 91,
    "start_time": "2024-07-27T16:33:20.057Z"
   },
   {
    "duration": 24,
    "start_time": "2024-07-27T16:33:20.149Z"
   },
   {
    "duration": 4567,
    "start_time": "2024-07-27T16:33:20.174Z"
   },
   {
    "duration": 4,
    "start_time": "2024-07-27T16:33:24.743Z"
   },
   {
    "duration": 4049,
    "start_time": "2024-07-27T16:33:24.749Z"
   },
   {
    "duration": 26,
    "start_time": "2024-07-27T16:33:28.799Z"
   },
   {
    "duration": 6,
    "start_time": "2024-07-27T16:33:28.827Z"
   },
   {
    "duration": 6,
    "start_time": "2024-07-27T16:33:28.834Z"
   },
   {
    "duration": 6,
    "start_time": "2024-07-27T16:33:28.842Z"
   },
   {
    "duration": 231,
    "start_time": "2024-07-27T16:33:28.850Z"
   },
   {
    "duration": 8,
    "start_time": "2024-07-27T16:33:29.082Z"
   },
   {
    "duration": 22,
    "start_time": "2024-07-27T16:33:29.091Z"
   },
   {
    "duration": 78,
    "start_time": "2024-07-27T16:33:29.114Z"
   },
   {
    "duration": 11,
    "start_time": "2024-07-27T16:33:29.193Z"
   },
   {
    "duration": 13,
    "start_time": "2024-07-27T16:33:29.206Z"
   },
   {
    "duration": 947,
    "start_time": "2024-07-27T16:33:29.222Z"
   },
   {
    "duration": 6,
    "start_time": "2024-07-27T16:33:30.171Z"
   },
   {
    "duration": 154,
    "start_time": "2024-07-27T16:33:30.178Z"
   },
   {
    "duration": 125,
    "start_time": "2024-07-27T16:33:30.334Z"
   },
   {
    "duration": 251,
    "start_time": "2024-07-27T16:33:30.461Z"
   },
   {
    "duration": 178,
    "start_time": "2024-07-27T16:33:30.714Z"
   },
   {
    "duration": 951,
    "start_time": "2024-07-27T16:33:30.894Z"
   },
   {
    "duration": 11,
    "start_time": "2024-07-27T16:33:31.849Z"
   },
   {
    "duration": 239,
    "start_time": "2024-07-27T16:33:31.862Z"
   },
   {
    "duration": 224,
    "start_time": "2024-07-27T16:33:32.102Z"
   },
   {
    "duration": 207,
    "start_time": "2024-07-27T16:33:32.327Z"
   },
   {
    "duration": 9,
    "start_time": "2024-07-27T16:33:32.535Z"
   },
   {
    "duration": 19,
    "start_time": "2024-07-27T16:33:32.545Z"
   },
   {
    "duration": 8,
    "start_time": "2024-07-27T16:33:32.565Z"
   },
   {
    "duration": 9,
    "start_time": "2024-07-27T16:33:32.574Z"
   },
   {
    "duration": 55,
    "start_time": "2024-07-27T16:33:32.584Z"
   },
   {
    "duration": 334,
    "start_time": "2024-07-27T16:33:32.640Z"
   },
   {
    "duration": 313,
    "start_time": "2024-07-27T16:33:32.975Z"
   },
   {
    "duration": 10,
    "start_time": "2024-07-27T16:33:33.289Z"
   },
   {
    "duration": 8,
    "start_time": "2024-07-27T16:33:33.313Z"
   },
   {
    "duration": 20,
    "start_time": "2024-07-27T16:33:33.323Z"
   },
   {
    "duration": 1247,
    "start_time": "2024-07-28T10:59:49.394Z"
   },
   {
    "duration": 218,
    "start_time": "2024-07-28T10:59:50.642Z"
   },
   {
    "duration": 12,
    "start_time": "2024-07-28T10:59:50.861Z"
   },
   {
    "duration": 11,
    "start_time": "2024-07-28T10:59:50.875Z"
   },
   {
    "duration": 48,
    "start_time": "2024-07-28T10:59:50.887Z"
   },
   {
    "duration": 15,
    "start_time": "2024-07-28T10:59:50.936Z"
   },
   {
    "duration": 211,
    "start_time": "2024-07-28T10:59:50.953Z"
   },
   {
    "duration": 12,
    "start_time": "2024-07-28T10:59:51.165Z"
   },
   {
    "duration": 151,
    "start_time": "2024-07-28T10:59:51.179Z"
   },
   {
    "duration": 178,
    "start_time": "2024-07-28T10:59:51.332Z"
   },
   {
    "duration": 3,
    "start_time": "2024-07-28T10:59:51.512Z"
   },
   {
    "duration": 8,
    "start_time": "2024-07-28T10:59:51.517Z"
   },
   {
    "duration": 17,
    "start_time": "2024-07-28T10:59:51.526Z"
   },
   {
    "duration": 11,
    "start_time": "2024-07-28T10:59:51.545Z"
   },
   {
    "duration": 7,
    "start_time": "2024-07-28T10:59:51.558Z"
   },
   {
    "duration": 31,
    "start_time": "2024-07-28T10:59:51.566Z"
   },
   {
    "duration": 3,
    "start_time": "2024-07-28T10:59:51.599Z"
   },
   {
    "duration": 3,
    "start_time": "2024-07-28T10:59:51.603Z"
   },
   {
    "duration": 84,
    "start_time": "2024-07-28T10:59:51.607Z"
   },
   {
    "duration": 20,
    "start_time": "2024-07-28T10:59:51.693Z"
   },
   {
    "duration": 4937,
    "start_time": "2024-07-28T10:59:51.715Z"
   },
   {
    "duration": 4,
    "start_time": "2024-07-28T10:59:56.654Z"
   },
   {
    "duration": 4251,
    "start_time": "2024-07-28T10:59:56.659Z"
   },
   {
    "duration": 19,
    "start_time": "2024-07-28T11:00:00.912Z"
   },
   {
    "duration": 27,
    "start_time": "2024-07-28T11:00:00.933Z"
   },
   {
    "duration": 41,
    "start_time": "2024-07-28T11:00:00.962Z"
   },
   {
    "duration": 19,
    "start_time": "2024-07-28T11:00:01.005Z"
   },
   {
    "duration": 248,
    "start_time": "2024-07-28T11:00:01.026Z"
   },
   {
    "duration": 10,
    "start_time": "2024-07-28T11:00:01.276Z"
   },
   {
    "duration": 92,
    "start_time": "2024-07-28T11:00:01.287Z"
   },
   {
    "duration": 70,
    "start_time": "2024-07-28T11:00:01.381Z"
   },
   {
    "duration": 57,
    "start_time": "2024-07-28T11:00:01.453Z"
   },
   {
    "duration": 102,
    "start_time": "2024-07-28T11:00:01.512Z"
   },
   {
    "duration": 1186,
    "start_time": "2024-07-28T11:00:01.615Z"
   },
   {
    "duration": 4,
    "start_time": "2024-07-28T11:00:02.802Z"
   },
   {
    "duration": 30,
    "start_time": "2024-07-28T11:00:02.808Z"
   },
   {
    "duration": 55,
    "start_time": "2024-07-28T11:00:02.839Z"
   },
   {
    "duration": 169,
    "start_time": "2024-07-28T11:00:02.895Z"
   },
   {
    "duration": 181,
    "start_time": "2024-07-28T11:00:03.066Z"
   },
   {
    "duration": 1004,
    "start_time": "2024-07-28T11:00:03.248Z"
   },
   {
    "duration": 12,
    "start_time": "2024-07-28T11:00:04.255Z"
   },
   {
    "duration": 235,
    "start_time": "2024-07-28T11:00:04.269Z"
   },
   {
    "duration": 209,
    "start_time": "2024-07-28T11:00:04.506Z"
   },
   {
    "duration": 199,
    "start_time": "2024-07-28T11:00:04.716Z"
   },
   {
    "duration": 8,
    "start_time": "2024-07-28T11:00:04.916Z"
   },
   {
    "duration": 12,
    "start_time": "2024-07-28T11:00:04.926Z"
   },
   {
    "duration": 8,
    "start_time": "2024-07-28T11:00:04.939Z"
   },
   {
    "duration": 19,
    "start_time": "2024-07-28T11:00:04.948Z"
   },
   {
    "duration": 45,
    "start_time": "2024-07-28T11:00:04.969Z"
   },
   {
    "duration": 314,
    "start_time": "2024-07-28T11:00:05.015Z"
   },
   {
    "duration": 344,
    "start_time": "2024-07-28T11:00:05.331Z"
   },
   {
    "duration": 22,
    "start_time": "2024-07-28T11:00:05.676Z"
   },
   {
    "duration": 8,
    "start_time": "2024-07-28T11:00:05.699Z"
   },
   {
    "duration": 16,
    "start_time": "2024-07-28T11:00:05.708Z"
   },
   {
    "duration": 1385,
    "start_time": "2024-07-29T07:20:13.518Z"
   },
   {
    "duration": 179,
    "start_time": "2024-07-29T07:20:14.905Z"
   },
   {
    "duration": 15,
    "start_time": "2024-07-29T07:20:15.086Z"
   },
   {
    "duration": 30,
    "start_time": "2024-07-29T07:20:15.103Z"
   },
   {
    "duration": 35,
    "start_time": "2024-07-29T07:20:15.134Z"
   },
   {
    "duration": 24,
    "start_time": "2024-07-29T07:20:15.171Z"
   },
   {
    "duration": 255,
    "start_time": "2024-07-29T07:20:15.196Z"
   },
   {
    "duration": 19,
    "start_time": "2024-07-29T07:20:15.452Z"
   },
   {
    "duration": 202,
    "start_time": "2024-07-29T07:20:15.472Z"
   },
   {
    "duration": 225,
    "start_time": "2024-07-29T07:20:15.677Z"
   },
   {
    "duration": 4,
    "start_time": "2024-07-29T07:20:15.904Z"
   },
   {
    "duration": 7,
    "start_time": "2024-07-29T07:20:15.910Z"
   },
   {
    "duration": 19,
    "start_time": "2024-07-29T07:20:15.919Z"
   },
   {
    "duration": 36,
    "start_time": "2024-07-29T07:20:15.940Z"
   },
   {
    "duration": 15,
    "start_time": "2024-07-29T07:20:15.977Z"
   },
   {
    "duration": 11,
    "start_time": "2024-07-29T07:20:15.994Z"
   },
   {
    "duration": 3,
    "start_time": "2024-07-29T07:20:16.007Z"
   },
   {
    "duration": 3,
    "start_time": "2024-07-29T07:20:16.012Z"
   },
   {
    "duration": 17,
    "start_time": "2024-07-29T07:20:16.017Z"
   },
   {
    "duration": 37,
    "start_time": "2024-07-29T07:20:16.036Z"
   },
   {
    "duration": 5681,
    "start_time": "2024-07-29T07:20:16.075Z"
   },
   {
    "duration": 10,
    "start_time": "2024-07-29T07:20:21.758Z"
   },
   {
    "duration": 4982,
    "start_time": "2024-07-29T07:20:21.770Z"
   },
   {
    "duration": 27,
    "start_time": "2024-07-29T07:20:26.754Z"
   },
   {
    "duration": 5,
    "start_time": "2024-07-29T07:20:26.783Z"
   },
   {
    "duration": 14,
    "start_time": "2024-07-29T07:20:26.789Z"
   },
   {
    "duration": 5,
    "start_time": "2024-07-29T07:20:26.805Z"
   },
   {
    "duration": 262,
    "start_time": "2024-07-29T07:20:26.814Z"
   },
   {
    "duration": 8,
    "start_time": "2024-07-29T07:20:27.078Z"
   },
   {
    "duration": 31,
    "start_time": "2024-07-29T07:20:27.088Z"
   },
   {
    "duration": 34,
    "start_time": "2024-07-29T07:20:27.120Z"
   },
   {
    "duration": 11,
    "start_time": "2024-07-29T07:20:27.156Z"
   },
   {
    "duration": 31,
    "start_time": "2024-07-29T07:20:27.169Z"
   },
   {
    "duration": 1116,
    "start_time": "2024-07-29T07:20:27.201Z"
   },
   {
    "duration": 4,
    "start_time": "2024-07-29T07:20:28.318Z"
   },
   {
    "duration": 9,
    "start_time": "2024-07-29T07:20:28.323Z"
   },
   {
    "duration": 14,
    "start_time": "2024-07-29T07:20:28.333Z"
   },
   {
    "duration": 188,
    "start_time": "2024-07-29T07:20:28.348Z"
   },
   {
    "duration": 545,
    "start_time": "2024-07-29T07:20:28.538Z"
   },
   {
    "duration": 738,
    "start_time": "2024-07-29T07:20:29.085Z"
   },
   {
    "duration": 12,
    "start_time": "2024-07-29T07:20:29.825Z"
   },
   {
    "duration": 249,
    "start_time": "2024-07-29T07:20:29.839Z"
   },
   {
    "duration": 254,
    "start_time": "2024-07-29T07:20:30.090Z"
   },
   {
    "duration": 257,
    "start_time": "2024-07-29T07:20:30.346Z"
   },
   {
    "duration": 10,
    "start_time": "2024-07-29T07:20:30.604Z"
   },
   {
    "duration": 117,
    "start_time": "2024-07-29T07:20:30.616Z"
   },
   {
    "duration": 36,
    "start_time": "2024-07-29T07:20:30.736Z"
   },
   {
    "duration": 49,
    "start_time": "2024-07-29T07:20:30.775Z"
   },
   {
    "duration": 74,
    "start_time": "2024-07-29T07:20:30.826Z"
   },
   {
    "duration": 372,
    "start_time": "2024-07-29T07:20:30.902Z"
   },
   {
    "duration": 343,
    "start_time": "2024-07-29T07:20:31.275Z"
   },
   {
    "duration": 12,
    "start_time": "2024-07-29T07:20:31.620Z"
   },
   {
    "duration": 21,
    "start_time": "2024-07-29T07:20:31.634Z"
   },
   {
    "duration": 22,
    "start_time": "2024-07-29T07:20:31.665Z"
   },
   {
    "duration": 21,
    "start_time": "2024-07-29T07:23:03.199Z"
   },
   {
    "duration": 20,
    "start_time": "2024-07-29T07:23:41.116Z"
   },
   {
    "duration": 17,
    "start_time": "2024-07-29T07:24:08.017Z"
   },
   {
    "duration": 6,
    "start_time": "2024-07-29T07:24:35.345Z"
   },
   {
    "duration": 8,
    "start_time": "2024-07-29T07:25:58.382Z"
   },
   {
    "duration": 14,
    "start_time": "2024-07-29T07:25:59.329Z"
   },
   {
    "duration": 10,
    "start_time": "2024-07-29T07:26:57.240Z"
   },
   {
    "duration": 14,
    "start_time": "2024-07-29T07:28:02.131Z"
   },
   {
    "duration": 10,
    "start_time": "2024-07-29T07:38:20.316Z"
   },
   {
    "duration": 13,
    "start_time": "2024-07-29T07:38:23.366Z"
   },
   {
    "duration": 10,
    "start_time": "2024-07-29T07:41:45.250Z"
   },
   {
    "duration": 14,
    "start_time": "2024-07-29T07:42:00.043Z"
   },
   {
    "duration": 6,
    "start_time": "2024-07-29T07:42:01.179Z"
   },
   {
    "duration": 16,
    "start_time": "2024-07-29T07:42:13.317Z"
   },
   {
    "duration": 1250,
    "start_time": "2024-07-29T07:43:16.685Z"
   },
   {
    "duration": 49,
    "start_time": "2024-07-29T07:43:17.937Z"
   },
   {
    "duration": 13,
    "start_time": "2024-07-29T07:43:17.988Z"
   },
   {
    "duration": 12,
    "start_time": "2024-07-29T07:43:18.003Z"
   },
   {
    "duration": 20,
    "start_time": "2024-07-29T07:43:18.017Z"
   },
   {
    "duration": 37,
    "start_time": "2024-07-29T07:43:18.039Z"
   },
   {
    "duration": 19,
    "start_time": "2024-07-29T07:43:18.078Z"
   },
   {
    "duration": 14,
    "start_time": "2024-07-29T07:43:18.099Z"
   },
   {
    "duration": 4,
    "start_time": "2024-07-29T07:43:18.115Z"
   },
   {
    "duration": 7,
    "start_time": "2024-07-29T07:43:18.121Z"
   },
   {
    "duration": 47,
    "start_time": "2024-07-29T07:43:18.130Z"
   },
   {
    "duration": 113,
    "start_time": "2024-07-29T07:43:18.179Z"
   },
   {
    "duration": 1,
    "start_time": "2024-07-29T07:43:18.295Z"
   },
   {
    "duration": 0,
    "start_time": "2024-07-29T07:43:18.297Z"
   },
   {
    "duration": 0,
    "start_time": "2024-07-29T07:43:18.298Z"
   },
   {
    "duration": 0,
    "start_time": "2024-07-29T07:43:18.299Z"
   },
   {
    "duration": 0,
    "start_time": "2024-07-29T07:43:18.300Z"
   },
   {
    "duration": 0,
    "start_time": "2024-07-29T07:43:18.301Z"
   },
   {
    "duration": 0,
    "start_time": "2024-07-29T07:43:18.302Z"
   },
   {
    "duration": 0,
    "start_time": "2024-07-29T07:43:18.303Z"
   },
   {
    "duration": 0,
    "start_time": "2024-07-29T07:43:18.304Z"
   },
   {
    "duration": 0,
    "start_time": "2024-07-29T07:43:18.305Z"
   },
   {
    "duration": 0,
    "start_time": "2024-07-29T07:43:18.306Z"
   },
   {
    "duration": 0,
    "start_time": "2024-07-29T07:43:18.307Z"
   },
   {
    "duration": 0,
    "start_time": "2024-07-29T07:43:18.308Z"
   },
   {
    "duration": 0,
    "start_time": "2024-07-29T07:43:18.310Z"
   },
   {
    "duration": 1,
    "start_time": "2024-07-29T07:43:18.310Z"
   },
   {
    "duration": 0,
    "start_time": "2024-07-29T07:43:18.311Z"
   },
   {
    "duration": 0,
    "start_time": "2024-07-29T07:43:18.312Z"
   },
   {
    "duration": 0,
    "start_time": "2024-07-29T07:43:18.313Z"
   },
   {
    "duration": 0,
    "start_time": "2024-07-29T07:43:18.315Z"
   },
   {
    "duration": 0,
    "start_time": "2024-07-29T07:43:18.316Z"
   },
   {
    "duration": 0,
    "start_time": "2024-07-29T07:43:18.317Z"
   },
   {
    "duration": 0,
    "start_time": "2024-07-29T07:43:18.318Z"
   },
   {
    "duration": 0,
    "start_time": "2024-07-29T07:43:18.319Z"
   },
   {
    "duration": 0,
    "start_time": "2024-07-29T07:43:18.320Z"
   },
   {
    "duration": 0,
    "start_time": "2024-07-29T07:43:18.321Z"
   },
   {
    "duration": 0,
    "start_time": "2024-07-29T07:43:18.323Z"
   },
   {
    "duration": 0,
    "start_time": "2024-07-29T07:43:18.365Z"
   },
   {
    "duration": 0,
    "start_time": "2024-07-29T07:43:18.366Z"
   },
   {
    "duration": 0,
    "start_time": "2024-07-29T07:43:18.368Z"
   },
   {
    "duration": 0,
    "start_time": "2024-07-29T07:43:18.369Z"
   },
   {
    "duration": 0,
    "start_time": "2024-07-29T07:43:18.370Z"
   },
   {
    "duration": 0,
    "start_time": "2024-07-29T07:43:18.371Z"
   },
   {
    "duration": 0,
    "start_time": "2024-07-29T07:43:18.372Z"
   },
   {
    "duration": 0,
    "start_time": "2024-07-29T07:43:18.373Z"
   },
   {
    "duration": 0,
    "start_time": "2024-07-29T07:43:18.374Z"
   },
   {
    "duration": 0,
    "start_time": "2024-07-29T07:43:18.376Z"
   },
   {
    "duration": 0,
    "start_time": "2024-07-29T07:43:18.377Z"
   },
   {
    "duration": 0,
    "start_time": "2024-07-29T07:43:18.378Z"
   },
   {
    "duration": 0,
    "start_time": "2024-07-29T07:43:18.379Z"
   },
   {
    "duration": 0,
    "start_time": "2024-07-29T07:43:18.380Z"
   },
   {
    "duration": 0,
    "start_time": "2024-07-29T07:43:18.381Z"
   },
   {
    "duration": 0,
    "start_time": "2024-07-29T07:43:18.382Z"
   },
   {
    "duration": 0,
    "start_time": "2024-07-29T07:43:18.383Z"
   },
   {
    "duration": 0,
    "start_time": "2024-07-29T07:43:18.384Z"
   },
   {
    "duration": 0,
    "start_time": "2024-07-29T07:43:18.385Z"
   },
   {
    "duration": 0,
    "start_time": "2024-07-29T07:43:18.387Z"
   },
   {
    "duration": 9,
    "start_time": "2024-07-29T07:46:10.146Z"
   },
   {
    "duration": 1192,
    "start_time": "2024-07-29T07:46:23.151Z"
   },
   {
    "duration": 52,
    "start_time": "2024-07-29T07:46:24.345Z"
   },
   {
    "duration": 13,
    "start_time": "2024-07-29T07:46:24.399Z"
   },
   {
    "duration": 34,
    "start_time": "2024-07-29T07:46:24.414Z"
   },
   {
    "duration": 22,
    "start_time": "2024-07-29T07:46:24.450Z"
   },
   {
    "duration": 15,
    "start_time": "2024-07-29T07:46:24.474Z"
   },
   {
    "duration": 17,
    "start_time": "2024-07-29T07:46:24.490Z"
   },
   {
    "duration": 14,
    "start_time": "2024-07-29T07:46:24.508Z"
   },
   {
    "duration": 3,
    "start_time": "2024-07-29T07:46:24.524Z"
   },
   {
    "duration": 20,
    "start_time": "2024-07-29T07:46:24.529Z"
   },
   {
    "duration": 24,
    "start_time": "2024-07-29T07:46:24.550Z"
   },
   {
    "duration": 8,
    "start_time": "2024-07-29T07:46:24.576Z"
   },
   {
    "duration": 30,
    "start_time": "2024-07-29T07:46:24.586Z"
   },
   {
    "duration": 11,
    "start_time": "2024-07-29T07:46:24.619Z"
   },
   {
    "duration": 17,
    "start_time": "2024-07-29T07:46:24.631Z"
   },
   {
    "duration": 251,
    "start_time": "2024-07-29T07:46:24.650Z"
   },
   {
    "duration": 167,
    "start_time": "2024-07-29T07:46:24.903Z"
   },
   {
    "duration": 202,
    "start_time": "2024-07-29T07:46:25.072Z"
   },
   {
    "duration": 2,
    "start_time": "2024-07-29T07:46:25.276Z"
   },
   {
    "duration": 15,
    "start_time": "2024-07-29T07:46:25.280Z"
   },
   {
    "duration": 4,
    "start_time": "2024-07-29T07:46:25.297Z"
   },
   {
    "duration": 12,
    "start_time": "2024-07-29T07:46:25.303Z"
   },
   {
    "duration": 16,
    "start_time": "2024-07-29T07:46:25.317Z"
   },
   {
    "duration": 31,
    "start_time": "2024-07-29T07:46:25.335Z"
   },
   {
    "duration": 5730,
    "start_time": "2024-07-29T07:46:25.368Z"
   },
   {
    "duration": 6,
    "start_time": "2024-07-29T07:46:31.100Z"
   },
   {
    "duration": 5000,
    "start_time": "2024-07-29T07:46:31.107Z"
   },
   {
    "duration": 23,
    "start_time": "2024-07-29T07:46:36.109Z"
   },
   {
    "duration": 4,
    "start_time": "2024-07-29T07:46:36.133Z"
   },
   {
    "duration": 5,
    "start_time": "2024-07-29T07:46:36.138Z"
   },
   {
    "duration": 4,
    "start_time": "2024-07-29T07:46:36.165Z"
   },
   {
    "duration": 277,
    "start_time": "2024-07-29T07:46:36.170Z"
   },
   {
    "duration": 16,
    "start_time": "2024-07-29T07:46:36.449Z"
   },
   {
    "duration": 8,
    "start_time": "2024-07-29T07:46:36.467Z"
   },
   {
    "duration": 15,
    "start_time": "2024-07-29T07:46:36.477Z"
   },
   {
    "duration": 3,
    "start_time": "2024-07-29T07:46:36.493Z"
   },
   {
    "duration": 5,
    "start_time": "2024-07-29T07:46:36.497Z"
   },
   {
    "duration": 1142,
    "start_time": "2024-07-29T07:46:36.504Z"
   },
   {
    "duration": 5,
    "start_time": "2024-07-29T07:46:37.648Z"
   },
   {
    "duration": 12,
    "start_time": "2024-07-29T07:46:37.655Z"
   },
   {
    "duration": 13,
    "start_time": "2024-07-29T07:46:37.672Z"
   },
   {
    "duration": 201,
    "start_time": "2024-07-29T07:46:37.686Z"
   },
   {
    "duration": 201,
    "start_time": "2024-07-29T07:46:37.888Z"
   },
   {
    "duration": 1070,
    "start_time": "2024-07-29T07:46:38.090Z"
   },
   {
    "duration": 15,
    "start_time": "2024-07-29T07:46:39.161Z"
   },
   {
    "duration": 246,
    "start_time": "2024-07-29T07:46:39.178Z"
   },
   {
    "duration": 249,
    "start_time": "2024-07-29T07:46:39.426Z"
   },
   {
    "duration": 242,
    "start_time": "2024-07-29T07:46:39.676Z"
   },
   {
    "duration": 12,
    "start_time": "2024-07-29T07:46:39.921Z"
   },
   {
    "duration": 15,
    "start_time": "2024-07-29T07:46:39.935Z"
   },
   {
    "duration": 20,
    "start_time": "2024-07-29T07:46:39.951Z"
   },
   {
    "duration": 12,
    "start_time": "2024-07-29T07:46:39.972Z"
   },
   {
    "duration": 35,
    "start_time": "2024-07-29T07:46:39.985Z"
   },
   {
    "duration": 331,
    "start_time": "2024-07-29T07:46:40.021Z"
   },
   {
    "duration": 312,
    "start_time": "2024-07-29T07:46:40.353Z"
   },
   {
    "duration": 11,
    "start_time": "2024-07-29T07:46:40.667Z"
   },
   {
    "duration": 11,
    "start_time": "2024-07-29T07:46:40.680Z"
   },
   {
    "duration": 72,
    "start_time": "2024-07-29T07:46:40.692Z"
   },
   {
    "duration": 31,
    "start_time": "2024-07-29T07:47:45.242Z"
   },
   {
    "duration": 31,
    "start_time": "2024-07-29T07:47:54.126Z"
   },
   {
    "duration": 34,
    "start_time": "2024-07-29T07:49:23.161Z"
   },
   {
    "duration": 1200,
    "start_time": "2024-07-29T07:49:33.226Z"
   },
   {
    "duration": 49,
    "start_time": "2024-07-29T07:49:34.427Z"
   },
   {
    "duration": 14,
    "start_time": "2024-07-29T07:49:34.477Z"
   },
   {
    "duration": 12,
    "start_time": "2024-07-29T07:49:34.493Z"
   },
   {
    "duration": 46,
    "start_time": "2024-07-29T07:49:34.508Z"
   },
   {
    "duration": 43,
    "start_time": "2024-07-29T07:49:34.556Z"
   },
   {
    "duration": 44,
    "start_time": "2024-07-29T07:49:34.600Z"
   },
   {
    "duration": 13,
    "start_time": "2024-07-29T07:49:34.645Z"
   },
   {
    "duration": 4,
    "start_time": "2024-07-29T07:49:34.660Z"
   },
   {
    "duration": 8,
    "start_time": "2024-07-29T07:49:34.666Z"
   },
   {
    "duration": 13,
    "start_time": "2024-07-29T07:49:34.676Z"
   },
   {
    "duration": 9,
    "start_time": "2024-07-29T07:49:34.690Z"
   },
   {
    "duration": 47,
    "start_time": "2024-07-29T07:49:34.700Z"
   },
   {
    "duration": 36,
    "start_time": "2024-07-29T07:49:34.750Z"
   },
   {
    "duration": 31,
    "start_time": "2024-07-29T07:49:34.787Z"
   },
   {
    "duration": 10,
    "start_time": "2024-07-29T07:49:34.820Z"
   },
   {
    "duration": 243,
    "start_time": "2024-07-29T07:49:34.831Z"
   },
   {
    "duration": 162,
    "start_time": "2024-07-29T07:49:35.076Z"
   },
   {
    "duration": 216,
    "start_time": "2024-07-29T07:49:35.240Z"
   },
   {
    "duration": 7,
    "start_time": "2024-07-29T07:49:35.458Z"
   },
   {
    "duration": 6,
    "start_time": "2024-07-29T07:49:35.467Z"
   },
   {
    "duration": 12,
    "start_time": "2024-07-29T07:49:35.475Z"
   },
   {
    "duration": 13,
    "start_time": "2024-07-29T07:49:35.488Z"
   },
   {
    "duration": 29,
    "start_time": "2024-07-29T07:49:35.502Z"
   },
   {
    "duration": 75,
    "start_time": "2024-07-29T07:49:35.532Z"
   },
   {
    "duration": 5710,
    "start_time": "2024-07-29T07:49:35.609Z"
   },
   {
    "duration": 5,
    "start_time": "2024-07-29T07:49:41.320Z"
   },
   {
    "duration": 5014,
    "start_time": "2024-07-29T07:49:41.326Z"
   },
   {
    "duration": 31,
    "start_time": "2024-07-29T07:49:46.341Z"
   },
   {
    "duration": 4,
    "start_time": "2024-07-29T07:49:46.373Z"
   },
   {
    "duration": 6,
    "start_time": "2024-07-29T07:49:46.379Z"
   },
   {
    "duration": 5,
    "start_time": "2024-07-29T07:49:46.386Z"
   },
   {
    "duration": 273,
    "start_time": "2024-07-29T07:49:46.393Z"
   },
   {
    "duration": 9,
    "start_time": "2024-07-29T07:49:46.668Z"
   },
   {
    "duration": 7,
    "start_time": "2024-07-29T07:49:46.679Z"
   },
   {
    "duration": 14,
    "start_time": "2024-07-29T07:49:46.688Z"
   },
   {
    "duration": 112,
    "start_time": "2024-07-29T07:49:46.704Z"
   },
   {
    "duration": 66,
    "start_time": "2024-07-29T07:49:46.817Z"
   },
   {
    "duration": 1170,
    "start_time": "2024-07-29T07:49:46.885Z"
   },
   {
    "duration": 5,
    "start_time": "2024-07-29T07:49:48.057Z"
   },
   {
    "duration": 13,
    "start_time": "2024-07-29T07:49:48.067Z"
   },
   {
    "duration": 19,
    "start_time": "2024-07-29T07:49:48.081Z"
   },
   {
    "duration": 185,
    "start_time": "2024-07-29T07:49:48.102Z"
   },
   {
    "duration": 197,
    "start_time": "2024-07-29T07:49:48.289Z"
   },
   {
    "duration": 1125,
    "start_time": "2024-07-29T07:49:48.488Z"
   },
   {
    "duration": 15,
    "start_time": "2024-07-29T07:49:49.616Z"
   },
   {
    "duration": 323,
    "start_time": "2024-07-29T07:49:49.633Z"
   },
   {
    "duration": 261,
    "start_time": "2024-07-29T07:49:49.958Z"
   },
   {
    "duration": 228,
    "start_time": "2024-07-29T07:49:50.221Z"
   },
   {
    "duration": 15,
    "start_time": "2024-07-29T07:49:50.451Z"
   },
   {
    "duration": 22,
    "start_time": "2024-07-29T07:49:50.468Z"
   },
   {
    "duration": 9,
    "start_time": "2024-07-29T07:49:50.492Z"
   },
   {
    "duration": 35,
    "start_time": "2024-07-29T07:49:50.502Z"
   },
   {
    "duration": 53,
    "start_time": "2024-07-29T07:49:50.539Z"
   },
   {
    "duration": 363,
    "start_time": "2024-07-29T07:49:50.594Z"
   },
   {
    "duration": 324,
    "start_time": "2024-07-29T07:49:50.967Z"
   },
   {
    "duration": 11,
    "start_time": "2024-07-29T07:49:51.293Z"
   },
   {
    "duration": 11,
    "start_time": "2024-07-29T07:49:51.306Z"
   },
   {
    "duration": 33,
    "start_time": "2024-07-29T07:49:51.319Z"
   },
   {
    "duration": 16,
    "start_time": "2024-07-29T07:51:06.311Z"
   },
   {
    "duration": 11,
    "start_time": "2024-07-29T07:51:19.636Z"
   },
   {
    "duration": 10,
    "start_time": "2024-07-29T07:51:41.071Z"
   },
   {
    "duration": 1272,
    "start_time": "2024-07-29T07:51:58.562Z"
   },
   {
    "duration": 49,
    "start_time": "2024-07-29T07:51:59.836Z"
   },
   {
    "duration": 14,
    "start_time": "2024-07-29T07:51:59.887Z"
   },
   {
    "duration": 13,
    "start_time": "2024-07-29T07:51:59.902Z"
   },
   {
    "duration": 19,
    "start_time": "2024-07-29T07:51:59.917Z"
   },
   {
    "duration": 35,
    "start_time": "2024-07-29T07:51:59.938Z"
   },
   {
    "duration": 18,
    "start_time": "2024-07-29T07:51:59.975Z"
   },
   {
    "duration": 120,
    "start_time": "2024-07-29T07:51:59.994Z"
   },
   {
    "duration": 171,
    "start_time": "2024-07-29T07:52:00.116Z"
   },
   {
    "duration": 71,
    "start_time": "2024-07-29T07:52:00.289Z"
   },
   {
    "duration": 51,
    "start_time": "2024-07-29T07:52:00.362Z"
   },
   {
    "duration": 49,
    "start_time": "2024-07-29T07:52:00.415Z"
   },
   {
    "duration": 128,
    "start_time": "2024-07-29T07:52:00.466Z"
   },
   {
    "duration": 70,
    "start_time": "2024-07-29T07:52:00.597Z"
   },
   {
    "duration": 108,
    "start_time": "2024-07-29T07:52:00.670Z"
   },
   {
    "duration": 77,
    "start_time": "2024-07-29T07:52:00.783Z"
   },
   {
    "duration": 286,
    "start_time": "2024-07-29T07:52:00.862Z"
   },
   {
    "duration": 174,
    "start_time": "2024-07-29T07:52:01.149Z"
   },
   {
    "duration": 195,
    "start_time": "2024-07-29T07:52:01.325Z"
   },
   {
    "duration": 2,
    "start_time": "2024-07-29T07:52:01.522Z"
   },
   {
    "duration": 92,
    "start_time": "2024-07-29T07:52:01.526Z"
   },
   {
    "duration": 98,
    "start_time": "2024-07-29T07:52:01.620Z"
   },
   {
    "duration": 24,
    "start_time": "2024-07-29T07:52:01.720Z"
   },
   {
    "duration": 33,
    "start_time": "2024-07-29T07:52:01.745Z"
   },
   {
    "duration": 52,
    "start_time": "2024-07-29T07:52:01.780Z"
   },
   {
    "duration": 5783,
    "start_time": "2024-07-29T07:52:01.834Z"
   },
   {
    "duration": 6,
    "start_time": "2024-07-29T07:52:07.619Z"
   },
   {
    "duration": 5021,
    "start_time": "2024-07-29T07:52:07.626Z"
   },
   {
    "duration": 28,
    "start_time": "2024-07-29T07:52:12.648Z"
   },
   {
    "duration": 4,
    "start_time": "2024-07-29T07:52:12.677Z"
   },
   {
    "duration": 5,
    "start_time": "2024-07-29T07:52:12.683Z"
   },
   {
    "duration": 5,
    "start_time": "2024-07-29T07:52:12.690Z"
   },
   {
    "duration": 295,
    "start_time": "2024-07-29T07:52:12.696Z"
   },
   {
    "duration": 8,
    "start_time": "2024-07-29T07:52:12.992Z"
   },
   {
    "duration": 8,
    "start_time": "2024-07-29T07:52:13.002Z"
   },
   {
    "duration": 15,
    "start_time": "2024-07-29T07:52:13.012Z"
   },
   {
    "duration": 2,
    "start_time": "2024-07-29T07:52:13.030Z"
   },
   {
    "duration": 31,
    "start_time": "2024-07-29T07:52:13.034Z"
   },
   {
    "duration": 1185,
    "start_time": "2024-07-29T07:52:13.067Z"
   },
   {
    "duration": 10,
    "start_time": "2024-07-29T07:52:14.254Z"
   },
   {
    "duration": 4,
    "start_time": "2024-07-29T07:52:14.269Z"
   },
   {
    "duration": 14,
    "start_time": "2024-07-29T07:52:14.275Z"
   },
   {
    "duration": 218,
    "start_time": "2024-07-29T07:52:14.290Z"
   },
   {
    "duration": 214,
    "start_time": "2024-07-29T07:52:14.509Z"
   },
   {
    "duration": 1073,
    "start_time": "2024-07-29T07:52:14.724Z"
   },
   {
    "duration": 13,
    "start_time": "2024-07-29T07:52:15.799Z"
   },
   {
    "duration": 282,
    "start_time": "2024-07-29T07:52:15.814Z"
   },
   {
    "duration": 242,
    "start_time": "2024-07-29T07:52:16.098Z"
   },
   {
    "duration": 235,
    "start_time": "2024-07-29T07:52:16.342Z"
   },
   {
    "duration": 9,
    "start_time": "2024-07-29T07:52:16.578Z"
   },
   {
    "duration": 23,
    "start_time": "2024-07-29T07:52:16.589Z"
   },
   {
    "duration": 8,
    "start_time": "2024-07-29T07:52:16.614Z"
   },
   {
    "duration": 17,
    "start_time": "2024-07-29T07:52:16.624Z"
   },
   {
    "duration": 45,
    "start_time": "2024-07-29T07:52:16.642Z"
   },
   {
    "duration": 334,
    "start_time": "2024-07-29T07:52:16.689Z"
   },
   {
    "duration": 307,
    "start_time": "2024-07-29T07:52:17.025Z"
   },
   {
    "duration": 11,
    "start_time": "2024-07-29T07:52:17.333Z"
   },
   {
    "duration": 27,
    "start_time": "2024-07-29T07:52:17.346Z"
   },
   {
    "duration": 27,
    "start_time": "2024-07-29T07:52:17.374Z"
   },
   {
    "duration": 11,
    "start_time": "2024-07-29T07:54:49.033Z"
   },
   {
    "duration": 17,
    "start_time": "2024-07-29T07:54:51.819Z"
   },
   {
    "duration": 15,
    "start_time": "2024-07-29T07:55:57.529Z"
   },
   {
    "duration": 1182,
    "start_time": "2024-07-29T07:56:07.089Z"
   },
   {
    "duration": 49,
    "start_time": "2024-07-29T07:56:08.273Z"
   },
   {
    "duration": 14,
    "start_time": "2024-07-29T07:56:08.323Z"
   },
   {
    "duration": 12,
    "start_time": "2024-07-29T07:56:08.339Z"
   },
   {
    "duration": 19,
    "start_time": "2024-07-29T07:56:08.353Z"
   },
   {
    "duration": 13,
    "start_time": "2024-07-29T07:56:08.374Z"
   },
   {
    "duration": 15,
    "start_time": "2024-07-29T07:56:08.389Z"
   },
   {
    "duration": 12,
    "start_time": "2024-07-29T07:56:08.406Z"
   },
   {
    "duration": 4,
    "start_time": "2024-07-29T07:56:08.420Z"
   },
   {
    "duration": 6,
    "start_time": "2024-07-29T07:56:08.425Z"
   },
   {
    "duration": 38,
    "start_time": "2024-07-29T07:56:08.433Z"
   },
   {
    "duration": 8,
    "start_time": "2024-07-29T07:56:08.473Z"
   },
   {
    "duration": 9,
    "start_time": "2024-07-29T07:56:08.483Z"
   },
   {
    "duration": 15,
    "start_time": "2024-07-29T07:56:08.495Z"
   },
   {
    "duration": 11,
    "start_time": "2024-07-29T07:56:08.511Z"
   },
   {
    "duration": 44,
    "start_time": "2024-07-29T07:56:08.523Z"
   },
   {
    "duration": 255,
    "start_time": "2024-07-29T07:56:08.569Z"
   },
   {
    "duration": 164,
    "start_time": "2024-07-29T07:56:08.826Z"
   },
   {
    "duration": 209,
    "start_time": "2024-07-29T07:56:08.992Z"
   },
   {
    "duration": 2,
    "start_time": "2024-07-29T07:56:09.203Z"
   },
   {
    "duration": 10,
    "start_time": "2024-07-29T07:56:09.207Z"
   },
   {
    "duration": 5,
    "start_time": "2024-07-29T07:56:09.219Z"
   },
   {
    "duration": 5,
    "start_time": "2024-07-29T07:56:09.226Z"
   },
   {
    "duration": 18,
    "start_time": "2024-07-29T07:56:09.232Z"
   },
   {
    "duration": 27,
    "start_time": "2024-07-29T07:56:09.252Z"
   },
   {
    "duration": 5585,
    "start_time": "2024-07-29T07:56:09.280Z"
   },
   {
    "duration": 6,
    "start_time": "2024-07-29T07:56:14.866Z"
   },
   {
    "duration": 4942,
    "start_time": "2024-07-29T07:56:14.874Z"
   },
   {
    "duration": 23,
    "start_time": "2024-07-29T07:56:19.818Z"
   },
   {
    "duration": 86,
    "start_time": "2024-07-29T07:56:19.842Z"
   },
   {
    "duration": 32,
    "start_time": "2024-07-29T07:56:19.929Z"
   },
   {
    "duration": 14,
    "start_time": "2024-07-29T07:56:19.963Z"
   },
   {
    "duration": 248,
    "start_time": "2024-07-29T07:56:19.978Z"
   },
   {
    "duration": 9,
    "start_time": "2024-07-29T07:56:20.228Z"
   },
   {
    "duration": 11,
    "start_time": "2024-07-29T07:56:20.238Z"
   },
   {
    "duration": 29,
    "start_time": "2024-07-29T07:56:20.250Z"
   },
   {
    "duration": 3,
    "start_time": "2024-07-29T07:56:20.281Z"
   },
   {
    "duration": 22,
    "start_time": "2024-07-29T07:56:20.285Z"
   },
   {
    "duration": 1162,
    "start_time": "2024-07-29T07:56:20.309Z"
   },
   {
    "duration": 5,
    "start_time": "2024-07-29T07:56:21.473Z"
   },
   {
    "duration": 5,
    "start_time": "2024-07-29T07:56:21.481Z"
   },
   {
    "duration": 13,
    "start_time": "2024-07-29T07:56:21.488Z"
   },
   {
    "duration": 210,
    "start_time": "2024-07-29T07:56:21.503Z"
   },
   {
    "duration": 218,
    "start_time": "2024-07-29T07:56:21.715Z"
   },
   {
    "duration": 1132,
    "start_time": "2024-07-29T07:56:21.935Z"
   },
   {
    "duration": 13,
    "start_time": "2024-07-29T07:56:23.069Z"
   },
   {
    "duration": 248,
    "start_time": "2024-07-29T07:56:23.084Z"
   },
   {
    "duration": 254,
    "start_time": "2024-07-29T07:56:23.334Z"
   },
   {
    "duration": 238,
    "start_time": "2024-07-29T07:56:23.589Z"
   },
   {
    "duration": 11,
    "start_time": "2024-07-29T07:56:23.828Z"
   },
   {
    "duration": 89,
    "start_time": "2024-07-29T07:56:23.840Z"
   },
   {
    "duration": 8,
    "start_time": "2024-07-29T07:56:23.930Z"
   },
   {
    "duration": 11,
    "start_time": "2024-07-29T07:56:23.939Z"
   },
   {
    "duration": 31,
    "start_time": "2024-07-29T07:56:23.952Z"
   },
   {
    "duration": 341,
    "start_time": "2024-07-29T07:56:23.985Z"
   },
   {
    "duration": 304,
    "start_time": "2024-07-29T07:56:24.328Z"
   },
   {
    "duration": 12,
    "start_time": "2024-07-29T07:56:24.634Z"
   },
   {
    "duration": 25,
    "start_time": "2024-07-29T07:56:24.647Z"
   },
   {
    "duration": 21,
    "start_time": "2024-07-29T07:56:24.674Z"
   },
   {
    "duration": 20,
    "start_time": "2024-07-29T07:59:26.602Z"
   },
   {
    "duration": 11,
    "start_time": "2024-07-29T07:59:37.780Z"
   },
   {
    "duration": 15,
    "start_time": "2024-07-29T07:59:42.729Z"
   },
   {
    "duration": 20,
    "start_time": "2024-07-29T08:01:12.096Z"
   },
   {
    "duration": 130,
    "start_time": "2024-07-29T08:04:45.630Z"
   },
   {
    "duration": 17,
    "start_time": "2024-07-29T08:06:00.161Z"
   },
   {
    "duration": 11,
    "start_time": "2024-07-29T08:06:24.495Z"
   },
   {
    "duration": 10,
    "start_time": "2024-07-29T08:07:22.104Z"
   },
   {
    "duration": 1205,
    "start_time": "2024-07-29T08:07:37.938Z"
   },
   {
    "duration": 49,
    "start_time": "2024-07-29T08:07:39.145Z"
   },
   {
    "duration": 13,
    "start_time": "2024-07-29T08:07:39.196Z"
   },
   {
    "duration": 30,
    "start_time": "2024-07-29T08:07:39.211Z"
   },
   {
    "duration": 21,
    "start_time": "2024-07-29T08:07:39.243Z"
   },
   {
    "duration": 37,
    "start_time": "2024-07-29T08:07:39.266Z"
   },
   {
    "duration": 18,
    "start_time": "2024-07-29T08:07:39.305Z"
   },
   {
    "duration": 11,
    "start_time": "2024-07-29T08:07:39.325Z"
   },
   {
    "duration": 4,
    "start_time": "2024-07-29T08:07:39.338Z"
   },
   {
    "duration": 12,
    "start_time": "2024-07-29T08:07:39.344Z"
   },
   {
    "duration": 23,
    "start_time": "2024-07-29T08:07:39.357Z"
   },
   {
    "duration": 9,
    "start_time": "2024-07-29T08:07:39.382Z"
   },
   {
    "duration": 15,
    "start_time": "2024-07-29T08:07:39.392Z"
   },
   {
    "duration": 24,
    "start_time": "2024-07-29T08:07:39.408Z"
   },
   {
    "duration": 8,
    "start_time": "2024-07-29T08:07:39.434Z"
   },
   {
    "duration": 268,
    "start_time": "2024-07-29T08:07:39.465Z"
   },
   {
    "duration": 170,
    "start_time": "2024-07-29T08:07:39.735Z"
   },
   {
    "duration": 202,
    "start_time": "2024-07-29T08:07:39.907Z"
   },
   {
    "duration": 2,
    "start_time": "2024-07-29T08:07:40.111Z"
   },
   {
    "duration": 5,
    "start_time": "2024-07-29T08:07:40.116Z"
   },
   {
    "duration": 16,
    "start_time": "2024-07-29T08:07:40.122Z"
   },
   {
    "duration": 12,
    "start_time": "2024-07-29T08:07:40.139Z"
   },
   {
    "duration": 20,
    "start_time": "2024-07-29T08:07:40.153Z"
   },
   {
    "duration": 13,
    "start_time": "2024-07-29T08:07:40.174Z"
   },
   {
    "duration": 4895,
    "start_time": "2024-07-29T08:07:40.189Z"
   },
   {
    "duration": 5,
    "start_time": "2024-07-29T08:07:45.085Z"
   },
   {
    "duration": 4442,
    "start_time": "2024-07-29T08:07:45.092Z"
   },
   {
    "duration": 39,
    "start_time": "2024-07-29T08:07:49.537Z"
   },
   {
    "duration": 5,
    "start_time": "2024-07-29T08:07:49.578Z"
   },
   {
    "duration": 6,
    "start_time": "2024-07-29T08:07:49.585Z"
   },
   {
    "duration": 5,
    "start_time": "2024-07-29T08:07:49.592Z"
   },
   {
    "duration": 297,
    "start_time": "2024-07-29T08:07:49.598Z"
   },
   {
    "duration": 8,
    "start_time": "2024-07-29T08:07:49.897Z"
   },
   {
    "duration": 49,
    "start_time": "2024-07-29T08:07:49.906Z"
   },
   {
    "duration": 14,
    "start_time": "2024-07-29T08:07:49.957Z"
   },
   {
    "duration": 2,
    "start_time": "2024-07-29T08:07:49.973Z"
   },
   {
    "duration": 6,
    "start_time": "2024-07-29T08:07:49.977Z"
   },
   {
    "duration": 923,
    "start_time": "2024-07-29T08:07:49.985Z"
   },
   {
    "duration": 5,
    "start_time": "2024-07-29T08:07:50.910Z"
   },
   {
    "duration": 23,
    "start_time": "2024-07-29T08:07:50.916Z"
   },
   {
    "duration": 37,
    "start_time": "2024-07-29T08:07:50.940Z"
   },
   {
    "duration": 202,
    "start_time": "2024-07-29T08:07:50.978Z"
   },
   {
    "duration": 531,
    "start_time": "2024-07-29T08:07:51.182Z"
   },
   {
    "duration": 747,
    "start_time": "2024-07-29T08:07:51.715Z"
   },
   {
    "duration": 14,
    "start_time": "2024-07-29T08:07:52.465Z"
   },
   {
    "duration": 299,
    "start_time": "2024-07-29T08:07:52.481Z"
   },
   {
    "duration": 289,
    "start_time": "2024-07-29T08:07:52.782Z"
   },
   {
    "duration": 243,
    "start_time": "2024-07-29T08:07:53.074Z"
   },
   {
    "duration": 8,
    "start_time": "2024-07-29T08:07:53.319Z"
   },
   {
    "duration": 19,
    "start_time": "2024-07-29T08:07:53.328Z"
   },
   {
    "duration": 23,
    "start_time": "2024-07-29T08:07:53.349Z"
   },
   {
    "duration": 26,
    "start_time": "2024-07-29T08:07:53.374Z"
   },
   {
    "duration": 47,
    "start_time": "2024-07-29T08:07:53.402Z"
   },
   {
    "duration": 332,
    "start_time": "2024-07-29T08:07:53.451Z"
   },
   {
    "duration": 341,
    "start_time": "2024-07-29T08:07:53.785Z"
   },
   {
    "duration": 11,
    "start_time": "2024-07-29T08:07:54.128Z"
   },
   {
    "duration": 25,
    "start_time": "2024-07-29T08:07:54.141Z"
   },
   {
    "duration": 14,
    "start_time": "2024-07-29T08:07:54.167Z"
   },
   {
    "duration": 20,
    "start_time": "2024-07-29T08:09:05.785Z"
   },
   {
    "duration": 9,
    "start_time": "2024-07-29T08:09:08.907Z"
   },
   {
    "duration": 17,
    "start_time": "2024-07-29T08:12:21.767Z"
   },
   {
    "duration": 1124,
    "start_time": "2024-07-29T08:14:09.416Z"
   },
   {
    "duration": 48,
    "start_time": "2024-07-29T08:14:10.542Z"
   },
   {
    "duration": 13,
    "start_time": "2024-07-29T08:14:10.592Z"
   },
   {
    "duration": 23,
    "start_time": "2024-07-29T08:14:10.606Z"
   },
   {
    "duration": 17,
    "start_time": "2024-07-29T08:14:10.631Z"
   },
   {
    "duration": 26,
    "start_time": "2024-07-29T08:14:10.650Z"
   },
   {
    "duration": 22,
    "start_time": "2024-07-29T08:14:10.678Z"
   },
   {
    "duration": 20,
    "start_time": "2024-07-29T08:14:10.701Z"
   },
   {
    "duration": 5,
    "start_time": "2024-07-29T08:14:10.723Z"
   },
   {
    "duration": 12,
    "start_time": "2024-07-29T08:14:10.730Z"
   },
   {
    "duration": 90,
    "start_time": "2024-07-29T08:14:10.769Z"
   },
   {
    "duration": 9,
    "start_time": "2024-07-29T08:14:10.861Z"
   },
   {
    "duration": 18,
    "start_time": "2024-07-29T08:14:10.872Z"
   },
   {
    "duration": 18,
    "start_time": "2024-07-29T08:14:10.894Z"
   },
   {
    "duration": 8,
    "start_time": "2024-07-29T08:14:10.914Z"
   },
   {
    "duration": 42,
    "start_time": "2024-07-29T08:14:10.924Z"
   },
   {
    "duration": 3,
    "start_time": "2024-07-29T08:14:10.968Z"
   },
   {
    "duration": 283,
    "start_time": "2024-07-29T08:14:10.973Z"
   },
   {
    "duration": 167,
    "start_time": "2024-07-29T08:14:11.258Z"
   },
   {
    "duration": 207,
    "start_time": "2024-07-29T08:14:11.427Z"
   },
   {
    "duration": 2,
    "start_time": "2024-07-29T08:14:11.635Z"
   },
   {
    "duration": 5,
    "start_time": "2024-07-29T08:14:11.639Z"
   },
   {
    "duration": 5,
    "start_time": "2024-07-29T08:14:11.646Z"
   },
   {
    "duration": 72,
    "start_time": "2024-07-29T08:14:11.665Z"
   },
   {
    "duration": 4810,
    "start_time": "2024-07-29T08:14:11.739Z"
   },
   {
    "duration": 5,
    "start_time": "2024-07-29T08:14:16.550Z"
   },
   {
    "duration": 4383,
    "start_time": "2024-07-29T08:14:16.564Z"
   },
   {
    "duration": 31,
    "start_time": "2024-07-29T08:14:20.949Z"
   },
   {
    "duration": 54,
    "start_time": "2024-07-29T08:14:20.982Z"
   },
   {
    "duration": 6,
    "start_time": "2024-07-29T08:14:21.038Z"
   },
   {
    "duration": 12,
    "start_time": "2024-07-29T08:14:21.046Z"
   },
   {
    "duration": 275,
    "start_time": "2024-07-29T08:14:21.060Z"
   },
   {
    "duration": 8,
    "start_time": "2024-07-29T08:14:21.337Z"
   },
   {
    "duration": 21,
    "start_time": "2024-07-29T08:14:21.347Z"
   },
   {
    "duration": 14,
    "start_time": "2024-07-29T08:14:21.370Z"
   },
   {
    "duration": 2,
    "start_time": "2024-07-29T08:14:21.386Z"
   },
   {
    "duration": 3,
    "start_time": "2024-07-29T08:14:21.390Z"
   },
   {
    "duration": 867,
    "start_time": "2024-07-29T08:14:21.395Z"
   },
   {
    "duration": 5,
    "start_time": "2024-07-29T08:14:22.265Z"
   },
   {
    "duration": 8,
    "start_time": "2024-07-29T08:14:22.272Z"
   },
   {
    "duration": 13,
    "start_time": "2024-07-29T08:14:22.284Z"
   },
   {
    "duration": 216,
    "start_time": "2024-07-29T08:14:22.299Z"
   },
   {
    "duration": 193,
    "start_time": "2024-07-29T08:14:22.517Z"
   },
   {
    "duration": 1029,
    "start_time": "2024-07-29T08:14:22.712Z"
   },
   {
    "duration": 24,
    "start_time": "2024-07-29T08:14:23.743Z"
   },
   {
    "duration": 275,
    "start_time": "2024-07-29T08:14:23.769Z"
   },
   {
    "duration": 275,
    "start_time": "2024-07-29T08:14:24.045Z"
   },
   {
    "duration": 230,
    "start_time": "2024-07-29T08:14:24.321Z"
   },
   {
    "duration": 15,
    "start_time": "2024-07-29T08:14:24.552Z"
   },
   {
    "duration": 15,
    "start_time": "2024-07-29T08:14:24.568Z"
   },
   {
    "duration": 9,
    "start_time": "2024-07-29T08:14:24.585Z"
   },
   {
    "duration": 8,
    "start_time": "2024-07-29T08:14:24.595Z"
   },
   {
    "duration": 61,
    "start_time": "2024-07-29T08:14:24.605Z"
   },
   {
    "duration": 376,
    "start_time": "2024-07-29T08:14:24.668Z"
   },
   {
    "duration": 320,
    "start_time": "2024-07-29T08:14:25.045Z"
   },
   {
    "duration": 12,
    "start_time": "2024-07-29T08:14:25.366Z"
   },
   {
    "duration": 11,
    "start_time": "2024-07-29T08:14:25.379Z"
   },
   {
    "duration": 8,
    "start_time": "2024-07-29T08:14:25.392Z"
   },
   {
    "duration": 18,
    "start_time": "2024-07-29T08:15:01.031Z"
   },
   {
    "duration": 1291,
    "start_time": "2024-07-29T08:15:10.445Z"
   },
   {
    "duration": 52,
    "start_time": "2024-07-29T08:15:11.738Z"
   },
   {
    "duration": 15,
    "start_time": "2024-07-29T08:15:11.792Z"
   },
   {
    "duration": 15,
    "start_time": "2024-07-29T08:15:11.809Z"
   },
   {
    "duration": 42,
    "start_time": "2024-07-29T08:15:11.827Z"
   },
   {
    "duration": 17,
    "start_time": "2024-07-29T08:15:11.871Z"
   },
   {
    "duration": 18,
    "start_time": "2024-07-29T08:15:11.890Z"
   },
   {
    "duration": 66,
    "start_time": "2024-07-29T08:15:11.909Z"
   },
   {
    "duration": 4,
    "start_time": "2024-07-29T08:15:11.977Z"
   },
   {
    "duration": 11,
    "start_time": "2024-07-29T08:15:11.982Z"
   },
   {
    "duration": 12,
    "start_time": "2024-07-29T08:15:11.994Z"
   },
   {
    "duration": 9,
    "start_time": "2024-07-29T08:15:12.008Z"
   },
   {
    "duration": 26,
    "start_time": "2024-07-29T08:15:12.018Z"
   },
   {
    "duration": 18,
    "start_time": "2024-07-29T08:15:12.066Z"
   },
   {
    "duration": 8,
    "start_time": "2024-07-29T08:15:12.086Z"
   },
   {
    "duration": 13,
    "start_time": "2024-07-29T08:15:12.095Z"
   },
   {
    "duration": 14,
    "start_time": "2024-07-29T08:15:12.110Z"
   },
   {
    "duration": 301,
    "start_time": "2024-07-29T08:15:12.126Z"
   },
   {
    "duration": 165,
    "start_time": "2024-07-29T08:15:12.429Z"
   },
   {
    "duration": 202,
    "start_time": "2024-07-29T08:15:12.595Z"
   },
   {
    "duration": 2,
    "start_time": "2024-07-29T08:15:12.798Z"
   },
   {
    "duration": 43,
    "start_time": "2024-07-29T08:15:12.802Z"
   },
   {
    "duration": 10,
    "start_time": "2024-07-29T08:15:12.847Z"
   },
   {
    "duration": 17,
    "start_time": "2024-07-29T08:15:12.859Z"
   },
   {
    "duration": 4958,
    "start_time": "2024-07-29T08:15:12.878Z"
   },
   {
    "duration": 5,
    "start_time": "2024-07-29T08:15:17.838Z"
   },
   {
    "duration": 4461,
    "start_time": "2024-07-29T08:15:17.845Z"
   },
   {
    "duration": 23,
    "start_time": "2024-07-29T08:15:22.308Z"
   },
   {
    "duration": 23,
    "start_time": "2024-07-29T08:15:22.333Z"
   },
   {
    "duration": 10,
    "start_time": "2024-07-29T08:15:22.358Z"
   },
   {
    "duration": 17,
    "start_time": "2024-07-29T08:15:22.370Z"
   },
   {
    "duration": 269,
    "start_time": "2024-07-29T08:15:22.389Z"
   },
   {
    "duration": 8,
    "start_time": "2024-07-29T08:15:22.665Z"
   },
   {
    "duration": 25,
    "start_time": "2024-07-29T08:15:22.674Z"
   },
   {
    "duration": 16,
    "start_time": "2024-07-29T08:15:22.700Z"
   },
   {
    "duration": 3,
    "start_time": "2024-07-29T08:15:22.718Z"
   },
   {
    "duration": 6,
    "start_time": "2024-07-29T08:15:22.723Z"
   },
   {
    "duration": 894,
    "start_time": "2024-07-29T08:15:22.731Z"
   },
   {
    "duration": 5,
    "start_time": "2024-07-29T08:15:23.627Z"
   },
   {
    "duration": 7,
    "start_time": "2024-07-29T08:15:23.633Z"
   },
   {
    "duration": 27,
    "start_time": "2024-07-29T08:15:23.644Z"
   },
   {
    "duration": 259,
    "start_time": "2024-07-29T08:15:23.673Z"
   },
   {
    "duration": 505,
    "start_time": "2024-07-29T08:15:23.933Z"
   },
   {
    "duration": 756,
    "start_time": "2024-07-29T08:15:24.440Z"
   },
   {
    "duration": 13,
    "start_time": "2024-07-29T08:15:25.197Z"
   },
   {
    "duration": 245,
    "start_time": "2024-07-29T08:15:25.211Z"
   },
   {
    "duration": 282,
    "start_time": "2024-07-29T08:15:25.458Z"
   },
   {
    "duration": 240,
    "start_time": "2024-07-29T08:15:25.742Z"
   },
   {
    "duration": 9,
    "start_time": "2024-07-29T08:15:25.983Z"
   },
   {
    "duration": 16,
    "start_time": "2024-07-29T08:15:25.993Z"
   },
   {
    "duration": 11,
    "start_time": "2024-07-29T08:15:26.010Z"
   },
   {
    "duration": 18,
    "start_time": "2024-07-29T08:15:26.023Z"
   },
   {
    "duration": 51,
    "start_time": "2024-07-29T08:15:26.043Z"
   },
   {
    "duration": 387,
    "start_time": "2024-07-29T08:15:26.098Z"
   },
   {
    "duration": 371,
    "start_time": "2024-07-29T08:15:26.487Z"
   },
   {
    "duration": 11,
    "start_time": "2024-07-29T08:15:26.865Z"
   },
   {
    "duration": 12,
    "start_time": "2024-07-29T08:15:26.878Z"
   },
   {
    "duration": 9,
    "start_time": "2024-07-29T08:15:26.892Z"
   },
   {
    "duration": 4,
    "start_time": "2024-07-29T08:22:23.129Z"
   },
   {
    "duration": 1173,
    "start_time": "2024-07-29T08:22:30.769Z"
   },
   {
    "duration": 52,
    "start_time": "2024-07-29T08:22:31.944Z"
   },
   {
    "duration": 21,
    "start_time": "2024-07-29T08:22:31.997Z"
   },
   {
    "duration": 13,
    "start_time": "2024-07-29T08:22:32.020Z"
   },
   {
    "duration": 24,
    "start_time": "2024-07-29T08:22:32.035Z"
   },
   {
    "duration": 17,
    "start_time": "2024-07-29T08:22:32.061Z"
   },
   {
    "duration": 19,
    "start_time": "2024-07-29T08:22:32.079Z"
   },
   {
    "duration": 26,
    "start_time": "2024-07-29T08:22:32.099Z"
   },
   {
    "duration": 5,
    "start_time": "2024-07-29T08:22:32.126Z"
   },
   {
    "duration": 8,
    "start_time": "2024-07-29T08:22:32.132Z"
   },
   {
    "duration": 13,
    "start_time": "2024-07-29T08:22:32.165Z"
   },
   {
    "duration": 8,
    "start_time": "2024-07-29T08:22:32.180Z"
   },
   {
    "duration": 16,
    "start_time": "2024-07-29T08:22:32.190Z"
   },
   {
    "duration": 18,
    "start_time": "2024-07-29T08:22:32.209Z"
   },
   {
    "duration": 37,
    "start_time": "2024-07-29T08:22:32.229Z"
   },
   {
    "duration": 6,
    "start_time": "2024-07-29T08:22:32.268Z"
   },
   {
    "duration": 16,
    "start_time": "2024-07-29T08:22:32.275Z"
   },
   {
    "duration": 15,
    "start_time": "2024-07-29T08:22:32.293Z"
   },
   {
    "duration": 300,
    "start_time": "2024-07-29T08:22:32.309Z"
   },
   {
    "duration": 167,
    "start_time": "2024-07-29T08:22:32.611Z"
   },
   {
    "duration": 196,
    "start_time": "2024-07-29T08:22:32.780Z"
   },
   {
    "duration": 2,
    "start_time": "2024-07-29T08:22:32.978Z"
   },
   {
    "duration": 13,
    "start_time": "2024-07-29T08:22:32.983Z"
   },
   {
    "duration": 10,
    "start_time": "2024-07-29T08:22:32.997Z"
   },
   {
    "duration": 4829,
    "start_time": "2024-07-29T08:22:33.009Z"
   },
   {
    "duration": 6,
    "start_time": "2024-07-29T08:22:37.840Z"
   },
   {
    "duration": 4743,
    "start_time": "2024-07-29T08:22:37.847Z"
   },
   {
    "duration": 24,
    "start_time": "2024-07-29T08:22:42.592Z"
   },
   {
    "duration": 5,
    "start_time": "2024-07-29T08:22:42.618Z"
   },
   {
    "duration": 11,
    "start_time": "2024-07-29T08:22:42.624Z"
   },
   {
    "duration": 7,
    "start_time": "2024-07-29T08:22:42.636Z"
   },
   {
    "duration": 287,
    "start_time": "2024-07-29T08:22:42.665Z"
   },
   {
    "duration": 17,
    "start_time": "2024-07-29T08:22:42.954Z"
   },
   {
    "duration": 12,
    "start_time": "2024-07-29T08:22:42.973Z"
   },
   {
    "duration": 25,
    "start_time": "2024-07-29T08:22:42.987Z"
   },
   {
    "duration": 17,
    "start_time": "2024-07-29T08:22:43.015Z"
   },
   {
    "duration": 7,
    "start_time": "2024-07-29T08:22:43.034Z"
   },
   {
    "duration": 953,
    "start_time": "2024-07-29T08:22:43.042Z"
   },
   {
    "duration": 6,
    "start_time": "2024-07-29T08:22:43.997Z"
   },
   {
    "duration": 9,
    "start_time": "2024-07-29T08:22:44.005Z"
   },
   {
    "duration": 15,
    "start_time": "2024-07-29T08:22:44.018Z"
   },
   {
    "duration": 206,
    "start_time": "2024-07-29T08:22:44.034Z"
   },
   {
    "duration": 517,
    "start_time": "2024-07-29T08:22:44.242Z"
   },
   {
    "duration": 773,
    "start_time": "2024-07-29T08:22:44.760Z"
   },
   {
    "duration": 12,
    "start_time": "2024-07-29T08:22:45.535Z"
   },
   {
    "duration": 292,
    "start_time": "2024-07-29T08:22:45.548Z"
   },
   {
    "duration": 270,
    "start_time": "2024-07-29T08:22:45.842Z"
   },
   {
    "duration": 248,
    "start_time": "2024-07-29T08:22:46.114Z"
   },
   {
    "duration": 10,
    "start_time": "2024-07-29T08:22:46.364Z"
   },
   {
    "duration": 25,
    "start_time": "2024-07-29T08:22:46.375Z"
   },
   {
    "duration": 9,
    "start_time": "2024-07-29T08:22:46.402Z"
   },
   {
    "duration": 21,
    "start_time": "2024-07-29T08:22:46.412Z"
   },
   {
    "duration": 51,
    "start_time": "2024-07-29T08:22:46.434Z"
   },
   {
    "duration": 396,
    "start_time": "2024-07-29T08:22:46.487Z"
   },
   {
    "duration": 344,
    "start_time": "2024-07-29T08:22:46.884Z"
   },
   {
    "duration": 11,
    "start_time": "2024-07-29T08:22:47.230Z"
   },
   {
    "duration": 28,
    "start_time": "2024-07-29T08:22:47.243Z"
   },
   {
    "duration": 10,
    "start_time": "2024-07-29T08:22:47.272Z"
   },
   {
    "duration": 4115,
    "start_time": "2024-07-29T08:26:18.774Z"
   },
   {
    "duration": 1125,
    "start_time": "2024-07-29T08:27:22.802Z"
   },
   {
    "duration": 1014,
    "start_time": "2024-07-29T08:28:13.009Z"
   },
   {
    "duration": 1028,
    "start_time": "2024-07-29T08:28:34.013Z"
   },
   {
    "duration": 1205,
    "start_time": "2024-07-29T08:28:43.000Z"
   },
   {
    "duration": 49,
    "start_time": "2024-07-29T08:28:44.208Z"
   },
   {
    "duration": 14,
    "start_time": "2024-07-29T08:28:44.259Z"
   },
   {
    "duration": 54,
    "start_time": "2024-07-29T08:28:44.275Z"
   },
   {
    "duration": 36,
    "start_time": "2024-07-29T08:28:44.331Z"
   },
   {
    "duration": 17,
    "start_time": "2024-07-29T08:28:44.368Z"
   },
   {
    "duration": 39,
    "start_time": "2024-07-29T08:28:44.386Z"
   },
   {
    "duration": 30,
    "start_time": "2024-07-29T08:28:44.426Z"
   },
   {
    "duration": 31,
    "start_time": "2024-07-29T08:28:44.458Z"
   },
   {
    "duration": 28,
    "start_time": "2024-07-29T08:28:44.491Z"
   },
   {
    "duration": 18,
    "start_time": "2024-07-29T08:28:44.521Z"
   },
   {
    "duration": 13,
    "start_time": "2024-07-29T08:28:44.540Z"
   },
   {
    "duration": 64,
    "start_time": "2024-07-29T08:28:44.554Z"
   },
   {
    "duration": 21,
    "start_time": "2024-07-29T08:28:44.620Z"
   },
   {
    "duration": 23,
    "start_time": "2024-07-29T08:28:44.643Z"
   },
   {
    "duration": 37,
    "start_time": "2024-07-29T08:28:44.668Z"
   },
   {
    "duration": 50,
    "start_time": "2024-07-29T08:28:44.706Z"
   },
   {
    "duration": 23,
    "start_time": "2024-07-29T08:28:44.758Z"
   },
   {
    "duration": 244,
    "start_time": "2024-07-29T08:28:44.783Z"
   },
   {
    "duration": 175,
    "start_time": "2024-07-29T08:28:45.029Z"
   },
   {
    "duration": 213,
    "start_time": "2024-07-29T08:28:45.206Z"
   },
   {
    "duration": 2,
    "start_time": "2024-07-29T08:28:45.421Z"
   },
   {
    "duration": 38,
    "start_time": "2024-07-29T08:28:45.425Z"
   },
   {
    "duration": 47,
    "start_time": "2024-07-29T08:28:45.465Z"
   },
   {
    "duration": 4972,
    "start_time": "2024-07-29T08:28:45.514Z"
   },
   {
    "duration": 1153,
    "start_time": "2024-07-29T08:28:50.487Z"
   },
   {
    "duration": 0,
    "start_time": "2024-07-29T08:28:51.644Z"
   },
   {
    "duration": 0,
    "start_time": "2024-07-29T08:28:51.645Z"
   },
   {
    "duration": 0,
    "start_time": "2024-07-29T08:28:51.646Z"
   },
   {
    "duration": 0,
    "start_time": "2024-07-29T08:28:51.647Z"
   },
   {
    "duration": 0,
    "start_time": "2024-07-29T08:28:51.648Z"
   },
   {
    "duration": 0,
    "start_time": "2024-07-29T08:28:51.649Z"
   },
   {
    "duration": 0,
    "start_time": "2024-07-29T08:28:51.650Z"
   },
   {
    "duration": 0,
    "start_time": "2024-07-29T08:28:51.651Z"
   },
   {
    "duration": 0,
    "start_time": "2024-07-29T08:28:51.652Z"
   },
   {
    "duration": 0,
    "start_time": "2024-07-29T08:28:51.653Z"
   },
   {
    "duration": 0,
    "start_time": "2024-07-29T08:28:51.654Z"
   },
   {
    "duration": 0,
    "start_time": "2024-07-29T08:28:51.655Z"
   },
   {
    "duration": 0,
    "start_time": "2024-07-29T08:28:51.656Z"
   },
   {
    "duration": 0,
    "start_time": "2024-07-29T08:28:51.657Z"
   },
   {
    "duration": 0,
    "start_time": "2024-07-29T08:28:51.657Z"
   },
   {
    "duration": 0,
    "start_time": "2024-07-29T08:28:51.658Z"
   },
   {
    "duration": 0,
    "start_time": "2024-07-29T08:28:51.659Z"
   },
   {
    "duration": 0,
    "start_time": "2024-07-29T08:28:51.660Z"
   },
   {
    "duration": 0,
    "start_time": "2024-07-29T08:28:51.662Z"
   },
   {
    "duration": 0,
    "start_time": "2024-07-29T08:28:51.663Z"
   },
   {
    "duration": 0,
    "start_time": "2024-07-29T08:28:51.663Z"
   },
   {
    "duration": 0,
    "start_time": "2024-07-29T08:28:51.665Z"
   },
   {
    "duration": 0,
    "start_time": "2024-07-29T08:28:51.666Z"
   },
   {
    "duration": 0,
    "start_time": "2024-07-29T08:28:51.667Z"
   },
   {
    "duration": 0,
    "start_time": "2024-07-29T08:28:51.668Z"
   },
   {
    "duration": 0,
    "start_time": "2024-07-29T08:28:51.669Z"
   },
   {
    "duration": 0,
    "start_time": "2024-07-29T08:28:51.670Z"
   },
   {
    "duration": 0,
    "start_time": "2024-07-29T08:28:51.671Z"
   },
   {
    "duration": 0,
    "start_time": "2024-07-29T08:28:51.672Z"
   },
   {
    "duration": 0,
    "start_time": "2024-07-29T08:28:51.673Z"
   },
   {
    "duration": 0,
    "start_time": "2024-07-29T08:28:51.674Z"
   },
   {
    "duration": 0,
    "start_time": "2024-07-29T08:28:51.675Z"
   },
   {
    "duration": 0,
    "start_time": "2024-07-29T08:28:51.676Z"
   },
   {
    "duration": 8450,
    "start_time": "2024-07-29T08:31:28.172Z"
   },
   {
    "duration": 8177,
    "start_time": "2024-07-29T08:34:08.224Z"
   },
   {
    "duration": 5,
    "start_time": "2024-07-29T08:35:03.231Z"
   },
   {
    "duration": 971,
    "start_time": "2024-07-29T08:35:05.209Z"
   },
   {
    "duration": 18,
    "start_time": "2024-07-29T08:41:33.352Z"
   },
   {
    "duration": 2117,
    "start_time": "2024-07-29T08:42:06.830Z"
   },
   {
    "duration": 66,
    "start_time": "2024-07-29T08:42:52.302Z"
   },
   {
    "duration": 919,
    "start_time": "2024-07-29T08:44:53.987Z"
   },
   {
    "duration": 22,
    "start_time": "2024-07-29T08:45:13.542Z"
   },
   {
    "duration": 5,
    "start_time": "2024-07-29T08:45:22.672Z"
   },
   {
    "duration": 5,
    "start_time": "2024-07-29T08:45:34.878Z"
   },
   {
    "duration": 5,
    "start_time": "2024-07-29T08:45:36.143Z"
   },
   {
    "duration": 243,
    "start_time": "2024-07-29T08:45:39.372Z"
   },
   {
    "duration": 10,
    "start_time": "2024-07-29T08:45:47.918Z"
   },
   {
    "duration": 9,
    "start_time": "2024-07-29T08:45:57.775Z"
   },
   {
    "duration": 15,
    "start_time": "2024-07-29T08:48:43.055Z"
   },
   {
    "duration": 2,
    "start_time": "2024-07-29T08:48:56.159Z"
   },
   {
    "duration": 2,
    "start_time": "2024-07-29T08:48:56.856Z"
   },
   {
    "duration": 1185,
    "start_time": "2024-07-29T08:49:36.334Z"
   },
   {
    "duration": 50,
    "start_time": "2024-07-29T08:49:37.521Z"
   },
   {
    "duration": 14,
    "start_time": "2024-07-29T08:49:37.573Z"
   },
   {
    "duration": 13,
    "start_time": "2024-07-29T08:49:37.588Z"
   },
   {
    "duration": 21,
    "start_time": "2024-07-29T08:49:37.604Z"
   },
   {
    "duration": 47,
    "start_time": "2024-07-29T08:49:37.626Z"
   },
   {
    "duration": 17,
    "start_time": "2024-07-29T08:49:37.675Z"
   },
   {
    "duration": 13,
    "start_time": "2024-07-29T08:49:37.693Z"
   },
   {
    "duration": 22,
    "start_time": "2024-07-29T08:49:37.707Z"
   },
   {
    "duration": 35,
    "start_time": "2024-07-29T08:49:37.730Z"
   },
   {
    "duration": 7,
    "start_time": "2024-07-29T08:49:37.768Z"
   },
   {
    "duration": 16,
    "start_time": "2024-07-29T08:49:37.777Z"
   },
   {
    "duration": 12,
    "start_time": "2024-07-29T08:49:37.795Z"
   },
   {
    "duration": 55,
    "start_time": "2024-07-29T08:49:37.810Z"
   },
   {
    "duration": 27,
    "start_time": "2024-07-29T08:49:37.867Z"
   },
   {
    "duration": 9,
    "start_time": "2024-07-29T08:49:37.896Z"
   },
   {
    "duration": 102,
    "start_time": "2024-07-29T08:49:37.907Z"
   },
   {
    "duration": 15,
    "start_time": "2024-07-29T08:49:38.011Z"
   },
   {
    "duration": 17,
    "start_time": "2024-07-29T08:49:38.028Z"
   },
   {
    "duration": 259,
    "start_time": "2024-07-29T08:49:38.046Z"
   },
   {
    "duration": 167,
    "start_time": "2024-07-29T08:49:38.307Z"
   },
   {
    "duration": 206,
    "start_time": "2024-07-29T08:49:38.475Z"
   },
   {
    "duration": 2,
    "start_time": "2024-07-29T08:49:38.683Z"
   },
   {
    "duration": 7,
    "start_time": "2024-07-29T08:49:38.686Z"
   },
   {
    "duration": 10,
    "start_time": "2024-07-29T08:49:38.694Z"
   },
   {
    "duration": 2143,
    "start_time": "2024-07-29T08:49:38.706Z"
   },
   {
    "duration": 14,
    "start_time": "2024-07-29T08:49:40.851Z"
   },
   {
    "duration": 1159,
    "start_time": "2024-07-29T08:49:40.867Z"
   },
   {
    "duration": 23,
    "start_time": "2024-07-29T08:49:42.028Z"
   },
   {
    "duration": 14,
    "start_time": "2024-07-29T08:49:42.053Z"
   },
   {
    "duration": 93,
    "start_time": "2024-07-29T08:49:42.068Z"
   },
   {
    "duration": 11,
    "start_time": "2024-07-29T08:49:42.162Z"
   },
   {
    "duration": 269,
    "start_time": "2024-07-29T08:49:42.174Z"
   },
   {
    "duration": 8,
    "start_time": "2024-07-29T08:49:42.445Z"
   },
   {
    "duration": 16,
    "start_time": "2024-07-29T08:49:42.455Z"
   },
   {
    "duration": 23,
    "start_time": "2024-07-29T08:49:42.472Z"
   },
   {
    "duration": 2,
    "start_time": "2024-07-29T08:49:42.497Z"
   },
   {
    "duration": 5,
    "start_time": "2024-07-29T08:49:42.501Z"
   },
   {
    "duration": 999,
    "start_time": "2024-07-29T08:49:42.507Z"
   },
   {
    "duration": 5,
    "start_time": "2024-07-29T08:49:43.508Z"
   },
   {
    "duration": 5,
    "start_time": "2024-07-29T08:49:43.518Z"
   },
   {
    "duration": 12,
    "start_time": "2024-07-29T08:49:43.525Z"
   },
   {
    "duration": 199,
    "start_time": "2024-07-29T08:49:43.539Z"
   },
   {
    "duration": 199,
    "start_time": "2024-07-29T08:49:43.740Z"
   },
   {
    "duration": 832,
    "start_time": "2024-07-29T08:49:43.940Z"
   },
   {
    "duration": 13,
    "start_time": "2024-07-29T08:49:44.773Z"
   },
   {
    "duration": 253,
    "start_time": "2024-07-29T08:49:44.787Z"
   },
   {
    "duration": 269,
    "start_time": "2024-07-29T08:49:45.042Z"
   },
   {
    "duration": 241,
    "start_time": "2024-07-29T08:49:45.313Z"
   },
   {
    "duration": 11,
    "start_time": "2024-07-29T08:49:45.556Z"
   },
   {
    "duration": 55,
    "start_time": "2024-07-29T08:49:45.569Z"
   },
   {
    "duration": 23,
    "start_time": "2024-07-29T08:49:45.626Z"
   },
   {
    "duration": 21,
    "start_time": "2024-07-29T08:49:45.650Z"
   },
   {
    "duration": 94,
    "start_time": "2024-07-29T08:49:45.673Z"
   },
   {
    "duration": 310,
    "start_time": "2024-07-29T08:49:45.769Z"
   },
   {
    "duration": 349,
    "start_time": "2024-07-29T08:49:46.081Z"
   },
   {
    "duration": 12,
    "start_time": "2024-07-29T08:49:46.432Z"
   },
   {
    "duration": 25,
    "start_time": "2024-07-29T08:49:46.445Z"
   },
   {
    "duration": 37,
    "start_time": "2024-07-29T08:49:46.472Z"
   },
   {
    "duration": 214,
    "start_time": "2024-07-29T08:53:11.942Z"
   },
   {
    "duration": 263,
    "start_time": "2024-07-29T08:53:47.715Z"
   },
   {
    "duration": 239,
    "start_time": "2024-07-29T08:54:03.652Z"
   },
   {
    "duration": 26,
    "start_time": "2024-07-29T10:01:39.098Z"
   },
   {
    "duration": 193,
    "start_time": "2024-07-29T10:11:24.179Z"
   },
   {
    "duration": 277,
    "start_time": "2024-07-29T10:12:08.102Z"
   },
   {
    "duration": 212,
    "start_time": "2024-07-29T10:12:32.022Z"
   },
   {
    "duration": 225,
    "start_time": "2024-07-29T10:12:57.618Z"
   },
   {
    "duration": 208,
    "start_time": "2024-07-29T10:14:12.768Z"
   },
   {
    "duration": 228,
    "start_time": "2024-07-29T10:14:37.244Z"
   },
   {
    "duration": 215,
    "start_time": "2024-07-29T10:15:35.171Z"
   },
   {
    "duration": 221,
    "start_time": "2024-07-29T10:15:40.794Z"
   },
   {
    "duration": 271,
    "start_time": "2024-07-29T10:16:02.542Z"
   },
   {
    "duration": 101,
    "start_time": "2024-07-29T10:17:43.101Z"
   },
   {
    "duration": 4,
    "start_time": "2024-07-29T10:18:27.224Z"
   },
   {
    "duration": 239,
    "start_time": "2024-07-29T10:18:59.750Z"
   },
   {
    "duration": 15,
    "start_time": "2024-07-29T10:19:20.798Z"
   },
   {
    "duration": 215,
    "start_time": "2024-07-29T10:31:50.144Z"
   },
   {
    "duration": 199,
    "start_time": "2024-07-29T10:32:01.243Z"
   },
   {
    "duration": 229,
    "start_time": "2024-07-29T10:32:17.343Z"
   },
   {
    "duration": 222,
    "start_time": "2024-07-29T10:33:06.658Z"
   },
   {
    "duration": 20,
    "start_time": "2024-07-29T10:33:13.039Z"
   },
   {
    "duration": 16,
    "start_time": "2024-07-29T10:39:20.640Z"
   },
   {
    "duration": 1140,
    "start_time": "2024-07-29T10:39:48.495Z"
   },
   {
    "duration": 49,
    "start_time": "2024-07-29T10:39:49.637Z"
   },
   {
    "duration": 15,
    "start_time": "2024-07-29T10:39:49.688Z"
   },
   {
    "duration": 15,
    "start_time": "2024-07-29T10:39:49.705Z"
   },
   {
    "duration": 20,
    "start_time": "2024-07-29T10:39:49.721Z"
   },
   {
    "duration": 34,
    "start_time": "2024-07-29T10:39:49.742Z"
   },
   {
    "duration": 19,
    "start_time": "2024-07-29T10:39:49.778Z"
   },
   {
    "duration": 14,
    "start_time": "2024-07-29T10:39:49.798Z"
   },
   {
    "duration": 24,
    "start_time": "2024-07-29T10:39:49.813Z"
   },
   {
    "duration": 6,
    "start_time": "2024-07-29T10:39:49.867Z"
   },
   {
    "duration": 11,
    "start_time": "2024-07-29T10:39:49.875Z"
   },
   {
    "duration": 14,
    "start_time": "2024-07-29T10:39:49.888Z"
   },
   {
    "duration": 10,
    "start_time": "2024-07-29T10:39:49.904Z"
   },
   {
    "duration": 56,
    "start_time": "2024-07-29T10:39:49.916Z"
   },
   {
    "duration": 23,
    "start_time": "2024-07-29T10:39:49.973Z"
   },
   {
    "duration": 8,
    "start_time": "2024-07-29T10:39:49.997Z"
   },
   {
    "duration": 8,
    "start_time": "2024-07-29T10:39:50.007Z"
   },
   {
    "duration": 14,
    "start_time": "2024-07-29T10:39:50.017Z"
   },
   {
    "duration": 43,
    "start_time": "2024-07-29T10:39:50.034Z"
   },
   {
    "duration": 263,
    "start_time": "2024-07-29T10:39:50.078Z"
   },
   {
    "duration": 171,
    "start_time": "2024-07-29T10:39:50.342Z"
   },
   {
    "duration": 232,
    "start_time": "2024-07-29T10:39:50.515Z"
   },
   {
    "duration": 3,
    "start_time": "2024-07-29T10:39:50.749Z"
   },
   {
    "duration": 5,
    "start_time": "2024-07-29T10:39:50.764Z"
   },
   {
    "duration": 11,
    "start_time": "2024-07-29T10:39:50.771Z"
   },
   {
    "duration": 2137,
    "start_time": "2024-07-29T10:39:50.785Z"
   },
   {
    "duration": 5,
    "start_time": "2024-07-29T10:39:52.924Z"
   },
   {
    "duration": 1216,
    "start_time": "2024-07-29T10:39:52.933Z"
   },
   {
    "duration": 29,
    "start_time": "2024-07-29T10:39:54.151Z"
   },
   {
    "duration": 4,
    "start_time": "2024-07-29T10:39:54.181Z"
   },
   {
    "duration": 5,
    "start_time": "2024-07-29T10:39:54.187Z"
   },
   {
    "duration": 10,
    "start_time": "2024-07-29T10:39:54.193Z"
   },
   {
    "duration": 276,
    "start_time": "2024-07-29T10:39:54.205Z"
   },
   {
    "duration": 7,
    "start_time": "2024-07-29T10:39:54.483Z"
   },
   {
    "duration": 27,
    "start_time": "2024-07-29T10:39:54.492Z"
   },
   {
    "duration": 15,
    "start_time": "2024-07-29T10:39:54.520Z"
   },
   {
    "duration": 2,
    "start_time": "2024-07-29T10:39:54.536Z"
   },
   {
    "duration": 5,
    "start_time": "2024-07-29T10:39:54.539Z"
   },
   {
    "duration": 984,
    "start_time": "2024-07-29T10:39:54.545Z"
   },
   {
    "duration": 5,
    "start_time": "2024-07-29T10:39:55.531Z"
   },
   {
    "duration": 28,
    "start_time": "2024-07-29T10:39:55.538Z"
   },
   {
    "duration": 30,
    "start_time": "2024-07-29T10:39:55.567Z"
   },
   {
    "duration": 207,
    "start_time": "2024-07-29T10:39:55.599Z"
   },
   {
    "duration": 202,
    "start_time": "2024-07-29T10:39:55.808Z"
   },
   {
    "duration": 849,
    "start_time": "2024-07-29T10:39:56.011Z"
   },
   {
    "duration": 255,
    "start_time": "2024-07-29T10:39:56.862Z"
   },
   {
    "duration": 16,
    "start_time": "2024-07-29T10:39:57.119Z"
   },
   {
    "duration": 2,
    "start_time": "2024-07-29T10:39:57.137Z"
   },
   {
    "duration": 25,
    "start_time": "2024-07-29T10:39:57.141Z"
   },
   {
    "duration": 18,
    "start_time": "2024-07-29T10:39:57.168Z"
   },
   {
    "duration": 18,
    "start_time": "2024-07-29T10:39:57.188Z"
   },
   {
    "duration": 312,
    "start_time": "2024-07-29T10:39:57.208Z"
   },
   {
    "duration": 246,
    "start_time": "2024-07-29T10:39:57.522Z"
   },
   {
    "duration": 259,
    "start_time": "2024-07-29T10:39:57.770Z"
   },
   {
    "duration": 9,
    "start_time": "2024-07-29T10:39:58.031Z"
   },
   {
    "duration": 24,
    "start_time": "2024-07-29T10:39:58.042Z"
   },
   {
    "duration": 9,
    "start_time": "2024-07-29T10:39:58.067Z"
   },
   {
    "duration": 12,
    "start_time": "2024-07-29T10:39:58.078Z"
   },
   {
    "duration": 33,
    "start_time": "2024-07-29T10:39:58.092Z"
   },
   {
    "duration": 340,
    "start_time": "2024-07-29T10:39:58.126Z"
   },
   {
    "duration": 304,
    "start_time": "2024-07-29T10:39:58.468Z"
   },
   {
    "duration": 11,
    "start_time": "2024-07-29T10:39:58.773Z"
   },
   {
    "duration": 10,
    "start_time": "2024-07-29T10:39:58.786Z"
   },
   {
    "duration": 9,
    "start_time": "2024-07-29T10:39:58.797Z"
   },
   {
    "duration": 17,
    "start_time": "2024-07-29T10:40:27.002Z"
   },
   {
    "duration": 16,
    "start_time": "2024-07-29T10:40:41.555Z"
   },
   {
    "duration": 27,
    "start_time": "2024-07-29T10:41:51.564Z"
   },
   {
    "duration": 23,
    "start_time": "2024-07-29T10:42:10.172Z"
   },
   {
    "duration": 31,
    "start_time": "2024-07-29T10:42:22.337Z"
   },
   {
    "duration": 21,
    "start_time": "2024-07-29T10:42:36.792Z"
   },
   {
    "duration": 12,
    "start_time": "2024-07-29T10:42:49.470Z"
   },
   {
    "duration": 15,
    "start_time": "2024-07-29T10:43:04.361Z"
   },
   {
    "duration": 15,
    "start_time": "2024-07-29T10:43:09.901Z"
   },
   {
    "duration": 103,
    "start_time": "2024-07-29T10:48:25.926Z"
   },
   {
    "duration": 10,
    "start_time": "2024-07-29T10:49:23.503Z"
   },
   {
    "duration": 1175,
    "start_time": "2024-07-29T10:50:52.976Z"
   },
   {
    "duration": 58,
    "start_time": "2024-07-29T10:50:54.153Z"
   },
   {
    "duration": 14,
    "start_time": "2024-07-29T10:50:54.212Z"
   },
   {
    "duration": 20,
    "start_time": "2024-07-29T10:50:54.227Z"
   },
   {
    "duration": 19,
    "start_time": "2024-07-29T10:50:54.249Z"
   },
   {
    "duration": 17,
    "start_time": "2024-07-29T10:50:54.269Z"
   },
   {
    "duration": 32,
    "start_time": "2024-07-29T10:50:54.288Z"
   },
   {
    "duration": 16,
    "start_time": "2024-07-29T10:50:54.321Z"
   },
   {
    "duration": 35,
    "start_time": "2024-07-29T10:50:54.338Z"
   },
   {
    "duration": 5,
    "start_time": "2024-07-29T10:50:54.375Z"
   },
   {
    "duration": 26,
    "start_time": "2024-07-29T10:50:54.381Z"
   },
   {
    "duration": 41,
    "start_time": "2024-07-29T10:50:54.408Z"
   },
   {
    "duration": 11,
    "start_time": "2024-07-29T10:50:54.450Z"
   },
   {
    "duration": 17,
    "start_time": "2024-07-29T10:50:54.462Z"
   },
   {
    "duration": 19,
    "start_time": "2024-07-29T10:50:54.480Z"
   },
   {
    "duration": 8,
    "start_time": "2024-07-29T10:50:54.500Z"
   },
   {
    "duration": 15,
    "start_time": "2024-07-29T10:50:54.509Z"
   },
   {
    "duration": 18,
    "start_time": "2024-07-29T10:50:54.526Z"
   },
   {
    "duration": 32,
    "start_time": "2024-07-29T10:50:54.546Z"
   },
   {
    "duration": 263,
    "start_time": "2024-07-29T10:50:54.580Z"
   },
   {
    "duration": 157,
    "start_time": "2024-07-29T10:50:54.844Z"
   },
   {
    "duration": 204,
    "start_time": "2024-07-29T10:50:55.003Z"
   },
   {
    "duration": 2,
    "start_time": "2024-07-29T10:50:55.209Z"
   },
   {
    "duration": 9,
    "start_time": "2024-07-29T10:50:55.213Z"
   },
   {
    "duration": 22,
    "start_time": "2024-07-29T10:50:55.224Z"
   },
   {
    "duration": 2193,
    "start_time": "2024-07-29T10:50:55.248Z"
   },
   {
    "duration": 5,
    "start_time": "2024-07-29T10:50:57.443Z"
   },
   {
    "duration": 1128,
    "start_time": "2024-07-29T10:50:57.453Z"
   },
   {
    "duration": 23,
    "start_time": "2024-07-29T10:50:58.583Z"
   },
   {
    "duration": 5,
    "start_time": "2024-07-29T10:50:58.608Z"
   },
   {
    "duration": 108,
    "start_time": "2024-07-29T10:50:58.614Z"
   },
   {
    "duration": 4,
    "start_time": "2024-07-29T10:50:58.724Z"
   },
   {
    "duration": 260,
    "start_time": "2024-07-29T10:50:58.729Z"
   },
   {
    "duration": 9,
    "start_time": "2024-07-29T10:50:58.990Z"
   },
   {
    "duration": 8,
    "start_time": "2024-07-29T10:50:59.001Z"
   },
   {
    "duration": 16,
    "start_time": "2024-07-29T10:50:59.010Z"
   },
   {
    "duration": 13,
    "start_time": "2024-07-29T10:50:59.028Z"
   },
   {
    "duration": 29,
    "start_time": "2024-07-29T10:50:59.042Z"
   },
   {
    "duration": 1025,
    "start_time": "2024-07-29T10:50:59.073Z"
   },
   {
    "duration": 5,
    "start_time": "2024-07-29T10:51:00.099Z"
   },
   {
    "duration": 45,
    "start_time": "2024-07-29T10:51:00.105Z"
   },
   {
    "duration": 45,
    "start_time": "2024-07-29T10:51:00.152Z"
   },
   {
    "duration": 250,
    "start_time": "2024-07-29T10:51:00.198Z"
   },
   {
    "duration": 191,
    "start_time": "2024-07-29T10:51:00.450Z"
   },
   {
    "duration": 947,
    "start_time": "2024-07-29T10:51:00.642Z"
   },
   {
    "duration": 201,
    "start_time": "2024-07-29T10:51:01.591Z"
   },
   {
    "duration": 84,
    "start_time": "2024-07-29T10:51:01.794Z"
   },
   {
    "duration": 18,
    "start_time": "2024-07-29T10:51:01.880Z"
   },
   {
    "duration": 36,
    "start_time": "2024-07-29T10:51:01.900Z"
   },
   {
    "duration": 17,
    "start_time": "2024-07-29T10:51:01.938Z"
   },
   {
    "duration": 26,
    "start_time": "2024-07-29T10:51:01.957Z"
   },
   {
    "duration": 259,
    "start_time": "2024-07-29T10:51:01.985Z"
   },
   {
    "duration": 247,
    "start_time": "2024-07-29T10:51:02.246Z"
   },
   {
    "duration": 240,
    "start_time": "2024-07-29T10:51:02.495Z"
   },
   {
    "duration": 9,
    "start_time": "2024-07-29T10:51:02.736Z"
   },
   {
    "duration": 28,
    "start_time": "2024-07-29T10:51:02.747Z"
   },
   {
    "duration": 9,
    "start_time": "2024-07-29T10:51:02.777Z"
   },
   {
    "duration": 9,
    "start_time": "2024-07-29T10:51:02.788Z"
   },
   {
    "duration": 35,
    "start_time": "2024-07-29T10:51:02.798Z"
   },
   {
    "duration": 339,
    "start_time": "2024-07-29T10:51:02.835Z"
   },
   {
    "duration": 321,
    "start_time": "2024-07-29T10:51:03.176Z"
   },
   {
    "duration": 12,
    "start_time": "2024-07-29T10:51:03.499Z"
   },
   {
    "duration": 31,
    "start_time": "2024-07-29T10:51:03.512Z"
   },
   {
    "duration": 68,
    "start_time": "2024-07-29T10:51:03.545Z"
   },
   {
    "duration": 16,
    "start_time": "2024-07-29T10:52:50.192Z"
   },
   {
    "duration": 15,
    "start_time": "2024-07-29T10:55:34.120Z"
   },
   {
    "duration": 112,
    "start_time": "2024-07-29T11:19:15.440Z"
   },
   {
    "duration": 43,
    "start_time": "2024-07-29T11:19:59.084Z"
   },
   {
    "duration": 38,
    "start_time": "2024-07-29T11:20:18.405Z"
   },
   {
    "duration": 41,
    "start_time": "2024-07-29T11:21:49.367Z"
   },
   {
    "duration": 52,
    "start_time": "2024-07-29T11:21:53.117Z"
   },
   {
    "duration": 1382,
    "start_time": "2024-07-29T11:22:00.686Z"
   },
   {
    "duration": 56,
    "start_time": "2024-07-29T11:22:02.070Z"
   },
   {
    "duration": 16,
    "start_time": "2024-07-29T11:22:02.127Z"
   },
   {
    "duration": 18,
    "start_time": "2024-07-29T11:22:02.145Z"
   },
   {
    "duration": 22,
    "start_time": "2024-07-29T11:22:02.164Z"
   },
   {
    "duration": 20,
    "start_time": "2024-07-29T11:22:02.188Z"
   },
   {
    "duration": 44,
    "start_time": "2024-07-29T11:22:02.209Z"
   },
   {
    "duration": 27,
    "start_time": "2024-07-29T11:22:02.254Z"
   },
   {
    "duration": 29,
    "start_time": "2024-07-29T11:22:02.283Z"
   },
   {
    "duration": 5,
    "start_time": "2024-07-29T11:22:02.315Z"
   },
   {
    "duration": 10,
    "start_time": "2024-07-29T11:22:02.321Z"
   },
   {
    "duration": 13,
    "start_time": "2024-07-29T11:22:02.333Z"
   },
   {
    "duration": 24,
    "start_time": "2024-07-29T11:22:02.347Z"
   },
   {
    "duration": 19,
    "start_time": "2024-07-29T11:22:02.373Z"
   },
   {
    "duration": 19,
    "start_time": "2024-07-29T11:22:02.393Z"
   },
   {
    "duration": 13,
    "start_time": "2024-07-29T11:22:02.414Z"
   },
   {
    "duration": 20,
    "start_time": "2024-07-29T11:22:02.428Z"
   },
   {
    "duration": 26,
    "start_time": "2024-07-29T11:22:02.449Z"
   },
   {
    "duration": 15,
    "start_time": "2024-07-29T11:22:02.476Z"
   },
   {
    "duration": 266,
    "start_time": "2024-07-29T11:22:02.493Z"
   },
   {
    "duration": 158,
    "start_time": "2024-07-29T11:22:02.764Z"
   },
   {
    "duration": 211,
    "start_time": "2024-07-29T11:22:02.924Z"
   },
   {
    "duration": 2,
    "start_time": "2024-07-29T11:22:03.136Z"
   },
   {
    "duration": 12,
    "start_time": "2024-07-29T11:22:03.140Z"
   },
   {
    "duration": 13,
    "start_time": "2024-07-29T11:22:03.153Z"
   },
   {
    "duration": 2203,
    "start_time": "2024-07-29T11:22:03.168Z"
   },
   {
    "duration": 5,
    "start_time": "2024-07-29T11:22:05.372Z"
   },
   {
    "duration": 1118,
    "start_time": "2024-07-29T11:22:05.381Z"
   },
   {
    "duration": 24,
    "start_time": "2024-07-29T11:22:06.501Z"
   },
   {
    "duration": 4,
    "start_time": "2024-07-29T11:22:06.526Z"
   },
   {
    "duration": 40,
    "start_time": "2024-07-29T11:22:06.531Z"
   },
   {
    "duration": 26,
    "start_time": "2024-07-29T11:22:06.573Z"
   },
   {
    "duration": 268,
    "start_time": "2024-07-29T11:22:06.601Z"
   },
   {
    "duration": 8,
    "start_time": "2024-07-29T11:22:06.871Z"
   },
   {
    "duration": 97,
    "start_time": "2024-07-29T11:22:06.881Z"
   },
   {
    "duration": 20,
    "start_time": "2024-07-29T11:22:06.980Z"
   },
   {
    "duration": 2,
    "start_time": "2024-07-29T11:22:07.002Z"
   },
   {
    "duration": 4,
    "start_time": "2024-07-29T11:22:07.005Z"
   },
   {
    "duration": 993,
    "start_time": "2024-07-29T11:22:07.011Z"
   },
   {
    "duration": 4,
    "start_time": "2024-07-29T11:22:08.005Z"
   },
   {
    "duration": 5,
    "start_time": "2024-07-29T11:22:08.010Z"
   },
   {
    "duration": 11,
    "start_time": "2024-07-29T11:22:08.016Z"
   },
   {
    "duration": 193,
    "start_time": "2024-07-29T11:22:08.029Z"
   },
   {
    "duration": 189,
    "start_time": "2024-07-29T11:22:08.224Z"
   },
   {
    "duration": 873,
    "start_time": "2024-07-29T11:22:08.414Z"
   },
   {
    "duration": 239,
    "start_time": "2024-07-29T11:22:09.288Z"
   },
   {
    "duration": 17,
    "start_time": "2024-07-29T11:22:09.528Z"
   },
   {
    "duration": 372,
    "start_time": "2024-07-29T11:22:09.547Z"
   },
   {
    "duration": 0,
    "start_time": "2024-07-29T11:22:09.921Z"
   },
   {
    "duration": 0,
    "start_time": "2024-07-29T11:22:09.922Z"
   },
   {
    "duration": 0,
    "start_time": "2024-07-29T11:22:09.924Z"
   },
   {
    "duration": 0,
    "start_time": "2024-07-29T11:22:09.925Z"
   },
   {
    "duration": 0,
    "start_time": "2024-07-29T11:22:09.926Z"
   },
   {
    "duration": 0,
    "start_time": "2024-07-29T11:22:09.927Z"
   },
   {
    "duration": 0,
    "start_time": "2024-07-29T11:22:09.928Z"
   },
   {
    "duration": 0,
    "start_time": "2024-07-29T11:22:09.929Z"
   },
   {
    "duration": 0,
    "start_time": "2024-07-29T11:22:09.930Z"
   },
   {
    "duration": 0,
    "start_time": "2024-07-29T11:22:09.932Z"
   },
   {
    "duration": 0,
    "start_time": "2024-07-29T11:22:09.932Z"
   },
   {
    "duration": 0,
    "start_time": "2024-07-29T11:22:09.933Z"
   },
   {
    "duration": 0,
    "start_time": "2024-07-29T11:22:09.935Z"
   },
   {
    "duration": 0,
    "start_time": "2024-07-29T11:22:09.936Z"
   },
   {
    "duration": 0,
    "start_time": "2024-07-29T11:22:09.936Z"
   },
   {
    "duration": 0,
    "start_time": "2024-07-29T11:22:09.938Z"
   },
   {
    "duration": 0,
    "start_time": "2024-07-29T11:22:09.939Z"
   },
   {
    "duration": 1222,
    "start_time": "2024-07-29T11:22:49.639Z"
   },
   {
    "duration": 49,
    "start_time": "2024-07-29T11:22:50.864Z"
   },
   {
    "duration": 58,
    "start_time": "2024-07-29T11:22:50.915Z"
   },
   {
    "duration": 43,
    "start_time": "2024-07-29T11:22:50.975Z"
   },
   {
    "duration": 35,
    "start_time": "2024-07-29T11:22:51.020Z"
   },
   {
    "duration": 48,
    "start_time": "2024-07-29T11:22:51.056Z"
   },
   {
    "duration": 39,
    "start_time": "2024-07-29T11:22:51.106Z"
   },
   {
    "duration": 28,
    "start_time": "2024-07-29T11:22:51.147Z"
   },
   {
    "duration": 28,
    "start_time": "2024-07-29T11:22:51.177Z"
   },
   {
    "duration": 4,
    "start_time": "2024-07-29T11:22:51.207Z"
   },
   {
    "duration": 22,
    "start_time": "2024-07-29T11:22:51.213Z"
   },
   {
    "duration": 36,
    "start_time": "2024-07-29T11:22:51.236Z"
   },
   {
    "duration": 24,
    "start_time": "2024-07-29T11:22:51.273Z"
   },
   {
    "duration": 18,
    "start_time": "2024-07-29T11:22:51.300Z"
   },
   {
    "duration": 24,
    "start_time": "2024-07-29T11:22:51.319Z"
   },
   {
    "duration": 21,
    "start_time": "2024-07-29T11:22:51.345Z"
   },
   {
    "duration": 20,
    "start_time": "2024-07-29T11:22:51.368Z"
   },
   {
    "duration": 29,
    "start_time": "2024-07-29T11:22:51.390Z"
   },
   {
    "duration": 40,
    "start_time": "2024-07-29T11:22:51.420Z"
   },
   {
    "duration": 329,
    "start_time": "2024-07-29T11:22:51.462Z"
   },
   {
    "duration": 182,
    "start_time": "2024-07-29T11:22:51.793Z"
   },
   {
    "duration": 219,
    "start_time": "2024-07-29T11:22:51.976Z"
   },
   {
    "duration": 3,
    "start_time": "2024-07-29T11:22:52.196Z"
   },
   {
    "duration": 16,
    "start_time": "2024-07-29T11:22:52.201Z"
   },
   {
    "duration": 8,
    "start_time": "2024-07-29T11:22:52.219Z"
   },
   {
    "duration": 2189,
    "start_time": "2024-07-29T11:22:52.229Z"
   },
   {
    "duration": 4,
    "start_time": "2024-07-29T11:22:54.420Z"
   },
   {
    "duration": 1058,
    "start_time": "2024-07-29T11:22:54.425Z"
   },
   {
    "duration": 23,
    "start_time": "2024-07-29T11:22:55.485Z"
   },
   {
    "duration": 44,
    "start_time": "2024-07-29T11:22:55.510Z"
   },
   {
    "duration": 5,
    "start_time": "2024-07-29T11:22:55.556Z"
   },
   {
    "duration": 6,
    "start_time": "2024-07-29T11:22:55.562Z"
   },
   {
    "duration": 279,
    "start_time": "2024-07-29T11:22:55.569Z"
   },
   {
    "duration": 18,
    "start_time": "2024-07-29T11:22:55.850Z"
   },
   {
    "duration": 8,
    "start_time": "2024-07-29T11:22:55.870Z"
   },
   {
    "duration": 19,
    "start_time": "2024-07-29T11:22:55.879Z"
   },
   {
    "duration": 9,
    "start_time": "2024-07-29T11:22:55.900Z"
   },
   {
    "duration": 6,
    "start_time": "2024-07-29T11:22:55.911Z"
   },
   {
    "duration": 999,
    "start_time": "2024-07-29T11:22:55.918Z"
   },
   {
    "duration": 4,
    "start_time": "2024-07-29T11:22:56.919Z"
   },
   {
    "duration": 28,
    "start_time": "2024-07-29T11:22:56.927Z"
   },
   {
    "duration": 13,
    "start_time": "2024-07-29T11:22:56.957Z"
   },
   {
    "duration": 179,
    "start_time": "2024-07-29T11:22:56.972Z"
   },
   {
    "duration": 199,
    "start_time": "2024-07-29T11:22:57.153Z"
   },
   {
    "duration": 807,
    "start_time": "2024-07-29T11:22:57.354Z"
   },
   {
    "duration": 235,
    "start_time": "2024-07-29T11:22:58.162Z"
   },
   {
    "duration": 16,
    "start_time": "2024-07-29T11:22:58.399Z"
   },
   {
    "duration": 13,
    "start_time": "2024-07-29T11:22:58.417Z"
   },
   {
    "duration": 36,
    "start_time": "2024-07-29T11:22:58.432Z"
   },
   {
    "duration": 15,
    "start_time": "2024-07-29T11:22:58.470Z"
   },
   {
    "duration": 49,
    "start_time": "2024-07-29T11:22:58.486Z"
   },
   {
    "duration": 35,
    "start_time": "2024-07-29T11:22:58.537Z"
   },
   {
    "duration": 266,
    "start_time": "2024-07-29T11:22:58.574Z"
   },
   {
    "duration": 270,
    "start_time": "2024-07-29T11:22:58.842Z"
   },
   {
    "duration": 237,
    "start_time": "2024-07-29T11:22:59.114Z"
   },
   {
    "duration": 17,
    "start_time": "2024-07-29T11:22:59.352Z"
   },
   {
    "duration": 15,
    "start_time": "2024-07-29T11:22:59.371Z"
   },
   {
    "duration": 20,
    "start_time": "2024-07-29T11:22:59.388Z"
   },
   {
    "duration": 16,
    "start_time": "2024-07-29T11:22:59.410Z"
   },
   {
    "duration": 43,
    "start_time": "2024-07-29T11:22:59.428Z"
   },
   {
    "duration": 384,
    "start_time": "2024-07-29T11:22:59.473Z"
   },
   {
    "duration": 316,
    "start_time": "2024-07-29T11:22:59.864Z"
   },
   {
    "duration": 12,
    "start_time": "2024-07-29T11:23:00.182Z"
   },
   {
    "duration": 42,
    "start_time": "2024-07-29T11:23:00.196Z"
   },
   {
    "duration": 140,
    "start_time": "2024-07-29T11:23:00.240Z"
   },
   {
    "duration": 43,
    "start_time": "2024-07-29T11:25:05.944Z"
   },
   {
    "duration": 45,
    "start_time": "2024-07-29T11:26:24.632Z"
   },
   {
    "duration": 54,
    "start_time": "2024-07-29T11:27:20.763Z"
   },
   {
    "duration": 107,
    "start_time": "2024-07-29T11:30:53.776Z"
   },
   {
    "duration": 120,
    "start_time": "2024-07-29T11:32:47.314Z"
   },
   {
    "duration": 118,
    "start_time": "2024-07-29T11:33:08.092Z"
   },
   {
    "duration": 1212,
    "start_time": "2024-07-29T11:40:00.228Z"
   },
   {
    "duration": 49,
    "start_time": "2024-07-29T11:40:01.442Z"
   },
   {
    "duration": 17,
    "start_time": "2024-07-29T11:40:01.493Z"
   },
   {
    "duration": 47,
    "start_time": "2024-07-29T11:40:01.512Z"
   },
   {
    "duration": 50,
    "start_time": "2024-07-29T11:40:01.560Z"
   },
   {
    "duration": 147,
    "start_time": "2024-07-29T11:40:01.611Z"
   },
   {
    "duration": 40,
    "start_time": "2024-07-29T11:40:01.761Z"
   },
   {
    "duration": 19,
    "start_time": "2024-07-29T11:40:01.803Z"
   },
   {
    "duration": 31,
    "start_time": "2024-07-29T11:40:01.824Z"
   },
   {
    "duration": 22,
    "start_time": "2024-07-29T11:40:01.858Z"
   },
   {
    "duration": 48,
    "start_time": "2024-07-29T11:40:01.881Z"
   },
   {
    "duration": 47,
    "start_time": "2024-07-29T11:40:01.932Z"
   },
   {
    "duration": 48,
    "start_time": "2024-07-29T11:40:01.982Z"
   },
   {
    "duration": 43,
    "start_time": "2024-07-29T11:40:02.032Z"
   },
   {
    "duration": 26,
    "start_time": "2024-07-29T11:40:02.077Z"
   },
   {
    "duration": 8,
    "start_time": "2024-07-29T11:40:02.104Z"
   },
   {
    "duration": 42,
    "start_time": "2024-07-29T11:40:02.114Z"
   },
   {
    "duration": 49,
    "start_time": "2024-07-29T11:40:02.157Z"
   },
   {
    "duration": 56,
    "start_time": "2024-07-29T11:40:02.207Z"
   },
   {
    "duration": 269,
    "start_time": "2024-07-29T11:40:02.265Z"
   },
   {
    "duration": 168,
    "start_time": "2024-07-29T11:40:02.536Z"
   },
   {
    "duration": 203,
    "start_time": "2024-07-29T11:40:02.705Z"
   },
   {
    "duration": 2,
    "start_time": "2024-07-29T11:40:02.910Z"
   },
   {
    "duration": 123,
    "start_time": "2024-07-29T11:40:02.913Z"
   },
   {
    "duration": 37,
    "start_time": "2024-07-29T11:40:03.037Z"
   },
   {
    "duration": 2203,
    "start_time": "2024-07-29T11:40:03.076Z"
   },
   {
    "duration": 4,
    "start_time": "2024-07-29T11:40:05.281Z"
   },
   {
    "duration": 1120,
    "start_time": "2024-07-29T11:40:05.289Z"
   },
   {
    "duration": 22,
    "start_time": "2024-07-29T11:40:06.411Z"
   },
   {
    "duration": 7,
    "start_time": "2024-07-29T11:40:06.434Z"
   },
   {
    "duration": 26,
    "start_time": "2024-07-29T11:40:06.442Z"
   },
   {
    "duration": 7,
    "start_time": "2024-07-29T11:40:06.470Z"
   },
   {
    "duration": 293,
    "start_time": "2024-07-29T11:40:06.479Z"
   },
   {
    "duration": 9,
    "start_time": "2024-07-29T11:40:06.775Z"
   },
   {
    "duration": 9,
    "start_time": "2024-07-29T11:40:06.785Z"
   },
   {
    "duration": 16,
    "start_time": "2024-07-29T11:40:06.796Z"
   },
   {
    "duration": 11,
    "start_time": "2024-07-29T11:40:06.813Z"
   },
   {
    "duration": 4,
    "start_time": "2024-07-29T11:40:06.825Z"
   },
   {
    "duration": 1039,
    "start_time": "2024-07-29T11:40:06.830Z"
   },
   {
    "duration": 5,
    "start_time": "2024-07-29T11:40:07.870Z"
   },
   {
    "duration": 5,
    "start_time": "2024-07-29T11:40:07.877Z"
   },
   {
    "duration": 14,
    "start_time": "2024-07-29T11:40:07.884Z"
   },
   {
    "duration": 200,
    "start_time": "2024-07-29T11:40:07.899Z"
   },
   {
    "duration": 204,
    "start_time": "2024-07-29T11:40:08.101Z"
   },
   {
    "duration": 835,
    "start_time": "2024-07-29T11:40:08.306Z"
   },
   {
    "duration": 248,
    "start_time": "2024-07-29T11:40:09.143Z"
   },
   {
    "duration": 19,
    "start_time": "2024-07-29T11:40:09.392Z"
   },
   {
    "duration": 12,
    "start_time": "2024-07-29T11:40:09.413Z"
   },
   {
    "duration": 16,
    "start_time": "2024-07-29T11:40:09.426Z"
   },
   {
    "duration": 32,
    "start_time": "2024-07-29T11:40:09.444Z"
   },
   {
    "duration": 41,
    "start_time": "2024-07-29T11:40:09.478Z"
   },
   {
    "duration": 139,
    "start_time": "2024-07-29T11:40:09.520Z"
   },
   {
    "duration": 14,
    "start_time": "2024-07-29T11:40:09.661Z"
   },
   {
    "duration": 280,
    "start_time": "2024-07-29T11:40:09.676Z"
   },
   {
    "duration": 249,
    "start_time": "2024-07-29T11:40:09.958Z"
   },
   {
    "duration": 237,
    "start_time": "2024-07-29T11:40:10.208Z"
   },
   {
    "duration": 19,
    "start_time": "2024-07-29T11:40:10.447Z"
   },
   {
    "duration": 14,
    "start_time": "2024-07-29T11:40:10.468Z"
   },
   {
    "duration": 8,
    "start_time": "2024-07-29T11:40:10.484Z"
   },
   {
    "duration": 8,
    "start_time": "2024-07-29T11:40:10.494Z"
   },
   {
    "duration": 32,
    "start_time": "2024-07-29T11:40:10.504Z"
   },
   {
    "duration": 374,
    "start_time": "2024-07-29T11:40:10.537Z"
   },
   {
    "duration": 345,
    "start_time": "2024-07-29T11:40:10.913Z"
   },
   {
    "duration": 12,
    "start_time": "2024-07-29T11:40:11.264Z"
   },
   {
    "duration": 12,
    "start_time": "2024-07-29T11:40:11.277Z"
   },
   {
    "duration": 14,
    "start_time": "2024-07-29T11:40:11.290Z"
   },
   {
    "duration": 41,
    "start_time": "2024-07-29T11:40:38.612Z"
   },
   {
    "duration": 61,
    "start_time": "2024-07-29T11:41:14.002Z"
   },
   {
    "duration": 271,
    "start_time": "2024-07-29T11:42:05.417Z"
   },
   {
    "duration": 1198,
    "start_time": "2024-07-29T11:49:45.284Z"
   },
   {
    "duration": 48,
    "start_time": "2024-07-29T11:49:46.484Z"
   },
   {
    "duration": 14,
    "start_time": "2024-07-29T11:49:46.533Z"
   },
   {
    "duration": 26,
    "start_time": "2024-07-29T11:49:46.549Z"
   },
   {
    "duration": 51,
    "start_time": "2024-07-29T11:49:46.577Z"
   },
   {
    "duration": 23,
    "start_time": "2024-07-29T11:49:46.630Z"
   },
   {
    "duration": 18,
    "start_time": "2024-07-29T11:49:46.654Z"
   },
   {
    "duration": 18,
    "start_time": "2024-07-29T11:49:46.673Z"
   },
   {
    "duration": 31,
    "start_time": "2024-07-29T11:49:46.693Z"
   },
   {
    "duration": 4,
    "start_time": "2024-07-29T11:49:46.726Z"
   },
   {
    "duration": 8,
    "start_time": "2024-07-29T11:49:46.732Z"
   },
   {
    "duration": 27,
    "start_time": "2024-07-29T11:49:46.741Z"
   },
   {
    "duration": 9,
    "start_time": "2024-07-29T11:49:46.770Z"
   },
   {
    "duration": 21,
    "start_time": "2024-07-29T11:49:46.781Z"
   },
   {
    "duration": 25,
    "start_time": "2024-07-29T11:49:46.803Z"
   },
   {
    "duration": 35,
    "start_time": "2024-07-29T11:49:46.830Z"
   },
   {
    "duration": 4,
    "start_time": "2024-07-29T11:49:46.867Z"
   },
   {
    "duration": 21,
    "start_time": "2024-07-29T11:49:46.873Z"
   },
   {
    "duration": 19,
    "start_time": "2024-07-29T11:49:46.896Z"
   },
   {
    "duration": 271,
    "start_time": "2024-07-29T11:49:46.917Z"
   },
   {
    "duration": 158,
    "start_time": "2024-07-29T11:49:47.189Z"
   },
   {
    "duration": 216,
    "start_time": "2024-07-29T11:49:47.349Z"
   },
   {
    "duration": 2,
    "start_time": "2024-07-29T11:49:47.566Z"
   },
   {
    "duration": 9,
    "start_time": "2024-07-29T11:49:47.570Z"
   },
   {
    "duration": 4,
    "start_time": "2024-07-29T11:49:47.581Z"
   },
   {
    "duration": 2152,
    "start_time": "2024-07-29T11:49:47.586Z"
   },
   {
    "duration": 5,
    "start_time": "2024-07-29T11:49:49.740Z"
   },
   {
    "duration": 1089,
    "start_time": "2024-07-29T11:49:49.749Z"
   },
   {
    "duration": 38,
    "start_time": "2024-07-29T11:49:50.840Z"
   },
   {
    "duration": 6,
    "start_time": "2024-07-29T11:49:50.881Z"
   },
   {
    "duration": 27,
    "start_time": "2024-07-29T11:49:50.888Z"
   },
   {
    "duration": 14,
    "start_time": "2024-07-29T11:49:50.917Z"
   },
   {
    "duration": 404,
    "start_time": "2024-07-29T11:49:50.933Z"
   },
   {
    "duration": 9,
    "start_time": "2024-07-29T11:49:51.338Z"
   },
   {
    "duration": 22,
    "start_time": "2024-07-29T11:49:51.348Z"
   },
   {
    "duration": 19,
    "start_time": "2024-07-29T11:49:51.372Z"
   },
   {
    "duration": 11,
    "start_time": "2024-07-29T11:49:51.392Z"
   },
   {
    "duration": 21,
    "start_time": "2024-07-29T11:49:51.405Z"
   },
   {
    "duration": 987,
    "start_time": "2024-07-29T11:49:51.428Z"
   },
   {
    "duration": 5,
    "start_time": "2024-07-29T11:49:52.416Z"
   },
   {
    "duration": 12,
    "start_time": "2024-07-29T11:49:52.422Z"
   },
   {
    "duration": 14,
    "start_time": "2024-07-29T11:49:52.435Z"
   },
   {
    "duration": 212,
    "start_time": "2024-07-29T11:49:52.450Z"
   },
   {
    "duration": 188,
    "start_time": "2024-07-29T11:49:52.665Z"
   },
   {
    "duration": 836,
    "start_time": "2024-07-29T11:49:52.854Z"
   },
   {
    "duration": 227,
    "start_time": "2024-07-29T11:49:53.692Z"
   },
   {
    "duration": 18,
    "start_time": "2024-07-29T11:49:53.921Z"
   },
   {
    "duration": 29,
    "start_time": "2024-07-29T11:49:53.940Z"
   },
   {
    "duration": 25,
    "start_time": "2024-07-29T11:49:53.970Z"
   },
   {
    "duration": 16,
    "start_time": "2024-07-29T11:49:53.996Z"
   },
   {
    "duration": 52,
    "start_time": "2024-07-29T11:49:54.014Z"
   },
   {
    "duration": 128,
    "start_time": "2024-07-29T11:49:54.068Z"
   },
   {
    "duration": 13,
    "start_time": "2024-07-29T11:49:54.198Z"
   },
   {
    "duration": 299,
    "start_time": "2024-07-29T11:49:54.213Z"
   },
   {
    "duration": 234,
    "start_time": "2024-07-29T11:49:54.513Z"
   },
   {
    "duration": 224,
    "start_time": "2024-07-29T11:49:54.749Z"
   },
   {
    "duration": 8,
    "start_time": "2024-07-29T11:49:54.975Z"
   },
   {
    "duration": 92,
    "start_time": "2024-07-29T11:49:54.985Z"
   },
   {
    "duration": 35,
    "start_time": "2024-07-29T11:49:55.079Z"
   },
   {
    "duration": 18,
    "start_time": "2024-07-29T11:49:55.115Z"
   },
   {
    "duration": 47,
    "start_time": "2024-07-29T11:49:55.134Z"
   },
   {
    "duration": 352,
    "start_time": "2024-07-29T11:49:55.182Z"
   },
   {
    "duration": 323,
    "start_time": "2024-07-29T11:49:55.536Z"
   },
   {
    "duration": 12,
    "start_time": "2024-07-29T11:49:55.866Z"
   },
   {
    "duration": 19,
    "start_time": "2024-07-29T11:49:55.880Z"
   },
   {
    "duration": 35,
    "start_time": "2024-07-29T11:49:55.901Z"
   },
   {
    "duration": 1086,
    "start_time": "2024-07-29T20:56:40.423Z"
   },
   {
    "duration": 52,
    "start_time": "2024-07-29T20:56:41.511Z"
   },
   {
    "duration": 11,
    "start_time": "2024-07-29T20:56:41.564Z"
   },
   {
    "duration": 14,
    "start_time": "2024-07-29T20:56:41.576Z"
   },
   {
    "duration": 15,
    "start_time": "2024-07-29T20:56:41.591Z"
   },
   {
    "duration": 12,
    "start_time": "2024-07-29T20:56:41.608Z"
   },
   {
    "duration": 14,
    "start_time": "2024-07-29T20:56:41.621Z"
   },
   {
    "duration": 11,
    "start_time": "2024-07-29T20:56:41.636Z"
   },
   {
    "duration": 18,
    "start_time": "2024-07-29T20:56:41.648Z"
   },
   {
    "duration": 4,
    "start_time": "2024-07-29T20:56:41.667Z"
   },
   {
    "duration": 26,
    "start_time": "2024-07-29T20:56:41.672Z"
   },
   {
    "duration": 13,
    "start_time": "2024-07-29T20:56:41.699Z"
   },
   {
    "duration": 8,
    "start_time": "2024-07-29T20:56:41.713Z"
   },
   {
    "duration": 16,
    "start_time": "2024-07-29T20:56:41.723Z"
   },
   {
    "duration": 15,
    "start_time": "2024-07-29T20:56:41.740Z"
   },
   {
    "duration": 7,
    "start_time": "2024-07-29T20:56:41.756Z"
   },
   {
    "duration": 4,
    "start_time": "2024-07-29T20:56:41.764Z"
   },
   {
    "duration": 37,
    "start_time": "2024-07-29T20:56:41.769Z"
   },
   {
    "duration": 18,
    "start_time": "2024-07-29T20:56:41.808Z"
   },
   {
    "duration": 230,
    "start_time": "2024-07-29T20:56:41.828Z"
   },
   {
    "duration": 154,
    "start_time": "2024-07-29T20:56:42.060Z"
   },
   {
    "duration": 183,
    "start_time": "2024-07-29T20:56:42.215Z"
   },
   {
    "duration": 3,
    "start_time": "2024-07-29T20:56:42.399Z"
   },
   {
    "duration": 6,
    "start_time": "2024-07-29T20:56:42.403Z"
   },
   {
    "duration": 4,
    "start_time": "2024-07-29T20:56:42.410Z"
   },
   {
    "duration": 1794,
    "start_time": "2024-07-29T20:56:42.415Z"
   },
   {
    "duration": 5,
    "start_time": "2024-07-29T20:56:44.211Z"
   },
   {
    "duration": 924,
    "start_time": "2024-07-29T20:56:44.218Z"
   },
   {
    "duration": 19,
    "start_time": "2024-07-29T20:56:45.144Z"
   },
   {
    "duration": 51,
    "start_time": "2024-07-29T20:56:45.165Z"
   },
   {
    "duration": 7,
    "start_time": "2024-07-29T20:56:45.218Z"
   },
   {
    "duration": 23,
    "start_time": "2024-07-29T20:56:45.226Z"
   },
   {
    "duration": 246,
    "start_time": "2024-07-29T20:56:45.250Z"
   },
   {
    "duration": 12,
    "start_time": "2024-07-29T20:56:45.499Z"
   },
   {
    "duration": 8,
    "start_time": "2024-07-29T20:56:45.513Z"
   },
   {
    "duration": 19,
    "start_time": "2024-07-29T20:56:45.524Z"
   },
   {
    "duration": 2,
    "start_time": "2024-07-29T20:56:45.545Z"
   },
   {
    "duration": 15,
    "start_time": "2024-07-29T20:56:45.548Z"
   },
   {
    "duration": 893,
    "start_time": "2024-07-29T20:56:45.564Z"
   },
   {
    "duration": 4,
    "start_time": "2024-07-29T20:56:46.458Z"
   },
   {
    "duration": 4,
    "start_time": "2024-07-29T20:56:46.466Z"
   },
   {
    "duration": 27,
    "start_time": "2024-07-29T20:56:46.471Z"
   },
   {
    "duration": 163,
    "start_time": "2024-07-29T20:56:46.499Z"
   },
   {
    "duration": 164,
    "start_time": "2024-07-29T20:56:46.663Z"
   },
   {
    "duration": 737,
    "start_time": "2024-07-29T20:56:46.828Z"
   },
   {
    "duration": 180,
    "start_time": "2024-07-29T20:56:47.566Z"
   },
   {
    "duration": 15,
    "start_time": "2024-07-29T20:56:47.747Z"
   },
   {
    "duration": 14,
    "start_time": "2024-07-29T20:56:47.763Z"
   },
   {
    "duration": 24,
    "start_time": "2024-07-29T20:56:47.779Z"
   },
   {
    "duration": 13,
    "start_time": "2024-07-29T20:56:47.804Z"
   },
   {
    "duration": 49,
    "start_time": "2024-07-29T20:56:47.819Z"
   },
   {
    "duration": 127,
    "start_time": "2024-07-29T20:56:47.869Z"
   },
   {
    "duration": 11,
    "start_time": "2024-07-29T20:56:47.997Z"
   },
   {
    "duration": 206,
    "start_time": "2024-07-29T20:56:48.009Z"
   },
   {
    "duration": 216,
    "start_time": "2024-07-29T20:56:48.217Z"
   },
   {
    "duration": 204,
    "start_time": "2024-07-29T20:56:48.435Z"
   },
   {
    "duration": 9,
    "start_time": "2024-07-29T20:56:48.640Z"
   },
   {
    "duration": 14,
    "start_time": "2024-07-29T20:56:48.651Z"
   },
   {
    "duration": 12,
    "start_time": "2024-07-29T20:56:48.666Z"
   },
   {
    "duration": 21,
    "start_time": "2024-07-29T20:56:48.680Z"
   },
   {
    "duration": 28,
    "start_time": "2024-07-29T20:56:48.703Z"
   },
   {
    "duration": 318,
    "start_time": "2024-07-29T20:56:48.733Z"
   },
   {
    "duration": 300,
    "start_time": "2024-07-29T20:56:49.053Z"
   },
   {
    "duration": 11,
    "start_time": "2024-07-29T20:56:49.354Z"
   },
   {
    "duration": 10,
    "start_time": "2024-07-29T20:56:49.367Z"
   },
   {
    "duration": 24,
    "start_time": "2024-07-29T20:56:49.378Z"
   },
   {
    "duration": 1136,
    "start_time": "2024-07-29T22:14:38.982Z"
   },
   {
    "duration": 50,
    "start_time": "2024-07-29T22:14:40.120Z"
   },
   {
    "duration": 11,
    "start_time": "2024-07-29T22:14:40.171Z"
   },
   {
    "duration": 28,
    "start_time": "2024-07-29T22:14:40.183Z"
   },
   {
    "duration": 16,
    "start_time": "2024-07-29T22:14:40.213Z"
   },
   {
    "duration": 13,
    "start_time": "2024-07-29T22:14:40.230Z"
   },
   {
    "duration": 15,
    "start_time": "2024-07-29T22:14:40.244Z"
   },
   {
    "duration": 15,
    "start_time": "2024-07-29T22:14:40.260Z"
   },
   {
    "duration": 31,
    "start_time": "2024-07-29T22:14:40.276Z"
   },
   {
    "duration": 4,
    "start_time": "2024-07-29T22:14:40.308Z"
   },
   {
    "duration": 5,
    "start_time": "2024-07-29T22:14:40.313Z"
   },
   {
    "duration": 10,
    "start_time": "2024-07-29T22:14:40.320Z"
   },
   {
    "duration": 23,
    "start_time": "2024-07-29T22:14:40.331Z"
   },
   {
    "duration": 55,
    "start_time": "2024-07-29T22:14:40.356Z"
   },
   {
    "duration": 20,
    "start_time": "2024-07-29T22:14:40.412Z"
   },
   {
    "duration": 6,
    "start_time": "2024-07-29T22:14:40.433Z"
   },
   {
    "duration": 5,
    "start_time": "2024-07-29T22:14:40.441Z"
   },
   {
    "duration": 13,
    "start_time": "2024-07-29T22:14:40.448Z"
   },
   {
    "duration": 13,
    "start_time": "2024-07-29T22:14:40.462Z"
   },
   {
    "duration": 231,
    "start_time": "2024-07-29T22:14:40.476Z"
   },
   {
    "duration": 141,
    "start_time": "2024-07-29T22:14:40.708Z"
   },
   {
    "duration": 181,
    "start_time": "2024-07-29T22:14:40.850Z"
   },
   {
    "duration": 2,
    "start_time": "2024-07-29T22:14:41.032Z"
   },
   {
    "duration": 4,
    "start_time": "2024-07-29T22:14:41.036Z"
   },
   {
    "duration": 3,
    "start_time": "2024-07-29T22:14:41.042Z"
   },
   {
    "duration": 1781,
    "start_time": "2024-07-29T22:14:41.046Z"
   },
   {
    "duration": 5,
    "start_time": "2024-07-29T22:14:42.828Z"
   },
   {
    "duration": 918,
    "start_time": "2024-07-29T22:14:42.834Z"
   },
   {
    "duration": 19,
    "start_time": "2024-07-29T22:14:43.753Z"
   },
   {
    "duration": 4,
    "start_time": "2024-07-29T22:14:43.773Z"
   },
   {
    "duration": 20,
    "start_time": "2024-07-29T22:14:43.778Z"
   },
   {
    "duration": 4,
    "start_time": "2024-07-29T22:14:43.799Z"
   },
   {
    "duration": 222,
    "start_time": "2024-07-29T22:14:43.804Z"
   },
   {
    "duration": 7,
    "start_time": "2024-07-29T22:14:44.028Z"
   },
   {
    "duration": 6,
    "start_time": "2024-07-29T22:14:44.036Z"
   },
   {
    "duration": 13,
    "start_time": "2024-07-29T22:14:44.044Z"
   },
   {
    "duration": 2,
    "start_time": "2024-07-29T22:14:44.059Z"
   },
   {
    "duration": 5,
    "start_time": "2024-07-29T22:14:44.062Z"
   },
   {
    "duration": 884,
    "start_time": "2024-07-29T22:14:44.069Z"
   },
   {
    "duration": 4,
    "start_time": "2024-07-29T22:14:44.955Z"
   },
   {
    "duration": 3,
    "start_time": "2024-07-29T22:14:44.963Z"
   },
   {
    "duration": 28,
    "start_time": "2024-07-29T22:14:44.968Z"
   },
   {
    "duration": 169,
    "start_time": "2024-07-29T22:14:44.997Z"
   },
   {
    "duration": 174,
    "start_time": "2024-07-29T22:14:45.167Z"
   },
   {
    "duration": 764,
    "start_time": "2024-07-29T22:14:45.343Z"
   },
   {
    "duration": 207,
    "start_time": "2024-07-29T22:14:46.109Z"
   },
   {
    "duration": 13,
    "start_time": "2024-07-29T22:14:46.317Z"
   },
   {
    "duration": 11,
    "start_time": "2024-07-29T22:14:46.331Z"
   },
   {
    "duration": 11,
    "start_time": "2024-07-29T22:14:46.344Z"
   },
   {
    "duration": 12,
    "start_time": "2024-07-29T22:14:46.356Z"
   },
   {
    "duration": 35,
    "start_time": "2024-07-29T22:14:46.396Z"
   },
   {
    "duration": 104,
    "start_time": "2024-07-29T22:14:46.432Z"
   },
   {
    "duration": 12,
    "start_time": "2024-07-29T22:14:46.537Z"
   },
   {
    "duration": 197,
    "start_time": "2024-07-29T22:14:46.550Z"
   },
   {
    "duration": 218,
    "start_time": "2024-07-29T22:14:46.748Z"
   },
   {
    "duration": 195,
    "start_time": "2024-07-29T22:14:46.968Z"
   },
   {
    "duration": 8,
    "start_time": "2024-07-29T22:14:47.164Z"
   },
   {
    "duration": 25,
    "start_time": "2024-07-29T22:14:47.173Z"
   },
   {
    "duration": 7,
    "start_time": "2024-07-29T22:14:47.200Z"
   },
   {
    "duration": 7,
    "start_time": "2024-07-29T22:14:47.209Z"
   },
   {
    "duration": 29,
    "start_time": "2024-07-29T22:14:47.218Z"
   },
   {
    "duration": 320,
    "start_time": "2024-07-29T22:14:47.248Z"
   },
   {
    "duration": 279,
    "start_time": "2024-07-29T22:14:47.569Z"
   },
   {
    "duration": 11,
    "start_time": "2024-07-29T22:14:47.849Z"
   },
   {
    "duration": 10,
    "start_time": "2024-07-29T22:14:47.861Z"
   },
   {
    "duration": 29,
    "start_time": "2024-07-29T22:14:47.872Z"
   },
   {
    "duration": 1031,
    "start_time": "2024-07-29T22:16:56.603Z"
   },
   {
    "duration": 49,
    "start_time": "2024-07-29T22:16:57.636Z"
   },
   {
    "duration": 11,
    "start_time": "2024-07-29T22:16:57.687Z"
   },
   {
    "duration": 17,
    "start_time": "2024-07-29T22:16:57.699Z"
   },
   {
    "duration": 16,
    "start_time": "2024-07-29T22:16:57.717Z"
   },
   {
    "duration": 12,
    "start_time": "2024-07-29T22:16:57.735Z"
   },
   {
    "duration": 14,
    "start_time": "2024-07-29T22:16:57.749Z"
   },
   {
    "duration": 15,
    "start_time": "2024-07-29T22:16:57.764Z"
   },
   {
    "duration": 31,
    "start_time": "2024-07-29T22:16:57.780Z"
   },
   {
    "duration": 3,
    "start_time": "2024-07-29T22:16:57.813Z"
   },
   {
    "duration": 6,
    "start_time": "2024-07-29T22:16:57.818Z"
   },
   {
    "duration": 11,
    "start_time": "2024-07-29T22:16:57.825Z"
   },
   {
    "duration": 6,
    "start_time": "2024-07-29T22:16:57.837Z"
   },
   {
    "duration": 13,
    "start_time": "2024-07-29T22:16:57.846Z"
   },
   {
    "duration": 43,
    "start_time": "2024-07-29T22:16:57.860Z"
   },
   {
    "duration": 6,
    "start_time": "2024-07-29T22:16:57.905Z"
   },
   {
    "duration": 6,
    "start_time": "2024-07-29T22:16:57.912Z"
   },
   {
    "duration": 17,
    "start_time": "2024-07-29T22:16:57.920Z"
   },
   {
    "duration": 12,
    "start_time": "2024-07-29T22:16:57.938Z"
   },
   {
    "duration": 232,
    "start_time": "2024-07-29T22:16:57.952Z"
   },
   {
    "duration": 138,
    "start_time": "2024-07-29T22:16:58.186Z"
   },
   {
    "duration": 172,
    "start_time": "2024-07-29T22:16:58.326Z"
   },
   {
    "duration": 2,
    "start_time": "2024-07-29T22:16:58.499Z"
   },
   {
    "duration": 12,
    "start_time": "2024-07-29T22:16:58.502Z"
   },
   {
    "duration": 5,
    "start_time": "2024-07-29T22:16:58.515Z"
   },
   {
    "duration": 1669,
    "start_time": "2024-07-29T22:16:58.521Z"
   },
   {
    "duration": 6,
    "start_time": "2024-07-29T22:17:00.192Z"
   },
   {
    "duration": 955,
    "start_time": "2024-07-29T22:17:00.199Z"
   },
   {
    "duration": 21,
    "start_time": "2024-07-29T22:17:01.155Z"
   },
   {
    "duration": 43,
    "start_time": "2024-07-29T22:17:01.177Z"
   },
   {
    "duration": 44,
    "start_time": "2024-07-29T22:17:01.222Z"
   },
   {
    "duration": 25,
    "start_time": "2024-07-29T22:17:01.267Z"
   },
   {
    "duration": 231,
    "start_time": "2024-07-29T22:17:01.293Z"
   },
   {
    "duration": 6,
    "start_time": "2024-07-29T22:17:01.526Z"
   },
   {
    "duration": 60,
    "start_time": "2024-07-29T22:17:01.533Z"
   },
   {
    "duration": 37,
    "start_time": "2024-07-29T22:17:01.594Z"
   },
   {
    "duration": 26,
    "start_time": "2024-07-29T22:17:01.633Z"
   },
   {
    "duration": 29,
    "start_time": "2024-07-29T22:17:01.660Z"
   },
   {
    "duration": 776,
    "start_time": "2024-07-29T22:17:01.691Z"
   },
   {
    "duration": 4,
    "start_time": "2024-07-29T22:17:02.468Z"
   },
   {
    "duration": 9,
    "start_time": "2024-07-29T22:17:02.475Z"
   },
   {
    "duration": 18,
    "start_time": "2024-07-29T22:17:02.486Z"
   },
   {
    "duration": 185,
    "start_time": "2024-07-29T22:17:02.506Z"
   },
   {
    "duration": 156,
    "start_time": "2024-07-29T22:17:02.693Z"
   },
   {
    "duration": 697,
    "start_time": "2024-07-29T22:17:02.850Z"
   },
   {
    "duration": 184,
    "start_time": "2024-07-29T22:17:03.548Z"
   },
   {
    "duration": 14,
    "start_time": "2024-07-29T22:17:03.733Z"
   },
   {
    "duration": 12,
    "start_time": "2024-07-29T22:17:03.748Z"
   },
   {
    "duration": 15,
    "start_time": "2024-07-29T22:17:03.762Z"
   },
   {
    "duration": 13,
    "start_time": "2024-07-29T22:17:03.796Z"
   },
   {
    "duration": 37,
    "start_time": "2024-07-29T22:17:03.810Z"
   },
   {
    "duration": 115,
    "start_time": "2024-07-29T22:17:03.848Z"
   },
   {
    "duration": 11,
    "start_time": "2024-07-29T22:17:03.964Z"
   },
   {
    "duration": 208,
    "start_time": "2024-07-29T22:17:03.976Z"
   },
   {
    "duration": 242,
    "start_time": "2024-07-29T22:17:04.186Z"
   },
   {
    "duration": 197,
    "start_time": "2024-07-29T22:17:04.429Z"
   },
   {
    "duration": 7,
    "start_time": "2024-07-29T22:17:04.627Z"
   },
   {
    "duration": 26,
    "start_time": "2024-07-29T22:17:04.636Z"
   },
   {
    "duration": 7,
    "start_time": "2024-07-29T22:17:04.664Z"
   },
   {
    "duration": 27,
    "start_time": "2024-07-29T22:17:04.672Z"
   },
   {
    "duration": 27,
    "start_time": "2024-07-29T22:17:04.700Z"
   },
   {
    "duration": 319,
    "start_time": "2024-07-29T22:17:04.728Z"
   },
   {
    "duration": 312,
    "start_time": "2024-07-29T22:17:05.048Z"
   },
   {
    "duration": 11,
    "start_time": "2024-07-29T22:17:05.362Z"
   },
   {
    "duration": 23,
    "start_time": "2024-07-29T22:17:05.375Z"
   },
   {
    "duration": 7,
    "start_time": "2024-07-29T22:17:05.400Z"
   },
   {
    "duration": 1356,
    "start_time": "2024-07-30T13:19:13.094Z"
   },
   {
    "duration": 181,
    "start_time": "2024-07-30T13:19:14.452Z"
   },
   {
    "duration": 12,
    "start_time": "2024-07-30T13:19:14.634Z"
   },
   {
    "duration": 69,
    "start_time": "2024-07-30T13:19:14.649Z"
   },
   {
    "duration": 18,
    "start_time": "2024-07-30T13:19:14.720Z"
   },
   {
    "duration": 14,
    "start_time": "2024-07-30T13:19:14.739Z"
   },
   {
    "duration": 34,
    "start_time": "2024-07-30T13:19:14.754Z"
   },
   {
    "duration": 14,
    "start_time": "2024-07-30T13:19:14.789Z"
   },
   {
    "duration": 26,
    "start_time": "2024-07-30T13:19:14.804Z"
   },
   {
    "duration": 3,
    "start_time": "2024-07-30T13:19:14.833Z"
   },
   {
    "duration": 9,
    "start_time": "2024-07-30T13:19:14.837Z"
   },
   {
    "duration": 15,
    "start_time": "2024-07-30T13:19:14.847Z"
   },
   {
    "duration": 9,
    "start_time": "2024-07-30T13:19:14.863Z"
   },
   {
    "duration": 23,
    "start_time": "2024-07-30T13:19:14.873Z"
   },
   {
    "duration": 17,
    "start_time": "2024-07-30T13:19:14.912Z"
   },
   {
    "duration": 17,
    "start_time": "2024-07-30T13:19:14.930Z"
   },
   {
    "duration": 13,
    "start_time": "2024-07-30T13:19:14.949Z"
   },
   {
    "duration": 20,
    "start_time": "2024-07-30T13:19:14.963Z"
   },
   {
    "duration": 14,
    "start_time": "2024-07-30T13:19:14.984Z"
   },
   {
    "duration": 234,
    "start_time": "2024-07-30T13:19:14.999Z"
   },
   {
    "duration": 156,
    "start_time": "2024-07-30T13:19:15.235Z"
   },
   {
    "duration": 191,
    "start_time": "2024-07-30T13:19:15.392Z"
   },
   {
    "duration": 2,
    "start_time": "2024-07-30T13:19:15.584Z"
   },
   {
    "duration": 18,
    "start_time": "2024-07-30T13:19:15.588Z"
   },
   {
    "duration": 12,
    "start_time": "2024-07-30T13:19:15.608Z"
   },
   {
    "duration": 1774,
    "start_time": "2024-07-30T13:19:15.622Z"
   },
   {
    "duration": 4,
    "start_time": "2024-07-30T13:19:17.398Z"
   },
   {
    "duration": 947,
    "start_time": "2024-07-30T13:19:17.412Z"
   },
   {
    "duration": 20,
    "start_time": "2024-07-30T13:19:18.360Z"
   },
   {
    "duration": 5,
    "start_time": "2024-07-30T13:19:18.381Z"
   },
   {
    "duration": 14,
    "start_time": "2024-07-30T13:19:18.387Z"
   },
   {
    "duration": 10,
    "start_time": "2024-07-30T13:19:18.402Z"
   },
   {
    "duration": 219,
    "start_time": "2024-07-30T13:19:18.414Z"
   },
   {
    "duration": 7,
    "start_time": "2024-07-30T13:19:18.634Z"
   },
   {
    "duration": 69,
    "start_time": "2024-07-30T13:19:18.642Z"
   },
   {
    "duration": 14,
    "start_time": "2024-07-30T13:19:18.712Z"
   },
   {
    "duration": 2,
    "start_time": "2024-07-30T13:19:18.727Z"
   },
   {
    "duration": 20,
    "start_time": "2024-07-30T13:19:18.731Z"
   },
   {
    "duration": 759,
    "start_time": "2024-07-30T13:19:18.753Z"
   },
   {
    "duration": 4,
    "start_time": "2024-07-30T13:19:19.513Z"
   },
   {
    "duration": 6,
    "start_time": "2024-07-30T13:19:19.518Z"
   },
   {
    "duration": 13,
    "start_time": "2024-07-30T13:19:19.526Z"
   },
   {
    "duration": 177,
    "start_time": "2024-07-30T13:19:19.540Z"
   },
   {
    "duration": 169,
    "start_time": "2024-07-30T13:19:19.719Z"
   },
   {
    "duration": 771,
    "start_time": "2024-07-30T13:19:19.890Z"
   },
   {
    "duration": 213,
    "start_time": "2024-07-30T13:19:20.662Z"
   },
   {
    "duration": 14,
    "start_time": "2024-07-30T13:19:20.877Z"
   },
   {
    "duration": 29,
    "start_time": "2024-07-30T13:19:20.893Z"
   },
   {
    "duration": 13,
    "start_time": "2024-07-30T13:19:20.923Z"
   },
   {
    "duration": 12,
    "start_time": "2024-07-30T13:19:20.938Z"
   },
   {
    "duration": 45,
    "start_time": "2024-07-30T13:19:20.951Z"
   },
   {
    "duration": 131,
    "start_time": "2024-07-30T13:19:20.997Z"
   },
   {
    "duration": 11,
    "start_time": "2024-07-30T13:19:21.130Z"
   },
   {
    "duration": 243,
    "start_time": "2024-07-30T13:19:21.143Z"
   },
   {
    "duration": 250,
    "start_time": "2024-07-30T13:19:21.387Z"
   },
   {
    "duration": 216,
    "start_time": "2024-07-30T13:19:21.639Z"
   },
   {
    "duration": 9,
    "start_time": "2024-07-30T13:19:21.856Z"
   },
   {
    "duration": 26,
    "start_time": "2024-07-30T13:19:21.866Z"
   },
   {
    "duration": 8,
    "start_time": "2024-07-30T13:19:21.893Z"
   },
   {
    "duration": 14,
    "start_time": "2024-07-30T13:19:21.902Z"
   },
   {
    "duration": 28,
    "start_time": "2024-07-30T13:19:21.917Z"
   },
   {
    "duration": 329,
    "start_time": "2024-07-30T13:19:21.947Z"
   },
   {
    "duration": 302,
    "start_time": "2024-07-30T13:19:22.278Z"
   },
   {
    "duration": 11,
    "start_time": "2024-07-30T13:19:22.582Z"
   },
   {
    "duration": 25,
    "start_time": "2024-07-30T13:19:22.594Z"
   },
   {
    "duration": 9,
    "start_time": "2024-07-30T13:19:22.620Z"
   },
   {
    "duration": 97,
    "start_time": "2024-07-30T13:54:26.499Z"
   },
   {
    "duration": 1190,
    "start_time": "2024-07-30T14:41:02.358Z"
   },
   {
    "duration": 47,
    "start_time": "2024-07-30T14:41:03.550Z"
   },
   {
    "duration": 11,
    "start_time": "2024-07-30T14:41:03.599Z"
   },
   {
    "duration": 22,
    "start_time": "2024-07-30T14:41:03.612Z"
   },
   {
    "duration": 90,
    "start_time": "2024-07-30T14:41:03.635Z"
   },
   {
    "duration": 14,
    "start_time": "2024-07-30T14:41:03.726Z"
   },
   {
    "duration": 28,
    "start_time": "2024-07-30T14:41:03.742Z"
   },
   {
    "duration": 15,
    "start_time": "2024-07-30T14:41:03.772Z"
   },
   {
    "duration": 34,
    "start_time": "2024-07-30T14:41:03.788Z"
   },
   {
    "duration": 4,
    "start_time": "2024-07-30T14:41:03.824Z"
   },
   {
    "duration": 7,
    "start_time": "2024-07-30T14:41:03.830Z"
   },
   {
    "duration": 30,
    "start_time": "2024-07-30T14:41:03.839Z"
   },
   {
    "duration": 9,
    "start_time": "2024-07-30T14:41:03.871Z"
   },
   {
    "duration": 17,
    "start_time": "2024-07-30T14:41:03.881Z"
   },
   {
    "duration": 30,
    "start_time": "2024-07-30T14:41:03.899Z"
   },
   {
    "duration": 8,
    "start_time": "2024-07-30T14:41:03.931Z"
   },
   {
    "duration": 17,
    "start_time": "2024-07-30T14:41:03.941Z"
   },
   {
    "duration": 15,
    "start_time": "2024-07-30T14:41:03.960Z"
   },
   {
    "duration": 14,
    "start_time": "2024-07-30T14:41:03.976Z"
   },
   {
    "duration": 264,
    "start_time": "2024-07-30T14:41:03.992Z"
   },
   {
    "duration": 160,
    "start_time": "2024-07-30T14:41:04.258Z"
   },
   {
    "duration": 194,
    "start_time": "2024-07-30T14:41:04.420Z"
   },
   {
    "duration": 2,
    "start_time": "2024-07-30T14:41:04.616Z"
   },
   {
    "duration": 5,
    "start_time": "2024-07-30T14:41:04.620Z"
   },
   {
    "duration": 4,
    "start_time": "2024-07-30T14:41:04.627Z"
   },
   {
    "duration": 1717,
    "start_time": "2024-07-30T14:41:04.633Z"
   },
   {
    "duration": 5,
    "start_time": "2024-07-30T14:41:06.351Z"
   },
   {
    "duration": 976,
    "start_time": "2024-07-30T14:41:06.359Z"
   },
   {
    "duration": 21,
    "start_time": "2024-07-30T14:41:07.336Z"
   },
   {
    "duration": 4,
    "start_time": "2024-07-30T14:41:07.358Z"
   },
   {
    "duration": 6,
    "start_time": "2024-07-30T14:41:07.363Z"
   },
   {
    "duration": 4,
    "start_time": "2024-07-30T14:41:07.371Z"
   },
   {
    "duration": 242,
    "start_time": "2024-07-30T14:41:07.377Z"
   },
   {
    "duration": 8,
    "start_time": "2024-07-30T14:41:07.621Z"
   },
   {
    "duration": 79,
    "start_time": "2024-07-30T14:41:07.631Z"
   },
   {
    "duration": 14,
    "start_time": "2024-07-30T14:41:07.711Z"
   },
   {
    "duration": 3,
    "start_time": "2024-07-30T14:41:07.727Z"
   },
   {
    "duration": 8,
    "start_time": "2024-07-30T14:41:07.731Z"
   },
   {
    "duration": 771,
    "start_time": "2024-07-30T14:41:07.740Z"
   },
   {
    "duration": 5,
    "start_time": "2024-07-30T14:41:08.512Z"
   },
   {
    "duration": 16,
    "start_time": "2024-07-30T14:41:08.518Z"
   },
   {
    "duration": 32,
    "start_time": "2024-07-30T14:41:08.535Z"
   },
   {
    "duration": 170,
    "start_time": "2024-07-30T14:41:08.568Z"
   },
   {
    "duration": 176,
    "start_time": "2024-07-30T14:41:08.740Z"
   },
   {
    "duration": 754,
    "start_time": "2024-07-30T14:41:08.918Z"
   },
   {
    "duration": 221,
    "start_time": "2024-07-30T14:41:09.673Z"
   },
   {
    "duration": 29,
    "start_time": "2024-07-30T14:41:09.896Z"
   },
   {
    "duration": 48,
    "start_time": "2024-07-30T14:41:09.927Z"
   },
   {
    "duration": 27,
    "start_time": "2024-07-30T14:41:09.977Z"
   },
   {
    "duration": 42,
    "start_time": "2024-07-30T14:41:10.006Z"
   },
   {
    "duration": 56,
    "start_time": "2024-07-30T14:41:10.050Z"
   },
   {
    "duration": 98,
    "start_time": "2024-07-30T14:41:10.108Z"
   },
   {
    "duration": 11,
    "start_time": "2024-07-30T14:41:10.212Z"
   },
   {
    "duration": 250,
    "start_time": "2024-07-30T14:41:10.224Z"
   },
   {
    "duration": 258,
    "start_time": "2024-07-30T14:41:10.475Z"
   },
   {
    "duration": 213,
    "start_time": "2024-07-30T14:41:10.734Z"
   },
   {
    "duration": 8,
    "start_time": "2024-07-30T14:41:10.948Z"
   },
   {
    "duration": 55,
    "start_time": "2024-07-30T14:41:10.958Z"
   },
   {
    "duration": 8,
    "start_time": "2024-07-30T14:41:11.014Z"
   },
   {
    "duration": 7,
    "start_time": "2024-07-30T14:41:11.023Z"
   },
   {
    "duration": 28,
    "start_time": "2024-07-30T14:41:11.032Z"
   },
   {
    "duration": 320,
    "start_time": "2024-07-30T14:41:11.062Z"
   },
   {
    "duration": 310,
    "start_time": "2024-07-30T14:41:11.383Z"
   },
   {
    "duration": 11,
    "start_time": "2024-07-30T14:41:11.694Z"
   },
   {
    "duration": 11,
    "start_time": "2024-07-30T14:41:11.712Z"
   },
   {
    "duration": 8,
    "start_time": "2024-07-30T14:41:11.724Z"
   }
  ],
  "kernelspec": {
   "display_name": "Python 3 (ipykernel)",
   "language": "python",
   "name": "python3"
  },
  "language_info": {
   "codemirror_mode": {
    "name": "ipython",
    "version": 3
   },
   "file_extension": ".py",
   "mimetype": "text/x-python",
   "name": "python",
   "nbconvert_exporter": "python",
   "pygments_lexer": "ipython3",
   "version": "3.11.7"
  },
  "toc": {
   "base_numbering": 1,
   "nav_menu": {},
   "number_sections": true,
   "sideBar": true,
   "skip_h1_title": true,
   "title_cell": "Table of Contents",
   "title_sidebar": "Contents",
   "toc_cell": false,
   "toc_position": {},
   "toc_section_display": true,
   "toc_window_display": false
  }
 },
 "nbformat": 4,
 "nbformat_minor": 4
}
